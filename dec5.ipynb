{
  "nbformat": 4,
  "nbformat_minor": 0,
  "metadata": {
    "colab": {
      "provenance": [],
      "authorship_tag": "ABX9TyN4xRFrcuHHxgNuYIPDMKyS",
      "include_colab_link": true
    },
    "kernelspec": {
      "name": "python3",
      "display_name": "Python 3"
    },
    "language_info": {
      "name": "python"
    }
  },
  "cells": [
    {
      "cell_type": "markdown",
      "metadata": {
        "id": "view-in-github",
        "colab_type": "text"
      },
      "source": [
        "<a href=\"https://colab.research.google.com/github/vignesh200010/highIQpython/blob/main/dec5.ipynb\" target=\"_parent\"><img src=\"https://colab.research.google.com/assets/colab-badge.svg\" alt=\"Open In Colab\"/></a>"
      ]
    },
    {
      "cell_type": "code",
      "execution_count": null,
      "metadata": {
        "colab": {
          "base_uri": "https://localhost:8080/"
        },
        "id": "EE-O8j5iZ7b4",
        "outputId": "33397259-2105-4c53-c4e8-7e1227333d0a"
      },
      "outputs": [
        {
          "output_type": "stream",
          "name": "stdout",
          "text": [
            "True\n"
          ]
        }
      ],
      "source": [
        "\n",
        "print('a'>'A')"
      ]
    },
    {
      "cell_type": "code",
      "source": [
        "print('A'>'a')"
      ],
      "metadata": {
        "colab": {
          "base_uri": "https://localhost:8080/"
        },
        "id": "BiAVqhXLhvMl",
        "outputId": "ac7c7591-bb6d-4cd6-bd78-c2bc5bc68777"
      },
      "execution_count": null,
      "outputs": [
        {
          "output_type": "stream",
          "name": "stdout",
          "text": [
            "False\n"
          ]
        }
      ]
    },
    {
      "cell_type": "code",
      "source": [
        "print(1<2<3<4)"
      ],
      "metadata": {
        "colab": {
          "base_uri": "https://localhost:8080/"
        },
        "id": "11OiPvnNhx_e",
        "outputId": "4eb050a8-31dc-432e-8d48-5775cd921d76"
      },
      "execution_count": null,
      "outputs": [
        {
          "output_type": "stream",
          "name": "stdout",
          "text": [
            "True\n"
          ]
        }
      ]
    },
    {
      "cell_type": "code",
      "source": [
        "print(1<2>3<4)"
      ],
      "metadata": {
        "colab": {
          "base_uri": "https://localhost:8080/"
        },
        "id": "BJRl1q4Kh-WT",
        "outputId": "06013545-97a6-4909-83d0-fc7b45535bd1"
      },
      "execution_count": null,
      "outputs": [
        {
          "output_type": "stream",
          "name": "stdout",
          "text": [
            "False\n"
          ]
        }
      ]
    },
    {
      "cell_type": "code",
      "source": [
        "print(1<=0)\n"
      ],
      "metadata": {
        "colab": {
          "base_uri": "https://localhost:8080/"
        },
        "id": "oBwjpwYyhxBR",
        "outputId": "0b00db2f-746b-4538-b248-a1ddcef7280a"
      },
      "execution_count": null,
      "outputs": [
        {
          "output_type": "stream",
          "name": "stdout",
          "text": [
            "False\n"
          ]
        }
      ]
    },
    {
      "cell_type": "code",
      "source": [
        "magician=True\n",
        "expert=True\n",
        "if expert and magician:\n",
        "  print('you are master magician')\n",
        "elif magician or not expert:\n",
        "  print('your almost there')\n",
        "elif not magician:\n",
        "  print('magical powers you need')"
      ],
      "metadata": {
        "colab": {
          "base_uri": "https://localhost:8080/"
        },
        "id": "vDAi7ne-iGyO",
        "outputId": "b7ed3046-8afc-40ed-a488-a8481a53ed4a"
      },
      "execution_count": null,
      "outputs": [
        {
          "output_type": "stream",
          "name": "stdout",
          "text": [
            "you are master magician\n"
          ]
        }
      ]
    },
    {
      "cell_type": "code",
      "source": [
        "print(True==1)"
      ],
      "metadata": {
        "colab": {
          "base_uri": "https://localhost:8080/"
        },
        "id": "DInYuFtbil2O",
        "outputId": "5f9606d3-020e-4609-bb3b-03bb0673c4cd"
      },
      "execution_count": null,
      "outputs": [
        {
          "output_type": "stream",
          "name": "stdout",
          "text": [
            "True\n"
          ]
        }
      ]
    },
    {
      "cell_type": "code",
      "source": [
        "print(''==1)\n",
        "print(10==10.0)"
      ],
      "metadata": {
        "colab": {
          "base_uri": "https://localhost:8080/"
        },
        "id": "yidiXuz6lZSW",
        "outputId": "359f8f0f-2dec-4a5c-d131-0f314d4f3d0a"
      },
      "execution_count": null,
      "outputs": [
        {
          "output_type": "stream",
          "name": "stdout",
          "text": [
            "False\n",
            "True\n"
          ]
        }
      ]
    },
    {
      "cell_type": "code",
      "source": [
        "print([]==1)\n",
        "print([]==[])"
      ],
      "metadata": {
        "colab": {
          "base_uri": "https://localhost:8080/"
        },
        "id": "ggevlzfglcgr",
        "outputId": "a7cd4e17-9a8f-402c-cde5-190df8fd19c5"
      },
      "execution_count": null,
      "outputs": [
        {
          "output_type": "stream",
          "name": "stdout",
          "text": [
            "False\n",
            "True\n"
          ]
        }
      ]
    },
    {
      "cell_type": "code",
      "source": [
        "print(True is 1)\n",
        "\n"
      ],
      "metadata": {
        "colab": {
          "base_uri": "https://localhost:8080/"
        },
        "id": "uZlOGma5lotM",
        "outputId": "e4c84fd4-9e83-4ed5-e95d-e8d3fd240f61"
      },
      "execution_count": null,
      "outputs": [
        {
          "output_type": "stream",
          "name": "stdout",
          "text": [
            "False\n"
          ]
        },
        {
          "output_type": "stream",
          "name": "stderr",
          "text": [
            "<>:1: SyntaxWarning: \"is\" with a literal. Did you mean \"==\"?\n",
            "<>:1: SyntaxWarning: \"is\" with a literal. Did you mean \"==\"?\n",
            "<ipython-input-21-1c207cc444c6>:1: SyntaxWarning: \"is\" with a literal. Did you mean \"==\"?\n",
            "  print(True is 1)\n"
          ]
        }
      ]
    },
    {
      "cell_type": "code",
      "source": [
        "print([] is [])\n"
      ],
      "metadata": {
        "colab": {
          "base_uri": "https://localhost:8080/"
        },
        "id": "dtWJREFBnuoO",
        "outputId": "f077e429-3be2-451f-8ad1-aa690ed98434"
      },
      "execution_count": null,
      "outputs": [
        {
          "output_type": "stream",
          "name": "stdout",
          "text": [
            "False\n"
          ]
        }
      ]
    },
    {
      "cell_type": "code",
      "source": [
        "print('1' is '1')\n"
      ],
      "metadata": {
        "colab": {
          "base_uri": "https://localhost:8080/"
        },
        "id": "qwozLlUMn9ig",
        "outputId": "8fae2877-78fc-4d81-9822-0e4fc5b85427"
      },
      "execution_count": null,
      "outputs": [
        {
          "output_type": "stream",
          "name": "stdout",
          "text": [
            "True\n"
          ]
        },
        {
          "output_type": "stream",
          "name": "stderr",
          "text": [
            "<>:1: SyntaxWarning: \"is\" with a literal. Did you mean \"==\"?\n",
            "<>:1: SyntaxWarning: \"is\" with a literal. Did you mean \"==\"?\n",
            "<ipython-input-22-cb4e44872f57>:1: SyntaxWarning: \"is\" with a literal. Did you mean \"==\"?\n",
            "  print('1' is '1')\n"
          ]
        }
      ]
    },
    {
      "cell_type": "code",
      "source": [
        "\n",
        "print(10 is 10.0)"
      ],
      "metadata": {
        "colab": {
          "base_uri": "https://localhost:8080/"
        },
        "id": "LtISlUdbn_f2",
        "outputId": "2f5f2226-835e-4464-ac89-f9a0da4e0790"
      },
      "execution_count": null,
      "outputs": [
        {
          "output_type": "stream",
          "name": "stdout",
          "text": [
            "False\n"
          ]
        },
        {
          "output_type": "stream",
          "name": "stderr",
          "text": [
            "<>:1: SyntaxWarning: \"is\" with a literal. Did you mean \"==\"?\n",
            "<>:1: SyntaxWarning: \"is\" with a literal. Did you mean \"==\"?\n",
            "<ipython-input-18-df67ef584aac>:1: SyntaxWarning: \"is\" with a literal. Did you mean \"==\"?\n",
            "  print(10 is 10.0)\n"
          ]
        }
      ]
    },
    {
      "cell_type": "code",
      "source": [
        "a=[1,2,3]\n",
        "b=[1,2,3]\n",
        "print(a is b)"
      ],
      "metadata": {
        "colab": {
          "base_uri": "https://localhost:8080/"
        },
        "id": "SRINQQAUnjin",
        "outputId": "8a6a870d-0b48-4bbe-8d82-2328b47d8148"
      },
      "execution_count": null,
      "outputs": [
        {
          "output_type": "stream",
          "name": "stdout",
          "text": [
            "False\n"
          ]
        }
      ]
    },
    {
      "cell_type": "code",
      "source": [
        "for item in 'zero to mastery':\n",
        "  print(item)"
      ],
      "metadata": {
        "colab": {
          "base_uri": "https://localhost:8080/"
        },
        "id": "k08nRIlDnp0h",
        "outputId": "c5c0c5a2-d230-4a57-980a-86c00e2c98f2"
      },
      "execution_count": null,
      "outputs": [
        {
          "output_type": "stream",
          "name": "stdout",
          "text": [
            "z\n",
            "e\n",
            "r\n",
            "o\n",
            " \n",
            "t\n",
            "o\n",
            " \n",
            "m\n",
            "a\n",
            "s\n",
            "t\n",
            "e\n",
            "r\n",
            "y\n"
          ]
        }
      ]
    },
    {
      "cell_type": "code",
      "source": [
        "for item in [1,2,3,4,5]:\n",
        "  print(item)"
      ],
      "metadata": {
        "colab": {
          "base_uri": "https://localhost:8080/"
        },
        "id": "xTdVGT43pPW4",
        "outputId": "c2ecc9c6-4890-4ea0-97a3-1eab0afc7a3c"
      },
      "execution_count": null,
      "outputs": [
        {
          "output_type": "stream",
          "name": "stdout",
          "text": [
            "1\n",
            "2\n",
            "3\n",
            "4\n",
            "5\n"
          ]
        }
      ]
    },
    {
      "cell_type": "code",
      "source": [
        "for item in {1,2,3,4,5}:\n",
        "  print(item)"
      ],
      "metadata": {
        "colab": {
          "base_uri": "https://localhost:8080/"
        },
        "id": "PuZd-VFmpb2q",
        "outputId": "4c9a764b-5486-4e0e-d28c-28fef3017650"
      },
      "execution_count": null,
      "outputs": [
        {
          "output_type": "stream",
          "name": "stdout",
          "text": [
            "1\n",
            "2\n",
            "3\n",
            "4\n",
            "5\n"
          ]
        }
      ]
    },
    {
      "cell_type": "code",
      "source": [
        "for item in (1,2,3,4,5):\n",
        "  print(item)"
      ],
      "metadata": {
        "colab": {
          "base_uri": "https://localhost:8080/"
        },
        "id": "-BEYOxERpf9l",
        "outputId": "6af20a11-13e0-46b3-a10c-d5c382e27c37"
      },
      "execution_count": null,
      "outputs": [
        {
          "output_type": "stream",
          "name": "stdout",
          "text": [
            "1\n",
            "2\n",
            "3\n",
            "4\n",
            "5\n"
          ]
        }
      ]
    },
    {
      "cell_type": "code",
      "source": [
        "for item in (1,2,3,4,5):\n",
        "  for x in ['a','b','c']:\n",
        "    print(item,x)"
      ],
      "metadata": {
        "colab": {
          "base_uri": "https://localhost:8080/"
        },
        "id": "RsQk6VFprATU",
        "outputId": "d138ccc7-21e9-4d07-f382-e35513ebea25"
      },
      "execution_count": null,
      "outputs": [
        {
          "output_type": "stream",
          "name": "stdout",
          "text": [
            "1 a\n",
            "1 b\n",
            "1 c\n",
            "2 a\n",
            "2 b\n",
            "2 c\n",
            "3 a\n",
            "3 b\n",
            "3 c\n",
            "4 a\n",
            "4 b\n",
            "4 c\n",
            "5 a\n",
            "5 b\n",
            "5 c\n"
          ]
        }
      ]
    },
    {
      "cell_type": "code",
      "source": [
        "user={\n",
        "    'name':'golem',\n",
        "    'age':5006,\n",
        "    'can_swim':False\n",
        "}\n",
        "for item in user.items():\n",
        "  print(item)\n",
        "for item in user.keys():\n",
        "  print(item)\n",
        "for item in user.values():\n",
        "  print(item)"
      ],
      "metadata": {
        "colab": {
          "base_uri": "https://localhost:8080/"
        },
        "outputId": "22526690-dba8-44bc-a617-1d87f4296351",
        "id": "2rqMdD9SrAmi"
      },
      "execution_count": null,
      "outputs": [
        {
          "output_type": "stream",
          "name": "stdout",
          "text": [
            "('name', 'golem')\n",
            "('age', 5006)\n",
            "('can_swim', False)\n",
            "name\n",
            "age\n",
            "can_swim\n",
            "golem\n",
            "5006\n",
            "False\n"
          ]
        }
      ]
    },
    {
      "cell_type": "code",
      "source": [
        "user={\n",
        "    'name':'golem',\n",
        "    'age':5006,\n",
        "    'can_swim':False\n",
        "}\n",
        "for item in user.items():\n",
        "  key,value=item;\n",
        "  print(key,value)"
      ],
      "metadata": {
        "colab": {
          "base_uri": "https://localhost:8080/"
        },
        "id": "70Df0vuks0_i",
        "outputId": "82d5b86d-97b8-4b9d-9c8b-31dd1ab16103"
      },
      "execution_count": null,
      "outputs": [
        {
          "output_type": "stream",
          "name": "stdout",
          "text": [
            "name golem\n",
            "age 5006\n",
            "can_swim False\n"
          ]
        }
      ]
    },
    {
      "cell_type": "code",
      "source": [
        "user={\n",
        "    'name':'golem',\n",
        "    'age':5006,\n",
        "    'can_swim':False\n",
        "}\n",
        "for key,value in user.items():\n",
        " \n",
        "  print(key,value)"
      ],
      "metadata": {
        "colab": {
          "base_uri": "https://localhost:8080/"
        },
        "id": "wZ48nlbqt79F",
        "outputId": "1268a596-d5a7-4ee8-f535-781ab179aa97"
      },
      "execution_count": null,
      "outputs": [
        {
          "output_type": "stream",
          "name": "stdout",
          "text": [
            "name golem\n",
            "age 5006\n",
            "can_swim False\n"
          ]
        }
      ]
    },
    {
      "cell_type": "code",
      "source": [
        "my_list=[1,2,3,4,5,6,7,8,9,10]\n",
        "count=0\n",
        "for x in my_list:\n",
        "  count=count+x\n",
        "print(count)"
      ],
      "metadata": {
        "colab": {
          "base_uri": "https://localhost:8080/"
        },
        "id": "R2E3PRXqtvrS",
        "outputId": "71635f63-e981-4270-95ba-56733b2d9c11"
      },
      "execution_count": null,
      "outputs": [
        {
          "output_type": "stream",
          "name": "stdout",
          "text": [
            "55\n"
          ]
        }
      ]
    },
    {
      "cell_type": "code",
      "source": [
        "for x in range(0,10):\n",
        "  print(x)a"
      ],
      "metadata": {
        "colab": {
          "base_uri": "https://localhost:8080/"
        },
        "id": "28cOvpyrxeaM",
        "outputId": "94a67470-b30a-491b-9bf5-b485b1a62cad"
      },
      "execution_count": null,
      "outputs": [
        {
          "output_type": "stream",
          "name": "stdout",
          "text": [
            "0\n",
            "1\n",
            "2\n",
            "3\n",
            "4\n",
            "5\n",
            "6\n",
            "7\n",
            "8\n",
            "9\n"
          ]
        }
      ]
    },
    {
      "cell_type": "code",
      "source": [
        "for x in range(10,0,-1):\n",
        "  print (x)\n"
      ],
      "metadata": {
        "colab": {
          "base_uri": "https://localhost:8080/"
        },
        "id": "X9rt_AW7yRm7",
        "outputId": "2c28e2c1-e39b-427d-aef2-0ee4e7527dda"
      },
      "execution_count": null,
      "outputs": [
        {
          "output_type": "stream",
          "name": "stdout",
          "text": [
            "10\n",
            "9\n",
            "8\n",
            "7\n",
            "6\n",
            "5\n",
            "4\n",
            "3\n",
            "2\n",
            "1\n"
          ]
        }
      ]
    },
    {
      "cell_type": "code",
      "source": [
        "for x in range(5):\n",
        "  print (list(range(10)))"
      ],
      "metadata": {
        "colab": {
          "base_uri": "https://localhost:8080/"
        },
        "id": "sHPZzI7zzdpa",
        "outputId": "a0290561-0116-4d4f-fd90-e28d18b84b97"
      },
      "execution_count": null,
      "outputs": [
        {
          "output_type": "stream",
          "name": "stdout",
          "text": [
            "[0, 1, 2, 3, 4, 5, 6, 7, 8, 9]\n",
            "[0, 1, 2, 3, 4, 5, 6, 7, 8, 9]\n",
            "[0, 1, 2, 3, 4, 5, 6, 7, 8, 9]\n",
            "[0, 1, 2, 3, 4, 5, 6, 7, 8, 9]\n",
            "[0, 1, 2, 3, 4, 5, 6, 7, 8, 9]\n"
          ]
        }
      ]
    },
    {
      "cell_type": "code",
      "source": [
        "for x,y in enumerate ('hello'):\n",
        "  print (x,y)"
      ],
      "metadata": {
        "colab": {
          "base_uri": "https://localhost:8080/"
        },
        "id": "s7JztqqTy8aC",
        "outputId": "dfd28129-5ece-4e92-dfee-bd16ef5059d9"
      },
      "execution_count": null,
      "outputs": [
        {
          "output_type": "stream",
          "name": "stdout",
          "text": [
            "0 h\n",
            "1 e\n",
            "2 l\n",
            "3 l\n",
            "4 o\n"
          ]
        }
      ]
    },
    {
      "cell_type": "code",
      "source": [
        "for x,y in enumerate (list(range(100))):\n",
        "  if y==50:\n",
        "   print (f'indec of 50 is :{y}') "
      ],
      "metadata": {
        "colab": {
          "base_uri": "https://localhost:8080/"
        },
        "id": "v9O-32k81ZmH",
        "outputId": "84342efc-47db-45ba-e7d6-42beda02c1ef"
      },
      "execution_count": null,
      "outputs": [
        {
          "output_type": "stream",
          "name": "stdout",
          "text": [
            "indec of 50 is :50\n"
          ]
        }
      ]
    },
    {
      "cell_type": "code",
      "source": [
        "i=0\n",
        "while i<50:\n",
        "  print(i)\n",
        "  i=i+1"
      ],
      "metadata": {
        "colab": {
          "base_uri": "https://localhost:8080/"
        },
        "id": "qJaACs-j1dT7",
        "outputId": "27260d79-cd12-45b8-e9b0-cfc668cb8072"
      },
      "execution_count": null,
      "outputs": [
        {
          "output_type": "stream",
          "name": "stdout",
          "text": [
            "0\n",
            "1\n",
            "2\n",
            "3\n",
            "4\n",
            "5\n",
            "6\n",
            "7\n",
            "8\n",
            "9\n",
            "10\n",
            "11\n",
            "12\n",
            "13\n",
            "14\n",
            "15\n",
            "16\n",
            "17\n",
            "18\n",
            "19\n",
            "20\n",
            "21\n",
            "22\n",
            "23\n",
            "24\n",
            "25\n",
            "26\n",
            "27\n",
            "28\n",
            "29\n",
            "30\n",
            "31\n",
            "32\n",
            "33\n",
            "34\n",
            "35\n",
            "36\n",
            "37\n",
            "38\n",
            "39\n",
            "40\n",
            "41\n",
            "42\n",
            "43\n",
            "44\n",
            "45\n",
            "46\n",
            "47\n",
            "48\n",
            "49\n"
          ]
        }
      ]
    },
    {
      "cell_type": "code",
      "source": [
        "i=0\n",
        "while i<=50:\n",
        "  print(i)\n",
        "  i+=1\n",
        "else:\n",
        "  print('done with all the work')"
      ],
      "metadata": {
        "colab": {
          "base_uri": "https://localhost:8080/"
        },
        "id": "_Ab5aEdL2s0m",
        "outputId": "e911fda8-06b0-4b17-9a2b-6450a4f58bfd"
      },
      "execution_count": null,
      "outputs": [
        {
          "output_type": "stream",
          "name": "stdout",
          "text": [
            "0\n",
            "1\n",
            "2\n",
            "3\n",
            "4\n",
            "5\n",
            "6\n",
            "7\n",
            "8\n",
            "9\n",
            "10\n",
            "11\n",
            "12\n",
            "13\n",
            "14\n",
            "15\n",
            "16\n",
            "17\n",
            "18\n",
            "19\n",
            "20\n",
            "21\n",
            "22\n",
            "23\n",
            "24\n",
            "25\n",
            "26\n",
            "27\n",
            "28\n",
            "29\n",
            "30\n",
            "31\n",
            "32\n",
            "33\n",
            "34\n",
            "35\n",
            "36\n",
            "37\n",
            "38\n",
            "39\n",
            "40\n",
            "41\n",
            "42\n",
            "43\n",
            "44\n",
            "45\n",
            "46\n",
            "47\n",
            "48\n",
            "49\n",
            "50\n",
            "done with all the work\n"
          ]
        }
      ]
    },
    {
      "cell_type": "code",
      "source": [
        "mylist=[1,2,3,4]\n",
        "for x in mylist:\n",
        "  print(x)"
      ],
      "metadata": {
        "colab": {
          "base_uri": "https://localhost:8080/"
        },
        "id": "ODqzbfrp222y",
        "outputId": "70aacce2-330a-4483-ca66-e040dc7ad184"
      },
      "execution_count": null,
      "outputs": [
        {
          "output_type": "stream",
          "name": "stdout",
          "text": [
            "1\n",
            "2\n",
            "3\n",
            "4\n"
          ]
        }
      ]
    },
    {
      "cell_type": "code",
      "source": [
        "mylist=[1,2,3,4]\n",
        "i=0\n",
        "while i < len(mylist):\n",
        "  print(mylist[i])\n",
        "  i+=1"
      ],
      "metadata": {
        "colab": {
          "base_uri": "https://localhost:8080/"
        },
        "id": "fN4miGMZ9_mJ",
        "outputId": "cef457e1-90d6-4c96-ff0e-42248069062f"
      },
      "execution_count": null,
      "outputs": [
        {
          "output_type": "stream",
          "name": "stdout",
          "text": [
            "1\n",
            "2\n",
            "3\n",
            "4\n"
          ]
        }
      ]
    },
    {
      "cell_type": "code",
      "source": [
        "while True:\n",
        "  response= input('say something: ')\n",
        "  if (response=='bye'):\n",
        "    break"
      ],
      "metadata": {
        "colab": {
          "base_uri": "https://localhost:8080/"
        },
        "id": "rERxfE-P-MlV",
        "outputId": "5a5d02ff-5905-4589-f69a-d6caafa7fcd9"
      },
      "execution_count": null,
      "outputs": [
        {
          "name": "stdout",
          "output_type": "stream",
          "text": [
            "say something: hi\n"
          ]
        }
      ]
    },
    {
      "cell_type": "code",
      "source": [
        "mylist=[1,2,3,4]\n",
        "for x in mylist:\n",
        "  print(x)\n",
        "  continue\n",
        "\n",
        "i=0\n",
        "while i < len(mylist):\n",
        "  print(mylist[i])\n",
        "  i+=1\n",
        "  continue\n",
        "  "
      ],
      "metadata": {
        "colab": {
          "base_uri": "https://localhost:8080/"
        },
        "id": "1G9vQS6X-4L6",
        "outputId": "675297fd-81f4-4944-f7cc-73ff02cbae96"
      },
      "execution_count": null,
      "outputs": [
        {
          "output_type": "stream",
          "name": "stdout",
          "text": [
            "1\n",
            "2\n",
            "3\n",
            "4\n",
            "1\n",
            "2\n",
            "3\n",
            "4\n"
          ]
        }
      ]
    },
    {
      "cell_type": "code",
      "source": [
        "mylist=[1,2,3,4]\n",
        "for x in mylist:\n",
        "  print(x)\n",
        "  break\n",
        "\n",
        "i=0\n",
        "while i < len(mylist):\n",
        "  print(mylist[i])\n",
        "  i+=1\n",
        "  break\n",
        "  "
      ],
      "metadata": {
        "colab": {
          "base_uri": "https://localhost:8080/"
        },
        "id": "mLrvncSQBEiS",
        "outputId": "f6557427-8e9c-403b-86dd-7c5473737304"
      },
      "execution_count": null,
      "outputs": [
        {
          "output_type": "stream",
          "name": "stdout",
          "text": [
            "1\n",
            "1\n"
          ]
        }
      ]
    },
    {
      "cell_type": "code",
      "source": [
        "mylist=[1,2,3,4]\n",
        "for x in mylist:\n",
        "  print(x)\n",
        "  pass\n",
        "\n",
        "i=0\n",
        "while i < len(mylist):\n",
        "  print(mylist[i])\n",
        "  i+=1\n",
        "  pass"
      ],
      "metadata": {
        "colab": {
          "base_uri": "https://localhost:8080/"
        },
        "id": "0If_EydlBXkF",
        "outputId": "b62274a7-df19-4e4f-cda4-733ab0b44342"
      },
      "execution_count": null,
      "outputs": [
        {
          "output_type": "stream",
          "name": "stdout",
          "text": [
            "1\n",
            "2\n",
            "3\n",
            "4\n",
            "1\n",
            "2\n",
            "3\n",
            "4\n"
          ]
        }
      ]
    },
    {
      "cell_type": "code",
      "source": [
        "picture = [\n",
        "[0,0,0,1,0,0,0],\n",
        "[0,0,1,1,1,0,0],\n",
        "[0,1,1,1,1,1,0],\n",
        "[1,1,1,1,1,1,1],\n",
        "[0,0,0,1,0,0,0],\n",
        "[0,0,0,1,0,0,0]\n",
        "]\n",
        "\n",
        "for row in picture:\n",
        "  for pixel in row:\n",
        "    if (pixel == 1):\n",
        "      print('*',end='')\n",
        "    else:\n",
        "      print(' ',end='')\n",
        "  print()"
      ],
      "metadata": {
        "colab": {
          "base_uri": "https://localhost:8080/"
        },
        "id": "N4nkJvgSBglh",
        "outputId": "66a0dbc8-e1e6-4f7a-e5df-704425041ad4"
      },
      "execution_count": null,
      "outputs": [
        {
          "output_type": "stream",
          "name": "stdout",
          "text": [
            "   *   \n",
            "  ***  \n",
            " ***** \n",
            "*******\n",
            "   *   \n",
            "   *   \n"
          ]
        }
      ]
    },
    {
      "cell_type": "code",
      "source": [
        "picture = [\n",
        "[0,0,0,1,0,0,0],\n",
        "[0,0,1,1,1,0,0],\n",
        "[0,1,1,1,1,1,0],\n",
        "[1,1,1,1,1,1,1],\n",
        "[0,0,0,1,0,0,0],\n",
        "[0,0,0,1,0,0,0]\n",
        "]\n",
        "fill='$'\n",
        "empty=''\n",
        "for row in picture:\n",
        "  for pixel in row:\n",
        "    if(pixel):\n",
        "      print(fill,end='')\n",
        "      print(fill,end='')\n",
        "      print(fill,end='')\n",
        "    else:\n",
        "      print(empty,end='')\n",
        "      print(empty,end='')\n",
        "  print('')\n"
      ],
      "metadata": {
        "colab": {
          "base_uri": "https://localhost:8080/"
        },
        "id": "nz0dequ9Fapu",
        "outputId": "5669cb9f-7cff-49e7-c734-3d8513957838"
      },
      "execution_count": null,
      "outputs": [
        {
          "output_type": "stream",
          "name": "stdout",
          "text": [
            "$$$\n",
            "$$$$$$$$$\n",
            "$$$$$$$$$$$$$$$\n",
            "$$$$$$$$$$$$$$$$$$$$$\n",
            "$$$\n",
            "$$$\n"
          ]
        }
      ]
    },
    {
      "cell_type": "code",
      "source": [
        "mylist=['a','b','c','d','a','b']\n",
        "duplicate=[]\n",
        "for value in mylist:\n",
        "  if mylist.count(value)>1:\n",
        "    if value not in duplicate:\n",
        "      duplicate.append(value)\n",
        "print(duplicate)"
      ],
      "metadata": {
        "colab": {
          "base_uri": "https://localhost:8080/"
        },
        "id": "fVoqRmDcIWv_",
        "outputId": "452053d0-3242-4ee3-eb5c-c7f0d9009cb3"
      },
      "execution_count": null,
      "outputs": [
        {
          "output_type": "stream",
          "name": "stdout",
          "text": [
            "['a', 'b']\n"
          ]
        }
      ]
    },
    {
      "cell_type": "code",
      "source": [
        "picture = [\n",
        "[0,0,0,1,0,0,0],\n",
        "[0,0,1,1,1,0,0],\n",
        "[0,1,1,1,1,1,0],\n",
        "[1,1,1,1,1,1,1],\n",
        "[0,0,0,1,0,0,0],\n",
        "[0,0,0,1,0,0,0]\n",
        "]\n",
        "def hi():\n",
        "  for row in picture:\n",
        "    for pixel in row:\n",
        "      if (pixel == 1):\n",
        "        print('*',end='')\n",
        "      else:\n",
        "        print(' ',end='')\n",
        "    print()\n",
        "hi()\n",
        "hi()"
      ],
      "metadata": {
        "colab": {
          "base_uri": "https://localhost:8080/"
        },
        "id": "kAgNd2sJKKn8",
        "outputId": "20e286df-8cda-40ff-b442-2ed61b152bf2"
      },
      "execution_count": null,
      "outputs": [
        {
          "output_type": "stream",
          "name": "stdout",
          "text": [
            "   *   \n",
            "  ***  \n",
            " ***** \n",
            "*******\n",
            "   *   \n",
            "   *   \n",
            "   *   \n",
            "  ***  \n",
            " ***** \n",
            "*******\n",
            "   *   \n",
            "   *   \n"
          ]
        }
      ]
    },
    {
      "cell_type": "code",
      "source": [
        "def hi(name,emoji):\n",
        "  print(f'helloo {name}{emoji}')\n",
        "hi('aundri','😀')"
      ],
      "metadata": {
        "colab": {
          "base_uri": "https://localhost:8080/"
        },
        "id": "OyOIOsMENfDC",
        "outputId": "283c5126-0200-4570-8739-501847493bae"
      },
      "execution_count": null,
      "outputs": [
        {
          "output_type": "stream",
          "name": "stdout",
          "text": [
            "helloo aundri😀\n"
          ]
        }
      ]
    },
    {
      "cell_type": "code",
      "source": [
        "def hi(name,emoji):\n",
        "  print(f'helloo {name}{emoji}')\n",
        "hi(emoji='😀',name='aundri',)\n",
        "hi(emoji='😀',name='jhon',)"
      ],
      "metadata": {
        "colab": {
          "base_uri": "https://localhost:8080/"
        },
        "id": "iGcUAJvNQawQ",
        "outputId": "f0d30ed1-ebb2-4673-ce9f-d9c782bb6fe8"
      },
      "execution_count": null,
      "outputs": [
        {
          "output_type": "stream",
          "name": "stdout",
          "text": [
            "helloo aundri😀\n",
            "helloo jhon😀\n"
          ]
        }
      ]
    },
    {
      "cell_type": "code",
      "source": [
        "def hi(name='darth vader',emoji='😈'):\n",
        "  print(f'helloo {name}{emoji}')\n",
        "hi(emoji='😀',name='aundri',)\n",
        "hi(emoji='😀',name='jhon',)\n",
        "hi()\n",
        "hi(name='ken',)"
      ],
      "metadata": {
        "colab": {
          "base_uri": "https://localhost:8080/"
        },
        "id": "v-DGslvdRUbX",
        "outputId": "d299a586-031c-4b1f-e236-4a361697390a"
      },
      "execution_count": null,
      "outputs": [
        {
          "output_type": "stream",
          "name": "stdout",
          "text": [
            "helloo aundri😀\n",
            "helloo jhon😀\n",
            "helloo darth vader😈\n",
            "helloo ken😈\n"
          ]
        }
      ]
    },
    {
      "cell_type": "code",
      "source": [
        "def sum(num1,num2):\n",
        "  return num1+num2\n",
        "print(sum(10,sum(10,5)))"
      ],
      "metadata": {
        "colab": {
          "base_uri": "https://localhost:8080/"
        },
        "id": "jX1d_n4vSjY-",
        "outputId": "1f94411e-a5a5-4015-8c43-b2b780e76b69"
      },
      "execution_count": null,
      "outputs": [
        {
          "output_type": "stream",
          "name": "stdout",
          "text": [
            "25\n"
          ]
        }
      ]
    },
    {
      "cell_type": "code",
      "source": [
        "def sum(num1,num2):\n",
        "  def another_func(num1,num2):\n",
        "    return num1+num2\n",
        "    return another_func(num1,num2)\n",
        "total=sum(10,20)\n",
        "print(total)"
      ],
      "metadata": {
        "colab": {
          "base_uri": "https://localhost:8080/"
        },
        "id": "ZUS4rUqYYSw6",
        "outputId": "20ee7242-e0c8-450f-97c8-0367f2fac2dd"
      },
      "execution_count": null,
      "outputs": [
        {
          "output_type": "stream",
          "name": "stdout",
          "text": [
            "None\n"
          ]
        }
      ]
    },
    {
      "cell_type": "code",
      "source": [
        "def fun(a):\n",
        "  '''\n",
        "  note:hi this function is a testing one\n",
        "  '''\n",
        "  print(a)\n",
        "help(fun)\n",
        "print(fun.__doc__)"
      ],
      "metadata": {
        "colab": {
          "base_uri": "https://localhost:8080/"
        },
        "id": "kCPZ1GOLa2RP",
        "outputId": "48bb0851-16c4-483b-96e0-3e5c1e64ce0e"
      },
      "execution_count": null,
      "outputs": [
        {
          "output_type": "stream",
          "name": "stdout",
          "text": [
            "Help on function fun in module __main__:\n",
            "\n",
            "fun(a)\n",
            "    note:hi this function is a testing one\n",
            "\n",
            "\n",
            "  note:hi this function is a testing one\n",
            "  \n"
          ]
        }
      ]
    },
    {
      "cell_type": "code",
      "source": [
        "def num(a):\n",
        "  if a % 2 == 0:\n",
        "    return True\n",
        "  return False\n",
        "print(num(50))"
      ],
      "metadata": {
        "colab": {
          "base_uri": "https://localhost:8080/"
        },
        "id": "3S9YEa-0ehPT",
        "outputId": "a25764f8-5179-43c2-8bdc-7a499762084f"
      },
      "execution_count": null,
      "outputs": [
        {
          "output_type": "stream",
          "name": "stdout",
          "text": [
            "True\n"
          ]
        }
      ]
    },
    {
      "cell_type": "code",
      "source": [
        "def fun(*args,**kwargs):\n",
        "  total=0\n",
        "  for x in kwargs.value():\n",
        "    total+= x\n",
        "  return sum(args)+total\n",
        "  print(fun(1,2,3,4, num1=5, num2=7))\n"
      ],
      "metadata": {
        "id": "Ia2JrJKWgchi"
      },
      "execution_count": null,
      "outputs": []
    },
    {
      "cell_type": "code",
      "source": [
        "def fun(*args):\n",
        "  print(args)\n",
        "  return(args)\n",
        "print(fun(1,2,3,4,5))"
      ],
      "metadata": {
        "id": "Au_s7llymyTL",
        "colab": {
          "base_uri": "https://localhost:8080/"
        },
        "outputId": "2fbb45fd-a4fa-4edc-ed2d-dadf28fa0794"
      },
      "execution_count": null,
      "outputs": [
        {
          "output_type": "stream",
          "name": "stdout",
          "text": [
            "(1, 2, 3, 4, 5)\n",
            "(1, 2, 3, 4, 5)\n"
          ]
        }
      ]
    },
    {
      "cell_type": "code",
      "source": [
        "def fun(a):\n",
        "  even=[]\n",
        "  for x in a:\n",
        "    if x % 2 == 0:\n",
        "      even.append(x)\n",
        "  return max(even)\n",
        "print (fun([1,2,3,4,5,10,11]))"
      ],
      "metadata": {
        "colab": {
          "base_uri": "https://localhost:8080/"
        },
        "id": "0pOJP-QvrqT6",
        "outputId": "ad1356ec-758a-4809-dc1e-7f6e3d5d3e08"
      },
      "execution_count": null,
      "outputs": [
        {
          "output_type": "stream",
          "name": "stdout",
          "text": [
            "10\n"
          ]
        }
      ]
    },
    {
      "cell_type": "code",
      "source": [
        "a='helloooooooooooo'\n",
        "if ((n :=len(a)) > 10):\n",
        "  print(f\"too long{n} elements\")\n",
        "while (n := len(a)>1):\n",
        "  print(n)\n",
        "  a=a[:-1]"
      ],
      "metadata": {
        "colab": {
          "base_uri": "https://localhost:8080/"
        },
        "id": "esoiVqdfslP3",
        "outputId": "112b0f0a-3131-40a3-ae6c-30a48ea48ca8"
      },
      "execution_count": null,
      "outputs": [
        {
          "output_type": "stream",
          "name": "stdout",
          "text": [
            "too long16 elements\n",
            "True\n",
            "True\n",
            "True\n",
            "True\n",
            "True\n",
            "True\n",
            "True\n",
            "True\n",
            "True\n",
            "True\n",
            "True\n",
            "True\n",
            "True\n",
            "True\n",
            "True\n"
          ]
        }
      ]
    },
    {
      "cell_type": "code",
      "source": [
        "a='helloooooooooooo'\n",
        "if ((n :=len(a)) > 10):\n",
        "  print(f\"too long{n} elements\")\n",
        "while ((n := len(a))>1):\n",
        "  print(n)\n",
        "  a=a[:-1]\n",
        "print(a)"
      ],
      "metadata": {
        "colab": {
          "base_uri": "https://localhost:8080/"
        },
        "id": "4w-euqKR1D-h",
        "outputId": "129c03bc-2e69-44fa-b8e9-bd533bf9b853"
      },
      "execution_count": null,
      "outputs": [
        {
          "output_type": "stream",
          "name": "stdout",
          "text": [
            "too long16 elements\n",
            "16\n",
            "15\n",
            "14\n",
            "13\n",
            "12\n",
            "11\n",
            "10\n",
            "9\n",
            "8\n",
            "7\n",
            "6\n",
            "5\n",
            "4\n",
            "3\n",
            "2\n",
            "h\n"
          ]
        }
      ]
    },
    {
      "cell_type": "code",
      "source": [
        "if True:\n",
        "  x=10\n",
        "def fun():\n",
        "  total=100\n",
        "  print(x)\n",
        "fun()"
      ],
      "metadata": {
        "colab": {
          "base_uri": "https://localhost:8080/"
        },
        "id": "NARh4jVd1Uvm",
        "outputId": "15462492-eda1-4389-abb0-9262f3b272f7"
      },
      "execution_count": null,
      "outputs": [
        {
          "output_type": "stream",
          "name": "stdout",
          "text": [
            "10\n"
          ]
        }
      ]
    },
    {
      "cell_type": "code",
      "source": [
        "a=1\n",
        "def parent():\n",
        "  def confusion():\n",
        "    return sum\n",
        "    return confusion()\n",
        "print(parent())\n",
        "print(a)"
      ],
      "metadata": {
        "colab": {
          "base_uri": "https://localhost:8080/"
        },
        "id": "ss4qiyyN24lg",
        "outputId": "2f80a9c9-2cff-48d4-dbce-996cad148f28"
      },
      "execution_count": null,
      "outputs": [
        {
          "output_type": "stream",
          "name": "stdout",
          "text": [
            "None\n",
            "1\n"
          ]
        }
      ]
    },
    {
      "cell_type": "code",
      "source": [
        "total=0\n",
        "def count():\n",
        "  global total\n",
        "  total +=1\n",
        "  return total\n",
        "count()\n",
        "count()\n",
        "print(count())"
      ],
      "metadata": {
        "colab": {
          "base_uri": "https://localhost:8080/"
        },
        "id": "V83Ceojc5J5e",
        "outputId": "58c84ac1-77aa-42b2-eed8-2b076dfa1aba"
      },
      "execution_count": null,
      "outputs": [
        {
          "output_type": "stream",
          "name": "stdout",
          "text": [
            "3\n"
          ]
        }
      ]
    },
    {
      "cell_type": "code",
      "source": [
        "total=0\n",
        "def count(total):\n",
        "  total +=1\n",
        "  return total\n",
        "\n",
        "print(count(count(count(total))))"
      ],
      "metadata": {
        "colab": {
          "base_uri": "https://localhost:8080/"
        },
        "id": "hx2bzfHg6n3Q",
        "outputId": "f803453d-543d-4d8e-feaa-61eec95c508e"
      },
      "execution_count": null,
      "outputs": [
        {
          "output_type": "stream",
          "name": "stdout",
          "text": [
            "3\n"
          ]
        }
      ]
    },
    {
      "cell_type": "code",
      "source": [
        "def outer():\n",
        "  x='local'\n",
        "  def inner():\n",
        "    nonlocal x\n",
        "    x='nonlocal'\n",
        "    print('inner:',x)\n",
        "  inner()\n",
        "  print('outer:',x)\n",
        "outer()\n",
        "print(x)"
      ],
      "metadata": {
        "colab": {
          "base_uri": "https://localhost:8080/"
        },
        "id": "k1B9BsCJ7Nhd",
        "outputId": "1b50629e-52cb-42e1-b245-7907021ef852"
      },
      "execution_count": null,
      "outputs": [
        {
          "output_type": "stream",
          "name": "stdout",
          "text": [
            "inner: nonlocal\n",
            "outer: nonlocal\n",
            "10\n"
          ]
        }
      ]
    },
    {
      "cell_type": "code",
      "source": [
        "print(type(None))\n",
        "print(type(True))\n",
        "print(type(5))\n",
        "print(type(5.5))\n",
        "print(type('hi'))\n",
        "print(type([]))\n",
        "print(type(()))\n",
        "print(type({}))"
      ],
      "metadata": {
        "id": "y0k6ZT3H-yCA",
        "colab": {
          "base_uri": "https://localhost:8080/"
        },
        "outputId": "87b7a3b3-a816-45a2-e306-34c295eaa4db"
      },
      "execution_count": null,
      "outputs": [
        {
          "output_type": "stream",
          "name": "stdout",
          "text": [
            "<class 'NoneType'>\n",
            "<class 'bool'>\n",
            "<class 'int'>\n",
            "<class 'float'>\n",
            "<class 'str'>\n",
            "<class 'list'>\n",
            "<class 'tuple'>\n",
            "<class 'dict'>\n"
          ]
        }
      ]
    },
    {
      "cell_type": "code",
      "source": [
        "class BigObject:\n",
        "  pass\n",
        "obj1=BigObject()\n",
        "print(type(None))\n",
        "print(type(True))\n",
        "print(type(5))\n",
        "print(type(5.5))\n",
        "print(type('hi'))\n",
        "print(type([]))\n",
        "print(type(()))\n",
        "print(type({}))\n",
        "print(type(obj1))"
      ],
      "metadata": {
        "colab": {
          "base_uri": "https://localhost:8080/"
        },
        "id": "g95KZDI0sLSc",
        "outputId": "d77afb1a-6839-4cb8-a5c6-e72e8026bcf8"
      },
      "execution_count": null,
      "outputs": [
        {
          "output_type": "stream",
          "name": "stdout",
          "text": [
            "<class 'NoneType'>\n",
            "<class 'bool'>\n",
            "<class 'int'>\n",
            "<class 'float'>\n",
            "<class 'str'>\n",
            "<class 'list'>\n",
            "<class 'tuple'>\n",
            "<class 'dict'>\n",
            "<class '__main__.BigObject'>\n"
          ]
        }
      ]
    },
    {
      "cell_type": "code",
      "source": [
        "class playerCharacter:\n",
        "  def __init__(self,name):\n",
        "    self.name=name\n",
        "  def run(self):\n",
        "    print('run')\n",
        "player1=playerCharacter('cindy')\n",
        "print (player1)"
      ],
      "metadata": {
        "colab": {
          "base_uri": "https://localhost:8080/"
        },
        "id": "cV0udll1yQXc",
        "outputId": "a72ebcc3-155f-41c2-a48e-334246c16f3e"
      },
      "execution_count": null,
      "outputs": [
        {
          "output_type": "stream",
          "name": "stdout",
          "text": [
            "<__main__.playerCharacter object at 0x7fc366514d60>\n"
          ]
        }
      ]
    },
    {
      "cell_type": "code",
      "source": [
        "class playerCharacter:\n",
        "  def __init__(self,name):\n",
        "    self.name=name\n",
        "  def run(self):\n",
        "    print('run')\n",
        "player1=playerCharacter('cindy')\n",
        "print (player1)"
      ],
      "metadata": {
        "id": "NjNsDCk-AXe1"
      },
      "execution_count": null,
      "outputs": []
    },
    {
      "cell_type": "code",
      "source": [
        "class playerCharacter:\n",
        "  def __init__(self,name,age):\n",
        "    self.name=name\n",
        "    self.age=age\n",
        "  def run(self):\n",
        "    print('run')\n",
        "    return 'done'\n",
        "player1=playerCharacter('cindy',44)\n",
        "player2=playerCharacter('Tom',21)\n",
        "print (player1)\n",
        "print (player2)"
      ],
      "metadata": {
        "colab": {
          "base_uri": "https://localhost:8080/"
        },
        "id": "p3E1GQzVA4M8",
        "outputId": "4c4cb812-2e9b-4d7e-8cb5-42019919e62d"
      },
      "execution_count": null,
      "outputs": [
        {
          "output_type": "stream",
          "name": "stdout",
          "text": [
            "<__main__.playerCharacter object at 0x7fc3664be5e0>\n",
            "<__main__.playerCharacter object at 0x7fc3664be4c0>\n"
          ]
        }
      ]
    },
    {
      "cell_type": "code",
      "source": [
        "class playerCharacter:\n",
        "  def __init__(self,name,age):\n",
        "    self.name=name\n",
        "    self.age=age\n",
        "  def run(self):\n",
        "    print('run')\n",
        "    return 'done'\n",
        "player1=playerCharacter('cindy',44)\n",
        "player2=playerCharacter('Tom',21)\n",
        "player2.attack=50\n",
        "print (player1)\n",
        "print (player2.attack)"
      ],
      "metadata": {
        "colab": {
          "base_uri": "https://localhost:8080/"
        },
        "id": "4zFlvwieBIJH",
        "outputId": "b9017e2e-4826-4a4e-bb90-ed89b5709f13"
      },
      "execution_count": null,
      "outputs": [
        {
          "output_type": "stream",
          "name": "stdout",
          "text": [
            "<__main__.playerCharacter object at 0x7fc366468370>\n",
            "50\n"
          ]
        }
      ]
    },
    {
      "cell_type": "code",
      "source": [
        "class playerCharacter:\n",
        "  def __init__(self,name,age):\n",
        "    self.name=name\n",
        "    self.age=age\n",
        "  def run(self):\n",
        "    print('run')\n",
        "    return 'done'\n",
        "player1=playerCharacter('cindy',44)\n",
        "player2=playerCharacter('Tom',21)\n",
        "player2.attack=50\n",
        "print (player1.name)\n",
        "print (player2.attack)"
      ],
      "metadata": {
        "colab": {
          "base_uri": "https://localhost:8080/"
        },
        "id": "f-mTc31DEquD",
        "outputId": "a2a88250-627b-4ae5-a503-7c40975b9a11"
      },
      "execution_count": null,
      "outputs": [
        {
          "output_type": "stream",
          "name": "stdout",
          "text": [
            "cindy\n",
            "50\n"
          ]
        }
      ]
    },
    {
      "cell_type": "code",
      "source": [
        "class playerCharacter:\n",
        "  membership=True\n",
        "  def __init__(self,name,age):\n",
        "    self.name=name\n",
        "    self.age=age\n",
        "  def run(self):\n",
        "    print('run')\n",
        "    return 'done'\n",
        "player1=playerCharacter('cindy',44)\n",
        "player2=playerCharacter('Tom',21)\n",
        "player2.attack=50\n",
        "print (player1.membership)\n",
        "print (player2.membership)"
      ],
      "metadata": {
        "colab": {
          "base_uri": "https://localhost:8080/"
        },
        "id": "HkML_GxCJoed",
        "outputId": "16754767-dbcd-4724-8a79-c714eda9773b"
      },
      "execution_count": null,
      "outputs": [
        {
          "output_type": "stream",
          "name": "stdout",
          "text": [
            "True\n",
            "True\n"
          ]
        }
      ]
    },
    {
      "cell_type": "code",
      "source": [
        "class playerCharacter:\n",
        "  membership=True\n",
        "  def __init__(self,name,age):\n",
        "    if(playerCharacter.membership):\n",
        "      self.name=name\n",
        "      self.age=age\n",
        "  def shout(self):\n",
        "    print(f'my name is {self.name}')\n",
        "    return 'done'\n",
        "player1=playerCharacter('cindy',44)\n",
        "player2=playerCharacter('Tom',21)\n",
        "player2.attack=50\n",
        "print (player1.shout())\n",
        "print (player2.shout())"
      ],
      "metadata": {
        "colab": {
          "base_uri": "https://localhost:8080/"
        },
        "id": "QLyACujeM_Zc",
        "outputId": "73b8380b-cdde-4c9f-d4ef-c6982a6d8875"
      },
      "execution_count": null,
      "outputs": [
        {
          "output_type": "stream",
          "name": "stdout",
          "text": [
            "my name is cindy\n",
            "done\n",
            "my name is Tom\n",
            "done\n"
          ]
        }
      ]
    },
    {
      "cell_type": "code",
      "source": [
        "class playerCharacter:\n",
        "  membership=True\n",
        "  def __init__(self,name,age):\n",
        "    if(age>18):\n",
        "      self.name=name\n",
        "      self.age=age\n",
        "  def shout(self):\n",
        "    print(f'my name is {self.name}')\n",
        "    \n",
        "player1=playerCharacter('cindy',19)\n",
        "\n",
        "print (player1.shout())\n"
      ],
      "metadata": {
        "colab": {
          "base_uri": "https://localhost:8080/"
        },
        "id": "-7Xmk_PWNm2W",
        "outputId": "cdd29c4d-d37d-42c1-b19e-76bba19fcb67"
      },
      "execution_count": null,
      "outputs": [
        {
          "output_type": "stream",
          "name": "stdout",
          "text": [
            "my name is cindy\n",
            "None\n"
          ]
        }
      ]
    },
    {
      "cell_type": "code",
      "source": [
        "class playerCharacter:\n",
        "  membership=True\n",
        "  def __init__(self,name,age):\n",
        "    if(age>18):\n",
        "      self.name=name\n",
        "      self.age=age\n",
        "  def shout(self):\n",
        "    print(f'my name is {self.name}')\n",
        "  @classmethod\n",
        "  def adding_things(cls,num1,num2):\n",
        "    return num1+num2\n",
        "    \n",
        "print(playerCharacter.adding_things(2,3))\n",
        "\n"
      ],
      "metadata": {
        "colab": {
          "base_uri": "https://localhost:8080/"
        },
        "id": "Uulhln9IPl4P",
        "outputId": "e7faf388-810e-4a14-d438-ddb5d8e27f04"
      },
      "execution_count": null,
      "outputs": [
        {
          "output_type": "stream",
          "name": "stdout",
          "text": [
            "5\n"
          ]
        }
      ]
    },
    {
      "cell_type": "code",
      "source": [
        "class playerCharacter:\n",
        "  def __init__(self,name,age):\n",
        "    self.name=name\n",
        "    self.age=age\n",
        "  def run(self):\n",
        "    print('run')\n",
        "  def speak(self):\n",
        "    print(f'my name is {self.name},and iam {self.age} years old')\n",
        "player1=playerCharacter('cindy',44)\n",
        "\n",
        "player1.speak()"
      ],
      "metadata": {
        "colab": {
          "base_uri": "https://localhost:8080/"
        },
        "id": "KrYQX7zfXZpt",
        "outputId": "64be0c22-a34f-475f-9f22-9d0c2b60faca"
      },
      "execution_count": null,
      "outputs": [
        {
          "output_type": "stream",
          "name": "stdout",
          "text": [
            "my name is cindy,and iam 44 years old\n"
          ]
        }
      ]
    },
    {
      "cell_type": "code",
      "source": [
        "class playerCharacter:\n",
        "  def __init__(self,name,age):\n",
        "    self.name=name\n",
        "    self.age=age\n",
        "  def run(self):\n",
        "    print('run')\n",
        "  def speak(self):\n",
        "    print(f'my name is {self.name},and iam {self.age} years old')\n",
        "player1=playerCharacter('cindy',44)\n",
        "player1.name='!!!'\n",
        "player1.speak='boooo'\n",
        "print(player1.speak)"
      ],
      "metadata": {
        "colab": {
          "base_uri": "https://localhost:8080/"
        },
        "id": "byZQh3jvdU3C",
        "outputId": "5109e7cc-8d90-4842-8817-3d0ba6ce7ca8"
      },
      "execution_count": null,
      "outputs": [
        {
          "output_type": "stream",
          "name": "stdout",
          "text": [
            "boooo\n"
          ]
        }
      ]
    },
    {
      "cell_type": "code",
      "source": [
        "class playerCharacter:\n",
        "  def __init__(self,name,age):\n",
        "    self._name=name\n",
        "    self._age=age\n",
        "  def run(self):\n",
        "    print('run')\n",
        "  def speak(self):\n",
        "    print(f'my name is {self._name},and iam {self._age} years old')\n",
        "player1=playerCharacter('cindy',44)\n",
        "\n",
        "print(player1.speak)"
      ],
      "metadata": {
        "colab": {
          "base_uri": "https://localhost:8080/"
        },
        "id": "1V8jiaXHal62",
        "outputId": "637b9108-8023-4fcd-9d6d-6a9ba2fd46e9"
      },
      "execution_count": null,
      "outputs": [
        {
          "output_type": "stream",
          "name": "stdout",
          "text": [
            "<bound method playerCharacter.speak of <__main__.playerCharacter object at 0x7fc366468dc0>>\n"
          ]
        }
      ]
    },
    {
      "cell_type": "code",
      "source": [
        "class user(object):\n",
        "  def __init__(self,email):\n",
        "    self.email=email\n",
        "\n",
        "  def sign_in(self):\n",
        "    print('logged in')\n",
        "\n",
        "class Wizard(user):\n",
        "  def __init__(self,name,power):\n",
        "    self.name=name\n",
        "    self.power=power\n",
        "\n",
        "  def attack(self):\n",
        "    print(f'attacking with power of {self.power}')\n",
        "\n",
        "##class archer(User):\n",
        "  #def __init__(self,name,num_arrow):\n",
        "   #self.name=name\n",
        "    #self.num_arrow=num_arrow\n",
        "\n",
        "  def attack(self):\n",
        "    print(f'attacking with arrows: arrow left-{self.num_arrow}')\n",
        "Wizard1=Wizard('merlin',50)\n",
        "\n",
        "print(Wizard1.sign_in())"
      ],
      "metadata": {
        "colab": {
          "base_uri": "https://localhost:8080/"
        },
        "id": "IkmH_dASeXLq",
        "outputId": "bd49b4f3-2822-4c95-ace9-bdbca2a49643"
      },
      "execution_count": null,
      "outputs": [
        {
          "output_type": "stream",
          "name": "stdout",
          "text": [
            "logged in\n",
            "None\n"
          ]
        }
      ]
    },
    {
      "cell_type": "code",
      "source": [
        "class toy():\n",
        "  def __init__(self,color,age):\n",
        "    self.color=color\n",
        "    self.age=age\n",
        "    self.my_dict={\n",
        "        'name':'yoyo',\n",
        "        'has_pets': False\n",
        "    }\n",
        "  def __str__(self):\n",
        "    return f'{self.color}'\n",
        "  def __len__(self):\n",
        "    return 5\n",
        "  def __call__(self):\n",
        "    return('ress??')\n",
        "  def __getitem__(self,i):  \n",
        "    return self.my_dict[i]\n",
        "action_figure=toy('red',0)\n",
        "print(action_figure.__str__())\n",
        "print(str(action_figure))\n",
        "print(len(action_figure))\n",
        "print(action_figure())\n",
        "print(action_figure['name'])"
      ],
      "metadata": {
        "colab": {
          "base_uri": "https://localhost:8080/"
        },
        "id": "dk5--Byhif1M",
        "outputId": "0a0e6684-8f1c-4b07-e883-1ca815f05afd"
      },
      "execution_count": null,
      "outputs": [
        {
          "output_type": "stream",
          "name": "stdout",
          "text": [
            "red\n",
            "red\n",
            "5\n",
            "ress??\n",
            "yoyo\n"
          ]
        }
      ]
    },
    {
      "cell_type": "code",
      "source": [
        "class a:\n",
        "  pass\n",
        "class b(a):\n",
        "  pass\n",
        "class c(a):\n",
        "  pass\n",
        "class d(b,c):\n",
        "  pass\n",
        "print(d.mro())\n"
      ],
      "metadata": {
        "colab": {
          "base_uri": "https://localhost:8080/"
        },
        "id": "SRsE3cbVv3-l",
        "outputId": "56e69877-17c8-4484-ba9e-f72a2a7b331d"
      },
      "execution_count": null,
      "outputs": [
        {
          "output_type": "stream",
          "name": "stdout",
          "text": [
            "[<class '__main__.d'>, <class '__main__.b'>, <class '__main__.c'>, <class '__main__.a'>, <class 'object'>]\n"
          ]
        }
      ]
    },
    {
      "cell_type": "code",
      "source": [
        "class a:\n",
        "  pass\n",
        "class b(a):\n",
        "  pass\n",
        "class c(a):\n",
        "  pass\n",
        "class d(b,c):\n",
        "  pass\n",
        "print(d.mro())"
      ],
      "metadata": {
        "id": "_QqRp6M00tTs"
      },
      "execution_count": null,
      "outputs": []
    },
    {
      "cell_type": "code",
      "source": [
        "class a:\n",
        "  num=1\n",
        "class b(a):\n",
        "  pass\n",
        "class c(a):\n",
        "  num=12\n",
        "class d(b,c):\n",
        "  pass\n",
        "print(d.num)"
      ],
      "metadata": {
        "colab": {
          "base_uri": "https://localhost:8080/"
        },
        "id": "EUKsTCgu1AXY",
        "outputId": "f406acb1-a807-4e68-eff0-3e7f46ce6fa6"
      },
      "execution_count": null,
      "outputs": [
        {
          "output_type": "stream",
          "name": "stdout",
          "text": [
            "12\n"
          ]
        }
      ]
    },
    {
      "cell_type": "code",
      "source": [
        "def multiple(li):\n",
        "  new_list=[]\n",
        "  for item in li:\n",
        "    new_list.append(item*2)\n",
        "  return new_list\n",
        "print(multiple([1,2,3]))"
      ],
      "metadata": {
        "colab": {
          "base_uri": "https://localhost:8080/"
        },
        "id": "T-rJRREs1F8T",
        "outputId": "59aeaa7d-3a2e-4816-c6f1-3b42210010e9"
      },
      "execution_count": null,
      "outputs": [
        {
          "output_type": "stream",
          "name": "stdout",
          "text": [
            "[2, 4, 6]\n"
          ]
        }
      ]
    },
    {
      "cell_type": "code",
      "source": [
        "mylist=[1,2,3]\n",
        "def mul(item):\n",
        "  return item*2\n",
        "print(list(map(mul,mylist)))\n",
        "print(mylist)"
      ],
      "metadata": {
        "colab": {
          "base_uri": "https://localhost:8080/"
        },
        "id": "razPkdMG4e7F",
        "outputId": "88c1a41f-ee19-4f02-ac48-1e53c504351e"
      },
      "execution_count": null,
      "outputs": [
        {
          "output_type": "stream",
          "name": "stdout",
          "text": [
            "[2, 4, 6]\n",
            "[1, 2, 3]\n"
          ]
        }
      ]
    },
    {
      "cell_type": "code",
      "source": [
        "mylist=[1,2,3,4,5,6]\n",
        "def mul(item):\n",
        "  return item*2\n",
        "def fil(i):\n",
        "  return i%2==0\n",
        "print(list(filter(fil,mylist)))\n",
        "print(mylist)"
      ],
      "metadata": {
        "id": "HfEkevTI-Jd3",
        "colab": {
          "base_uri": "https://localhost:8080/"
        },
        "outputId": "21c6061c-9062-41b0-d544-1f772d077fa4"
      },
      "execution_count": null,
      "outputs": [
        {
          "output_type": "stream",
          "name": "stdout",
          "text": [
            "[2, 4, 6]\n",
            "[1, 2, 3, 4, 5, 6]\n"
          ]
        }
      ]
    },
    {
      "cell_type": "code",
      "source": [
        "l1=[1,2,3,4]\n",
        "l2=(10,20,30)\n",
        "l3=(5,6,5)\n",
        "print(list(zip(l1,l2,l3)))\n",
        "print(l1)"
      ],
      "metadata": {
        "colab": {
          "base_uri": "https://localhost:8080/"
        },
        "id": "4RWw2WvU0Y6r",
        "outputId": "fc65fe45-c73b-4f6d-a690-fea205ea3310"
      },
      "execution_count": null,
      "outputs": [
        {
          "output_type": "stream",
          "name": "stdout",
          "text": [
            "[(1, 10, 5), (2, 20, 6), (3, 30, 5)]\n",
            "[1, 2, 3, 4]\n"
          ]
        }
      ]
    },
    {
      "cell_type": "code",
      "source": [
        "from functools import reduce\n",
        "mylist=[1,2,3]\n",
        "def accum(acc,item):\n",
        "  print(acc,item)\n",
        "  return acc+item\n",
        "print(reduce(accum,mylist,0))\n"
      ],
      "metadata": {
        "colab": {
          "base_uri": "https://localhost:8080/"
        },
        "id": "AkyJm8ar2qMj",
        "outputId": "cc4acae4-05cd-4817-af7f-57c8876f493a"
      },
      "execution_count": null,
      "outputs": [
        {
          "output_type": "stream",
          "name": "stdout",
          "text": [
            "0 1\n",
            "1 2\n",
            "3 3\n",
            "6\n"
          ]
        }
      ]
    },
    {
      "cell_type": "code",
      "source": [
        "from functools import reduce\n",
        "mylist=[1,2,3]\n",
        "print(list(filter(lambda i:i%2==0,mylist)))"
      ],
      "metadata": {
        "colab": {
          "base_uri": "https://localhost:8080/"
        },
        "id": "Is0XXAA46wk1",
        "outputId": "a1df3a0d-969d-440c-eabf-7e2df3878c6d"
      },
      "execution_count": null,
      "outputs": [
        {
          "output_type": "stream",
          "name": "stdout",
          "text": [
            "[2]\n"
          ]
        }
      ]
    },
    {
      "cell_type": "code",
      "source": [
        "from functools import reduce\n",
        "mylist=[1,2,3]\n",
        "print(list(map(lambda a:a*2,mylist)))"
      ],
      "metadata": {
        "colab": {
          "base_uri": "https://localhost:8080/"
        },
        "id": "T-qc6Vcl-0f-",
        "outputId": "a6508da7-337c-4d7e-e36c-c9ac613b673e"
      },
      "execution_count": null,
      "outputs": [
        {
          "output_type": "stream",
          "name": "stdout",
          "text": [
            "[2, 4, 6]\n"
          ]
        }
      ]
    },
    {
      "cell_type": "code",
      "source": [
        "from functools import reduce\n",
        "mylist=[1,2,3,4,5]\n",
        "\n",
        "print(reduce(lambda acc,item:acc+item,mylist))"
      ],
      "metadata": {
        "colab": {
          "base_uri": "https://localhost:8080/"
        },
        "id": "BusZF_VyBQH1",
        "outputId": "ee261d00-1eb2-4baf-dd3b-70b067173c1f"
      },
      "execution_count": null,
      "outputs": [
        {
          "output_type": "stream",
          "name": "stdout",
          "text": [
            "15\n"
          ]
        }
      ]
    },
    {
      "cell_type": "code",
      "source": [
        "from functools import reduce\n",
        "mylist=[1,2,3]\n",
        "print(list(map(lambda a:a**2,mylist)))"
      ],
      "metadata": {
        "colab": {
          "base_uri": "https://localhost:8080/"
        },
        "id": "LRGI40CUBp2u",
        "outputId": "3008404a-4953-492c-8daf-2a2d694d1a9f"
      },
      "execution_count": null,
      "outputs": [
        {
          "output_type": "stream",
          "name": "stdout",
          "text": [
            "[1, 4, 9]\n"
          ]
        }
      ]
    },
    {
      "cell_type": "code",
      "source": [
        "a=[(1,2),(1,0),(3,4),(16,6)]\n",
        "a.sort(key=lambda x:x[1])\n",
        "print(a)"
      ],
      "metadata": {
        "colab": {
          "base_uri": "https://localhost:8080/"
        },
        "id": "Edh-1407Dmkw",
        "outputId": "37728df9-a87c-4183-b388-47abda693448"
      },
      "execution_count": null,
      "outputs": [
        {
          "output_type": "stream",
          "name": "stdout",
          "text": [
            "[(1, 0), (1, 2), (3, 4), (16, 6)]\n"
          ]
        }
      ]
    },
    {
      "cell_type": "code",
      "source": [
        "mylist=[z for z in 'hello']\n",
        "print(mylist)"
      ],
      "metadata": {
        "colab": {
          "base_uri": "https://localhost:8080/"
        },
        "id": "DV5RkBFaFtkm",
        "outputId": "a7c6870d-b60c-4ed4-d9ea-b644f8d5d249"
      },
      "execution_count": null,
      "outputs": [
        {
          "output_type": "stream",
          "name": "stdout",
          "text": [
            "['h', 'e', 'l', 'l', 'o']\n"
          ]
        }
      ]
    },
    {
      "cell_type": "code",
      "source": [
        "mylist=[z for z in range (1,100)]\n",
        "print(mylist)"
      ],
      "metadata": {
        "colab": {
          "base_uri": "https://localhost:8080/"
        },
        "id": "c10umyLFHag2",
        "outputId": "a80aa732-049a-4f4a-f06c-4b175badea7c"
      },
      "execution_count": null,
      "outputs": [
        {
          "output_type": "stream",
          "name": "stdout",
          "text": [
            "[1, 2, 3, 4, 5, 6, 7, 8, 9, 10, 11, 12, 13, 14, 15, 16, 17, 18, 19, 20, 21, 22, 23, 24, 25, 26, 27, 28, 29, 30, 31, 32, 33, 34, 35, 36, 37, 38, 39, 40, 41, 42, 43, 44, 45, 46, 47, 48, 49, 50, 51, 52, 53, 54, 55, 56, 57, 58, 59, 60, 61, 62, 63, 64, 65, 66, 67, 68, 69, 70, 71, 72, 73, 74, 75, 76, 77, 78, 79, 80, 81, 82, 83, 84, 85, 86, 87, 88, 89, 90, 91, 92, 93, 94, 95, 96, 97, 98, 99]\n"
          ]
        }
      ]
    },
    {
      "cell_type": "code",
      "source": [
        "mylist=[z*2 for z in range (1,100)]\n",
        "print(mylist)"
      ],
      "metadata": {
        "colab": {
          "base_uri": "https://localhost:8080/"
        },
        "id": "Wy-vfFeTH1KB",
        "outputId": "6665dfb2-b946-439c-8ef9-f2166b5c114e"
      },
      "execution_count": null,
      "outputs": [
        {
          "output_type": "stream",
          "name": "stdout",
          "text": [
            "[2, 4, 6, 8, 10, 12, 14, 16, 18, 20, 22, 24, 26, 28, 30, 32, 34, 36, 38, 40, 42, 44, 46, 48, 50, 52, 54, 56, 58, 60, 62, 64, 66, 68, 70, 72, 74, 76, 78, 80, 82, 84, 86, 88, 90, 92, 94, 96, 98, 100, 102, 104, 106, 108, 110, 112, 114, 116, 118, 120, 122, 124, 126, 128, 130, 132, 134, 136, 138, 140, 142, 144, 146, 148, 150, 152, 154, 156, 158, 160, 162, 164, 166, 168, 170, 172, 174, 176, 178, 180, 182, 184, 186, 188, 190, 192, 194, 196, 198]\n"
          ]
        }
      ]
    },
    {
      "cell_type": "code",
      "source": [
        "mylist=[z**2 for z in range (1,100)]\n",
        "print(mylist)"
      ],
      "metadata": {
        "colab": {
          "base_uri": "https://localhost:8080/"
        },
        "id": "ygvIXV1oIgtI",
        "outputId": "1994acda-366b-40ac-a63b-bb4bf48089bc"
      },
      "execution_count": null,
      "outputs": [
        {
          "output_type": "stream",
          "name": "stdout",
          "text": [
            "[1, 4, 9, 16, 25, 36, 49, 64, 81, 100, 121, 144, 169, 196, 225, 256, 289, 324, 361, 400, 441, 484, 529, 576, 625, 676, 729, 784, 841, 900, 961, 1024, 1089, 1156, 1225, 1296, 1369, 1444, 1521, 1600, 1681, 1764, 1849, 1936, 2025, 2116, 2209, 2304, 2401, 2500, 2601, 2704, 2809, 2916, 3025, 3136, 3249, 3364, 3481, 3600, 3721, 3844, 3969, 4096, 4225, 4356, 4489, 4624, 4761, 4900, 5041, 5184, 5329, 5476, 5625, 5776, 5929, 6084, 6241, 6400, 6561, 6724, 6889, 7056, 7225, 7396, 7569, 7744, 7921, 8100, 8281, 8464, 8649, 8836, 9025, 9216, 9409, 9604, 9801]\n"
          ]
        }
      ]
    },
    {
      "cell_type": "code",
      "source": [
        "mylist=[z**2 for z in range (1,100) if z%2==0]\n",
        "\n",
        "print(mylist)"
      ],
      "metadata": {
        "colab": {
          "base_uri": "https://localhost:8080/"
        },
        "id": "ZFHzxmmhIwGH",
        "outputId": "b57e97c3-b1ff-4af5-a8cd-da4365f1a900"
      },
      "execution_count": null,
      "outputs": [
        {
          "output_type": "stream",
          "name": "stdout",
          "text": [
            "[4, 16, 36, 64, 100, 144, 196, 256, 324, 400, 484, 576, 676, 784, 900, 1024, 1156, 1296, 1444, 1600, 1764, 1936, 2116, 2304, 2500, 2704, 2916, 3136, 3364, 3600, 3844, 4096, 4356, 4624, 4900, 5184, 5476, 5776, 6084, 6400, 6724, 7056, 7396, 7744, 8100, 8464, 8836, 9216, 9604]\n"
          ]
        }
      ]
    },
    {
      "cell_type": "code",
      "source": [
        "a=['a','b','d','d','a']\n",
        "dup=set([x for x in a if a.count(x)>1])\n",
        "print(dup)"
      ],
      "metadata": {
        "colab": {
          "base_uri": "https://localhost:8080/"
        },
        "id": "tozIFEnyI799",
        "outputId": "c78107e8-ee20-4cf7-86f9-035f5061c1ad"
      },
      "execution_count": null,
      "outputs": [
        {
          "output_type": "stream",
          "name": "stdout",
          "text": [
            "{'a', 'd'}\n"
          ]
        }
      ]
    },
    {
      "cell_type": "code",
      "source": [
        "while True:\n",
        "  try:\n",
        "    age=int(input('whats your age'))\n",
        "    10/age\n",
        "  except ValueError:\n",
        "    print('please enter a number')\n",
        "  else:\n",
        "    print('thank you')\n",
        "    break"
      ],
      "metadata": {
        "colab": {
          "base_uri": "https://localhost:8080/"
        },
        "id": "NiK9HWFdQNKS",
        "outputId": "ad272a6c-f834-4408-831e-4ae1ac91dc20"
      },
      "execution_count": null,
      "outputs": [
        {
          "output_type": "stream",
          "name": "stdout",
          "text": [
            "whats your age15\n",
            "thank you\n"
          ]
        }
      ]
    },
    {
      "cell_type": "code",
      "source": [
        "while True:\n",
        "  try:\n",
        "    age=int(input('whats your age'))\n",
        "    10/age\n",
        "  except ValueError:\n",
        "    print('please enter a number')\n",
        "  except ZeroDivisionError:\n",
        "    print('please enter a age higher then 0')\n",
        "  else:\n",
        "    print('thank you')\n",
        "    break"
      ],
      "metadata": {
        "colab": {
          "base_uri": "https://localhost:8080/"
        },
        "id": "hwIEo7NUVBAv",
        "outputId": "f0542123-c5f8-49c9-c5a9-6ee16f4a4dc8"
      },
      "execution_count": null,
      "outputs": [
        {
          "output_type": "stream",
          "name": "stdout",
          "text": [
            "whats your age0\n",
            "please enter a age higher then 0\n",
            "whats your ages\n",
            "please enter a number\n",
            "whats your age1\n",
            "thank you\n"
          ]
        }
      ]
    },
    {
      "cell_type": "code",
      "source": [
        "def sum(num1,num2):\n",
        "  try:\n",
        "    return num1/num2\n",
        "  except (TypeError, ZeroDivisionError) as err:\n",
        "    print(err)\n",
        "print(sum(1,'2'))"
      ],
      "metadata": {
        "colab": {
          "base_uri": "https://localhost:8080/"
        },
        "id": "Ag5QJll7VZrt",
        "outputId": "e00b2682-1af2-4d27-fedb-935ae6f96b27"
      },
      "execution_count": null,
      "outputs": [
        {
          "output_type": "stream",
          "name": "stdout",
          "text": [
            "unsupported operand type(s) for /: 'int' and 'str'\n",
            "None\n"
          ]
        }
      ]
    },
    {
      "cell_type": "code",
      "source": [
        "while True:\n",
        "  try:\n",
        "    age=int(input('whats your age'))\n",
        "    10/age\n",
        "  except ValueError:\n",
        "    print('please enter a number')\n",
        "  except ZeroDivisionError:\n",
        "    print('please enter a age higher then 0')\n",
        "  else:\n",
        "    print('thank you')\n",
        "    break\n",
        "  finally:\n",
        "    print('iam done')"
      ],
      "metadata": {
        "colab": {
          "base_uri": "https://localhost:8080/"
        },
        "id": "YKfnIR6Qbvfe",
        "outputId": "e90719eb-b945-42cf-bf49-a784987dd2f6"
      },
      "execution_count": null,
      "outputs": [
        {
          "output_type": "stream",
          "name": "stdout",
          "text": [
            "whats your age5\n",
            "thank you\n",
            "iam done\n"
          ]
        }
      ]
    },
    {
      "cell_type": "code",
      "source": [
        "while True:\n",
        "  try:\n",
        "    age=int(input('whats your age'))\n",
        "    10/age\n",
        "    raise  ValueError('stop')\n",
        "  except ValueError:\n",
        "    print('please enter a number')\n",
        "  except ZeroDivisionError:\n",
        "    print('please enter a age higher then 0')\n",
        "  else:\n",
        "    print('thank you')\n",
        "    break\n",
        "  finally:\n",
        "    print('iam done')"
      ],
      "metadata": {
        "colab": {
          "base_uri": "https://localhost:8080/",
          "height": 524
        },
        "id": "c-VbcPoBddvu",
        "outputId": "0002b05f-c7cd-43a8-911a-585e42ddfb84"
      },
      "execution_count": null,
      "outputs": [
        {
          "output_type": "stream",
          "name": "stdout",
          "text": [
            "whats your age5\n",
            "please enter a number\n",
            "iam done\n",
            "whats your age6\n",
            "please enter a number\n",
            "iam done\n",
            "iam done\n"
          ]
        },
        {
          "output_type": "error",
          "ename": "KeyboardInterrupt",
          "evalue": "ignored",
          "traceback": [
            "\u001b[0;31m---------------------------------------------------------------------------\u001b[0m",
            "\u001b[0;31mKeyboardInterrupt\u001b[0m                         Traceback (most recent call last)",
            "\u001b[0;32m<ipython-input-1-031de0038e25>\u001b[0m in \u001b[0;36m<module>\u001b[0;34m\u001b[0m\n\u001b[1;32m      1\u001b[0m \u001b[0;32mwhile\u001b[0m \u001b[0;32mTrue\u001b[0m\u001b[0;34m:\u001b[0m\u001b[0;34m\u001b[0m\u001b[0;34m\u001b[0m\u001b[0m\n\u001b[1;32m      2\u001b[0m   \u001b[0;32mtry\u001b[0m\u001b[0;34m:\u001b[0m\u001b[0;34m\u001b[0m\u001b[0;34m\u001b[0m\u001b[0m\n\u001b[0;32m----> 3\u001b[0;31m     \u001b[0mage\u001b[0m\u001b[0;34m=\u001b[0m\u001b[0mint\u001b[0m\u001b[0;34m(\u001b[0m\u001b[0minput\u001b[0m\u001b[0;34m(\u001b[0m\u001b[0;34m'whats your age'\u001b[0m\u001b[0;34m)\u001b[0m\u001b[0;34m)\u001b[0m\u001b[0;34m\u001b[0m\u001b[0;34m\u001b[0m\u001b[0m\n\u001b[0m\u001b[1;32m      4\u001b[0m     \u001b[0;36m10\u001b[0m\u001b[0;34m/\u001b[0m\u001b[0mage\u001b[0m\u001b[0;34m\u001b[0m\u001b[0;34m\u001b[0m\u001b[0m\n\u001b[1;32m      5\u001b[0m     \u001b[0;32mraise\u001b[0m  \u001b[0mValueError\u001b[0m\u001b[0;34m(\u001b[0m\u001b[0;34m'stop'\u001b[0m\u001b[0;34m)\u001b[0m\u001b[0;34m\u001b[0m\u001b[0;34m\u001b[0m\u001b[0m\n",
            "\u001b[0;32m/usr/local/lib/python3.8/dist-packages/ipykernel/kernelbase.py\u001b[0m in \u001b[0;36mraw_input\u001b[0;34m(self, prompt)\u001b[0m\n\u001b[1;32m    858\u001b[0m                 \u001b[0;34m\"raw_input was called, but this frontend does not support input requests.\"\u001b[0m\u001b[0;34m\u001b[0m\u001b[0;34m\u001b[0m\u001b[0m\n\u001b[1;32m    859\u001b[0m             )\n\u001b[0;32m--> 860\u001b[0;31m         return self._input_request(str(prompt),\n\u001b[0m\u001b[1;32m    861\u001b[0m             \u001b[0mself\u001b[0m\u001b[0;34m.\u001b[0m\u001b[0m_parent_ident\u001b[0m\u001b[0;34m,\u001b[0m\u001b[0;34m\u001b[0m\u001b[0;34m\u001b[0m\u001b[0m\n\u001b[1;32m    862\u001b[0m             \u001b[0mself\u001b[0m\u001b[0;34m.\u001b[0m\u001b[0m_parent_header\u001b[0m\u001b[0;34m,\u001b[0m\u001b[0;34m\u001b[0m\u001b[0;34m\u001b[0m\u001b[0m\n",
            "\u001b[0;32m/usr/local/lib/python3.8/dist-packages/ipykernel/kernelbase.py\u001b[0m in \u001b[0;36m_input_request\u001b[0;34m(self, prompt, ident, parent, password)\u001b[0m\n\u001b[1;32m    902\u001b[0m             \u001b[0;32mexcept\u001b[0m \u001b[0mKeyboardInterrupt\u001b[0m\u001b[0;34m:\u001b[0m\u001b[0;34m\u001b[0m\u001b[0;34m\u001b[0m\u001b[0m\n\u001b[1;32m    903\u001b[0m                 \u001b[0;31m# re-raise KeyboardInterrupt, to truncate traceback\u001b[0m\u001b[0;34m\u001b[0m\u001b[0;34m\u001b[0m\u001b[0;34m\u001b[0m\u001b[0m\n\u001b[0;32m--> 904\u001b[0;31m                 \u001b[0;32mraise\u001b[0m \u001b[0mKeyboardInterrupt\u001b[0m\u001b[0;34m(\u001b[0m\u001b[0;34m\"Interrupted by user\"\u001b[0m\u001b[0;34m)\u001b[0m \u001b[0;32mfrom\u001b[0m \u001b[0;32mNone\u001b[0m\u001b[0;34m\u001b[0m\u001b[0;34m\u001b[0m\u001b[0m\n\u001b[0m\u001b[1;32m    905\u001b[0m             \u001b[0;32mexcept\u001b[0m \u001b[0mException\u001b[0m \u001b[0;32mas\u001b[0m \u001b[0me\u001b[0m\u001b[0;34m:\u001b[0m\u001b[0;34m\u001b[0m\u001b[0;34m\u001b[0m\u001b[0m\n\u001b[1;32m    906\u001b[0m                 \u001b[0mself\u001b[0m\u001b[0;34m.\u001b[0m\u001b[0mlog\u001b[0m\u001b[0;34m.\u001b[0m\u001b[0mwarning\u001b[0m\u001b[0;34m(\u001b[0m\u001b[0;34m\"Invalid Message:\"\u001b[0m\u001b[0;34m,\u001b[0m \u001b[0mexc_info\u001b[0m\u001b[0;34m=\u001b[0m\u001b[0;32mTrue\u001b[0m\u001b[0;34m)\u001b[0m\u001b[0;34m\u001b[0m\u001b[0;34m\u001b[0m\u001b[0m\n",
            "\u001b[0;31mKeyboardInterrupt\u001b[0m: Interrupted by user"
          ]
        }
      ]
    },
    {
      "cell_type": "code",
      "source": [
        "import pdb\n",
        "def add(a,b):\n",
        "  pdb.set_trace()\n",
        "  return a+b\n",
        "add(4,'hdj')"
      ],
      "metadata": {
        "colab": {
          "base_uri": "https://localhost:8080/"
        },
        "id": "13mo78BXeXjT",
        "outputId": "44d6906d-8240-4b2e-ee20-73e4d8bb0180"
      },
      "execution_count": null,
      "outputs": [
        {
          "output_type": "stream",
          "name": "stderr",
          "text": [
            "\n",
            "PYDEV DEBUGGER WARNING:\n",
            "sys.settrace() should not be used when the debugger is being used.\n",
            "This may cause the debugger to stop working correctly.\n",
            "If this is needed, please check: \n",
            "http://pydev.blogspot.com/2007/06/why-cant-pydev-debugger-work-with.html\n",
            "to see how to restore the debug tracing back correctly.\n",
            "Call Location:\n",
            "  File \"/usr/lib/python3.8/bdb.py\", line 334, in set_trace\n",
            "    sys.settrace(self.trace_dispatch)\n",
            "\n"
          ]
        },
        {
          "output_type": "stream",
          "name": "stdout",
          "text": [
            "> <ipython-input-4-bb0d14d167c0>(4)add()\n",
            "-> return a+b\n",
            "(Pdb) a\n",
            "a = 4\n",
            "b = 'hdj'\n",
            "(Pdb) b\n",
            "(Pdb) help\n",
            "\n",
            "Documented commands (type help <topic>):\n",
            "========================================\n",
            "EOF    c          d        h         list      q        rv       undisplay\n",
            "a      cl         debug    help      ll        quit     s        unt      \n",
            "alias  clear      disable  ignore    longlist  r        source   until    \n",
            "args   commands   display  interact  n         restart  step     up       \n",
            "b      condition  down     j         next      return   tbreak   w        \n",
            "break  cont       enable   jump      p         retval   u        whatis   \n",
            "bt     continue   exit     l         pp        run      unalias  where    \n",
            "\n",
            "Miscellaneous help topics:\n",
            "==========================\n",
            "exec  pdb\n",
            "\n",
            "(Pdb) list\n",
            "  1  \timport pdb\n",
            "  2  \tdef add(a,b):\n",
            "  3  \t  pdb.set_trace()\n",
            "  4  ->\t  return a+b\n",
            "  5  \tadd(4,'hdj')\n",
            "[EOF]\n",
            "(Pdb) u\n",
            "> <ipython-input-4-bb0d14d167c0>(5)<module>()\n",
            "-> add(4,'hdj')\n",
            "--KeyboardInterrupt--\n",
            "--KeyboardInterrupt--\n",
            "--KeyboardInterrupt--\n",
            "--KeyboardInterrupt--\n"
          ]
        }
      ]
    },
    {
      "cell_type": "code",
      "source": [
        "import re \n",
        "string = 'search inside of this textplease'\n",
        "a = re.search('this',string)\n",
        "print(a.start())"
      ],
      "metadata": {
        "colab": {
          "base_uri": "https://localhost:8080/"
        },
        "id": "2iKGjJHBrTfK",
        "outputId": "8e3074ec-335b-4353-ba14-34f99d02c7ff"
      },
      "execution_count": null,
      "outputs": [
        {
          "output_type": "stream",
          "name": "stdout",
          "text": [
            "17\n"
          ]
        }
      ]
    },
    {
      "cell_type": "code",
      "source": [
        "import re\n",
        "var='is my country'\n",
        "var1=re.match('my',var)\n",
        "print(var1)"
      ],
      "metadata": {
        "colab": {
          "base_uri": "https://localhost:8080/"
        },
        "id": "f9QQbXVWxG1O",
        "outputId": "36ed2478-da68-415d-df63-153a55d2ff06"
      },
      "execution_count": null,
      "outputs": [
        {
          "output_type": "stream",
          "name": "stdout",
          "text": [
            "None\n"
          ]
        }
      ]
    },
    {
      "cell_type": "code",
      "source": [
        "import unittest\n",
        "import main\n",
        "class Testmain(unittest.TestCase):\n",
        "  def test_do_stuff(self):\n",
        "    test_param=10\n",
        "    result=main.do_stuff(test_param)\n",
        "    self.assertEqual(result,15)\n",
        "unittest.main()"
      ],
      "metadata": {
        "colab": {
          "base_uri": "https://localhost:8080/",
          "height": 391
        },
        "id": "75VOp11DsnFz",
        "outputId": "fcaae1dd-d615-4480-950a-5d9bca8b1a61"
      },
      "execution_count": null,
      "outputs": [
        {
          "output_type": "error",
          "ename": "ModuleNotFoundError",
          "evalue": "ignored",
          "traceback": [
            "\u001b[0;31m---------------------------------------------------------------------------\u001b[0m",
            "\u001b[0;31mModuleNotFoundError\u001b[0m                       Traceback (most recent call last)",
            "\u001b[0;32m<ipython-input-5-ff02e405d2d9>\u001b[0m in \u001b[0;36m<module>\u001b[0;34m\u001b[0m\n\u001b[1;32m      1\u001b[0m \u001b[0;32mimport\u001b[0m \u001b[0munittest\u001b[0m\u001b[0;34m\u001b[0m\u001b[0;34m\u001b[0m\u001b[0m\n\u001b[0;32m----> 2\u001b[0;31m \u001b[0;32mimport\u001b[0m \u001b[0mmain\u001b[0m\u001b[0;34m\u001b[0m\u001b[0;34m\u001b[0m\u001b[0m\n\u001b[0m\u001b[1;32m      3\u001b[0m \u001b[0;32mclass\u001b[0m \u001b[0mTestmain\u001b[0m\u001b[0;34m(\u001b[0m\u001b[0munittest\u001b[0m\u001b[0;34m.\u001b[0m\u001b[0mTestCase\u001b[0m\u001b[0;34m)\u001b[0m\u001b[0;34m:\u001b[0m\u001b[0;34m\u001b[0m\u001b[0;34m\u001b[0m\u001b[0m\n\u001b[1;32m      4\u001b[0m   \u001b[0;32mdef\u001b[0m \u001b[0mtest_do_stuff\u001b[0m\u001b[0;34m(\u001b[0m\u001b[0mself\u001b[0m\u001b[0;34m)\u001b[0m\u001b[0;34m:\u001b[0m\u001b[0;34m\u001b[0m\u001b[0;34m\u001b[0m\u001b[0m\n\u001b[1;32m      5\u001b[0m     \u001b[0mtest_param\u001b[0m\u001b[0;34m=\u001b[0m\u001b[0;36m10\u001b[0m\u001b[0;34m\u001b[0m\u001b[0;34m\u001b[0m\u001b[0m\n",
            "\u001b[0;31mModuleNotFoundError\u001b[0m: No module named 'main'",
            "",
            "\u001b[0;31m---------------------------------------------------------------------------\u001b[0;32m\nNOTE: If your import is failing due to a missing package, you can\nmanually install dependencies using either !pip or !apt.\n\nTo view examples of installing some common dependencies, click the\n\"Open Examples\" button below.\n\u001b[0;31m---------------------------------------------------------------------------\u001b[0m\n"
          ],
          "errorDetails": {
            "actions": [
              {
                "action": "open_url",
                "actionText": "Open Examples",
                "url": "/notebooks/snippets/importing_libraries.ipynb"
              }
            ]
          }
        }
      ]
    },
    {
      "cell_type": "code",
      "source": [
        "!pip3 install pillow"
      ],
      "metadata": {
        "colab": {
          "base_uri": "https://localhost:8080/"
        },
        "id": "CcuVEGX9-M5f",
        "outputId": "ae767402-52ed-4b78-8b2f-e9970b45736d"
      },
      "execution_count": null,
      "outputs": [
        {
          "output_type": "stream",
          "name": "stdout",
          "text": [
            "Looking in indexes: https://pypi.org/simple, https://us-python.pkg.dev/colab-wheels/public/simple/\n",
            "Requirement already satisfied: pillow in /usr/local/lib/python3.8/dist-packages (7.1.2)\n"
          ]
        }
      ]
    },
    {
      "cell_type": "code",
      "source": [
        "from PIL import Image"
      ],
      "metadata": {
        "id": "INTPmiO7Lnnz"
      },
      "execution_count": null,
      "outputs": []
    },
    {
      "cell_type": "code",
      "source": [
        "import pandas as pd\n",
        "data_fram=pd.read_csv('World Cup 2018 Dataset.csv')"
      ],
      "metadata": {
        "id": "If2_iqyXO0su",
        "colab": {
          "base_uri": "https://localhost:8080/",
          "height": 360
        },
        "outputId": "f5062319-42c0-415c-bf9a-8d3fd6eeaed8"
      },
      "execution_count": 4,
      "outputs": [
        {
          "output_type": "error",
          "ename": "FileNotFoundError",
          "evalue": "ignored",
          "traceback": [
            "\u001b[0;31m---------------------------------------------------------------------------\u001b[0m",
            "\u001b[0;31mFileNotFoundError\u001b[0m                         Traceback (most recent call last)",
            "\u001b[0;32m<ipython-input-4-4c082e74f463>\u001b[0m in \u001b[0;36m<module>\u001b[0;34m\u001b[0m\n\u001b[1;32m      1\u001b[0m \u001b[0;32mimport\u001b[0m \u001b[0mpandas\u001b[0m \u001b[0;32mas\u001b[0m \u001b[0mpd\u001b[0m\u001b[0;34m\u001b[0m\u001b[0;34m\u001b[0m\u001b[0m\n\u001b[0;32m----> 2\u001b[0;31m \u001b[0mdata_fram\u001b[0m\u001b[0;34m=\u001b[0m\u001b[0mpd\u001b[0m\u001b[0;34m.\u001b[0m\u001b[0mread_csv\u001b[0m\u001b[0;34m(\u001b[0m\u001b[0;34m'World Cup 2018 Dataset.csv'\u001b[0m\u001b[0;34m)\u001b[0m\u001b[0;34m\u001b[0m\u001b[0;34m\u001b[0m\u001b[0m\n\u001b[0m",
            "\u001b[0;32m/usr/local/lib/python3.8/dist-packages/pandas/util/_decorators.py\u001b[0m in \u001b[0;36mwrapper\u001b[0;34m(*args, **kwargs)\u001b[0m\n\u001b[1;32m    309\u001b[0m                     \u001b[0mstacklevel\u001b[0m\u001b[0;34m=\u001b[0m\u001b[0mstacklevel\u001b[0m\u001b[0;34m,\u001b[0m\u001b[0;34m\u001b[0m\u001b[0;34m\u001b[0m\u001b[0m\n\u001b[1;32m    310\u001b[0m                 )\n\u001b[0;32m--> 311\u001b[0;31m             \u001b[0;32mreturn\u001b[0m \u001b[0mfunc\u001b[0m\u001b[0;34m(\u001b[0m\u001b[0;34m*\u001b[0m\u001b[0margs\u001b[0m\u001b[0;34m,\u001b[0m \u001b[0;34m**\u001b[0m\u001b[0mkwargs\u001b[0m\u001b[0;34m)\u001b[0m\u001b[0;34m\u001b[0m\u001b[0;34m\u001b[0m\u001b[0m\n\u001b[0m\u001b[1;32m    312\u001b[0m \u001b[0;34m\u001b[0m\u001b[0m\n\u001b[1;32m    313\u001b[0m         \u001b[0;32mreturn\u001b[0m \u001b[0mwrapper\u001b[0m\u001b[0;34m\u001b[0m\u001b[0;34m\u001b[0m\u001b[0m\n",
            "\u001b[0;32m/usr/local/lib/python3.8/dist-packages/pandas/io/parsers/readers.py\u001b[0m in \u001b[0;36mread_csv\u001b[0;34m(filepath_or_buffer, sep, delimiter, header, names, index_col, usecols, squeeze, prefix, mangle_dupe_cols, dtype, engine, converters, true_values, false_values, skipinitialspace, skiprows, skipfooter, nrows, na_values, keep_default_na, na_filter, verbose, skip_blank_lines, parse_dates, infer_datetime_format, keep_date_col, date_parser, dayfirst, cache_dates, iterator, chunksize, compression, thousands, decimal, lineterminator, quotechar, quoting, doublequote, escapechar, comment, encoding, encoding_errors, dialect, error_bad_lines, warn_bad_lines, on_bad_lines, delim_whitespace, low_memory, memory_map, float_precision, storage_options)\u001b[0m\n\u001b[1;32m    584\u001b[0m     \u001b[0mkwds\u001b[0m\u001b[0;34m.\u001b[0m\u001b[0mupdate\u001b[0m\u001b[0;34m(\u001b[0m\u001b[0mkwds_defaults\u001b[0m\u001b[0;34m)\u001b[0m\u001b[0;34m\u001b[0m\u001b[0;34m\u001b[0m\u001b[0m\n\u001b[1;32m    585\u001b[0m \u001b[0;34m\u001b[0m\u001b[0m\n\u001b[0;32m--> 586\u001b[0;31m     \u001b[0;32mreturn\u001b[0m \u001b[0m_read\u001b[0m\u001b[0;34m(\u001b[0m\u001b[0mfilepath_or_buffer\u001b[0m\u001b[0;34m,\u001b[0m \u001b[0mkwds\u001b[0m\u001b[0;34m)\u001b[0m\u001b[0;34m\u001b[0m\u001b[0;34m\u001b[0m\u001b[0m\n\u001b[0m\u001b[1;32m    587\u001b[0m \u001b[0;34m\u001b[0m\u001b[0m\n\u001b[1;32m    588\u001b[0m \u001b[0;34m\u001b[0m\u001b[0m\n",
            "\u001b[0;32m/usr/local/lib/python3.8/dist-packages/pandas/io/parsers/readers.py\u001b[0m in \u001b[0;36m_read\u001b[0;34m(filepath_or_buffer, kwds)\u001b[0m\n\u001b[1;32m    480\u001b[0m \u001b[0;34m\u001b[0m\u001b[0m\n\u001b[1;32m    481\u001b[0m     \u001b[0;31m# Create the parser.\u001b[0m\u001b[0;34m\u001b[0m\u001b[0;34m\u001b[0m\u001b[0;34m\u001b[0m\u001b[0m\n\u001b[0;32m--> 482\u001b[0;31m     \u001b[0mparser\u001b[0m \u001b[0;34m=\u001b[0m \u001b[0mTextFileReader\u001b[0m\u001b[0;34m(\u001b[0m\u001b[0mfilepath_or_buffer\u001b[0m\u001b[0;34m,\u001b[0m \u001b[0;34m**\u001b[0m\u001b[0mkwds\u001b[0m\u001b[0;34m)\u001b[0m\u001b[0;34m\u001b[0m\u001b[0;34m\u001b[0m\u001b[0m\n\u001b[0m\u001b[1;32m    483\u001b[0m \u001b[0;34m\u001b[0m\u001b[0m\n\u001b[1;32m    484\u001b[0m     \u001b[0;32mif\u001b[0m \u001b[0mchunksize\u001b[0m \u001b[0;32mor\u001b[0m \u001b[0miterator\u001b[0m\u001b[0;34m:\u001b[0m\u001b[0;34m\u001b[0m\u001b[0;34m\u001b[0m\u001b[0m\n",
            "\u001b[0;32m/usr/local/lib/python3.8/dist-packages/pandas/io/parsers/readers.py\u001b[0m in \u001b[0;36m__init__\u001b[0;34m(self, f, engine, **kwds)\u001b[0m\n\u001b[1;32m    809\u001b[0m             \u001b[0mself\u001b[0m\u001b[0;34m.\u001b[0m\u001b[0moptions\u001b[0m\u001b[0;34m[\u001b[0m\u001b[0;34m\"has_index_names\"\u001b[0m\u001b[0;34m]\u001b[0m \u001b[0;34m=\u001b[0m \u001b[0mkwds\u001b[0m\u001b[0;34m[\u001b[0m\u001b[0;34m\"has_index_names\"\u001b[0m\u001b[0;34m]\u001b[0m\u001b[0;34m\u001b[0m\u001b[0;34m\u001b[0m\u001b[0m\n\u001b[1;32m    810\u001b[0m \u001b[0;34m\u001b[0m\u001b[0m\n\u001b[0;32m--> 811\u001b[0;31m         \u001b[0mself\u001b[0m\u001b[0;34m.\u001b[0m\u001b[0m_engine\u001b[0m \u001b[0;34m=\u001b[0m \u001b[0mself\u001b[0m\u001b[0;34m.\u001b[0m\u001b[0m_make_engine\u001b[0m\u001b[0;34m(\u001b[0m\u001b[0mself\u001b[0m\u001b[0;34m.\u001b[0m\u001b[0mengine\u001b[0m\u001b[0;34m)\u001b[0m\u001b[0;34m\u001b[0m\u001b[0;34m\u001b[0m\u001b[0m\n\u001b[0m\u001b[1;32m    812\u001b[0m \u001b[0;34m\u001b[0m\u001b[0m\n\u001b[1;32m    813\u001b[0m     \u001b[0;32mdef\u001b[0m \u001b[0mclose\u001b[0m\u001b[0;34m(\u001b[0m\u001b[0mself\u001b[0m\u001b[0;34m)\u001b[0m\u001b[0;34m:\u001b[0m\u001b[0;34m\u001b[0m\u001b[0;34m\u001b[0m\u001b[0m\n",
            "\u001b[0;32m/usr/local/lib/python3.8/dist-packages/pandas/io/parsers/readers.py\u001b[0m in \u001b[0;36m_make_engine\u001b[0;34m(self, engine)\u001b[0m\n\u001b[1;32m   1038\u001b[0m             )\n\u001b[1;32m   1039\u001b[0m         \u001b[0;31m# error: Too many arguments for \"ParserBase\"\u001b[0m\u001b[0;34m\u001b[0m\u001b[0;34m\u001b[0m\u001b[0;34m\u001b[0m\u001b[0m\n\u001b[0;32m-> 1040\u001b[0;31m         \u001b[0;32mreturn\u001b[0m \u001b[0mmapping\u001b[0m\u001b[0;34m[\u001b[0m\u001b[0mengine\u001b[0m\u001b[0;34m]\u001b[0m\u001b[0;34m(\u001b[0m\u001b[0mself\u001b[0m\u001b[0;34m.\u001b[0m\u001b[0mf\u001b[0m\u001b[0;34m,\u001b[0m \u001b[0;34m**\u001b[0m\u001b[0mself\u001b[0m\u001b[0;34m.\u001b[0m\u001b[0moptions\u001b[0m\u001b[0;34m)\u001b[0m  \u001b[0;31m# type: ignore[call-arg]\u001b[0m\u001b[0;34m\u001b[0m\u001b[0;34m\u001b[0m\u001b[0m\n\u001b[0m\u001b[1;32m   1041\u001b[0m \u001b[0;34m\u001b[0m\u001b[0m\n\u001b[1;32m   1042\u001b[0m     \u001b[0;32mdef\u001b[0m \u001b[0m_failover_to_python\u001b[0m\u001b[0;34m(\u001b[0m\u001b[0mself\u001b[0m\u001b[0;34m)\u001b[0m\u001b[0;34m:\u001b[0m\u001b[0;34m\u001b[0m\u001b[0;34m\u001b[0m\u001b[0m\n",
            "\u001b[0;32m/usr/local/lib/python3.8/dist-packages/pandas/io/parsers/c_parser_wrapper.py\u001b[0m in \u001b[0;36m__init__\u001b[0;34m(self, src, **kwds)\u001b[0m\n\u001b[1;32m     49\u001b[0m \u001b[0;34m\u001b[0m\u001b[0m\n\u001b[1;32m     50\u001b[0m         \u001b[0;31m# open handles\u001b[0m\u001b[0;34m\u001b[0m\u001b[0;34m\u001b[0m\u001b[0;34m\u001b[0m\u001b[0m\n\u001b[0;32m---> 51\u001b[0;31m         \u001b[0mself\u001b[0m\u001b[0;34m.\u001b[0m\u001b[0m_open_handles\u001b[0m\u001b[0;34m(\u001b[0m\u001b[0msrc\u001b[0m\u001b[0;34m,\u001b[0m \u001b[0mkwds\u001b[0m\u001b[0;34m)\u001b[0m\u001b[0;34m\u001b[0m\u001b[0;34m\u001b[0m\u001b[0m\n\u001b[0m\u001b[1;32m     52\u001b[0m         \u001b[0;32massert\u001b[0m \u001b[0mself\u001b[0m\u001b[0;34m.\u001b[0m\u001b[0mhandles\u001b[0m \u001b[0;32mis\u001b[0m \u001b[0;32mnot\u001b[0m \u001b[0;32mNone\u001b[0m\u001b[0;34m\u001b[0m\u001b[0;34m\u001b[0m\u001b[0m\n\u001b[1;32m     53\u001b[0m \u001b[0;34m\u001b[0m\u001b[0m\n",
            "\u001b[0;32m/usr/local/lib/python3.8/dist-packages/pandas/io/parsers/base_parser.py\u001b[0m in \u001b[0;36m_open_handles\u001b[0;34m(self, src, kwds)\u001b[0m\n\u001b[1;32m    220\u001b[0m         \u001b[0mLet\u001b[0m \u001b[0mthe\u001b[0m \u001b[0mreaders\u001b[0m \u001b[0mopen\u001b[0m \u001b[0mIOHandles\u001b[0m \u001b[0mafter\u001b[0m \u001b[0mthey\u001b[0m \u001b[0mare\u001b[0m \u001b[0mdone\u001b[0m \u001b[0;32mwith\u001b[0m \u001b[0mtheir\u001b[0m \u001b[0mpotential\u001b[0m \u001b[0mraises\u001b[0m\u001b[0;34m.\u001b[0m\u001b[0;34m\u001b[0m\u001b[0;34m\u001b[0m\u001b[0m\n\u001b[1;32m    221\u001b[0m         \"\"\"\n\u001b[0;32m--> 222\u001b[0;31m         self.handles = get_handle(\n\u001b[0m\u001b[1;32m    223\u001b[0m             \u001b[0msrc\u001b[0m\u001b[0;34m,\u001b[0m\u001b[0;34m\u001b[0m\u001b[0;34m\u001b[0m\u001b[0m\n\u001b[1;32m    224\u001b[0m             \u001b[0;34m\"r\"\u001b[0m\u001b[0;34m,\u001b[0m\u001b[0;34m\u001b[0m\u001b[0;34m\u001b[0m\u001b[0m\n",
            "\u001b[0;32m/usr/local/lib/python3.8/dist-packages/pandas/io/common.py\u001b[0m in \u001b[0;36mget_handle\u001b[0;34m(path_or_buf, mode, encoding, compression, memory_map, is_text, errors, storage_options)\u001b[0m\n\u001b[1;32m    700\u001b[0m         \u001b[0;32mif\u001b[0m \u001b[0mioargs\u001b[0m\u001b[0;34m.\u001b[0m\u001b[0mencoding\u001b[0m \u001b[0;32mand\u001b[0m \u001b[0;34m\"b\"\u001b[0m \u001b[0;32mnot\u001b[0m \u001b[0;32min\u001b[0m \u001b[0mioargs\u001b[0m\u001b[0;34m.\u001b[0m\u001b[0mmode\u001b[0m\u001b[0;34m:\u001b[0m\u001b[0;34m\u001b[0m\u001b[0;34m\u001b[0m\u001b[0m\n\u001b[1;32m    701\u001b[0m             \u001b[0;31m# Encoding\u001b[0m\u001b[0;34m\u001b[0m\u001b[0;34m\u001b[0m\u001b[0;34m\u001b[0m\u001b[0m\n\u001b[0;32m--> 702\u001b[0;31m             handle = open(\n\u001b[0m\u001b[1;32m    703\u001b[0m                 \u001b[0mhandle\u001b[0m\u001b[0;34m,\u001b[0m\u001b[0;34m\u001b[0m\u001b[0;34m\u001b[0m\u001b[0m\n\u001b[1;32m    704\u001b[0m                 \u001b[0mioargs\u001b[0m\u001b[0;34m.\u001b[0m\u001b[0mmode\u001b[0m\u001b[0;34m,\u001b[0m\u001b[0;34m\u001b[0m\u001b[0;34m\u001b[0m\u001b[0m\n",
            "\u001b[0;31mFileNotFoundError\u001b[0m: [Errno 2] No such file or directory: 'World Cup 2018 Dataset.csv'"
          ]
        }
      ]
    },
    {
      "cell_type": "code",
      "source": [
        "import pandas as pd\n",
        "data_fram=pd.read_csv('/World Cup 2018 Dataset.csv')"
      ],
      "metadata": {
        "id": "F9Q-FSfcBUgF"
      },
      "execution_count": 8,
      "outputs": []
    },
    {
      "cell_type": "code",
      "source": [
        "from PIL import Image\n",
        "img=Image.open('/fifa.jpg')\n",
        "print(img.format)"
      ],
      "metadata": {
        "colab": {
          "base_uri": "https://localhost:8080/"
        },
        "id": "GPOTgUGaRGIb",
        "outputId": "b194d66c-1d0c-4ff2-f54a-28daceae7dfd"
      },
      "execution_count": 9,
      "outputs": [
        {
          "output_type": "stream",
          "name": "stdout",
          "text": [
            "JPEG\n"
          ]
        }
      ]
    },
    {
      "cell_type": "code",
      "source": [
        "from PIL import Image\n",
        "img=Image.open('/fifa.jpg')\n",
        "print(img)"
      ],
      "metadata": {
        "colab": {
          "base_uri": "https://localhost:8080/"
        },
        "id": "yTypTAANV6xg",
        "outputId": "e0fd2eb1-a957-48d7-fcdf-069863043520"
      },
      "execution_count": 10,
      "outputs": [
        {
          "output_type": "stream",
          "name": "stdout",
          "text": [
            "<PIL.JpegImagePlugin.JpegImageFile image mode=RGB size=1800x379 at 0x7F25A5344F40>\n"
          ]
        }
      ]
    },
    {
      "cell_type": "code",
      "source": [
        "from PIL import Image\n",
        "img=Image.open('/fifa.jpg')\n",
        "print(img.size)"
      ],
      "metadata": {
        "colab": {
          "base_uri": "https://localhost:8080/"
        },
        "id": "7-7nYBbndTkQ",
        "outputId": "2c8caf38-2bd4-438c-a32a-41aa5fa022fc"
      },
      "execution_count": 11,
      "outputs": [
        {
          "output_type": "stream",
          "name": "stdout",
          "text": [
            "(1800, 379)\n"
          ]
        }
      ]
    },
    {
      "cell_type": "code",
      "source": [
        "from PIL import Image\n",
        "img=Image.open('/fifa.jpg')\n",
        "print(img.mode)"
      ],
      "metadata": {
        "colab": {
          "base_uri": "https://localhost:8080/"
        },
        "id": "goiyTQPbdahm",
        "outputId": "1b3fb9bc-9413-4bfc-c95b-7e641972a3a4"
      },
      "execution_count": 12,
      "outputs": [
        {
          "output_type": "stream",
          "name": "stdout",
          "text": [
            "RGB\n"
          ]
        }
      ]
    },
    {
      "cell_type": "code",
      "source": [
        "from PIL import Image, ImageFilter\n",
        "img=Image.open('/fifa.jpg')\n",
        "filtered_img=img.filter(ImageFilter.BLUR)\n",
        "filtered_img.save('Blur.png', 'png')"
      ],
      "metadata": {
        "id": "CRfZhdKtdjB5"
      },
      "execution_count": 16,
      "outputs": []
    },
    {
      "cell_type": "code",
      "source": [
        "from PIL import Image, ImageFilter\n",
        "img=Image.open('/fifa.jpg')\n",
        "filtered_img=img.convert('L')\n",
        "filtered_img.save('grey.png', 'png')\n",
        "filtered_img.show()"
      ],
      "metadata": {
        "id": "Vz0zsxyzex63"
      },
      "execution_count": 18,
      "outputs": []
    },
    {
      "cell_type": "code",
      "source": [
        "from PIL import Image, ImageFilter\n",
        "img=Image.open('/fifa.jpg')\n",
        "filtered_img=img.convert('L')\n",
        "crooked=filtered_img.rotate(180)\n",
        "crooked.save('grey.png', 'png')\n"
      ],
      "metadata": {
        "id": "KzDeCAMrifz8"
      },
      "execution_count": 20,
      "outputs": []
    },
    {
      "cell_type": "code",
      "source": [
        "from PIL import Image, ImageFilter\n",
        "img=Image.open('/fifa.jpg')\n",
        "filtered_img=img.convert('L')\n",
        "resize=filtered_img.resize((300,300))\n",
        "resize.save('grey.png', 'png')"
      ],
      "metadata": {
        "id": "f6j_BWYhjB3F"
      },
      "execution_count": 23,
      "outputs": []
    },
    {
      "cell_type": "code",
      "source": [
        "from PIL import Image\n",
        "img=Image.open('/fifa.jpg')\n",
        "print(img.size)"
      ],
      "metadata": {
        "colab": {
          "base_uri": "https://localhost:8080/"
        },
        "id": "85zye_H4jgMX",
        "outputId": "eaa6be75-3773-4670-9a16-cc4f85a29966"
      },
      "execution_count": 24,
      "outputs": [
        {
          "output_type": "stream",
          "name": "stdout",
          "text": [
            "(1800, 379)\n"
          ]
        }
      ]
    },
    {
      "cell_type": "code",
      "source": [
        "from PIL import Image, ImageFilter\n",
        "img=Image.open('/fifaa.jpg')\n",
        "print(img.size)"
      ],
      "metadata": {
        "colab": {
          "base_uri": "https://localhost:8080/"
        },
        "id": "Gv6F2P_oj1Sb",
        "outputId": "5c9db65a-3d06-48bd-9cca-c87ef9764f65"
      },
      "execution_count": 25,
      "outputs": [
        {
          "output_type": "stream",
          "name": "stdout",
          "text": [
            "(1800, 379)\n"
          ]
        }
      ]
    },
    {
      "cell_type": "code",
      "source": [
        "from PIL import Image, ImageFilter\n",
        "img=Image.open('/fifaa.jpg')\n",
        "new_img=img.resize((400,400))\n",
        "new_img.save('thumbnail.jpg')"
      ],
      "metadata": {
        "id": "ALHmD42ZpSdP"
      },
      "execution_count": 26,
      "outputs": []
    },
    {
      "cell_type": "code",
      "source": [
        "import PyPDF2\n",
        "with open ('testt.pdf','rb')as file:\n",
        "  reader=PyPDF2.PdfFileReader(file)\n",
        "  print(Reader.numpages)"
      ],
      "metadata": {
        "colab": {
          "base_uri": "https://localhost:8080/",
          "height": 372
        },
        "id": "lXAVFqxJp5g0",
        "outputId": "0e547395-32d4-47d7-a841-c9539747edd1"
      },
      "execution_count": 35,
      "outputs": [
        {
          "output_type": "error",
          "ename": "ModuleNotFoundError",
          "evalue": "ignored",
          "traceback": [
            "\u001b[0;31m---------------------------------------------------------------------------\u001b[0m",
            "\u001b[0;31mModuleNotFoundError\u001b[0m                       Traceback (most recent call last)",
            "\u001b[0;32m<ipython-input-35-6187645572af>\u001b[0m in \u001b[0;36m<module>\u001b[0;34m\u001b[0m\n\u001b[0;32m----> 1\u001b[0;31m \u001b[0;32mimport\u001b[0m \u001b[0mPyPDF2\u001b[0m\u001b[0;34m\u001b[0m\u001b[0;34m\u001b[0m\u001b[0m\n\u001b[0m\u001b[1;32m      2\u001b[0m \u001b[0;32mwith\u001b[0m \u001b[0mopen\u001b[0m \u001b[0;34m(\u001b[0m\u001b[0;34m'testt.pdf'\u001b[0m\u001b[0;34m,\u001b[0m\u001b[0;34m'rb'\u001b[0m\u001b[0;34m)\u001b[0m\u001b[0;32mas\u001b[0m \u001b[0mfile\u001b[0m\u001b[0;34m:\u001b[0m\u001b[0;34m\u001b[0m\u001b[0;34m\u001b[0m\u001b[0m\n\u001b[1;32m      3\u001b[0m   \u001b[0mreader\u001b[0m\u001b[0;34m=\u001b[0m\u001b[0mPyPDF2\u001b[0m\u001b[0;34m.\u001b[0m\u001b[0mPdfFileReader\u001b[0m\u001b[0;34m(\u001b[0m\u001b[0mfile\u001b[0m\u001b[0;34m)\u001b[0m\u001b[0;34m\u001b[0m\u001b[0;34m\u001b[0m\u001b[0m\n\u001b[1;32m      4\u001b[0m   \u001b[0mprint\u001b[0m\u001b[0;34m(\u001b[0m\u001b[0mReader\u001b[0m\u001b[0;34m.\u001b[0m\u001b[0mnumpages\u001b[0m\u001b[0;34m)\u001b[0m\u001b[0;34m\u001b[0m\u001b[0;34m\u001b[0m\u001b[0m\n",
            "\u001b[0;31mModuleNotFoundError\u001b[0m: No module named 'PyPDF2'",
            "",
            "\u001b[0;31m---------------------------------------------------------------------------\u001b[0;32m\nNOTE: If your import is failing due to a missing package, you can\nmanually install dependencies using either !pip or !apt.\n\nTo view examples of installing some common dependencies, click the\n\"Open Examples\" button below.\n\u001b[0;31m---------------------------------------------------------------------------\u001b[0m\n"
          ],
          "errorDetails": {
            "actions": [
              {
                "action": "open_url",
                "actionText": "Open Examples",
                "url": "/notebooks/snippets/importing_libraries.ipynb"
              }
            ]
          }
        }
      ]
    },
    {
      "cell_type": "code",
      "source": [
        "import PyPDF2\n",
        "with open ('testt.pdf','rb')as file:\n",
        "  reader=PyPDF2.PdfFileReader(file)\n",
        "  print(Reader.numpages)"
      ],
      "metadata": {
        "colab": {
          "base_uri": "https://localhost:8080/",
          "height": 372
        },
        "id": "d517g1lxyWg3",
        "outputId": "a39de301-effd-4f52-afb0-0ef3949fb64b"
      },
      "execution_count": 38,
      "outputs": [
        {
          "output_type": "error",
          "ename": "ModuleNotFoundError",
          "evalue": "ignored",
          "traceback": [
            "\u001b[0;31m---------------------------------------------------------------------------\u001b[0m",
            "\u001b[0;31mModuleNotFoundError\u001b[0m                       Traceback (most recent call last)",
            "\u001b[0;32m<ipython-input-38-6187645572af>\u001b[0m in \u001b[0;36m<module>\u001b[0;34m\u001b[0m\n\u001b[0;32m----> 1\u001b[0;31m \u001b[0;32mimport\u001b[0m \u001b[0mPyPDF2\u001b[0m\u001b[0;34m\u001b[0m\u001b[0;34m\u001b[0m\u001b[0m\n\u001b[0m\u001b[1;32m      2\u001b[0m \u001b[0;32mwith\u001b[0m \u001b[0mopen\u001b[0m \u001b[0;34m(\u001b[0m\u001b[0;34m'testt.pdf'\u001b[0m\u001b[0;34m,\u001b[0m\u001b[0;34m'rb'\u001b[0m\u001b[0;34m)\u001b[0m\u001b[0;32mas\u001b[0m \u001b[0mfile\u001b[0m\u001b[0;34m:\u001b[0m\u001b[0;34m\u001b[0m\u001b[0;34m\u001b[0m\u001b[0m\n\u001b[1;32m      3\u001b[0m   \u001b[0mreader\u001b[0m\u001b[0;34m=\u001b[0m\u001b[0mPyPDF2\u001b[0m\u001b[0;34m.\u001b[0m\u001b[0mPdfFileReader\u001b[0m\u001b[0;34m(\u001b[0m\u001b[0mfile\u001b[0m\u001b[0;34m)\u001b[0m\u001b[0;34m\u001b[0m\u001b[0;34m\u001b[0m\u001b[0m\n\u001b[1;32m      4\u001b[0m   \u001b[0mprint\u001b[0m\u001b[0;34m(\u001b[0m\u001b[0mReader\u001b[0m\u001b[0;34m.\u001b[0m\u001b[0mnumpages\u001b[0m\u001b[0;34m)\u001b[0m\u001b[0;34m\u001b[0m\u001b[0;34m\u001b[0m\u001b[0m\n",
            "\u001b[0;31mModuleNotFoundError\u001b[0m: No module named 'PyPDF2'",
            "",
            "\u001b[0;31m---------------------------------------------------------------------------\u001b[0;32m\nNOTE: If your import is failing due to a missing package, you can\nmanually install dependencies using either !pip or !apt.\n\nTo view examples of installing some common dependencies, click the\n\"Open Examples\" button below.\n\u001b[0;31m---------------------------------------------------------------------------\u001b[0m\n"
          ],
          "errorDetails": {
            "actions": [
              {
                "action": "open_url",
                "actionText": "Open Examples",
                "url": "/notebooks/snippets/importing_libraries.ipynb"
              }
            ]
          }
        }
      ]
    },
    {
      "cell_type": "code",
      "source": [
        "import PyPDF2\n",
        "template = PyPDF2.PdfFileReader(open('super.pdf', 'rb'))\n",
        "watermark= PyPDF2.PdfFileReader(open('wtr.pdf', 'rb'))\n",
        "output = PyPDF2.PdfFileWriter()\n",
        "for i in range(template.getNumPages()):\n",
        "  page = template.getPage(i)\n",
        "  page.mergePage(watermark.getPage(0))\n",
        "  output.addPage(page)\n",
        "  with open('watermarked_output.pdf', 'wb') as file:\n",
        "    output.write(file)"
      ],
      "metadata": {
        "colab": {
          "base_uri": "https://localhost:8080/",
          "height": 391
        },
        "id": "oLCFq71Y1pQe",
        "outputId": "4d5f826c-1faf-4ea5-f384-43ce8123da13"
      },
      "execution_count": 40,
      "outputs": [
        {
          "output_type": "error",
          "ename": "ModuleNotFoundError",
          "evalue": "ignored",
          "traceback": [
            "\u001b[0;31m---------------------------------------------------------------------------\u001b[0m",
            "\u001b[0;31mModuleNotFoundError\u001b[0m                       Traceback (most recent call last)",
            "\u001b[0;32m<ipython-input-40-36c99a1da94e>\u001b[0m in \u001b[0;36m<module>\u001b[0;34m\u001b[0m\n\u001b[0;32m----> 1\u001b[0;31m \u001b[0;32mimport\u001b[0m \u001b[0mPyPDF2\u001b[0m\u001b[0;34m\u001b[0m\u001b[0;34m\u001b[0m\u001b[0m\n\u001b[0m\u001b[1;32m      2\u001b[0m \u001b[0mtemplate\u001b[0m \u001b[0;34m=\u001b[0m \u001b[0mPyPDF2\u001b[0m\u001b[0;34m.\u001b[0m\u001b[0mPdfFileReader\u001b[0m\u001b[0;34m(\u001b[0m\u001b[0mopen\u001b[0m\u001b[0;34m(\u001b[0m\u001b[0;34m'super.pdf'\u001b[0m\u001b[0;34m,\u001b[0m \u001b[0;34m'rb'\u001b[0m\u001b[0;34m)\u001b[0m\u001b[0;34m)\u001b[0m\u001b[0;34m\u001b[0m\u001b[0;34m\u001b[0m\u001b[0m\n\u001b[1;32m      3\u001b[0m \u001b[0mwatermark\u001b[0m\u001b[0;34m=\u001b[0m \u001b[0mPyPDF2\u001b[0m\u001b[0;34m.\u001b[0m\u001b[0mPdfFileReader\u001b[0m\u001b[0;34m(\u001b[0m\u001b[0mopen\u001b[0m\u001b[0;34m(\u001b[0m\u001b[0;34m'wtr.pdf'\u001b[0m\u001b[0;34m,\u001b[0m \u001b[0;34m'rb'\u001b[0m\u001b[0;34m)\u001b[0m\u001b[0;34m)\u001b[0m\u001b[0;34m\u001b[0m\u001b[0;34m\u001b[0m\u001b[0m\n\u001b[1;32m      4\u001b[0m \u001b[0moutput\u001b[0m \u001b[0;34m=\u001b[0m \u001b[0mPyPDF2\u001b[0m\u001b[0;34m.\u001b[0m\u001b[0mPdfFileWriter\u001b[0m\u001b[0;34m(\u001b[0m\u001b[0;34m)\u001b[0m\u001b[0;34m\u001b[0m\u001b[0;34m\u001b[0m\u001b[0m\n\u001b[1;32m      5\u001b[0m \u001b[0;32mfor\u001b[0m \u001b[0mi\u001b[0m \u001b[0;32min\u001b[0m \u001b[0mrange\u001b[0m\u001b[0;34m(\u001b[0m\u001b[0mtemplate\u001b[0m\u001b[0;34m.\u001b[0m\u001b[0mgetNumPages\u001b[0m\u001b[0;34m(\u001b[0m\u001b[0;34m)\u001b[0m\u001b[0;34m)\u001b[0m\u001b[0;34m:\u001b[0m\u001b[0;34m\u001b[0m\u001b[0;34m\u001b[0m\u001b[0m\n",
            "\u001b[0;31mModuleNotFoundError\u001b[0m: No module named 'PyPDF2'",
            "",
            "\u001b[0;31m---------------------------------------------------------------------------\u001b[0;32m\nNOTE: If your import is failing due to a missing package, you can\nmanually install dependencies using either !pip or !apt.\n\nTo view examples of installing some common dependencies, click the\n\"Open Examples\" button below.\n\u001b[0;31m---------------------------------------------------------------------------\u001b[0m\n"
          ],
          "errorDetails": {
            "actions": [
              {
                "action": "open_url",
                "actionText": "Open Examples",
                "url": "/notebooks/snippets/importing_libraries.ipynb"
              }
            ]
          }
        }
      ]
    },
    {
      "cell_type": "code",
      "source": [
        "import smtplib\n",
        "from email. message import EmailMessage\n",
        "email = EmailMessage()\n",
        "email['from'] = 'Andrei Neagoie'\n",
        "email['to'] = 'andrei@zerotomastery.io'\n",
        "email ['subject'] = 'You won 1,000,000 dollars!'\n",
        "email.set_content('I am a Python Master!')\n",
        "\n",
        "with smtplib. SMTP(host='smtp.gmail.com', port=587) as smtp:\n",
        "\n",
        "  smtp.ehlo()\n",
        "\n",
        "  smtp.starttls()\n",
        "\n",
        "  smtp.login('zerotomastery1@gmail.com', 'helloztmmyoldfriend1')\n",
        "  smtp.send message (email)\n",
        "\n",
        "  print('all good boss!')"
      ],
      "metadata": {
        "id": "Ph-2wrHeGviE",
        "outputId": "27b9a7f5-f187-4b29-84dd-adcb90fbd0b0",
        "colab": {
          "base_uri": "https://localhost:8080/",
          "height": 135
        }
      },
      "execution_count": 42,
      "outputs": [
        {
          "output_type": "error",
          "ename": "SyntaxError",
          "evalue": "ignored",
          "traceback": [
            "\u001b[0;36m  File \u001b[0;32m\"<ipython-input-42-b6bc65906fea>\"\u001b[0;36m, line \u001b[0;32m16\u001b[0m\n\u001b[0;31m    smtp.send message (email)\u001b[0m\n\u001b[0m              ^\u001b[0m\n\u001b[0;31mSyntaxError\u001b[0m\u001b[0;31m:\u001b[0m invalid syntax\n"
          ]
        }
      ]
    },
    {
      "cell_type": "code",
      "source": [],
      "metadata": {
        "id": "HpCQhijaW_VJ"
      },
      "execution_count": null,
      "outputs": []
    }
  ]
}