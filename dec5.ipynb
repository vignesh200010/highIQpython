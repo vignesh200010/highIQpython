{
  "nbformat": 4,
  "nbformat_minor": 0,
  "metadata": {
    "colab": {
      "provenance": [],
      "authorship_tag": "ABX9TyNvEko9rYNXJAx+IR8IZsga",
      "include_colab_link": true
    },
    "kernelspec": {
      "name": "python3",
      "display_name": "Python 3"
    },
    "language_info": {
      "name": "python"
    }
  },
  "cells": [
    {
      "cell_type": "markdown",
      "metadata": {
        "id": "view-in-github",
        "colab_type": "text"
      },
      "source": [
        "<a href=\"https://colab.research.google.com/github/vignesh200010/highIQpython/blob/main/dec5.ipynb\" target=\"_parent\"><img src=\"https://colab.research.google.com/assets/colab-badge.svg\" alt=\"Open In Colab\"/></a>"
      ]
    },
    {
      "cell_type": "code",
      "execution_count": null,
      "metadata": {
        "colab": {
          "base_uri": "https://localhost:8080/"
        },
        "id": "EE-O8j5iZ7b4",
        "outputId": "33397259-2105-4c53-c4e8-7e1227333d0a"
      },
      "outputs": [
        {
          "output_type": "stream",
          "name": "stdout",
          "text": [
            "True\n"
          ]
        }
      ],
      "source": [
        "\n",
        "print('a'>'A')"
      ]
    },
    {
      "cell_type": "code",
      "source": [
        "print('A'>'a')"
      ],
      "metadata": {
        "colab": {
          "base_uri": "https://localhost:8080/"
        },
        "id": "BiAVqhXLhvMl",
        "outputId": "ac7c7591-bb6d-4cd6-bd78-c2bc5bc68777"
      },
      "execution_count": null,
      "outputs": [
        {
          "output_type": "stream",
          "name": "stdout",
          "text": [
            "False\n"
          ]
        }
      ]
    },
    {
      "cell_type": "code",
      "source": [
        "print(1<2<3<4)"
      ],
      "metadata": {
        "colab": {
          "base_uri": "https://localhost:8080/"
        },
        "id": "11OiPvnNhx_e",
        "outputId": "4eb050a8-31dc-432e-8d48-5775cd921d76"
      },
      "execution_count": null,
      "outputs": [
        {
          "output_type": "stream",
          "name": "stdout",
          "text": [
            "True\n"
          ]
        }
      ]
    },
    {
      "cell_type": "code",
      "source": [
        "print(1<2>3<4)"
      ],
      "metadata": {
        "colab": {
          "base_uri": "https://localhost:8080/"
        },
        "id": "BJRl1q4Kh-WT",
        "outputId": "06013545-97a6-4909-83d0-fc7b45535bd1"
      },
      "execution_count": null,
      "outputs": [
        {
          "output_type": "stream",
          "name": "stdout",
          "text": [
            "False\n"
          ]
        }
      ]
    },
    {
      "cell_type": "code",
      "source": [
        "print(1<=0)\n"
      ],
      "metadata": {
        "colab": {
          "base_uri": "https://localhost:8080/"
        },
        "id": "oBwjpwYyhxBR",
        "outputId": "0b00db2f-746b-4538-b248-a1ddcef7280a"
      },
      "execution_count": null,
      "outputs": [
        {
          "output_type": "stream",
          "name": "stdout",
          "text": [
            "False\n"
          ]
        }
      ]
    },
    {
      "cell_type": "code",
      "source": [
        "magician=True\n",
        "expert=True\n",
        "if expert and magician:\n",
        "  print('you are master magician')\n",
        "elif magician or not expert:\n",
        "  print('your almost there')\n",
        "elif not magician:\n",
        "  print('magical powers you need')"
      ],
      "metadata": {
        "colab": {
          "base_uri": "https://localhost:8080/"
        },
        "id": "vDAi7ne-iGyO",
        "outputId": "b7ed3046-8afc-40ed-a488-a8481a53ed4a"
      },
      "execution_count": null,
      "outputs": [
        {
          "output_type": "stream",
          "name": "stdout",
          "text": [
            "you are master magician\n"
          ]
        }
      ]
    },
    {
      "cell_type": "code",
      "source": [
        "print(True==1)"
      ],
      "metadata": {
        "colab": {
          "base_uri": "https://localhost:8080/"
        },
        "id": "DInYuFtbil2O",
        "outputId": "5f9606d3-020e-4609-bb3b-03bb0673c4cd"
      },
      "execution_count": null,
      "outputs": [
        {
          "output_type": "stream",
          "name": "stdout",
          "text": [
            "True\n"
          ]
        }
      ]
    },
    {
      "cell_type": "code",
      "source": [
        "print(''==1)\n",
        "print(10==10.0)"
      ],
      "metadata": {
        "colab": {
          "base_uri": "https://localhost:8080/"
        },
        "id": "yidiXuz6lZSW",
        "outputId": "359f8f0f-2dec-4a5c-d131-0f314d4f3d0a"
      },
      "execution_count": null,
      "outputs": [
        {
          "output_type": "stream",
          "name": "stdout",
          "text": [
            "False\n",
            "True\n"
          ]
        }
      ]
    },
    {
      "cell_type": "code",
      "source": [
        "print([]==1)\n",
        "print([]==[])"
      ],
      "metadata": {
        "colab": {
          "base_uri": "https://localhost:8080/"
        },
        "id": "ggevlzfglcgr",
        "outputId": "a7cd4e17-9a8f-402c-cde5-190df8fd19c5"
      },
      "execution_count": null,
      "outputs": [
        {
          "output_type": "stream",
          "name": "stdout",
          "text": [
            "False\n",
            "True\n"
          ]
        }
      ]
    },
    {
      "cell_type": "code",
      "source": [
        "print(True is 1)\n",
        "\n"
      ],
      "metadata": {
        "colab": {
          "base_uri": "https://localhost:8080/"
        },
        "id": "uZlOGma5lotM",
        "outputId": "e4c84fd4-9e83-4ed5-e95d-e8d3fd240f61"
      },
      "execution_count": null,
      "outputs": [
        {
          "output_type": "stream",
          "name": "stdout",
          "text": [
            "False\n"
          ]
        },
        {
          "output_type": "stream",
          "name": "stderr",
          "text": [
            "<>:1: SyntaxWarning: \"is\" with a literal. Did you mean \"==\"?\n",
            "<>:1: SyntaxWarning: \"is\" with a literal. Did you mean \"==\"?\n",
            "<ipython-input-21-1c207cc444c6>:1: SyntaxWarning: \"is\" with a literal. Did you mean \"==\"?\n",
            "  print(True is 1)\n"
          ]
        }
      ]
    },
    {
      "cell_type": "code",
      "source": [
        "print([] is [])\n"
      ],
      "metadata": {
        "colab": {
          "base_uri": "https://localhost:8080/"
        },
        "id": "dtWJREFBnuoO",
        "outputId": "f077e429-3be2-451f-8ad1-aa690ed98434"
      },
      "execution_count": null,
      "outputs": [
        {
          "output_type": "stream",
          "name": "stdout",
          "text": [
            "False\n"
          ]
        }
      ]
    },
    {
      "cell_type": "code",
      "source": [
        "print('1' is '1')\n"
      ],
      "metadata": {
        "colab": {
          "base_uri": "https://localhost:8080/"
        },
        "id": "qwozLlUMn9ig",
        "outputId": "8fae2877-78fc-4d81-9822-0e4fc5b85427"
      },
      "execution_count": null,
      "outputs": [
        {
          "output_type": "stream",
          "name": "stdout",
          "text": [
            "True\n"
          ]
        },
        {
          "output_type": "stream",
          "name": "stderr",
          "text": [
            "<>:1: SyntaxWarning: \"is\" with a literal. Did you mean \"==\"?\n",
            "<>:1: SyntaxWarning: \"is\" with a literal. Did you mean \"==\"?\n",
            "<ipython-input-22-cb4e44872f57>:1: SyntaxWarning: \"is\" with a literal. Did you mean \"==\"?\n",
            "  print('1' is '1')\n"
          ]
        }
      ]
    },
    {
      "cell_type": "code",
      "source": [
        "\n",
        "print(10 is 10.0)"
      ],
      "metadata": {
        "colab": {
          "base_uri": "https://localhost:8080/"
        },
        "id": "LtISlUdbn_f2",
        "outputId": "2f5f2226-835e-4464-ac89-f9a0da4e0790"
      },
      "execution_count": null,
      "outputs": [
        {
          "output_type": "stream",
          "name": "stdout",
          "text": [
            "False\n"
          ]
        },
        {
          "output_type": "stream",
          "name": "stderr",
          "text": [
            "<>:1: SyntaxWarning: \"is\" with a literal. Did you mean \"==\"?\n",
            "<>:1: SyntaxWarning: \"is\" with a literal. Did you mean \"==\"?\n",
            "<ipython-input-18-df67ef584aac>:1: SyntaxWarning: \"is\" with a literal. Did you mean \"==\"?\n",
            "  print(10 is 10.0)\n"
          ]
        }
      ]
    },
    {
      "cell_type": "code",
      "source": [
        "a=[1,2,3]\n",
        "b=[1,2,3]\n",
        "print(a is b)"
      ],
      "metadata": {
        "colab": {
          "base_uri": "https://localhost:8080/"
        },
        "id": "SRINQQAUnjin",
        "outputId": "8a6a870d-0b48-4bbe-8d82-2328b47d8148"
      },
      "execution_count": null,
      "outputs": [
        {
          "output_type": "stream",
          "name": "stdout",
          "text": [
            "False\n"
          ]
        }
      ]
    },
    {
      "cell_type": "code",
      "source": [
        "for item in 'zero to mastery':\n",
        "  print(item)"
      ],
      "metadata": {
        "colab": {
          "base_uri": "https://localhost:8080/"
        },
        "id": "k08nRIlDnp0h",
        "outputId": "c5c0c5a2-d230-4a57-980a-86c00e2c98f2"
      },
      "execution_count": null,
      "outputs": [
        {
          "output_type": "stream",
          "name": "stdout",
          "text": [
            "z\n",
            "e\n",
            "r\n",
            "o\n",
            " \n",
            "t\n",
            "o\n",
            " \n",
            "m\n",
            "a\n",
            "s\n",
            "t\n",
            "e\n",
            "r\n",
            "y\n"
          ]
        }
      ]
    },
    {
      "cell_type": "code",
      "source": [
        "for item in [1,2,3,4,5]:\n",
        "  print(item)"
      ],
      "metadata": {
        "colab": {
          "base_uri": "https://localhost:8080/"
        },
        "id": "xTdVGT43pPW4",
        "outputId": "c2ecc9c6-4890-4ea0-97a3-1eab0afc7a3c"
      },
      "execution_count": null,
      "outputs": [
        {
          "output_type": "stream",
          "name": "stdout",
          "text": [
            "1\n",
            "2\n",
            "3\n",
            "4\n",
            "5\n"
          ]
        }
      ]
    },
    {
      "cell_type": "code",
      "source": [
        "for item in {1,2,3,4,5}:\n",
        "  print(item)"
      ],
      "metadata": {
        "colab": {
          "base_uri": "https://localhost:8080/"
        },
        "id": "PuZd-VFmpb2q",
        "outputId": "4c9a764b-5486-4e0e-d28c-28fef3017650"
      },
      "execution_count": null,
      "outputs": [
        {
          "output_type": "stream",
          "name": "stdout",
          "text": [
            "1\n",
            "2\n",
            "3\n",
            "4\n",
            "5\n"
          ]
        }
      ]
    },
    {
      "cell_type": "code",
      "source": [
        "for item in (1,2,3,4,5):\n",
        "  print(item)"
      ],
      "metadata": {
        "colab": {
          "base_uri": "https://localhost:8080/"
        },
        "id": "-BEYOxERpf9l",
        "outputId": "6af20a11-13e0-46b3-a10c-d5c382e27c37"
      },
      "execution_count": null,
      "outputs": [
        {
          "output_type": "stream",
          "name": "stdout",
          "text": [
            "1\n",
            "2\n",
            "3\n",
            "4\n",
            "5\n"
          ]
        }
      ]
    },
    {
      "cell_type": "code",
      "source": [
        "for item in (1,2,3,4,5):\n",
        "  for x in ['a','b','c']:\n",
        "    print(item,x)"
      ],
      "metadata": {
        "colab": {
          "base_uri": "https://localhost:8080/"
        },
        "id": "RsQk6VFprATU",
        "outputId": "d138ccc7-21e9-4d07-f382-e35513ebea25"
      },
      "execution_count": null,
      "outputs": [
        {
          "output_type": "stream",
          "name": "stdout",
          "text": [
            "1 a\n",
            "1 b\n",
            "1 c\n",
            "2 a\n",
            "2 b\n",
            "2 c\n",
            "3 a\n",
            "3 b\n",
            "3 c\n",
            "4 a\n",
            "4 b\n",
            "4 c\n",
            "5 a\n",
            "5 b\n",
            "5 c\n"
          ]
        }
      ]
    },
    {
      "cell_type": "code",
      "source": [
        "user={\n",
        "    'name':'golem',\n",
        "    'age':5006,\n",
        "    'can_swim':False\n",
        "}\n",
        "for item in user.items():\n",
        "  print(item)\n",
        "for item in user.keys():\n",
        "  print(item)\n",
        "for item in user.values():\n",
        "  print(item)"
      ],
      "metadata": {
        "colab": {
          "base_uri": "https://localhost:8080/"
        },
        "outputId": "22526690-dba8-44bc-a617-1d87f4296351",
        "id": "2rqMdD9SrAmi"
      },
      "execution_count": null,
      "outputs": [
        {
          "output_type": "stream",
          "name": "stdout",
          "text": [
            "('name', 'golem')\n",
            "('age', 5006)\n",
            "('can_swim', False)\n",
            "name\n",
            "age\n",
            "can_swim\n",
            "golem\n",
            "5006\n",
            "False\n"
          ]
        }
      ]
    },
    {
      "cell_type": "code",
      "source": [
        "user={\n",
        "    'name':'golem',\n",
        "    'age':5006,\n",
        "    'can_swim':False\n",
        "}\n",
        "for item in user.items():\n",
        "  key,value=item;\n",
        "  print(key,value)"
      ],
      "metadata": {
        "colab": {
          "base_uri": "https://localhost:8080/"
        },
        "id": "70Df0vuks0_i",
        "outputId": "82d5b86d-97b8-4b9d-9c8b-31dd1ab16103"
      },
      "execution_count": null,
      "outputs": [
        {
          "output_type": "stream",
          "name": "stdout",
          "text": [
            "name golem\n",
            "age 5006\n",
            "can_swim False\n"
          ]
        }
      ]
    },
    {
      "cell_type": "code",
      "source": [
        "user={\n",
        "    'name':'golem',\n",
        "    'age':5006,\n",
        "    'can_swim':False\n",
        "}\n",
        "for key,value in user.items():\n",
        " \n",
        "  print(key,value)"
      ],
      "metadata": {
        "colab": {
          "base_uri": "https://localhost:8080/"
        },
        "id": "wZ48nlbqt79F",
        "outputId": "1268a596-d5a7-4ee8-f535-781ab179aa97"
      },
      "execution_count": null,
      "outputs": [
        {
          "output_type": "stream",
          "name": "stdout",
          "text": [
            "name golem\n",
            "age 5006\n",
            "can_swim False\n"
          ]
        }
      ]
    },
    {
      "cell_type": "code",
      "source": [
        "my_list=[1,2,3,4,5,6,7,8,9,10]\n",
        "count=0\n",
        "for x in my_list:\n",
        "  count=count+x\n",
        "print(count)"
      ],
      "metadata": {
        "colab": {
          "base_uri": "https://localhost:8080/"
        },
        "id": "R2E3PRXqtvrS",
        "outputId": "71635f63-e981-4270-95ba-56733b2d9c11"
      },
      "execution_count": null,
      "outputs": [
        {
          "output_type": "stream",
          "name": "stdout",
          "text": [
            "55\n"
          ]
        }
      ]
    },
    {
      "cell_type": "code",
      "source": [
        "for x in range(0,10):\n",
        "  print(x)a"
      ],
      "metadata": {
        "colab": {
          "base_uri": "https://localhost:8080/"
        },
        "id": "28cOvpyrxeaM",
        "outputId": "94a67470-b30a-491b-9bf5-b485b1a62cad"
      },
      "execution_count": null,
      "outputs": [
        {
          "output_type": "stream",
          "name": "stdout",
          "text": [
            "0\n",
            "1\n",
            "2\n",
            "3\n",
            "4\n",
            "5\n",
            "6\n",
            "7\n",
            "8\n",
            "9\n"
          ]
        }
      ]
    },
    {
      "cell_type": "code",
      "source": [
        "for x in range(10,0,-1):\n",
        "  print (x)\n"
      ],
      "metadata": {
        "colab": {
          "base_uri": "https://localhost:8080/"
        },
        "id": "X9rt_AW7yRm7",
        "outputId": "2c28e2c1-e39b-427d-aef2-0ee4e7527dda"
      },
      "execution_count": null,
      "outputs": [
        {
          "output_type": "stream",
          "name": "stdout",
          "text": [
            "10\n",
            "9\n",
            "8\n",
            "7\n",
            "6\n",
            "5\n",
            "4\n",
            "3\n",
            "2\n",
            "1\n"
          ]
        }
      ]
    },
    {
      "cell_type": "code",
      "source": [
        "for x in range(5):\n",
        "  print (list(range(10)))"
      ],
      "metadata": {
        "colab": {
          "base_uri": "https://localhost:8080/"
        },
        "id": "sHPZzI7zzdpa",
        "outputId": "a0290561-0116-4d4f-fd90-e28d18b84b97"
      },
      "execution_count": null,
      "outputs": [
        {
          "output_type": "stream",
          "name": "stdout",
          "text": [
            "[0, 1, 2, 3, 4, 5, 6, 7, 8, 9]\n",
            "[0, 1, 2, 3, 4, 5, 6, 7, 8, 9]\n",
            "[0, 1, 2, 3, 4, 5, 6, 7, 8, 9]\n",
            "[0, 1, 2, 3, 4, 5, 6, 7, 8, 9]\n",
            "[0, 1, 2, 3, 4, 5, 6, 7, 8, 9]\n"
          ]
        }
      ]
    },
    {
      "cell_type": "code",
      "source": [
        "for x,y in enumerate ('hello'):\n",
        "  print (x,y)"
      ],
      "metadata": {
        "colab": {
          "base_uri": "https://localhost:8080/"
        },
        "id": "s7JztqqTy8aC",
        "outputId": "dfd28129-5ece-4e92-dfee-bd16ef5059d9"
      },
      "execution_count": null,
      "outputs": [
        {
          "output_type": "stream",
          "name": "stdout",
          "text": [
            "0 h\n",
            "1 e\n",
            "2 l\n",
            "3 l\n",
            "4 o\n"
          ]
        }
      ]
    },
    {
      "cell_type": "code",
      "source": [
        "for x,y in enumerate (list(range(100))):\n",
        "  if y==50:\n",
        "   print (f'indec of 50 is :{y}') "
      ],
      "metadata": {
        "colab": {
          "base_uri": "https://localhost:8080/"
        },
        "id": "v9O-32k81ZmH",
        "outputId": "84342efc-47db-45ba-e7d6-42beda02c1ef"
      },
      "execution_count": null,
      "outputs": [
        {
          "output_type": "stream",
          "name": "stdout",
          "text": [
            "indec of 50 is :50\n"
          ]
        }
      ]
    },
    {
      "cell_type": "code",
      "source": [
        "i=0\n",
        "while i<50:\n",
        "  print(i)\n",
        "  i=i+1"
      ],
      "metadata": {
        "colab": {
          "base_uri": "https://localhost:8080/"
        },
        "id": "qJaACs-j1dT7",
        "outputId": "27260d79-cd12-45b8-e9b0-cfc668cb8072"
      },
      "execution_count": null,
      "outputs": [
        {
          "output_type": "stream",
          "name": "stdout",
          "text": [
            "0\n",
            "1\n",
            "2\n",
            "3\n",
            "4\n",
            "5\n",
            "6\n",
            "7\n",
            "8\n",
            "9\n",
            "10\n",
            "11\n",
            "12\n",
            "13\n",
            "14\n",
            "15\n",
            "16\n",
            "17\n",
            "18\n",
            "19\n",
            "20\n",
            "21\n",
            "22\n",
            "23\n",
            "24\n",
            "25\n",
            "26\n",
            "27\n",
            "28\n",
            "29\n",
            "30\n",
            "31\n",
            "32\n",
            "33\n",
            "34\n",
            "35\n",
            "36\n",
            "37\n",
            "38\n",
            "39\n",
            "40\n",
            "41\n",
            "42\n",
            "43\n",
            "44\n",
            "45\n",
            "46\n",
            "47\n",
            "48\n",
            "49\n"
          ]
        }
      ]
    },
    {
      "cell_type": "code",
      "source": [
        "i=0\n",
        "while i<=50:\n",
        "  print(i)\n",
        "  i+=1\n",
        "else:\n",
        "  print('done with all the work')"
      ],
      "metadata": {
        "colab": {
          "base_uri": "https://localhost:8080/"
        },
        "id": "_Ab5aEdL2s0m",
        "outputId": "e911fda8-06b0-4b17-9a2b-6450a4f58bfd"
      },
      "execution_count": null,
      "outputs": [
        {
          "output_type": "stream",
          "name": "stdout",
          "text": [
            "0\n",
            "1\n",
            "2\n",
            "3\n",
            "4\n",
            "5\n",
            "6\n",
            "7\n",
            "8\n",
            "9\n",
            "10\n",
            "11\n",
            "12\n",
            "13\n",
            "14\n",
            "15\n",
            "16\n",
            "17\n",
            "18\n",
            "19\n",
            "20\n",
            "21\n",
            "22\n",
            "23\n",
            "24\n",
            "25\n",
            "26\n",
            "27\n",
            "28\n",
            "29\n",
            "30\n",
            "31\n",
            "32\n",
            "33\n",
            "34\n",
            "35\n",
            "36\n",
            "37\n",
            "38\n",
            "39\n",
            "40\n",
            "41\n",
            "42\n",
            "43\n",
            "44\n",
            "45\n",
            "46\n",
            "47\n",
            "48\n",
            "49\n",
            "50\n",
            "done with all the work\n"
          ]
        }
      ]
    },
    {
      "cell_type": "code",
      "source": [
        "mylist=[1,2,3,4]\n",
        "for x in mylist:\n",
        "  print(x)"
      ],
      "metadata": {
        "colab": {
          "base_uri": "https://localhost:8080/"
        },
        "id": "ODqzbfrp222y",
        "outputId": "70aacce2-330a-4483-ca66-e040dc7ad184"
      },
      "execution_count": null,
      "outputs": [
        {
          "output_type": "stream",
          "name": "stdout",
          "text": [
            "1\n",
            "2\n",
            "3\n",
            "4\n"
          ]
        }
      ]
    },
    {
      "cell_type": "code",
      "source": [
        "mylist=[1,2,3,4]\n",
        "i=0\n",
        "while i < len(mylist):\n",
        "  print(mylist[i])\n",
        "  i+=1"
      ],
      "metadata": {
        "colab": {
          "base_uri": "https://localhost:8080/"
        },
        "id": "fN4miGMZ9_mJ",
        "outputId": "cef457e1-90d6-4c96-ff0e-42248069062f"
      },
      "execution_count": null,
      "outputs": [
        {
          "output_type": "stream",
          "name": "stdout",
          "text": [
            "1\n",
            "2\n",
            "3\n",
            "4\n"
          ]
        }
      ]
    },
    {
      "cell_type": "code",
      "source": [
        "while True:\n",
        "  response= input('say something: ')\n",
        "  if (response=='bye'):\n",
        "    break"
      ],
      "metadata": {
        "colab": {
          "base_uri": "https://localhost:8080/"
        },
        "id": "rERxfE-P-MlV",
        "outputId": "5a5d02ff-5905-4589-f69a-d6caafa7fcd9"
      },
      "execution_count": null,
      "outputs": [
        {
          "name": "stdout",
          "output_type": "stream",
          "text": [
            "say something: hi\n"
          ]
        }
      ]
    },
    {
      "cell_type": "code",
      "source": [
        "mylist=[1,2,3,4]\n",
        "for x in mylist:\n",
        "  print(x)\n",
        "  continue\n",
        "\n",
        "i=0\n",
        "while i < len(mylist):\n",
        "  print(mylist[i])\n",
        "  i+=1\n",
        "  continue\n",
        "  "
      ],
      "metadata": {
        "colab": {
          "base_uri": "https://localhost:8080/"
        },
        "id": "1G9vQS6X-4L6",
        "outputId": "675297fd-81f4-4944-f7cc-73ff02cbae96"
      },
      "execution_count": null,
      "outputs": [
        {
          "output_type": "stream",
          "name": "stdout",
          "text": [
            "1\n",
            "2\n",
            "3\n",
            "4\n",
            "1\n",
            "2\n",
            "3\n",
            "4\n"
          ]
        }
      ]
    },
    {
      "cell_type": "code",
      "source": [
        "mylist=[1,2,3,4]\n",
        "for x in mylist:\n",
        "  print(x)\n",
        "  break\n",
        "\n",
        "i=0\n",
        "while i < len(mylist):\n",
        "  print(mylist[i])\n",
        "  i+=1\n",
        "  break\n",
        "  "
      ],
      "metadata": {
        "colab": {
          "base_uri": "https://localhost:8080/"
        },
        "id": "mLrvncSQBEiS",
        "outputId": "f6557427-8e9c-403b-86dd-7c5473737304"
      },
      "execution_count": null,
      "outputs": [
        {
          "output_type": "stream",
          "name": "stdout",
          "text": [
            "1\n",
            "1\n"
          ]
        }
      ]
    },
    {
      "cell_type": "code",
      "source": [
        "mylist=[1,2,3,4]\n",
        "for x in mylist:\n",
        "  print(x)\n",
        "  pass\n",
        "\n",
        "i=0\n",
        "while i < len(mylist):\n",
        "  print(mylist[i])\n",
        "  i+=1\n",
        "  pass"
      ],
      "metadata": {
        "colab": {
          "base_uri": "https://localhost:8080/"
        },
        "id": "0If_EydlBXkF",
        "outputId": "b62274a7-df19-4e4f-cda4-733ab0b44342"
      },
      "execution_count": null,
      "outputs": [
        {
          "output_type": "stream",
          "name": "stdout",
          "text": [
            "1\n",
            "2\n",
            "3\n",
            "4\n",
            "1\n",
            "2\n",
            "3\n",
            "4\n"
          ]
        }
      ]
    },
    {
      "cell_type": "code",
      "source": [
        "picture = [\n",
        "[0,0,0,1,0,0,0],\n",
        "[0,0,1,1,1,0,0],\n",
        "[0,1,1,1,1,1,0],\n",
        "[1,1,1,1,1,1,1],\n",
        "[0,0,0,1,0,0,0],\n",
        "[0,0,0,1,0,0,0]\n",
        "]\n",
        "\n",
        "for row in picture:\n",
        "  for pixel in row:\n",
        "    if (pixel == 1):\n",
        "      print('*',end='')\n",
        "    else:\n",
        "      print(' ',end='')\n",
        "  print()"
      ],
      "metadata": {
        "colab": {
          "base_uri": "https://localhost:8080/"
        },
        "id": "N4nkJvgSBglh",
        "outputId": "66a0dbc8-e1e6-4f7a-e5df-704425041ad4"
      },
      "execution_count": null,
      "outputs": [
        {
          "output_type": "stream",
          "name": "stdout",
          "text": [
            "   *   \n",
            "  ***  \n",
            " ***** \n",
            "*******\n",
            "   *   \n",
            "   *   \n"
          ]
        }
      ]
    },
    {
      "cell_type": "code",
      "source": [
        "picture = [\n",
        "[0,0,0,1,0,0,0],\n",
        "[0,0,1,1,1,0,0],\n",
        "[0,1,1,1,1,1,0],\n",
        "[1,1,1,1,1,1,1],\n",
        "[0,0,0,1,0,0,0],\n",
        "[0,0,0,1,0,0,0]\n",
        "]\n",
        "fill='$'\n",
        "empty=''\n",
        "for row in picture:\n",
        "  for pixel in row:\n",
        "    if(pixel):\n",
        "      print(fill,end='')\n",
        "      print(fill,end='')\n",
        "      print(fill,end='')\n",
        "    else:\n",
        "      print(empty,end='')\n",
        "      print(empty,end='')\n",
        "  print('')\n"
      ],
      "metadata": {
        "colab": {
          "base_uri": "https://localhost:8080/"
        },
        "id": "nz0dequ9Fapu",
        "outputId": "5669cb9f-7cff-49e7-c734-3d8513957838"
      },
      "execution_count": null,
      "outputs": [
        {
          "output_type": "stream",
          "name": "stdout",
          "text": [
            "$$$\n",
            "$$$$$$$$$\n",
            "$$$$$$$$$$$$$$$\n",
            "$$$$$$$$$$$$$$$$$$$$$\n",
            "$$$\n",
            "$$$\n"
          ]
        }
      ]
    },
    {
      "cell_type": "code",
      "source": [
        "mylist=['a','b','c','d','a','b']\n",
        "duplicate=[]\n",
        "for value in mylist:\n",
        "  if mylist.count(value)>1:\n",
        "    if value not in duplicate:\n",
        "      duplicate.append(value)\n",
        "print(duplicate)"
      ],
      "metadata": {
        "colab": {
          "base_uri": "https://localhost:8080/"
        },
        "id": "fVoqRmDcIWv_",
        "outputId": "452053d0-3242-4ee3-eb5c-c7f0d9009cb3"
      },
      "execution_count": null,
      "outputs": [
        {
          "output_type": "stream",
          "name": "stdout",
          "text": [
            "['a', 'b']\n"
          ]
        }
      ]
    },
    {
      "cell_type": "code",
      "source": [
        "picture = [\n",
        "[0,0,0,1,0,0,0],\n",
        "[0,0,1,1,1,0,0],\n",
        "[0,1,1,1,1,1,0],\n",
        "[1,1,1,1,1,1,1],\n",
        "[0,0,0,1,0,0,0],\n",
        "[0,0,0,1,0,0,0]\n",
        "]\n",
        "def hi():\n",
        "  for row in picture:\n",
        "    for pixel in row:\n",
        "      if (pixel == 1):\n",
        "        print('*',end='')\n",
        "      else:\n",
        "        print(' ',end='')\n",
        "    print()\n",
        "hi()\n",
        "hi()"
      ],
      "metadata": {
        "colab": {
          "base_uri": "https://localhost:8080/"
        },
        "id": "kAgNd2sJKKn8",
        "outputId": "20e286df-8cda-40ff-b442-2ed61b152bf2"
      },
      "execution_count": null,
      "outputs": [
        {
          "output_type": "stream",
          "name": "stdout",
          "text": [
            "   *   \n",
            "  ***  \n",
            " ***** \n",
            "*******\n",
            "   *   \n",
            "   *   \n",
            "   *   \n",
            "  ***  \n",
            " ***** \n",
            "*******\n",
            "   *   \n",
            "   *   \n"
          ]
        }
      ]
    },
    {
      "cell_type": "code",
      "source": [
        "def hi(name,emoji):\n",
        "  print(f'helloo {name}{emoji}')\n",
        "hi('aundri','😀')"
      ],
      "metadata": {
        "colab": {
          "base_uri": "https://localhost:8080/"
        },
        "id": "OyOIOsMENfDC",
        "outputId": "283c5126-0200-4570-8739-501847493bae"
      },
      "execution_count": null,
      "outputs": [
        {
          "output_type": "stream",
          "name": "stdout",
          "text": [
            "helloo aundri😀\n"
          ]
        }
      ]
    },
    {
      "cell_type": "code",
      "source": [
        "def hi(name,emoji):\n",
        "  print(f'helloo {name}{emoji}')\n",
        "hi(emoji='😀',name='aundri',)\n",
        "hi(emoji='😀',name='jhon',)"
      ],
      "metadata": {
        "colab": {
          "base_uri": "https://localhost:8080/"
        },
        "id": "iGcUAJvNQawQ",
        "outputId": "f0d30ed1-ebb2-4673-ce9f-d9c782bb6fe8"
      },
      "execution_count": null,
      "outputs": [
        {
          "output_type": "stream",
          "name": "stdout",
          "text": [
            "helloo aundri😀\n",
            "helloo jhon😀\n"
          ]
        }
      ]
    },
    {
      "cell_type": "code",
      "source": [
        "def hi(name='darth vader',emoji='😈'):\n",
        "  print(f'helloo {name}{emoji}')\n",
        "hi(emoji='😀',name='aundri',)\n",
        "hi(emoji='😀',name='jhon',)\n",
        "hi()\n",
        "hi(name='ken',)"
      ],
      "metadata": {
        "colab": {
          "base_uri": "https://localhost:8080/"
        },
        "id": "v-DGslvdRUbX",
        "outputId": "d299a586-031c-4b1f-e236-4a361697390a"
      },
      "execution_count": null,
      "outputs": [
        {
          "output_type": "stream",
          "name": "stdout",
          "text": [
            "helloo aundri😀\n",
            "helloo jhon😀\n",
            "helloo darth vader😈\n",
            "helloo ken😈\n"
          ]
        }
      ]
    },
    {
      "cell_type": "code",
      "source": [
        "def sum(num1,num2):\n",
        "  return num1+num2\n",
        "print(sum(10,sum(10,5)))"
      ],
      "metadata": {
        "colab": {
          "base_uri": "https://localhost:8080/"
        },
        "id": "jX1d_n4vSjY-",
        "outputId": "1f94411e-a5a5-4015-8c43-b2b780e76b69"
      },
      "execution_count": null,
      "outputs": [
        {
          "output_type": "stream",
          "name": "stdout",
          "text": [
            "25\n"
          ]
        }
      ]
    },
    {
      "cell_type": "code",
      "source": [
        "def sum(num1,num2):\n",
        "  def another_func(num1,num2):\n",
        "    return num1+num2\n",
        "    return another_func(num1,num2)\n",
        "total=sum(10,20)\n",
        "print(total)"
      ],
      "metadata": {
        "colab": {
          "base_uri": "https://localhost:8080/"
        },
        "id": "ZUS4rUqYYSw6",
        "outputId": "20ee7242-e0c8-450f-97c8-0367f2fac2dd"
      },
      "execution_count": null,
      "outputs": [
        {
          "output_type": "stream",
          "name": "stdout",
          "text": [
            "None\n"
          ]
        }
      ]
    },
    {
      "cell_type": "code",
      "source": [
        "def fun(a):\n",
        "  '''\n",
        "  note:hi this function is a testing one\n",
        "  '''\n",
        "  print(a)\n",
        "help(fun)\n",
        "print(fun.__doc__)"
      ],
      "metadata": {
        "colab": {
          "base_uri": "https://localhost:8080/"
        },
        "id": "kCPZ1GOLa2RP",
        "outputId": "48bb0851-16c4-483b-96e0-3e5c1e64ce0e"
      },
      "execution_count": null,
      "outputs": [
        {
          "output_type": "stream",
          "name": "stdout",
          "text": [
            "Help on function fun in module __main__:\n",
            "\n",
            "fun(a)\n",
            "    note:hi this function is a testing one\n",
            "\n",
            "\n",
            "  note:hi this function is a testing one\n",
            "  \n"
          ]
        }
      ]
    },
    {
      "cell_type": "code",
      "source": [
        "def num(a):\n",
        "  if a % 2 == 0:\n",
        "    return True\n",
        "  return False\n",
        "print(num(50))"
      ],
      "metadata": {
        "colab": {
          "base_uri": "https://localhost:8080/"
        },
        "id": "3S9YEa-0ehPT",
        "outputId": "a25764f8-5179-43c2-8bdc-7a499762084f"
      },
      "execution_count": null,
      "outputs": [
        {
          "output_type": "stream",
          "name": "stdout",
          "text": [
            "True\n"
          ]
        }
      ]
    },
    {
      "cell_type": "code",
      "source": [
        "def fun(*args,**kwargs):\n",
        "  total=0\n",
        "  for x in kwargs.value():\n",
        "    total+= x\n",
        "  return sum(args)+total\n",
        "  print(fun(1,2,3,4, num1=5, num2=7))\n"
      ],
      "metadata": {
        "id": "Ia2JrJKWgchi"
      },
      "execution_count": null,
      "outputs": []
    },
    {
      "cell_type": "code",
      "source": [
        "def fun(*args):\n",
        "  print(args)\n",
        "  return(args)\n",
        "print(fun(1,2,3,4,5))"
      ],
      "metadata": {
        "id": "Au_s7llymyTL",
        "colab": {
          "base_uri": "https://localhost:8080/"
        },
        "outputId": "2fbb45fd-a4fa-4edc-ed2d-dadf28fa0794"
      },
      "execution_count": null,
      "outputs": [
        {
          "output_type": "stream",
          "name": "stdout",
          "text": [
            "(1, 2, 3, 4, 5)\n",
            "(1, 2, 3, 4, 5)\n"
          ]
        }
      ]
    },
    {
      "cell_type": "code",
      "source": [
        "def fun(a):\n",
        "  even=[]\n",
        "  for x in a:\n",
        "    if x % 2 == 0:\n",
        "      even.append(x)\n",
        "  return max(even)\n",
        "print (fun([1,2,3,4,5,10,11]))"
      ],
      "metadata": {
        "colab": {
          "base_uri": "https://localhost:8080/"
        },
        "id": "0pOJP-QvrqT6",
        "outputId": "ad1356ec-758a-4809-dc1e-7f6e3d5d3e08"
      },
      "execution_count": null,
      "outputs": [
        {
          "output_type": "stream",
          "name": "stdout",
          "text": [
            "10\n"
          ]
        }
      ]
    },
    {
      "cell_type": "code",
      "source": [
        "a='helloooooooooooo'\n",
        "if ((n :=len(a)) > 10):\n",
        "  print(f\"too long{n} elements\")\n",
        "while (n := len(a)>1):\n",
        "  print(n)\n",
        "  a=a[:-1]"
      ],
      "metadata": {
        "colab": {
          "base_uri": "https://localhost:8080/"
        },
        "id": "esoiVqdfslP3",
        "outputId": "112b0f0a-3131-40a3-ae6c-30a48ea48ca8"
      },
      "execution_count": null,
      "outputs": [
        {
          "output_type": "stream",
          "name": "stdout",
          "text": [
            "too long16 elements\n",
            "True\n",
            "True\n",
            "True\n",
            "True\n",
            "True\n",
            "True\n",
            "True\n",
            "True\n",
            "True\n",
            "True\n",
            "True\n",
            "True\n",
            "True\n",
            "True\n",
            "True\n"
          ]
        }
      ]
    },
    {
      "cell_type": "code",
      "source": [
        "a='helloooooooooooo'\n",
        "if ((n :=len(a)) > 10):\n",
        "  print(f\"too long{n} elements\")\n",
        "while ((n := len(a))>1):\n",
        "  print(n)\n",
        "  a=a[:-1]\n",
        "print(a)"
      ],
      "metadata": {
        "colab": {
          "base_uri": "https://localhost:8080/"
        },
        "id": "4w-euqKR1D-h",
        "outputId": "129c03bc-2e69-44fa-b8e9-bd533bf9b853"
      },
      "execution_count": null,
      "outputs": [
        {
          "output_type": "stream",
          "name": "stdout",
          "text": [
            "too long16 elements\n",
            "16\n",
            "15\n",
            "14\n",
            "13\n",
            "12\n",
            "11\n",
            "10\n",
            "9\n",
            "8\n",
            "7\n",
            "6\n",
            "5\n",
            "4\n",
            "3\n",
            "2\n",
            "h\n"
          ]
        }
      ]
    },
    {
      "cell_type": "code",
      "source": [
        "if True:\n",
        "  x=10\n",
        "def fun():\n",
        "  total=100\n",
        "  print(x)\n",
        "fun()"
      ],
      "metadata": {
        "colab": {
          "base_uri": "https://localhost:8080/"
        },
        "id": "NARh4jVd1Uvm",
        "outputId": "15462492-eda1-4389-abb0-9262f3b272f7"
      },
      "execution_count": null,
      "outputs": [
        {
          "output_type": "stream",
          "name": "stdout",
          "text": [
            "10\n"
          ]
        }
      ]
    },
    {
      "cell_type": "code",
      "source": [
        "a=1\n",
        "def parent():\n",
        "  def confusion():\n",
        "    return sum\n",
        "    return confusion()\n",
        "print(parent())\n",
        "print(a)"
      ],
      "metadata": {
        "colab": {
          "base_uri": "https://localhost:8080/"
        },
        "id": "ss4qiyyN24lg",
        "outputId": "2f80a9c9-2cff-48d4-dbce-996cad148f28"
      },
      "execution_count": null,
      "outputs": [
        {
          "output_type": "stream",
          "name": "stdout",
          "text": [
            "None\n",
            "1\n"
          ]
        }
      ]
    },
    {
      "cell_type": "code",
      "source": [
        "total=0\n",
        "def count():\n",
        "  global total\n",
        "  total +=1\n",
        "  return total\n",
        "count()\n",
        "count()\n",
        "print(count())"
      ],
      "metadata": {
        "colab": {
          "base_uri": "https://localhost:8080/"
        },
        "id": "V83Ceojc5J5e",
        "outputId": "58c84ac1-77aa-42b2-eed8-2b076dfa1aba"
      },
      "execution_count": null,
      "outputs": [
        {
          "output_type": "stream",
          "name": "stdout",
          "text": [
            "3\n"
          ]
        }
      ]
    },
    {
      "cell_type": "code",
      "source": [
        "total=0\n",
        "def count(total):\n",
        "  total +=1\n",
        "  return total\n",
        "\n",
        "print(count(count(count(total))))"
      ],
      "metadata": {
        "colab": {
          "base_uri": "https://localhost:8080/"
        },
        "id": "hx2bzfHg6n3Q",
        "outputId": "f803453d-543d-4d8e-feaa-61eec95c508e"
      },
      "execution_count": null,
      "outputs": [
        {
          "output_type": "stream",
          "name": "stdout",
          "text": [
            "3\n"
          ]
        }
      ]
    },
    {
      "cell_type": "code",
      "source": [
        "def outer():\n",
        "  x='local'\n",
        "  def inner():\n",
        "    nonlocal x\n",
        "    x='nonlocal'\n",
        "    print('inner:',x)\n",
        "  inner()\n",
        "  print('outer:',x)\n",
        "outer()\n",
        "print(x)"
      ],
      "metadata": {
        "colab": {
          "base_uri": "https://localhost:8080/"
        },
        "id": "k1B9BsCJ7Nhd",
        "outputId": "1b50629e-52cb-42e1-b245-7907021ef852"
      },
      "execution_count": null,
      "outputs": [
        {
          "output_type": "stream",
          "name": "stdout",
          "text": [
            "inner: nonlocal\n",
            "outer: nonlocal\n",
            "10\n"
          ]
        }
      ]
    },
    {
      "cell_type": "code",
      "source": [
        "print(type(None))\n",
        "print(type(True))\n",
        "print(type(5))\n",
        "print(type(5.5))\n",
        "print(type('hi'))\n",
        "print(type([]))\n",
        "print(type(()))\n",
        "print(type({}))"
      ],
      "metadata": {
        "id": "y0k6ZT3H-yCA",
        "colab": {
          "base_uri": "https://localhost:8080/"
        },
        "outputId": "87b7a3b3-a816-45a2-e306-34c295eaa4db"
      },
      "execution_count": 3,
      "outputs": [
        {
          "output_type": "stream",
          "name": "stdout",
          "text": [
            "<class 'NoneType'>\n",
            "<class 'bool'>\n",
            "<class 'int'>\n",
            "<class 'float'>\n",
            "<class 'str'>\n",
            "<class 'list'>\n",
            "<class 'tuple'>\n",
            "<class 'dict'>\n"
          ]
        }
      ]
    },
    {
      "cell_type": "code",
      "source": [
        "class BigObject:\n",
        "  pass\n",
        "obj1=BigObject()\n",
        "print(type(None))\n",
        "print(type(True))\n",
        "print(type(5))\n",
        "print(type(5.5))\n",
        "print(type('hi'))\n",
        "print(type([]))\n",
        "print(type(()))\n",
        "print(type({}))\n",
        "print(type(obj1))"
      ],
      "metadata": {
        "colab": {
          "base_uri": "https://localhost:8080/"
        },
        "id": "g95KZDI0sLSc",
        "outputId": "d77afb1a-6839-4cb8-a5c6-e72e8026bcf8"
      },
      "execution_count": 4,
      "outputs": [
        {
          "output_type": "stream",
          "name": "stdout",
          "text": [
            "<class 'NoneType'>\n",
            "<class 'bool'>\n",
            "<class 'int'>\n",
            "<class 'float'>\n",
            "<class 'str'>\n",
            "<class 'list'>\n",
            "<class 'tuple'>\n",
            "<class 'dict'>\n",
            "<class '__main__.BigObject'>\n"
          ]
        }
      ]
    },
    {
      "cell_type": "code",
      "source": [
        "class playerCharacter:\n",
        "  def __init__(self,name):\n",
        "    self.name=name\n",
        "  def run(self):\n",
        "    print('run')\n",
        "player1=playerCharacter('cindy')\n",
        "print (player1)"
      ],
      "metadata": {
        "colab": {
          "base_uri": "https://localhost:8080/"
        },
        "id": "cV0udll1yQXc",
        "outputId": "a72ebcc3-155f-41c2-a48e-334246c16f3e"
      },
      "execution_count": 10,
      "outputs": [
        {
          "output_type": "stream",
          "name": "stdout",
          "text": [
            "<__main__.playerCharacter object at 0x7fc366514d60>\n"
          ]
        }
      ]
    },
    {
      "cell_type": "code",
      "source": [
        "class playerCharacter:\n",
        "  def __init__(self,name):\n",
        "    self.name=name\n",
        "  def run(self):\n",
        "    print('run')\n",
        "player1=playerCharacter('cindy')\n",
        "print (player1)"
      ],
      "metadata": {
        "id": "NjNsDCk-AXe1"
      },
      "execution_count": null,
      "outputs": []
    },
    {
      "cell_type": "code",
      "source": [
        "class playerCharacter:\n",
        "  def __init__(self,name,age):\n",
        "    self.name=name\n",
        "    self.age=age\n",
        "  def run(self):\n",
        "    print('run')\n",
        "    return 'done'\n",
        "player1=playerCharacter('cindy',44)\n",
        "player2=playerCharacter('Tom',21)\n",
        "print (player1)\n",
        "print (player2)"
      ],
      "metadata": {
        "colab": {
          "base_uri": "https://localhost:8080/"
        },
        "id": "p3E1GQzVA4M8",
        "outputId": "4c4cb812-2e9b-4d7e-8cb5-42019919e62d"
      },
      "execution_count": 11,
      "outputs": [
        {
          "output_type": "stream",
          "name": "stdout",
          "text": [
            "<__main__.playerCharacter object at 0x7fc3664be5e0>\n",
            "<__main__.playerCharacter object at 0x7fc3664be4c0>\n"
          ]
        }
      ]
    },
    {
      "cell_type": "code",
      "source": [
        "class playerCharacter:\n",
        "  def __init__(self,name,age):\n",
        "    self.name=name\n",
        "    self.age=age\n",
        "  def run(self):\n",
        "    print('run')\n",
        "    return 'done'\n",
        "player1=playerCharacter('cindy',44)\n",
        "player2=playerCharacter('Tom',21)\n",
        "player2.attack=50\n",
        "print (player1)\n",
        "print (player2.attack)"
      ],
      "metadata": {
        "colab": {
          "base_uri": "https://localhost:8080/"
        },
        "id": "4zFlvwieBIJH",
        "outputId": "b9017e2e-4826-4a4e-bb90-ed89b5709f13"
      },
      "execution_count": 12,
      "outputs": [
        {
          "output_type": "stream",
          "name": "stdout",
          "text": [
            "<__main__.playerCharacter object at 0x7fc366468370>\n",
            "50\n"
          ]
        }
      ]
    },
    {
      "cell_type": "code",
      "source": [
        "class playerCharacter:\n",
        "  def __init__(self,name,age):\n",
        "    self.name=name\n",
        "    self.age=age\n",
        "  def run(self):\n",
        "    print('run')\n",
        "    return 'done'\n",
        "player1=playerCharacter('cindy',44)\n",
        "player2=playerCharacter('Tom',21)\n",
        "player2.attack=50\n",
        "print (player1.name)\n",
        "print (player2.attack)"
      ],
      "metadata": {
        "colab": {
          "base_uri": "https://localhost:8080/"
        },
        "id": "f-mTc31DEquD",
        "outputId": "a2a88250-627b-4ae5-a503-7c40975b9a11"
      },
      "execution_count": 13,
      "outputs": [
        {
          "output_type": "stream",
          "name": "stdout",
          "text": [
            "cindy\n",
            "50\n"
          ]
        }
      ]
    },
    {
      "cell_type": "code",
      "source": [
        "class playerCharacter:\n",
        "  membership=True\n",
        "  def __init__(self,name,age):\n",
        "    self.name=name\n",
        "    self.age=age\n",
        "  def run(self):\n",
        "    print('run')\n",
        "    return 'done'\n",
        "player1=playerCharacter('cindy',44)\n",
        "player2=playerCharacter('Tom',21)\n",
        "player2.attack=50\n",
        "print (player1.membership)\n",
        "print (player2.membership)"
      ],
      "metadata": {
        "colab": {
          "base_uri": "https://localhost:8080/"
        },
        "id": "HkML_GxCJoed",
        "outputId": "16754767-dbcd-4724-8a79-c714eda9773b"
      },
      "execution_count": 14,
      "outputs": [
        {
          "output_type": "stream",
          "name": "stdout",
          "text": [
            "True\n",
            "True\n"
          ]
        }
      ]
    },
    {
      "cell_type": "code",
      "source": [
        "class playerCharacter:\n",
        "  membership=True\n",
        "  def __init__(self,name,age):\n",
        "    if(playerCharacter.membership):\n",
        "      self.name=name\n",
        "      self.age=age\n",
        "  def shout(self):\n",
        "    print(f'my name is {self.name}')\n",
        "    return 'done'\n",
        "player1=playerCharacter('cindy',44)\n",
        "player2=playerCharacter('Tom',21)\n",
        "player2.attack=50\n",
        "print (player1.shout())\n",
        "print (player2.shout())"
      ],
      "metadata": {
        "colab": {
          "base_uri": "https://localhost:8080/"
        },
        "id": "QLyACujeM_Zc",
        "outputId": "73b8380b-cdde-4c9f-d4ef-c6982a6d8875"
      },
      "execution_count": 16,
      "outputs": [
        {
          "output_type": "stream",
          "name": "stdout",
          "text": [
            "my name is cindy\n",
            "done\n",
            "my name is Tom\n",
            "done\n"
          ]
        }
      ]
    },
    {
      "cell_type": "code",
      "source": [
        "class playerCharacter:\n",
        "  membership=True\n",
        "  def __init__(self,name,age):\n",
        "    if(age>18):\n",
        "      self.name=name\n",
        "      self.age=age\n",
        "  def shout(self):\n",
        "    print(f'my name is {self.name}')\n",
        "    \n",
        "player1=playerCharacter('cindy',19)\n",
        "\n",
        "print (player1.shout())\n"
      ],
      "metadata": {
        "colab": {
          "base_uri": "https://localhost:8080/"
        },
        "id": "-7Xmk_PWNm2W",
        "outputId": "cdd29c4d-d37d-42c1-b19e-76bba19fcb67"
      },
      "execution_count": 20,
      "outputs": [
        {
          "output_type": "stream",
          "name": "stdout",
          "text": [
            "my name is cindy\n",
            "None\n"
          ]
        }
      ]
    },
    {
      "cell_type": "code",
      "source": [
        "class playerCharacter:\n",
        "  membership=True\n",
        "  def __init__(self,name,age):\n",
        "    if(age>18):\n",
        "      self.name=name\n",
        "      self.age=age\n",
        "  def shout(self):\n",
        "    print(f'my name is {self.name}')\n",
        "  @classmethod\n",
        "  def adding_things(cls,num1,num2):\n",
        "    return num1+num2\n",
        "    \n",
        "print(playerCharacter.adding_things(2,3))\n",
        "\n"
      ],
      "metadata": {
        "colab": {
          "base_uri": "https://localhost:8080/"
        },
        "id": "Uulhln9IPl4P",
        "outputId": "e7faf388-810e-4a14-d438-ddb5d8e27f04"
      },
      "execution_count": 22,
      "outputs": [
        {
          "output_type": "stream",
          "name": "stdout",
          "text": [
            "5\n"
          ]
        }
      ]
    },
    {
      "cell_type": "code",
      "source": [
        "class playerCharacter:\n",
        "  def __init__(self,name,age):\n",
        "    self.name=name\n",
        "    self.age=age\n",
        "  def run(self):\n",
        "    print('run')\n",
        "  def speak(self):\n",
        "    print(f'my name is {self.name},and iam {self.age} years old')\n",
        "player1=playerCharacter('cindy',44)\n",
        "\n",
        "player1.speak()"
      ],
      "metadata": {
        "colab": {
          "base_uri": "https://localhost:8080/"
        },
        "id": "KrYQX7zfXZpt",
        "outputId": "64be0c22-a34f-475f-9f22-9d0c2b60faca"
      },
      "execution_count": 24,
      "outputs": [
        {
          "output_type": "stream",
          "name": "stdout",
          "text": [
            "my name is cindy,and iam 44 years old\n"
          ]
        }
      ]
    },
    {
      "cell_type": "code",
      "source": [
        "class playerCharacter:\n",
        "  def __init__(self,name,age):\n",
        "    self.name=name\n",
        "    self.age=age\n",
        "  def run(self):\n",
        "    print('run')\n",
        "  def speak(self):\n",
        "    print(f'my name is {self.name},and iam {self.age} years old')\n",
        "player1=playerCharacter('cindy',44)\n",
        "player1.name='!!!'\n",
        "player1.speak='boooo'\n",
        "print(player1.speak)"
      ],
      "metadata": {
        "colab": {
          "base_uri": "https://localhost:8080/"
        },
        "id": "byZQh3jvdU3C",
        "outputId": "5109e7cc-8d90-4842-8817-3d0ba6ce7ca8"
      },
      "execution_count": 27,
      "outputs": [
        {
          "output_type": "stream",
          "name": "stdout",
          "text": [
            "boooo\n"
          ]
        }
      ]
    },
    {
      "cell_type": "code",
      "source": [
        "class playerCharacter:\n",
        "  def __init__(self,name,age):\n",
        "    self._name=name\n",
        "    self._age=age\n",
        "  def run(self):\n",
        "    print('run')\n",
        "  def speak(self):\n",
        "    print(f'my name is {self._name},and iam {self._age} years old')\n",
        "player1=playerCharacter('cindy',44)\n",
        "\n",
        "print(player1.speak)"
      ],
      "metadata": {
        "colab": {
          "base_uri": "https://localhost:8080/"
        },
        "id": "1V8jiaXHal62",
        "outputId": "637b9108-8023-4fcd-9d6d-6a9ba2fd46e9"
      },
      "execution_count": 28,
      "outputs": [
        {
          "output_type": "stream",
          "name": "stdout",
          "text": [
            "<bound method playerCharacter.speak of <__main__.playerCharacter object at 0x7fc366468dc0>>\n"
          ]
        }
      ]
    },
    {
      "cell_type": "code",
      "source": [
        "class user(object):\n",
        "  def __init__(self,email):\n",
        "    self.email=email\n",
        "\n",
        "  def sign_in(self):\n",
        "    print('logged in')\n",
        "\n",
        "class Wizard(user):\n",
        "  def __init__(self,name,power):\n",
        "    self.name=name\n",
        "    self.power=power\n",
        "\n",
        "  def attack(self):\n",
        "    print(f'attacking with power of {self.power}')\n",
        "\n",
        "##class archer(User):\n",
        "  #def __init__(self,name,num_arrow):\n",
        "   #self.name=name\n",
        "    #self.num_arrow=num_arrow\n",
        "\n",
        "  def attack(self):\n",
        "    print(f'attacking with arrows: arrow left-{self.num_arrow}')\n",
        "Wizard1=Wizard('merlin',50)\n",
        "\n",
        "print(Wizard1.sign_in())"
      ],
      "metadata": {
        "colab": {
          "base_uri": "https://localhost:8080/"
        },
        "id": "IkmH_dASeXLq",
        "outputId": "bd49b4f3-2822-4c95-ace9-bdbca2a49643"
      },
      "execution_count": 37,
      "outputs": [
        {
          "output_type": "stream",
          "name": "stdout",
          "text": [
            "logged in\n",
            "None\n"
          ]
        }
      ]
    },
    {
      "cell_type": "code",
      "source": [
        "class toy():\n",
        "  def __init__(self,color,age):\n",
        "    self.color=color\n",
        "    self.age=age\n",
        "    self.my_dict={\n",
        "        'name':'yoyo',\n",
        "        'has_pets': False\n",
        "    }\n",
        "  def __str__(self):\n",
        "    return f'{self.color}'\n",
        "  def __len__(self):\n",
        "    return 5\n",
        "  def __call__(self):\n",
        "    return('ress??')\n",
        "  def __getitem__(self,i):  \n",
        "    return self.my_dict[i]\n",
        "action_figure=toy('red',0)\n",
        "print(action_figure.__str__())\n",
        "print(str(action_figure))\n",
        "print(len(action_figure))\n",
        "print(action_figure())\n",
        "print(action_figure['name'])"
      ],
      "metadata": {
        "colab": {
          "base_uri": "https://localhost:8080/"
        },
        "id": "dk5--Byhif1M",
        "outputId": "0a0e6684-8f1c-4b07-e883-1ca815f05afd"
      },
      "execution_count": 41,
      "outputs": [
        {
          "output_type": "stream",
          "name": "stdout",
          "text": [
            "red\n",
            "red\n",
            "5\n",
            "ress??\n",
            "yoyo\n"
          ]
        }
      ]
    },
    {
      "cell_type": "code",
      "source": [
        "class a:\n",
        "  pass\n",
        "class b(a):\n",
        "  pass\n",
        "class c(a):\n",
        "  pass\n",
        "class d(b,c):\n",
        "  pass\n",
        "print(d.mro())\n"
      ],
      "metadata": {
        "id": "SRsE3cbVv3-l",
        "outputId": "56e69877-17c8-4484-ba9e-f72a2a7b331d",
        "colab": {
          "base_uri": "https://localhost:8080/"
        }
      },
      "execution_count": 43,
      "outputs": [
        {
          "output_type": "stream",
          "name": "stdout",
          "text": [
            "[<class '__main__.d'>, <class '__main__.b'>, <class '__main__.c'>, <class '__main__.a'>, <class 'object'>]\n"
          ]
        }
      ]
    },
    {
      "cell_type": "code",
      "source": [
        "class a:\n",
        "  pass\n",
        "class b(a):\n",
        "  pass\n",
        "class c(a):\n",
        "  pass\n",
        "class d(b,c):\n",
        "  pass\n",
        "print(d.mro())"
      ],
      "metadata": {
        "id": "_QqRp6M00tTs"
      },
      "execution_count": null,
      "outputs": []
    },
    {
      "cell_type": "code",
      "source": [
        "class a:\n",
        "  num=1\n",
        "class b(a):\n",
        "  pass\n",
        "class c(a):\n",
        "  num=12\n",
        "class d(b,c):\n",
        "  pass\n",
        "print(d.num)"
      ],
      "metadata": {
        "id": "EUKsTCgu1AXY",
        "outputId": "f406acb1-a807-4e68-eff0-3e7f46ce6fa6",
        "colab": {
          "base_uri": "https://localhost:8080/"
        }
      },
      "execution_count": 46,
      "outputs": [
        {
          "output_type": "stream",
          "name": "stdout",
          "text": [
            "12\n"
          ]
        }
      ]
    },
    {
      "cell_type": "code",
      "source": [],
      "metadata": {
        "id": "T-rJRREs1F8T"
      },
      "execution_count": null,
      "outputs": []
    }
  ]
}