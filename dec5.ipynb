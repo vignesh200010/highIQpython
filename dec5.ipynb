{
  "nbformat": 4,
  "nbformat_minor": 0,
  "metadata": {
    "colab": {
      "provenance": [],
      "authorship_tag": "ABX9TyP2CoYH7tsG+raFwKlTFRw4",
      "include_colab_link": true
    },
    "kernelspec": {
      "name": "python3",
      "display_name": "Python 3"
    },
    "language_info": {
      "name": "python"
    }
  },
  "cells": [
    {
      "cell_type": "markdown",
      "metadata": {
        "id": "view-in-github",
        "colab_type": "text"
      },
      "source": [
        "<a href=\"https://colab.research.google.com/github/vignesh200010/highIQpython/blob/main/dec5.ipynb\" target=\"_parent\"><img src=\"https://colab.research.google.com/assets/colab-badge.svg\" alt=\"Open In Colab\"/></a>"
      ]
    },
    {
      "cell_type": "code",
      "execution_count": 2,
      "metadata": {
        "colab": {
          "base_uri": "https://localhost:8080/"
        },
        "id": "EE-O8j5iZ7b4",
        "outputId": "33397259-2105-4c53-c4e8-7e1227333d0a"
      },
      "outputs": [
        {
          "output_type": "stream",
          "name": "stdout",
          "text": [
            "True\n"
          ]
        }
      ],
      "source": [
        "\n",
        "print('a'>'A')"
      ]
    },
    {
      "cell_type": "code",
      "source": [
        "print('A'>'a')"
      ],
      "metadata": {
        "colab": {
          "base_uri": "https://localhost:8080/"
        },
        "id": "BiAVqhXLhvMl",
        "outputId": "ac7c7591-bb6d-4cd6-bd78-c2bc5bc68777"
      },
      "execution_count": 1,
      "outputs": [
        {
          "output_type": "stream",
          "name": "stdout",
          "text": [
            "False\n"
          ]
        }
      ]
    },
    {
      "cell_type": "code",
      "source": [
        "print(1<2<3<4)"
      ],
      "metadata": {
        "colab": {
          "base_uri": "https://localhost:8080/"
        },
        "id": "11OiPvnNhx_e",
        "outputId": "4eb050a8-31dc-432e-8d48-5775cd921d76"
      },
      "execution_count": 3,
      "outputs": [
        {
          "output_type": "stream",
          "name": "stdout",
          "text": [
            "True\n"
          ]
        }
      ]
    },
    {
      "cell_type": "code",
      "source": [
        "print(1<2>3<4)"
      ],
      "metadata": {
        "colab": {
          "base_uri": "https://localhost:8080/"
        },
        "id": "BJRl1q4Kh-WT",
        "outputId": "06013545-97a6-4909-83d0-fc7b45535bd1"
      },
      "execution_count": 4,
      "outputs": [
        {
          "output_type": "stream",
          "name": "stdout",
          "text": [
            "False\n"
          ]
        }
      ]
    },
    {
      "cell_type": "code",
      "source": [
        "print(1<=0)\n"
      ],
      "metadata": {
        "colab": {
          "base_uri": "https://localhost:8080/"
        },
        "id": "oBwjpwYyhxBR",
        "outputId": "0b00db2f-746b-4538-b248-a1ddcef7280a"
      },
      "execution_count": 5,
      "outputs": [
        {
          "output_type": "stream",
          "name": "stdout",
          "text": [
            "False\n"
          ]
        }
      ]
    },
    {
      "cell_type": "code",
      "source": [
        "magician=True\n",
        "expert=True\n",
        "if expert and magician:\n",
        "  print('you are master magician')\n",
        "elif magician or not expert:\n",
        "  print('your almost there')\n",
        "elif not magician:\n",
        "  print('magical powers you need')"
      ],
      "metadata": {
        "colab": {
          "base_uri": "https://localhost:8080/"
        },
        "id": "vDAi7ne-iGyO",
        "outputId": "b7ed3046-8afc-40ed-a488-a8481a53ed4a"
      },
      "execution_count": 6,
      "outputs": [
        {
          "output_type": "stream",
          "name": "stdout",
          "text": [
            "you are master magician\n"
          ]
        }
      ]
    },
    {
      "cell_type": "code",
      "source": [
        "print(True==1)"
      ],
      "metadata": {
        "colab": {
          "base_uri": "https://localhost:8080/"
        },
        "id": "DInYuFtbil2O",
        "outputId": "5f9606d3-020e-4609-bb3b-03bb0673c4cd"
      },
      "execution_count": 8,
      "outputs": [
        {
          "output_type": "stream",
          "name": "stdout",
          "text": [
            "True\n"
          ]
        }
      ]
    },
    {
      "cell_type": "code",
      "source": [
        "print(''==1)\n",
        "print(10==10.0)"
      ],
      "metadata": {
        "colab": {
          "base_uri": "https://localhost:8080/"
        },
        "id": "yidiXuz6lZSW",
        "outputId": "359f8f0f-2dec-4a5c-d131-0f314d4f3d0a"
      },
      "execution_count": 7,
      "outputs": [
        {
          "output_type": "stream",
          "name": "stdout",
          "text": [
            "False\n",
            "True\n"
          ]
        }
      ]
    },
    {
      "cell_type": "code",
      "source": [
        "print([]==1)\n",
        "print([]==[])"
      ],
      "metadata": {
        "colab": {
          "base_uri": "https://localhost:8080/"
        },
        "id": "ggevlzfglcgr",
        "outputId": "a7cd4e17-9a8f-402c-cde5-190df8fd19c5"
      },
      "execution_count": 9,
      "outputs": [
        {
          "output_type": "stream",
          "name": "stdout",
          "text": [
            "False\n",
            "True\n"
          ]
        }
      ]
    },
    {
      "cell_type": "code",
      "source": [
        "print(True is 1)\n",
        "\n"
      ],
      "metadata": {
        "colab": {
          "base_uri": "https://localhost:8080/"
        },
        "id": "uZlOGma5lotM",
        "outputId": "e4c84fd4-9e83-4ed5-e95d-e8d3fd240f61"
      },
      "execution_count": 21,
      "outputs": [
        {
          "output_type": "stream",
          "name": "stdout",
          "text": [
            "False\n"
          ]
        },
        {
          "output_type": "stream",
          "name": "stderr",
          "text": [
            "<>:1: SyntaxWarning: \"is\" with a literal. Did you mean \"==\"?\n",
            "<>:1: SyntaxWarning: \"is\" with a literal. Did you mean \"==\"?\n",
            "<ipython-input-21-1c207cc444c6>:1: SyntaxWarning: \"is\" with a literal. Did you mean \"==\"?\n",
            "  print(True is 1)\n"
          ]
        }
      ]
    },
    {
      "cell_type": "code",
      "source": [
        "print([] is [])\n"
      ],
      "metadata": {
        "colab": {
          "base_uri": "https://localhost:8080/"
        },
        "id": "dtWJREFBnuoO",
        "outputId": "f077e429-3be2-451f-8ad1-aa690ed98434"
      },
      "execution_count": 20,
      "outputs": [
        {
          "output_type": "stream",
          "name": "stdout",
          "text": [
            "False\n"
          ]
        }
      ]
    },
    {
      "cell_type": "code",
      "source": [
        "print('1' is '1')\n"
      ],
      "metadata": {
        "colab": {
          "base_uri": "https://localhost:8080/"
        },
        "id": "qwozLlUMn9ig",
        "outputId": "8fae2877-78fc-4d81-9822-0e4fc5b85427"
      },
      "execution_count": 22,
      "outputs": [
        {
          "output_type": "stream",
          "name": "stdout",
          "text": [
            "True\n"
          ]
        },
        {
          "output_type": "stream",
          "name": "stderr",
          "text": [
            "<>:1: SyntaxWarning: \"is\" with a literal. Did you mean \"==\"?\n",
            "<>:1: SyntaxWarning: \"is\" with a literal. Did you mean \"==\"?\n",
            "<ipython-input-22-cb4e44872f57>:1: SyntaxWarning: \"is\" with a literal. Did you mean \"==\"?\n",
            "  print('1' is '1')\n"
          ]
        }
      ]
    },
    {
      "cell_type": "code",
      "source": [
        "\n",
        "print(10 is 10.0)"
      ],
      "metadata": {
        "colab": {
          "base_uri": "https://localhost:8080/"
        },
        "id": "LtISlUdbn_f2",
        "outputId": "2f5f2226-835e-4464-ac89-f9a0da4e0790"
      },
      "execution_count": 18,
      "outputs": [
        {
          "output_type": "stream",
          "name": "stdout",
          "text": [
            "False\n"
          ]
        },
        {
          "output_type": "stream",
          "name": "stderr",
          "text": [
            "<>:1: SyntaxWarning: \"is\" with a literal. Did you mean \"==\"?\n",
            "<>:1: SyntaxWarning: \"is\" with a literal. Did you mean \"==\"?\n",
            "<ipython-input-18-df67ef584aac>:1: SyntaxWarning: \"is\" with a literal. Did you mean \"==\"?\n",
            "  print(10 is 10.0)\n"
          ]
        }
      ]
    },
    {
      "cell_type": "code",
      "source": [
        "a=[1,2,3]\n",
        "b=[1,2,3]\n",
        "print(a is b)"
      ],
      "metadata": {
        "colab": {
          "base_uri": "https://localhost:8080/"
        },
        "id": "SRINQQAUnjin",
        "outputId": "8a6a870d-0b48-4bbe-8d82-2328b47d8148"
      },
      "execution_count": 12,
      "outputs": [
        {
          "output_type": "stream",
          "name": "stdout",
          "text": [
            "False\n"
          ]
        }
      ]
    },
    {
      "cell_type": "code",
      "source": [
        "for item in 'zero to mastery':\n",
        "  print(item)"
      ],
      "metadata": {
        "colab": {
          "base_uri": "https://localhost:8080/"
        },
        "id": "k08nRIlDnp0h",
        "outputId": "c5c0c5a2-d230-4a57-980a-86c00e2c98f2"
      },
      "execution_count": 23,
      "outputs": [
        {
          "output_type": "stream",
          "name": "stdout",
          "text": [
            "z\n",
            "e\n",
            "r\n",
            "o\n",
            " \n",
            "t\n",
            "o\n",
            " \n",
            "m\n",
            "a\n",
            "s\n",
            "t\n",
            "e\n",
            "r\n",
            "y\n"
          ]
        }
      ]
    },
    {
      "cell_type": "code",
      "source": [
        "for item in [1,2,3,4,5]:\n",
        "  print(item)"
      ],
      "metadata": {
        "colab": {
          "base_uri": "https://localhost:8080/"
        },
        "id": "xTdVGT43pPW4",
        "outputId": "c2ecc9c6-4890-4ea0-97a3-1eab0afc7a3c"
      },
      "execution_count": 24,
      "outputs": [
        {
          "output_type": "stream",
          "name": "stdout",
          "text": [
            "1\n",
            "2\n",
            "3\n",
            "4\n",
            "5\n"
          ]
        }
      ]
    },
    {
      "cell_type": "code",
      "source": [
        "for item in {1,2,3,4,5}:\n",
        "  print(item)"
      ],
      "metadata": {
        "colab": {
          "base_uri": "https://localhost:8080/"
        },
        "id": "PuZd-VFmpb2q",
        "outputId": "4c9a764b-5486-4e0e-d28c-28fef3017650"
      },
      "execution_count": 25,
      "outputs": [
        {
          "output_type": "stream",
          "name": "stdout",
          "text": [
            "1\n",
            "2\n",
            "3\n",
            "4\n",
            "5\n"
          ]
        }
      ]
    },
    {
      "cell_type": "code",
      "source": [
        "for item in (1,2,3,4,5):\n",
        "  print(item)"
      ],
      "metadata": {
        "colab": {
          "base_uri": "https://localhost:8080/"
        },
        "id": "-BEYOxERpf9l",
        "outputId": "6af20a11-13e0-46b3-a10c-d5c382e27c37"
      },
      "execution_count": 26,
      "outputs": [
        {
          "output_type": "stream",
          "name": "stdout",
          "text": [
            "1\n",
            "2\n",
            "3\n",
            "4\n",
            "5\n"
          ]
        }
      ]
    },
    {
      "cell_type": "code",
      "source": [
        "for item in (1,2,3,4,5):\n",
        "  for x in ['a','b','c']:\n",
        "    print(item,x)"
      ],
      "metadata": {
        "colab": {
          "base_uri": "https://localhost:8080/"
        },
        "id": "RsQk6VFprATU",
        "outputId": "d138ccc7-21e9-4d07-f382-e35513ebea25"
      },
      "execution_count": 28,
      "outputs": [
        {
          "output_type": "stream",
          "name": "stdout",
          "text": [
            "1 a\n",
            "1 b\n",
            "1 c\n",
            "2 a\n",
            "2 b\n",
            "2 c\n",
            "3 a\n",
            "3 b\n",
            "3 c\n",
            "4 a\n",
            "4 b\n",
            "4 c\n",
            "5 a\n",
            "5 b\n",
            "5 c\n"
          ]
        }
      ]
    },
    {
      "cell_type": "code",
      "source": [
        "user={\n",
        "    'name':'golem',\n",
        "    'age':5006,\n",
        "    'can_swim':False\n",
        "}\n",
        "for item in user.items():\n",
        "  print(item)\n",
        "for item in user.keys():\n",
        "  print(item)\n",
        "for item in user.values():\n",
        "  print(item)"
      ],
      "metadata": {
        "colab": {
          "base_uri": "https://localhost:8080/"
        },
        "outputId": "22526690-dba8-44bc-a617-1d87f4296351",
        "id": "2rqMdD9SrAmi"
      },
      "execution_count": 36,
      "outputs": [
        {
          "output_type": "stream",
          "name": "stdout",
          "text": [
            "('name', 'golem')\n",
            "('age', 5006)\n",
            "('can_swim', False)\n",
            "name\n",
            "age\n",
            "can_swim\n",
            "golem\n",
            "5006\n",
            "False\n"
          ]
        }
      ]
    },
    {
      "cell_type": "code",
      "source": [
        "user={\n",
        "    'name':'golem',\n",
        "    'age':5006,\n",
        "    'can_swim':False\n",
        "}\n",
        "for item in user.items():\n",
        "  key,value=item;\n",
        "  print(key,value)"
      ],
      "metadata": {
        "colab": {
          "base_uri": "https://localhost:8080/"
        },
        "id": "70Df0vuks0_i",
        "outputId": "82d5b86d-97b8-4b9d-9c8b-31dd1ab16103"
      },
      "execution_count": 38,
      "outputs": [
        {
          "output_type": "stream",
          "name": "stdout",
          "text": [
            "name golem\n",
            "age 5006\n",
            "can_swim False\n"
          ]
        }
      ]
    },
    {
      "cell_type": "code",
      "source": [
        "user={\n",
        "    'name':'golem',\n",
        "    'age':5006,\n",
        "    'can_swim':False\n",
        "}\n",
        "for key,value in user.items():\n",
        " \n",
        "  print(key,value)"
      ],
      "metadata": {
        "colab": {
          "base_uri": "https://localhost:8080/"
        },
        "id": "wZ48nlbqt79F",
        "outputId": "1268a596-d5a7-4ee8-f535-781ab179aa97"
      },
      "execution_count": 39,
      "outputs": [
        {
          "output_type": "stream",
          "name": "stdout",
          "text": [
            "name golem\n",
            "age 5006\n",
            "can_swim False\n"
          ]
        }
      ]
    },
    {
      "cell_type": "code",
      "source": [
        "my_list=[1,2,3,4,5,6,7,8,9,10]\n",
        "count=0\n",
        "for x in my_list:\n",
        "  count=count+x\n",
        "print(count)"
      ],
      "metadata": {
        "colab": {
          "base_uri": "https://localhost:8080/"
        },
        "id": "R2E3PRXqtvrS",
        "outputId": "71635f63-e981-4270-95ba-56733b2d9c11"
      },
      "execution_count": 41,
      "outputs": [
        {
          "output_type": "stream",
          "name": "stdout",
          "text": [
            "55\n"
          ]
        }
      ]
    },
    {
      "cell_type": "code",
      "source": [
        "for x in range(0,10):\n",
        "  print(x)a"
      ],
      "metadata": {
        "colab": {
          "base_uri": "https://localhost:8080/"
        },
        "id": "28cOvpyrxeaM",
        "outputId": "94a67470-b30a-491b-9bf5-b485b1a62cad"
      },
      "execution_count": 42,
      "outputs": [
        {
          "output_type": "stream",
          "name": "stdout",
          "text": [
            "0\n",
            "1\n",
            "2\n",
            "3\n",
            "4\n",
            "5\n",
            "6\n",
            "7\n",
            "8\n",
            "9\n"
          ]
        }
      ]
    },
    {
      "cell_type": "code",
      "source": [
        "for x in range(10,0,-1):\n",
        "  print (x)\n"
      ],
      "metadata": {
        "colab": {
          "base_uri": "https://localhost:8080/"
        },
        "id": "X9rt_AW7yRm7",
        "outputId": "2c28e2c1-e39b-427d-aef2-0ee4e7527dda"
      },
      "execution_count": 49,
      "outputs": [
        {
          "output_type": "stream",
          "name": "stdout",
          "text": [
            "10\n",
            "9\n",
            "8\n",
            "7\n",
            "6\n",
            "5\n",
            "4\n",
            "3\n",
            "2\n",
            "1\n"
          ]
        }
      ]
    },
    {
      "cell_type": "code",
      "source": [
        "for x in range(5):\n",
        "  print (list(range(10)))"
      ],
      "metadata": {
        "colab": {
          "base_uri": "https://localhost:8080/"
        },
        "id": "sHPZzI7zzdpa",
        "outputId": "a0290561-0116-4d4f-fd90-e28d18b84b97"
      },
      "execution_count": 54,
      "outputs": [
        {
          "output_type": "stream",
          "name": "stdout",
          "text": [
            "[0, 1, 2, 3, 4, 5, 6, 7, 8, 9]\n",
            "[0, 1, 2, 3, 4, 5, 6, 7, 8, 9]\n",
            "[0, 1, 2, 3, 4, 5, 6, 7, 8, 9]\n",
            "[0, 1, 2, 3, 4, 5, 6, 7, 8, 9]\n",
            "[0, 1, 2, 3, 4, 5, 6, 7, 8, 9]\n"
          ]
        }
      ]
    },
    {
      "cell_type": "code",
      "source": [],
      "metadata": {
        "id": "s7JztqqTy8aC"
      },
      "execution_count": null,
      "outputs": []
    }
  ]
}