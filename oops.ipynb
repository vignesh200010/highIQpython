{
  "nbformat": 4,
  "nbformat_minor": 0,
  "metadata": {
    "colab": {
      "provenance": [],
      "authorship_tag": "ABX9TyNjr+pzIyZluvDj1lWl9izB",
      "include_colab_link": true
    },
    "kernelspec": {
      "name": "python3",
      "display_name": "Python 3"
    },
    "language_info": {
      "name": "python"
    }
  },
  "cells": [
    {
      "cell_type": "markdown",
      "metadata": {
        "id": "view-in-github",
        "colab_type": "text"
      },
      "source": [
        "<a href=\"https://colab.research.google.com/github/vignesh200010/highIQpython/blob/main/oops.ipynb\" target=\"_parent\"><img src=\"https://colab.research.google.com/assets/colab-badge.svg\" alt=\"Open In Colab\"/></a>"
      ]
    },
    {
      "cell_type": "code",
      "execution_count": 1,
      "metadata": {
        "colab": {
          "base_uri": "https://localhost:8080/"
        },
        "id": "LFNW_cxUKOUM",
        "outputId": "ea6a58cf-1152-4067-8ebb-b998910a6bbc"
      },
      "outputs": [
        {
          "output_type": "stream",
          "name": "stdout",
          "text": [
            "<class 'NoneType'>\n",
            "<class 'bool'>\n",
            "<class 'int'>\n",
            "<class 'float'>\n",
            "<class 'str'>\n",
            "<class 'list'>\n",
            "<class 'tuple'>\n",
            "<class 'dict'>\n"
          ]
        }
      ],
      "source": [
        "print(type(None))\n",
        "print(type(True))\n",
        "print(type(5))\n",
        "print(type(5.5))\n",
        "print(type('hi'))\n",
        "print(type([]))\n",
        "print(type(()))\n",
        "print(type({}))"
      ]
    },
    {
      "cell_type": "code",
      "source": [
        "class BigObject:\n",
        "  pass\n",
        "obj1=BigObject()\n",
        "print(type(None))\n",
        "print(type(True))\n",
        "print(type(5))\n",
        "print(type(5.5))\n",
        "print(type('hi'))\n",
        "print(type([]))\n",
        "print(type(()))\n",
        "print(type({}))\n",
        "print(type(obj1))"
      ],
      "metadata": {
        "colab": {
          "base_uri": "https://localhost:8080/"
        },
        "id": "4QHOeqKtKYlQ",
        "outputId": "5a880696-1c05-45e4-990d-e1f1b242ef2f"
      },
      "execution_count": 2,
      "outputs": [
        {
          "output_type": "stream",
          "name": "stdout",
          "text": [
            "<class 'NoneType'>\n",
            "<class 'bool'>\n",
            "<class 'int'>\n",
            "<class 'float'>\n",
            "<class 'str'>\n",
            "<class 'list'>\n",
            "<class 'tuple'>\n",
            "<class 'dict'>\n",
            "<class '__main__.BigObject'>\n"
          ]
        }
      ]
    },
    {
      "cell_type": "code",
      "source": [
        "\n",
        "class playerCharacter:\n",
        "  def __init__(self,name):\n",
        "    self.name=name\n",
        "  def run(self):\n",
        "    print('run')\n",
        "player1=playerCharacter('cindy')\n",
        "print (player1)"
      ],
      "metadata": {
        "colab": {
          "base_uri": "https://localhost:8080/"
        },
        "id": "AHyjoQFQKbbE",
        "outputId": "9e725532-3801-4a03-f796-095ac15a6363"
      },
      "execution_count": 3,
      "outputs": [
        {
          "output_type": "stream",
          "name": "stdout",
          "text": [
            "<__main__.playerCharacter object at 0x7f76acb7ab50>\n"
          ]
        }
      ]
    },
    {
      "cell_type": "code",
      "source": [
        "class playerCharacter:\n",
        "  def __init__(self,name):\n",
        "    self.name=name\n",
        "  def run(self):\n",
        "    print('run')\n",
        "player1=playerCharacter('cindy')\n",
        "print (player1)"
      ],
      "metadata": {
        "colab": {
          "base_uri": "https://localhost:8080/"
        },
        "id": "QdYAhCw6KitW",
        "outputId": "c10e95fc-d23b-4172-ccc0-59d08c9a7f44"
      },
      "execution_count": 4,
      "outputs": [
        {
          "output_type": "stream",
          "name": "stdout",
          "text": [
            "<__main__.playerCharacter object at 0x7f76acb7b220>\n"
          ]
        }
      ]
    },
    {
      "cell_type": "code",
      "source": [
        "class playerCharacter:\n",
        "  def __init__(self,name,age):\n",
        "    self.name=name\n",
        "    self.age=age\n",
        "  def run(self):\n",
        "    print('run')\n",
        "    return 'done'\n",
        "player1=playerCharacter('cindy',44)\n",
        "player2=playerCharacter('Tom',21)\n",
        "print (player1)\n",
        "print (player2)"
      ],
      "metadata": {
        "colab": {
          "base_uri": "https://localhost:8080/"
        },
        "id": "vVG263c7KlI_",
        "outputId": "b3fdd97d-a4df-48e1-b6f5-0559d678bde3"
      },
      "execution_count": 5,
      "outputs": [
        {
          "output_type": "stream",
          "name": "stdout",
          "text": [
            "<__main__.playerCharacter object at 0x7f76acb7a190>\n",
            "<__main__.playerCharacter object at 0x7f76acb7a850>\n"
          ]
        }
      ]
    },
    {
      "cell_type": "code",
      "source": [
        "class playerCharacter:\n",
        "  def __init__(self,name,age):\n",
        "    self.name=name\n",
        "    self.age=age\n",
        "  def run(self):\n",
        "    print('run')\n",
        "    return 'done'\n",
        "player1=playerCharacter('cindy',44)\n",
        "player2=playerCharacter('Tom',21)\n",
        "player2.attack=50\n",
        "print (player1)\n",
        "print (player2.attack)"
      ],
      "metadata": {
        "colab": {
          "base_uri": "https://localhost:8080/"
        },
        "id": "7G6BUyKHKpd3",
        "outputId": "bef05b83-3973-4190-ef26-3d4520c7544c"
      },
      "execution_count": 6,
      "outputs": [
        {
          "output_type": "stream",
          "name": "stdout",
          "text": [
            "<__main__.playerCharacter object at 0x7f76acb7aeb0>\n",
            "50\n"
          ]
        }
      ]
    },
    {
      "cell_type": "code",
      "source": [
        "class playerCharacter:\n",
        "  def __init__(self,name,age):\n",
        "    self.name=name\n",
        "    self.age=age\n",
        "  def run(self):\n",
        "    print('run')\n",
        "    return 'done'\n",
        "player1=playerCharacter('cindy',44)\n",
        "player2=playerCharacter('Tom',21)\n",
        "player2.attack=50\n",
        "print (player1.name)\n",
        "print (player2.attack)"
      ],
      "metadata": {
        "colab": {
          "base_uri": "https://localhost:8080/"
        },
        "id": "gJmJ1PTLbnXK",
        "outputId": "82234f69-20ff-4259-af33-44ed651c8ed3"
      },
      "execution_count": 7,
      "outputs": [
        {
          "output_type": "stream",
          "name": "stdout",
          "text": [
            "cindy\n",
            "50\n"
          ]
        }
      ]
    },
    {
      "cell_type": "code",
      "source": [
        "class playerCharacter:\n",
        "  membership=True\n",
        "  def __init__(self,name,age):\n",
        "    self.name=name\n",
        "    self.age=age\n",
        "  def run(self):\n",
        "    print('run')\n",
        "    return 'done'\n",
        "player1=playerCharacter('cindy',44)\n",
        "player2=playerCharacter('Tom',21)\n",
        "player2.attack=50\n",
        "print (player1.membership)\n",
        "print (player2.membership)"
      ],
      "metadata": {
        "colab": {
          "base_uri": "https://localhost:8080/"
        },
        "id": "NJh5SrpJbp4M",
        "outputId": "cf5f90e9-c07c-4f46-96be-2ba3790f7ad8"
      },
      "execution_count": 8,
      "outputs": [
        {
          "output_type": "stream",
          "name": "stdout",
          "text": [
            "True\n",
            "True\n"
          ]
        }
      ]
    },
    {
      "cell_type": "code",
      "source": [
        "class playerCharacter:\n",
        "  membership=True\n",
        "  def __init__(self,name,age):\n",
        "    if(playerCharacter.membership):\n",
        "      self.name=name\n",
        "      self.age=age\n",
        "  def shout(self):\n",
        "    print(f'my name is {self.name}')\n",
        "    return 'done'\n",
        "player1=playerCharacter('cindy',44)\n",
        "player2=playerCharacter('Tom',21)\n",
        "player2.attack=50\n",
        "print (player1.shout())\n",
        "print (player2.shout())"
      ],
      "metadata": {
        "colab": {
          "base_uri": "https://localhost:8080/"
        },
        "id": "P_Ps9ss3btX0",
        "outputId": "017f5f59-2b7d-4fbe-e65b-0bc6bc3962a2"
      },
      "execution_count": 9,
      "outputs": [
        {
          "output_type": "stream",
          "name": "stdout",
          "text": [
            "my name is cindy\n",
            "done\n",
            "my name is Tom\n",
            "done\n"
          ]
        }
      ]
    },
    {
      "cell_type": "code",
      "source": [
        "class playerCharacter:\n",
        "  membership=True\n",
        "  def __init__(self,name,age):\n",
        "    if(age>18):\n",
        "      self.name=name\n",
        "      self.age=age\n",
        "  def shout(self):\n",
        "    print(f'my name is {self.name}')\n",
        "    \n",
        "player1=playerCharacter('cindy',19)\n",
        "\n",
        "print (player1.shout())"
      ],
      "metadata": {
        "colab": {
          "base_uri": "https://localhost:8080/"
        },
        "id": "cHI1Qldlbwvc",
        "outputId": "5cac40f4-5a6d-40da-c853-565914b09a93"
      },
      "execution_count": 1,
      "outputs": [
        {
          "output_type": "stream",
          "name": "stdout",
          "text": [
            "my name is cindy\n",
            "None\n"
          ]
        }
      ]
    },
    {
      "cell_type": "code",
      "source": [
        "class playerCharacter:\n",
        "  membership=True\n",
        "  def __init__(self,name,age):\n",
        "    if(age>18):\n",
        "      self.name=name\n",
        "      self.age=age\n",
        "  def shout(self):\n",
        "    print(f'my name is {self.name}')\n",
        "  @classmethod\n",
        "  def adding_things(cls,num1,num2):\n",
        "    return num1+num2\n",
        "    \n",
        "print(playerCharacter.adding_things(2,3))"
      ],
      "metadata": {
        "colab": {
          "base_uri": "https://localhost:8080/"
        },
        "id": "2GmDxh5T2vvl",
        "outputId": "2994376e-5813-4a44-bfd2-ec66b54854d8"
      },
      "execution_count": 2,
      "outputs": [
        {
          "output_type": "stream",
          "name": "stdout",
          "text": [
            "5\n"
          ]
        }
      ]
    },
    {
      "cell_type": "code",
      "source": [
        "class playerCharacter:\n",
        "  def __init__(self,name,age):\n",
        "    self.name=name\n",
        "    self.age=age\n",
        "  def run(self):\n",
        "    print('run')\n",
        "  def speak(self):\n",
        "    print(f'my name is {self.name},and iam {self.age} years old')\n",
        "player1=playerCharacter('cindy',44)\n",
        "\n",
        "player1.speak()"
      ],
      "metadata": {
        "colab": {
          "base_uri": "https://localhost:8080/"
        },
        "id": "kWljtNJk2ywB",
        "outputId": "335eed7e-346e-478a-f14f-426344cc4cbd"
      },
      "execution_count": 3,
      "outputs": [
        {
          "output_type": "stream",
          "name": "stdout",
          "text": [
            "my name is cindy,and iam 44 years old\n"
          ]
        }
      ]
    },
    {
      "cell_type": "code",
      "source": [
        "class playerCharacter:\n",
        "  def __init__(self,name,age):\n",
        "    self.name=name\n",
        "    self.age=age\n",
        "  def run(self):\n",
        "    print('run')\n",
        "  def speak(self):\n",
        "    print(f'my name is {self.name},and iam {self.age} years old')\n",
        "player1=playerCharacter('cindy',44)\n",
        "player1.name='!!!'\n",
        "player1.speak='boooo'\n",
        "print(player1.speak)"
      ],
      "metadata": {
        "colab": {
          "base_uri": "https://localhost:8080/"
        },
        "id": "jlOVoJsA21ap",
        "outputId": "6ce192cc-c5f3-4d57-b8f0-7cde93f8506f"
      },
      "execution_count": 4,
      "outputs": [
        {
          "output_type": "stream",
          "name": "stdout",
          "text": [
            "boooo\n"
          ]
        }
      ]
    },
    {
      "cell_type": "code",
      "source": [
        "class playerCharacter:\n",
        "  def __init__(self,name,age):\n",
        "    self._name=name\n",
        "    self._age=age\n",
        "  def run(self):\n",
        "    print('run')\n",
        "  def speak(self):\n",
        "    print(f'my name is {self._name},and iam {self._age} years old')\n",
        "player1=playerCharacter('cindy',44)\n",
        "\n",
        "print(player1.speak)"
      ],
      "metadata": {
        "colab": {
          "base_uri": "https://localhost:8080/"
        },
        "id": "L50Ri6Kf24T6",
        "outputId": "df267469-be0e-4796-a9bb-db36b99177e2"
      },
      "execution_count": 5,
      "outputs": [
        {
          "output_type": "stream",
          "name": "stdout",
          "text": [
            "<bound method playerCharacter.speak of <__main__.playerCharacter object at 0x7f4f899ca3d0>>\n"
          ]
        }
      ]
    },
    {
      "cell_type": "code",
      "source": [
        "class user(object):\n",
        "  def __init__(self,email):\n",
        "    self.email=email\n",
        "\n",
        "  def sign_in(self):\n",
        "    print('logged in')\n",
        "\n",
        "class Wizard(user):\n",
        "  def __init__(self,name,power):\n",
        "    self.name=name\n",
        "    self.power=power\n",
        "\n",
        "  def attack(self):\n",
        "    print(f'attacking with power of {self.power}')\n",
        "\n",
        "##class archer(User):\n",
        "  #def __init__(self,name,num_arrow):\n",
        "   #self.name=name\n",
        "    #self.num_arrow=num_arrow\n",
        "\n",
        "  def attack(self):\n",
        "    print(f'attacking with arrows: arrow left-{self.num_arrow}')\n",
        "Wizard1=Wizard('merlin',50)\n",
        "\n",
        "print(Wizard1.sign_in())\n",
        "     "
      ],
      "metadata": {
        "colab": {
          "base_uri": "https://localhost:8080/"
        },
        "id": "Ua8mjiKO261e",
        "outputId": "cd349e14-d148-481c-9cd6-dad4244cc60d"
      },
      "execution_count": 6,
      "outputs": [
        {
          "output_type": "stream",
          "name": "stdout",
          "text": [
            "logged in\n",
            "None\n"
          ]
        }
      ]
    },
    {
      "cell_type": "code",
      "source": [
        "class toy():\n",
        "  def __init__(self,color,age):\n",
        "    self.color=color\n",
        "    self.age=age\n",
        "    self.my_dict={\n",
        "        'name':'yoyo',\n",
        "        'has_pets': False\n",
        "    }\n",
        "  def __str__(self):\n",
        "    return f'{self.color}'\n",
        "  def __len__(self):\n",
        "    return 5\n",
        "  def __call__(self):\n",
        "    return('ress??')\n",
        "  def __getitem__(self,i):  \n",
        "    return self.my_dict[i]\n",
        "action_figure=toy('red',0)\n",
        "print(action_figure.__str__())\n",
        "print(str(action_figure))\n",
        "print(len(action_figure))\n",
        "print(action_figure())\n",
        "print(action_figure['name'])"
      ],
      "metadata": {
        "colab": {
          "base_uri": "https://localhost:8080/"
        },
        "id": "om6WL_VA3Kob",
        "outputId": "c9ecb474-9014-4a01-9e9c-120e25b87f68"
      },
      "execution_count": 7,
      "outputs": [
        {
          "output_type": "stream",
          "name": "stdout",
          "text": [
            "red\n",
            "red\n",
            "5\n",
            "ress??\n",
            "yoyo\n"
          ]
        }
      ]
    },
    {
      "cell_type": "code",
      "source": [
        "\n",
        "class a:\n",
        "  pass\n",
        "class b(a):\n",
        "  pass\n",
        "class c(a):\n",
        "  pass\n",
        "class d(b,c):\n",
        "  pass\n",
        "print(d.mro())"
      ],
      "metadata": {
        "colab": {
          "base_uri": "https://localhost:8080/"
        },
        "id": "iaHdB1R23Nn5",
        "outputId": "6d1a66ea-a60b-4546-f939-5ead28480308"
      },
      "execution_count": 8,
      "outputs": [
        {
          "output_type": "stream",
          "name": "stdout",
          "text": [
            "[<class '__main__.d'>, <class '__main__.b'>, <class '__main__.c'>, <class '__main__.a'>, <class 'object'>]\n"
          ]
        }
      ]
    },
    {
      "cell_type": "code",
      "source": [
        "\n",
        "class a:\n",
        "  num=1\n",
        "class b(a):\n",
        "  pass\n",
        "class c(a):\n",
        "  num=12\n",
        "class d(b,c):\n",
        "  pass\n",
        "print(d.num)"
      ],
      "metadata": {
        "colab": {
          "base_uri": "https://localhost:8080/"
        },
        "id": "HT-tInp23aXJ",
        "outputId": "42d07bea-5768-4ab1-e89c-af0572488e4c"
      },
      "execution_count": 9,
      "outputs": [
        {
          "output_type": "stream",
          "name": "stdout",
          "text": [
            "12\n"
          ]
        }
      ]
    },
    {
      "cell_type": "code",
      "source": [],
      "metadata": {
        "id": "KmDWcxAQ3dfV"
      },
      "execution_count": null,
      "outputs": []
    }
  ]
}