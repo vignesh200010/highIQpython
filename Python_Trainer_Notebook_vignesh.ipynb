{
  "nbformat": 4,
  "nbformat_minor": 0,
  "metadata": {
    "colab": {
      "provenance": [],
      "include_colab_link": true
    },
    "kernelspec": {
      "name": "python3",
      "display_name": "Python 3"
    },
    "language_info": {
      "name": "python"
    }
  },
  "cells": [
    {
      "cell_type": "markdown",
      "metadata": {
        "id": "view-in-github",
        "colab_type": "text"
      },
      "source": [
        "<a href=\"https://colab.research.google.com/github/vignesh200010/highIQpython/blob/main/Python_Trainer_Notebook_vignesh.ipynb\" target=\"_parent\"><img src=\"https://colab.research.google.com/assets/colab-badge.svg\" alt=\"Open In Colab\"/></a>"
      ]
    },
    {
      "cell_type": "markdown",
      "source": [
        "# **HighIQ Python Trainer Notebook** *(Zero to One)*"
      ],
      "metadata": {
        "id": "Z4FTcvTAdQKq"
      }
    },
    {
      "cell_type": "markdown",
      "source": [
        "# [**Click on this Course**](https://www.youtube.com/watch?v=eWRfhZUzrAc&t=2s)"
      ],
      "metadata": {
        "id": "Uwve7HQNa_8p"
      }
    },
    {
      "cell_type": "markdown",
      "source": [
        "## Variable And Functions"
      ],
      "metadata": {
        "id": "cpgKGi14bJCQ"
      }
    },
    {
      "cell_type": "code",
      "execution_count": null,
      "metadata": {
        "id": "HPoiJb3ea9IP"
      },
      "outputs": [],
      "source": [
        "def get_choices():\n",
        "  player_choice='rock'\n",
        "  computer_choice='paper'\n",
        "  return computer_choice"
      ]
    },
    {
      "cell_type": "code",
      "source": [
        "print(get_choices())"
      ],
      "metadata": {
        "colab": {
          "base_uri": "https://localhost:8080/"
        },
        "id": "w3C0-hpSTx_I",
        "outputId": "61115ded-dc1c-4a80-b53b-37f98ff5bf6e"
      },
      "execution_count": null,
      "outputs": [
        {
          "output_type": "stream",
          "name": "stdout",
          "text": [
            "paper\n"
          ]
        }
      ]
    },
    {
      "cell_type": "markdown",
      "source": [
        "## Calling Funtions"
      ],
      "metadata": {
        "id": "nPYEMWVUbPyG"
      }
    },
    {
      "cell_type": "code",
      "source": [
        "def greeting():\n",
        "  return 'hi'\n",
        "response=greeting()\n",
        "print(response)"
      ],
      "metadata": {
        "id": "QQg2W7qgbTld",
        "colab": {
          "base_uri": "https://localhost:8080/"
        },
        "outputId": "20d224ed-97cb-4c21-b183-fef1e5942cdc"
      },
      "execution_count": null,
      "outputs": [
        {
          "output_type": "stream",
          "name": "stdout",
          "text": [
            "hi\n"
          ]
        }
      ]
    },
    {
      "cell_type": "code",
      "source": [
        "def get_choices():\n",
        "  player_choice='rock'\n",
        "  computer_choice='paper'\n",
        "  return computer_choice\n",
        "choices=get_choices()\n",
        "print(choices)"
      ],
      "metadata": {
        "colab": {
          "base_uri": "https://localhost:8080/"
        },
        "id": "WYOKjdUNVvND",
        "outputId": "2fa80099-90a5-44ca-eb01-7887f4c256a1"
      },
      "execution_count": null,
      "outputs": [
        {
          "output_type": "stream",
          "name": "stdout",
          "text": [
            "paper\n"
          ]
        }
      ]
    },
    {
      "cell_type": "markdown",
      "source": [
        "# Dictionaries"
      ],
      "metadata": {
        "id": "3zCwfoAsdcJc"
      }
    },
    {
      "cell_type": "code",
      "source": [
        "dict={\"name\":\"beau\",\"color\":'blue'}\n",
        "print(dict)\n"
      ],
      "metadata": {
        "id": "_DIhAalSde__",
        "colab": {
          "base_uri": "https://localhost:8080/"
        },
        "outputId": "cb729b9d-19e5-4729-c390-d1b0bb29a3b4"
      },
      "execution_count": null,
      "outputs": [
        {
          "output_type": "stream",
          "name": "stdout",
          "text": [
            "{'name': 'beau', 'color': 'blue'}\n"
          ]
        }
      ]
    },
    {
      "cell_type": "markdown",
      "source": [
        "## User Input"
      ],
      "metadata": {
        "id": "petiJbGXdfhj"
      }
    },
    {
      "cell_type": "code",
      "source": [
        "def get_choices():\n",
        "  player_choice = input(\"Enter a choice (rock, paper, scissors): \")\n",
        "  computer_choice='paper'\n",
        "  choices = {\"player\": player_choice, \"computer\": computer_choice}\n",
        "  return choices \n",
        "choices= get_choices()\n",
        "print(choices)\n"
      ],
      "metadata": {
        "id": "_9k1DtPvdgi1",
        "colab": {
          "base_uri": "https://localhost:8080/"
        },
        "outputId": "9069c8b9-b912-4855-9fef-7898fa98ba9a"
      },
      "execution_count": null,
      "outputs": [
        {
          "output_type": "stream",
          "name": "stdout",
          "text": [
            "Enter a choice (rock, paper, scissors): rock\n",
            "{'player': 'rock', 'computer': 'paper'}\n"
          ]
        }
      ]
    },
    {
      "cell_type": "markdown",
      "source": [
        "## Libraries, Lists, Methods"
      ],
      "metadata": {
        "id": "tzZl3DOXdprh"
      }
    },
    {
      "cell_type": "code",
      "source": [
        "import random\n",
        "def get_choices():\n",
        "  player_choice = input(\"Enter a choice (rock, paper, scissors): \")\n",
        "  options = [\"rock\", \"paper\", \"scissors\"]\n",
        "  computer_choice = random.choice(options)\n",
        "  choices = {\"player\": player_choice, \"computer\": computer_choice}\n",
        "  return choices\n",
        "choices= get_choices()\n",
        "print(choices)"
      ],
      "metadata": {
        "id": "_S9m4uMlds3G",
        "colab": {
          "base_uri": "https://localhost:8080/"
        },
        "outputId": "475993ba-db86-4bec-db90-646db16983dc"
      },
      "execution_count": null,
      "outputs": [
        {
          "output_type": "stream",
          "name": "stdout",
          "text": [
            "Enter a choice (rock, paper, scissors): paper\n",
            "{'player': 'paper', 'computer': 'rock'}\n"
          ]
        }
      ]
    },
    {
      "cell_type": "code",
      "source": [
        "import random\n",
        "food=['pizza', 'carrots', 'eggs']\n",
        "dinner=random.choice(food)\n",
        "print(dinner)"
      ],
      "metadata": {
        "colab": {
          "base_uri": "https://localhost:8080/"
        },
        "id": "Sinj3D4Whbes",
        "outputId": "fc0bc9cd-bce1-4a6f-c13e-18b4f4a574d0"
      },
      "execution_count": null,
      "outputs": [
        {
          "output_type": "stream",
          "name": "stdout",
          "text": [
            "carrots\n"
          ]
        }
      ]
    },
    {
      "cell_type": "markdown",
      "source": [
        "## Function Arguments"
      ],
      "metadata": {
        "id": "l-tGnRjadtV5"
      }
    },
    {
      "cell_type": "code",
      "source": [
        "import random\n",
        "def get_choices():\n",
        "  player_choice = input(\"Enter a choice (rock, paper, scissors): \")\n",
        "  options = [\"rock\", \"paper\", \"scissors\"]\n",
        "  computer_choice = random.choice(options)\n",
        "  choices = {\"player\": player_choice, \"computer\": computer_choice}\n",
        "  return choices\n",
        "\n",
        "def check_win(player, computer):\n",
        "  return[player, computer]\n",
        "  \n",
        "check_win('paper','rock')\n"
      ],
      "metadata": {
        "id": "EV16_MRKdumv",
        "colab": {
          "base_uri": "https://localhost:8080/"
        },
        "outputId": "5660da4b-efcb-4147-8b11-77eab225cfdd"
      },
      "execution_count": null,
      "outputs": [
        {
          "output_type": "execute_result",
          "data": {
            "text/plain": [
              "['paper', 'rock']"
            ]
          },
          "metadata": {},
          "execution_count": 1
        }
      ]
    },
    {
      "cell_type": "markdown",
      "source": [
        "## If Statements "
      ],
      "metadata": {
        "id": "03ei427ydvCH"
      }
    },
    {
      "cell_type": "code",
      "source": [
        "import random\n",
        "def get_choices():\n",
        "  player_choice = input(\"Enter a choice (rock, paper, scissors): \")\n",
        "  options = [\"rock\", \"paper\", \"scissors\"]\n",
        "  computer_choice = random.choice(options)\n",
        "  choices = {\"player\": player_choice, \"computer\": computer_choice}\n",
        "  return choices\n",
        "def check_win(player,computer):\n",
        "    if player==computer:\n",
        "        return(\"Its a tie\")\n",
        "check_win(\"rock\",\"rock\")   "
      ],
      "metadata": {
        "id": "KLdfAJpAdw5e",
        "colab": {
          "base_uri": "https://localhost:8080/",
          "height": 35
        },
        "outputId": "0279513c-b548-4309-8c40-0211b6b578d6"
      },
      "execution_count": null,
      "outputs": [
        {
          "output_type": "execute_result",
          "data": {
            "text/plain": [
              "'Its a tie'"
            ],
            "application/vnd.google.colaboratory.intrinsic+json": {
              "type": "string"
            }
          },
          "metadata": {},
          "execution_count": 4
        }
      ]
    },
    {
      "cell_type": "code",
      "source": [
        "a=3\n",
        "b=5\n",
        "if a<b:\n",
        "  print('yes')"
      ],
      "metadata": {
        "colab": {
          "base_uri": "https://localhost:8080/"
        },
        "id": "JWt8i07NwPjf",
        "outputId": "13014bc0-54b9-4fe0-bff4-1f15d8b2ebb5"
      },
      "execution_count": null,
      "outputs": [
        {
          "output_type": "stream",
          "name": "stdout",
          "text": [
            "yes\n"
          ]
        }
      ]
    },
    {
      "cell_type": "markdown",
      "source": [
        "## Concatenating Strings"
      ],
      "metadata": {
        "id": "lLc9dSxAdxlO"
      }
    },
    {
      "cell_type": "code",
      "source": [
        "\n",
        "import random\n",
        "def get_choices():\n",
        "  player_choice = input(\"Enter a choice (rock, paper, scissors): \")\n",
        "  options = [\"rock\", \"paper\", \"scissors\"]\n",
        "  computer_choice = random.choice(options)\n",
        "  choices = {\"player\": player_choice, \"computer\": computer_choice}\n",
        "  return choices\n",
        "def check_win(player,computer):\n",
        "    print(\"you chose \" + player + \" , computer \" + computer)\n",
        "    if player==computer:\n",
        "        return ('its a tie')\n",
        "check_win(\"rock\",\"paper\")"
      ],
      "metadata": {
        "id": "Fe9SwQGddzI_",
        "outputId": "5aa5a258-06db-408b-ab08-cac99d77dcb7",
        "colab": {
          "base_uri": "https://localhost:8080/"
        }
      },
      "execution_count": null,
      "outputs": [
        {
          "output_type": "stream",
          "name": "stdout",
          "text": [
            "you chose rock , computer paper\n"
          ]
        }
      ]
    },
    {
      "cell_type": "markdown",
      "source": [
        "## f-strings"
      ],
      "metadata": {
        "id": "P90e3Tehdzyo"
      }
    },
    {
      "cell_type": "code",
      "source": [
        "import random\n",
        "def get_choices():\n",
        "  player_choice = input(\"Enter a choice (rock, paper, scissors): \")\n",
        "  options = [\"rock\", \"paper\", \"scissors\"]\n",
        "  computer_choice = random.choice(options)\n",
        "  choices = {\"player\": player_choice, \"computer\": computer_choice}\n",
        "  return choices\n",
        "def check_win(player,computer):\n",
        "    print(f\"you chose {player},computer {computer}\")\n",
        "    if player==computer:\n",
        "        return ('its a tie')\n",
        "check_win(\"rock\",\"paper\")"
      ],
      "metadata": {
        "id": "Qgo8cE3cd1Q2",
        "colab": {
          "base_uri": "https://localhost:8080/"
        },
        "outputId": "30612739-f15c-4912-d4dd-37ec02ede4a9"
      },
      "execution_count": null,
      "outputs": [
        {
          "output_type": "stream",
          "name": "stdout",
          "text": [
            "you chose rock,computer paper\n"
          ]
        }
      ]
    },
    {
      "cell_type": "markdown",
      "source": [
        "## Else and Elif Statements"
      ],
      "metadata": {
        "id": "u_mTakxBd2kS"
      }
    },
    {
      "cell_type": "code",
      "source": [
        "import random\n",
        "def get_choices():\n",
        "  player_choice = input(\"Enter a choice (rock, paper, scissors): \")\n",
        "  options = [\"rock\", \"paper\", \"scissors\"]\n",
        "  computer_choice = random.choice(options)\n",
        "  choices = {\"player\": player_choice, \"computer\": computer_choice}\n",
        "  return choices\n",
        "def check_win(player,computer):\n",
        "    print(f\"you chose {player},computer {computer}\")\n",
        "    if player==computer:\n",
        "        return ('its a tie')\n",
        "    elif player == 'rock' and computer == 'scissors':\n",
        "      return 'rock samshes scissors! you win!'\n",
        "    elif player == 'rock' and computer== 'paper':\n",
        "      return 'rock samshes scissors! you win!'\n",
        "check_win(\"rock\",\"paper\")\n"
      ],
      "metadata": {
        "id": "zNjDnsigd2_W",
        "colab": {
          "base_uri": "https://localhost:8080/",
          "height": 53
        },
        "outputId": "fefd4b0b-6057-4f9e-d114-44fbd5d4cb7a"
      },
      "execution_count": null,
      "outputs": [
        {
          "output_type": "stream",
          "name": "stdout",
          "text": [
            "you chose rock,computer paper\n"
          ]
        },
        {
          "output_type": "execute_result",
          "data": {
            "text/plain": [
              "'rock samshes scissors! you win!'"
            ],
            "application/vnd.google.colaboratory.intrinsic+json": {
              "type": "string"
            }
          },
          "metadata": {},
          "execution_count": 50
        }
      ]
    },
    {
      "cell_type": "markdown",
      "source": [
        "## Refactoring and Nested If"
      ],
      "metadata": {
        "id": "wS2xfKnod4eR"
      }
    },
    {
      "cell_type": "markdown",
      "source": [
        "## Accessing Dictionary Values"
      ],
      "metadata": {
        "id": "DD9fzpy-d62Y"
      }
    },
    {
      "cell_type": "code",
      "source": [
        "import random\n",
        "\n",
        "def get_choices():\n",
        "  player_choice = input(\"Enter a choice (rock, paper, scissors): \")\n",
        "  options = [\"rock\", \"paper\", \"scissors\"]\n",
        "  computer_choice = random.choice(options)\n",
        "  choices = {\"player\": player_choice, \"computer\": computer_choice}\n",
        "  return choices\n",
        "\n",
        "def check_win(player, computer):\n",
        "  print(f\"You chose {player}, computer chose {computer}\")\n",
        "  if player == computer:\n",
        "    return \"It's a tie!\"\n",
        "  elif player == \"rock\":\n",
        "    if computer == \"scissors\":\n",
        "      return \"Rock smashes scissors! You win!\"\n",
        "    else:\n",
        "      return \"Paper covers rock! You lose.\"\n",
        "  elif player == \"paper\":\n",
        "    if computer == \"rock\":\n",
        "      return \"Paper covers rock! You win!\"\n",
        "    else:\n",
        "      return \"Scissors cuts paper! You lose.\"\n",
        "  elif player == \"scissors\":\n",
        "    if computer == \"paper\":\n",
        "      return \"Scissors cuts paper! You win!\"\n",
        "    else:\n",
        "      return \"Rock smashes scissors! You lose.\"\n",
        "      \n",
        "choices = get_choices()\n",
        "result = check_win(choices[\"player\"], choices[\"computer\"])\n",
        "print(result)"
      ],
      "metadata": {
        "id": "eY0OrKged7XW",
        "colab": {
          "base_uri": "https://localhost:8080/"
        },
        "outputId": "c1f776aa-42db-4c2c-b474-b27997f97f5b"
      },
      "execution_count": null,
      "outputs": [
        {
          "output_type": "stream",
          "name": "stdout",
          "text": [
            "Enter a choice (rock, paper, scissors): rock\n",
            "You chose rock, computer chose rock\n",
            "It's a tie!\n"
          ]
        }
      ]
    },
    {
      "cell_type": "markdown",
      "source": [
        "## Testing Game"
      ],
      "metadata": {
        "id": "6YCzWHIld9e9"
      }
    },
    {
      "cell_type": "code",
      "source": [
        "import random\n",
        "\n",
        "def get_choices():\n",
        "  player_choice = input(\"Enter a choice (rock, paper, scissors): \")\n",
        "  options = [\"rock\", \"paper\", \"scissors\"]\n",
        "  computer_choice = random.choice(options)\n",
        "  choices = {\"player\": player_choice, \"computer\": computer_choice}\n",
        "  return choices\n",
        "\n",
        "def check_win(player, computer):\n",
        "  print(f\"You chose {player}, computer chose {computer}\")\n",
        "  if player == computer:\n",
        "    return \"It's a tie!\"\n",
        "  elif player == \"rock\":\n",
        "    if computer == \"scissors\":\n",
        "      return \"Rock smashes scissors! You win!\"\n",
        "    else:\n",
        "      return \"Paper covers rock! You lose.\"\n",
        "  elif player == \"paper\":\n",
        "    if computer == \"rock\":\n",
        "      return \"Paper covers rock! You win!\"\n",
        "    else:\n",
        "      return \"Scissors cuts paper! You lose.\"\n",
        "  elif player == \"scissors\":\n",
        "    if computer == \"paper\":\n",
        "      return \"Scissors cuts paper! You win!\"\n",
        "    else:\n",
        "      return \"Rock smashes scissors! You lose.\"\n",
        "      \n",
        "choices = get_choices()\n",
        "result = check_win(choices[\"player\"], choices[\"computer\"])\n",
        "print(result)"
      ],
      "metadata": {
        "id": "s0OEj-Gbd-On"
      },
      "execution_count": null,
      "outputs": []
    },
    {
      "cell_type": "markdown",
      "source": [
        "## Variables"
      ],
      "metadata": {
        "id": "pMILE6PCeN9p"
      }
    },
    {
      "cell_type": "code",
      "source": [
        "name='beau'\n",
        "age=39\n",
        "print(name)\n",
        "print(age)\n"
      ],
      "metadata": {
        "id": "EVFLtjhUeOWX",
        "colab": {
          "base_uri": "https://localhost:8080/"
        },
        "outputId": "886c9289-b972-4e24-edc9-1698808e1a25"
      },
      "execution_count": null,
      "outputs": [
        {
          "output_type": "stream",
          "name": "stdout",
          "text": [
            "beau\n",
            "39\n"
          ]
        }
      ]
    },
    {
      "cell_type": "markdown",
      "source": [
        "## Expressions and Statements "
      ],
      "metadata": {
        "id": "6q1iRyb2ePuB"
      }
    },
    {
      "cell_type": "code",
      "source": [
        "name='beau'; print(name)"
      ],
      "metadata": {
        "id": "a3PXtTa0eREn",
        "colab": {
          "base_uri": "https://localhost:8080/"
        },
        "outputId": "61f4c27b-1ced-435c-f5f7-4bbaf5558941"
      },
      "execution_count": null,
      "outputs": [
        {
          "output_type": "stream",
          "name": "stdout",
          "text": [
            "beau\n"
          ]
        }
      ]
    },
    {
      "cell_type": "markdown",
      "source": [
        "## Comments"
      ],
      "metadata": {
        "id": "2rCTKhRLeRuE"
      }
    },
    {
      "cell_type": "code",
      "source": [
        "##this is commented line"
      ],
      "metadata": {
        "id": "x1raHR6OeTCn"
      },
      "execution_count": null,
      "outputs": []
    },
    {
      "cell_type": "markdown",
      "source": [
        "## Data Types"
      ],
      "metadata": {
        "id": "Y4UgKDOZeTlw"
      }
    },
    {
      "cell_type": "code",
      "source": [
        "name='beau'\n",
        "print(type(name)==str)"
      ],
      "metadata": {
        "id": "5e5xG42ReVSf",
        "colab": {
          "base_uri": "https://localhost:8080/"
        },
        "outputId": "3be4e930-1a8b-4abc-e7ef-f5d510a704e6"
      },
      "execution_count": null,
      "outputs": [
        {
          "output_type": "stream",
          "name": "stdout",
          "text": [
            "True\n"
          ]
        }
      ]
    },
    {
      "cell_type": "code",
      "source": [
        "name='beau'\n",
        "print(type(name))"
      ],
      "metadata": {
        "colab": {
          "base_uri": "https://localhost:8080/"
        },
        "id": "I8nEumEqGfO0",
        "outputId": "2070732a-5a85-4355-cd20-2c436adbb5f6"
      },
      "execution_count": null,
      "outputs": [
        {
          "output_type": "stream",
          "name": "stdout",
          "text": [
            "<class 'str'>\n"
          ]
        }
      ]
    },
    {
      "cell_type": "code",
      "source": [
        "name='beau'\n",
        "print(isinstance(name,str))\n",
        "age=39\n",
        "print(isinstance(age,int))\n"
      ],
      "metadata": {
        "colab": {
          "base_uri": "https://localhost:8080/"
        },
        "id": "FrM-qzbwG4ON",
        "outputId": "f21b1a7d-ea16-488a-95ec-d463eb90f737"
      },
      "execution_count": null,
      "outputs": [
        {
          "output_type": "stream",
          "name": "stdout",
          "text": [
            "True\n",
            "True\n"
          ]
        }
      ]
    },
    {
      "cell_type": "code",
      "source": [
        "number='20'\n",
        "age=int(number)\n",
        "print(isinstance(age,int))"
      ],
      "metadata": {
        "colab": {
          "base_uri": "https://localhost:8080/"
        },
        "id": "1OWXya2IH79V",
        "outputId": "ec6b608d-8313-444f-8711-b334446371de"
      },
      "execution_count": null,
      "outputs": [
        {
          "output_type": "stream",
          "name": "stdout",
          "text": [
            "True\n"
          ]
        }
      ]
    },
    {
      "cell_type": "markdown",
      "source": [
        "## Operators"
      ],
      "metadata": {
        "id": "mwrnTSyGeWYd"
      }
    },
    {
      "cell_type": "code",
      "source": [
        "##arithmetic operators \n",
        "##assignment operators\n",
        "##comparison operators\n",
        "##logical operators\n",
        "##Bitwise Operators\n",
        "##Boolean Operators\n",
        "##Ternary Operator"
      ],
      "metadata": {
        "id": "O2270ZTvK7EJ"
      },
      "execution_count": null,
      "outputs": []
    },
    {
      "cell_type": "markdown",
      "source": [
        "## Arithmetic Operators"
      ],
      "metadata": {
        "id": "whKmv46teX5c"
      }
    },
    {
      "cell_type": "code",
      "source": [
        "1+-1 #0\n",
        "2-1  #1\n",
        "2*2  #4\n",
        "4/2  #2\n",
        "4%3  #1\n",
        "4**2 #16\n",
        "5//2 #2"
      ],
      "metadata": {
        "id": "Y4rSawE8eYTP",
        "colab": {
          "base_uri": "https://localhost:8080/"
        },
        "outputId": "bff7197e-3ec1-42cc-eaaf-b69b12215989"
      },
      "execution_count": null,
      "outputs": [
        {
          "output_type": "execute_result",
          "data": {
            "text/plain": [
              "2"
            ]
          },
          "metadata": {},
          "execution_count": 93
        }
      ]
    },
    {
      "cell_type": "code",
      "source": [
        "print('scamp'+'is a good god')"
      ],
      "metadata": {
        "colab": {
          "base_uri": "https://localhost:8080/"
        },
        "id": "FKnm5vpAKxfO",
        "outputId": "a0fa3745-b79f-4ad3-83f7-f97f24fac0c0"
      },
      "execution_count": null,
      "outputs": [
        {
          "output_type": "stream",
          "name": "stdout",
          "text": [
            "scampis a good god\n"
          ]
        }
      ]
    },
    {
      "cell_type": "code",
      "source": [
        "age=8\n",
        "age+=8\n",
        "print(age)"
      ],
      "metadata": {
        "colab": {
          "base_uri": "https://localhost:8080/"
        },
        "id": "eG-4SxFyK0lX",
        "outputId": "b18323d9-56b4-4a67-fdf4-b5bd74efa051"
      },
      "execution_count": null,
      "outputs": [
        {
          "output_type": "stream",
          "name": "stdout",
          "text": [
            "16\n"
          ]
        }
      ]
    },
    {
      "cell_type": "markdown",
      "source": [
        "## Comparison Operators"
      ],
      "metadata": {
        "id": "6FmHbmxqeZq9"
      }
    },
    {
      "cell_type": "code",
      "source": [
        "a=1\n",
        "b=2\n",
        "print(a==b)\n",
        "print(a!=b)\n",
        "print(a>b)\n",
        "print(a<=b)"
      ],
      "metadata": {
        "id": "41c0Nb_QeaBZ",
        "colab": {
          "base_uri": "https://localhost:8080/"
        },
        "outputId": "b95fd3be-514c-499c-fe40-c50ce1f680e7"
      },
      "execution_count": null,
      "outputs": [
        {
          "output_type": "stream",
          "name": "stdout",
          "text": [
            "False\n",
            "True\n",
            "False\n",
            "True\n"
          ]
        }
      ]
    },
    {
      "cell_type": "markdown",
      "source": [
        "## Boolean Operators"
      ],
      "metadata": {
        "id": "2-J7FeH7ebK1"
      }
    },
    {
      "cell_type": "code",
      "source": [
        "condition1=True\n",
        "condition2=False\n",
        "print (not condition1)\n",
        "print (condition1 and condition2)\n",
        "print (condition1 or condition2)"
      ],
      "metadata": {
        "id": "kLdYyK5XebiG",
        "colab": {
          "base_uri": "https://localhost:8080/"
        },
        "outputId": "b55a16c1-b945-49b9-8af5-973d6eef986a"
      },
      "execution_count": null,
      "outputs": [
        {
          "output_type": "stream",
          "name": "stdout",
          "text": [
            "False\n",
            "False\n",
            "True\n"
          ]
        }
      ]
    },
    {
      "cell_type": "code",
      "source": [
        "print(0 or 1)\n",
        "print(False or 'hey')\n",
        "print('hi' or 'hey')\n",
        "print([] or False)\n",
        "print(False or [])"
      ],
      "metadata": {
        "colab": {
          "base_uri": "https://localhost:8080/"
        },
        "id": "y3bm40myPf7q",
        "outputId": "a31c9f4b-8036-454d-954f-3ff19e3f6725"
      },
      "execution_count": null,
      "outputs": [
        {
          "output_type": "stream",
          "name": "stdout",
          "text": [
            "1\n",
            "hey\n",
            "hi\n",
            "False\n",
            "[]\n"
          ]
        }
      ]
    },
    {
      "cell_type": "code",
      "source": [
        "print(0 and 1)\n",
        "print(1 and 0)\n",
        "print(False or 'hey')\n",
        "print('hi' or 'hey')\n",
        "print([] or False)\n",
        "print(False or [])"
      ],
      "metadata": {
        "colab": {
          "base_uri": "https://localhost:8080/"
        },
        "id": "26UexMerP3VG",
        "outputId": "57c2cd62-3add-41cc-f7b4-759feed65688"
      },
      "execution_count": null,
      "outputs": [
        {
          "output_type": "stream",
          "name": "stdout",
          "text": [
            "0\n",
            "0\n",
            "hey\n",
            "hi\n",
            "False\n",
            "[]\n"
          ]
        }
      ]
    },
    {
      "cell_type": "markdown",
      "source": [
        "## Bitwise Operators"
      ],
      "metadata": {
        "id": "TaKZjFosec8n"
      }
    },
    {
      "cell_type": "code",
      "source": [
        "## & perform binary AND\n",
        "## | perform binary OR\n",
        "## ^perform binary XOR operation\n",
        "## ~perform binary XOR operation\n",
        "## << shift left operation\n",
        "## >> shift left operation"
      ],
      "metadata": {
        "id": "MByGcBpOedUG"
      },
      "execution_count": null,
      "outputs": []
    },
    {
      "cell_type": "markdown",
      "source": [
        "## is & in Operators"
      ],
      "metadata": {
        "id": "hV5q9mC-eeo4"
      }
    },
    {
      "cell_type": "code",
      "source": [],
      "metadata": {
        "id": "Ndi4cnzlefAP"
      },
      "execution_count": null,
      "outputs": []
    },
    {
      "cell_type": "code",
      "source": [],
      "metadata": {
        "id": "jNilocyeCjYL"
      },
      "execution_count": null,
      "outputs": []
    },
    {
      "cell_type": "markdown",
      "source": [
        "## Ternary Operator"
      ],
      "metadata": {
        "id": "CUEmAwccegYF"
      }
    },
    {
      "cell_type": "code",
      "source": [
        "def is_adult2(age):\n",
        "  return True if age > 18 else False\n",
        "is_adult2(23)"
      ],
      "metadata": {
        "id": "MF-zLeiRegw2",
        "colab": {
          "base_uri": "https://localhost:8080/"
        },
        "outputId": "0ef0659e-3735-4e8e-f050-88e86814c898"
      },
      "execution_count": null,
      "outputs": [
        {
          "output_type": "execute_result",
          "data": {
            "text/plain": [
              "True"
            ]
          },
          "metadata": {},
          "execution_count": 103
        }
      ]
    },
    {
      "cell_type": "markdown",
      "source": [
        "## Strings"
      ],
      "metadata": {
        "id": "7L1YgOd8eh5h"
      }
    },
    {
      "cell_type": "code",
      "source": [
        "name='beau'\n",
        "name+=\" is my name\"\n",
        "print(name)\n"
      ],
      "metadata": {
        "id": "kwFNtWYkei_u",
        "colab": {
          "base_uri": "https://localhost:8080/"
        },
        "outputId": "aea59520-34f8-484a-a173-c691f64c4e36"
      },
      "execution_count": 2,
      "outputs": [
        {
          "output_type": "stream",
          "name": "stdout",
          "text": [
            "beau is my name\n"
          ]
        }
      ]
    },
    {
      "cell_type": "code",
      "source": [
        "print(\"\"\" beau is \n",
        "39\n",
        "yesras old\n",
        "\"\"\")"
      ],
      "metadata": {
        "colab": {
          "base_uri": "https://localhost:8080/"
        },
        "id": "4AIcN0wK9RRf",
        "outputId": "4f5c6117-5fba-48ec-d714-b75d000a5800"
      },
      "execution_count": 6,
      "outputs": [
        {
          "output_type": "stream",
          "name": "stdout",
          "text": [
            " beau is \n",
            "39\n",
            "yesras old\n",
            "\n"
          ]
        }
      ]
    },
    {
      "cell_type": "markdown",
      "source": [
        "## String Methods"
      ],
      "metadata": {
        "id": "_2IoegzLek6x"
      }
    },
    {
      "cell_type": "code",
      "source": [
        "print(\"beau\".upper())"
      ],
      "metadata": {
        "id": "Q6mQwv5_elY2",
        "colab": {
          "base_uri": "https://localhost:8080/"
        },
        "outputId": "7d5059d6-937b-4527-f4c0-0d3d4c000f52"
      },
      "execution_count": 7,
      "outputs": [
        {
          "output_type": "stream",
          "name": "stdout",
          "text": [
            "BEAU\n"
          ]
        }
      ]
    },
    {
      "cell_type": "code",
      "source": [
        "print(\"BEau\".lower())"
      ],
      "metadata": {
        "colab": {
          "base_uri": "https://localhost:8080/"
        },
        "id": "UqmLFkML9bLf",
        "outputId": "b8670dca-9a0e-4682-9905-8e0df8925420"
      },
      "execution_count": 12,
      "outputs": [
        {
          "output_type": "stream",
          "name": "stdout",
          "text": [
            "beau\n"
          ]
        }
      ]
    },
    {
      "cell_type": "code",
      "source": [
        "print(\"beau person\".title())"
      ],
      "metadata": {
        "colab": {
          "base_uri": "https://localhost:8080/"
        },
        "id": "ieabgKIr9gpB",
        "outputId": "a2b5355f-5330-4b2f-9174-2e02245c6ca3"
      },
      "execution_count": 11,
      "outputs": [
        {
          "output_type": "stream",
          "name": "stdout",
          "text": [
            "Beau Person\n"
          ]
        }
      ]
    },
    {
      "cell_type": "code",
      "source": [
        "print(\"beau person\".islower())"
      ],
      "metadata": {
        "colab": {
          "base_uri": "https://localhost:8080/"
        },
        "id": "mxtShplh9v4_",
        "outputId": "bc0dd14f-85f7-48f7-a795-67ad97d70fbe"
      },
      "execution_count": 13,
      "outputs": [
        {
          "output_type": "stream",
          "name": "stdout",
          "text": [
            "True\n"
          ]
        }
      ]
    },
    {
      "cell_type": "code",
      "source": [
        "print(\"beau person\".isalpha())"
      ],
      "metadata": {
        "colab": {
          "base_uri": "https://localhost:8080/"
        },
        "id": "xY8I-43494j5",
        "outputId": "ffc84724-93c9-4db0-b339-cafdb8ce5037"
      },
      "execution_count": 16,
      "outputs": [
        {
          "output_type": "stream",
          "name": "stdout",
          "text": [
            "False\n"
          ]
        }
      ]
    },
    {
      "cell_type": "code",
      "source": [
        "print(\"beau person\".isalnum())"
      ],
      "metadata": {
        "colab": {
          "base_uri": "https://localhost:8080/"
        },
        "id": "6CDZuG4T9_Yl",
        "outputId": "04d11ffb-c38e-4613-b666-1908d8c7d922"
      },
      "execution_count": 20,
      "outputs": [
        {
          "output_type": "stream",
          "name": "stdout",
          "text": [
            "False\n"
          ]
        }
      ]
    },
    {
      "cell_type": "code",
      "source": [
        "print(\"beau person\".startswith(\"beau\"))"
      ],
      "metadata": {
        "colab": {
          "base_uri": "https://localhost:8080/"
        },
        "id": "M83SqIE1-Rjt",
        "outputId": "144398e3-f135-4a64-8533-c841ebda6c6a"
      },
      "execution_count": 23,
      "outputs": [
        {
          "output_type": "stream",
          "name": "stdout",
          "text": [
            "True\n"
          ]
        }
      ]
    },
    {
      "cell_type": "code",
      "source": [
        "print(\"beau person\".endswith(\"person\"))"
      ],
      "metadata": {
        "colab": {
          "base_uri": "https://localhost:8080/"
        },
        "id": "2W0OhwRI-bdK",
        "outputId": "b013f452-0e18-42ea-f7e3-deee08cdafdb"
      },
      "execution_count": 24,
      "outputs": [
        {
          "output_type": "stream",
          "name": "stdout",
          "text": [
            "True\n"
          ]
        }
      ]
    },
    {
      "cell_type": "code",
      "source": [
        "txt = \"beau person\"\n",
        "\n",
        "x = txt.replace(\"beau\", \"ben\")\n",
        "\n",
        "print(x)\n"
      ],
      "metadata": {
        "colab": {
          "base_uri": "https://localhost:8080/"
        },
        "id": "zSAoQW3T-MKV",
        "outputId": "c80eddbc-9a9d-40a8-9f6a-2718fe58d231"
      },
      "execution_count": 26,
      "outputs": [
        {
          "output_type": "stream",
          "name": "stdout",
          "text": [
            "ben person\n"
          ]
        }
      ]
    },
    {
      "cell_type": "code",
      "source": [
        "txt = \"beau person\"\n",
        "\n",
        "x = txt.split()\n",
        "\n",
        "print(x)"
      ],
      "metadata": {
        "colab": {
          "base_uri": "https://localhost:8080/"
        },
        "id": "TEoeLbx79LKT",
        "outputId": "d005df5d-54e7-4b63-da4f-6675eda997c8"
      },
      "execution_count": 27,
      "outputs": [
        {
          "output_type": "stream",
          "name": "stdout",
          "text": [
            "['beau', 'person']\n"
          ]
        }
      ]
    },
    {
      "cell_type": "code",
      "source": [
        "name=\"Beau\"\n",
        "print(name.lower())\n",
        "print(name)"
      ],
      "metadata": {
        "colab": {
          "base_uri": "https://localhost:8080/"
        },
        "id": "N9lNBQlS_4em",
        "outputId": "cfcdeb9e-5936-45e8-ebe3-a125a9e72def"
      },
      "execution_count": 32,
      "outputs": [
        {
          "output_type": "stream",
          "name": "stdout",
          "text": [
            "beau\n",
            "Beau\n"
          ]
        }
      ]
    },
    {
      "cell_type": "code",
      "source": [
        "name=\"Beau\"\n",
        "print(len(name))"
      ],
      "metadata": {
        "colab": {
          "base_uri": "https://localhost:8080/"
        },
        "id": "M2RB1ojkAPYi",
        "outputId": "25250ebc-a83c-4a86-dd40-f76a92576da2"
      },
      "execution_count": 31,
      "outputs": [
        {
          "output_type": "stream",
          "name": "stdout",
          "text": [
            "4\n"
          ]
        }
      ]
    },
    {
      "cell_type": "code",
      "source": [
        "name=\"Beau\"\n",
        "print(name.lower())\n",
        "print(  \"au\" in name)"
      ],
      "metadata": {
        "colab": {
          "base_uri": "https://localhost:8080/"
        },
        "id": "-u_baFVwAT10",
        "outputId": "5623ccbc-88e9-402b-da3c-b7cf57f923bf"
      },
      "execution_count": 36,
      "outputs": [
        {
          "output_type": "stream",
          "name": "stdout",
          "text": [
            "beau\n",
            "True\n"
          ]
        }
      ]
    },
    {
      "cell_type": "markdown",
      "source": [
        "## Escaping Characters"
      ],
      "metadata": {
        "id": "u9cxX7ciemf8"
      }
    },
    {
      "cell_type": "code",
      "source": [
        "name=\"be\\\"au\"\n",
        "print(name)"
      ],
      "metadata": {
        "id": "qHh5l3Eiem_H",
        "colab": {
          "base_uri": "https://localhost:8080/"
        },
        "outputId": "17400fec-36e5-4f21-e18d-140e0aca9332"
      },
      "execution_count": 38,
      "outputs": [
        {
          "output_type": "stream",
          "name": "stdout",
          "text": [
            "be\"au\n"
          ]
        }
      ]
    },
    {
      "cell_type": "code",
      "source": [
        "name='be\\\"au'\n",
        "print(name)"
      ],
      "metadata": {
        "colab": {
          "base_uri": "https://localhost:8080/"
        },
        "id": "qeBzS8YvA4QV",
        "outputId": "ee60d812-5000-44b9-ad84-7ca21b8ce5db"
      },
      "execution_count": 39,
      "outputs": [
        {
          "output_type": "stream",
          "name": "stdout",
          "text": [
            "be\"au\n"
          ]
        }
      ]
    },
    {
      "cell_type": "code",
      "source": [
        "name='be\\nau'\n",
        "print(name)"
      ],
      "metadata": {
        "colab": {
          "base_uri": "https://localhost:8080/"
        },
        "id": "0VFgnHJjBJTY",
        "outputId": "4a840613-6cc9-4bad-84db-3be899b7587b"
      },
      "execution_count": 40,
      "outputs": [
        {
          "output_type": "stream",
          "name": "stdout",
          "text": [
            "be\n",
            "au\n"
          ]
        }
      ]
    },
    {
      "cell_type": "code",
      "source": [
        "name='be\\au'\n",
        "print(name)"
      ],
      "metadata": {
        "colab": {
          "base_uri": "https://localhost:8080/"
        },
        "id": "t5Yzfie-BQ9M",
        "outputId": "456140fa-32d5-40db-eea4-22a357e065ce"
      },
      "execution_count": 41,
      "outputs": [
        {
          "output_type": "stream",
          "name": "stdout",
          "text": [
            "be\u0007u\n"
          ]
        }
      ]
    },
    {
      "cell_type": "code",
      "source": [
        "name='be\\\\au'\n",
        "print(name)"
      ],
      "metadata": {
        "colab": {
          "base_uri": "https://localhost:8080/"
        },
        "id": "lHzsFiw1BZ2F",
        "outputId": "f6537ea5-ac74-4613-9080-2e2fd4b2d66a"
      },
      "execution_count": 42,
      "outputs": [
        {
          "output_type": "stream",
          "name": "stdout",
          "text": [
            "be\\au\n"
          ]
        }
      ]
    },
    {
      "cell_type": "markdown",
      "source": [
        "## String Characters & Slicing"
      ],
      "metadata": {
        "id": "splRgy3JeoGJ"
      }
    },
    {
      "cell_type": "code",
      "source": [
        "name='beau'\n",
        "print(name[0])\n",
        "print(name[-1])"
      ],
      "metadata": {
        "id": "6Xt-fu0Beop2",
        "colab": {
          "base_uri": "https://localhost:8080/"
        },
        "outputId": "3f9ed9e9-1bf1-465a-b430-edc91e9da298"
      },
      "execution_count": 44,
      "outputs": [
        {
          "output_type": "stream",
          "name": "stdout",
          "text": [
            "b\n",
            "u\n"
          ]
        }
      ]
    },
    {
      "cell_type": "code",
      "source": [
        "name='beau is cool'\n",
        "print(name[1:2])\n",
        "print(name[1:7])\n",
        "print(name[:7])\n",
        "print(name[5:])"
      ],
      "metadata": {
        "colab": {
          "base_uri": "https://localhost:8080/"
        },
        "id": "NWFATJrtCA_B",
        "outputId": "e1bcbf2f-153b-47dd-b343-0de762a81128"
      },
      "execution_count": 47,
      "outputs": [
        {
          "output_type": "stream",
          "name": "stdout",
          "text": [
            "e\n",
            "eau is\n",
            "beau is\n",
            "is cool\n"
          ]
        }
      ]
    },
    {
      "cell_type": "markdown",
      "source": [
        "## Booleans"
      ],
      "metadata": {
        "id": "ba0Wi85Vepwa"
      }
    },
    {
      "cell_type": "code",
      "source": [
        "done=True\n",
        "if done:\n",
        "  print('yes')\n",
        "else:\n",
        "  print('no')"
      ],
      "metadata": {
        "id": "Ylg0Z_8weqOf",
        "colab": {
          "base_uri": "https://localhost:8080/"
        },
        "outputId": "c48e307a-e540-4c2e-b63f-999015bde3da"
      },
      "execution_count": 52,
      "outputs": [
        {
          "output_type": "stream",
          "name": "stdout",
          "text": [
            "yes\n"
          ]
        }
      ]
    },
    {
      "cell_type": "code",
      "source": [
        "done=False\n",
        "if done:\n",
        "  print('yes')\n",
        "else:\n",
        "  print('no')"
      ],
      "metadata": {
        "colab": {
          "base_uri": "https://localhost:8080/"
        },
        "id": "uU62LVRlDOUM",
        "outputId": "cd62f1fe-7a97-4eaf-a740-1d7ce8faf38d"
      },
      "execution_count": 53,
      "outputs": [
        {
          "output_type": "stream",
          "name": "stdout",
          "text": [
            "no\n"
          ]
        }
      ]
    },
    {
      "cell_type": "code",
      "source": [
        "done=0\n",
        "if done:\n",
        "  print('yes')\n",
        "else:\n",
        "  print('no')"
      ],
      "metadata": {
        "colab": {
          "base_uri": "https://localhost:8080/"
        },
        "id": "7oKIYNPTDQht",
        "outputId": "7357fb53-a342-414f-e4fa-5f84953d1e47"
      },
      "execution_count": 55,
      "outputs": [
        {
          "output_type": "stream",
          "name": "stdout",
          "text": [
            "no\n"
          ]
        }
      ]
    },
    {
      "cell_type": "code",
      "source": [
        "done=-1\n",
        "if done:\n",
        "  print('yes')\n",
        "else:\n",
        "  print('no')"
      ],
      "metadata": {
        "colab": {
          "base_uri": "https://localhost:8080/"
        },
        "id": "JJGj8LnyDTAW",
        "outputId": "412965e2-0f97-467b-ca5f-ca1acc30c5b1"
      },
      "execution_count": 54,
      "outputs": [
        {
          "output_type": "stream",
          "name": "stdout",
          "text": [
            "yes\n"
          ]
        }
      ]
    },
    {
      "cell_type": "code",
      "source": [
        "done=''\n",
        "if done:\n",
        "  print('yes')\n",
        "else:\n",
        "  print('no')"
      ],
      "metadata": {
        "id": "N32kf5EmDrZ7",
        "outputId": "f55afc67-4863-4215-fd78-5ea79aeb7a21",
        "colab": {
          "base_uri": "https://localhost:8080/"
        }
      },
      "execution_count": 56,
      "outputs": [
        {
          "output_type": "stream",
          "name": "stdout",
          "text": [
            "no\n"
          ]
        }
      ]
    },
    {
      "cell_type": "code",
      "source": [
        "done='beau'\n",
        "if done:\n",
        "  print('yes')\n",
        "else:\n",
        "  print('no')"
      ],
      "metadata": {
        "id": "hswK2Ih7DuC8",
        "outputId": "e3633e53-b179-422f-d823-975857cd3b3c",
        "colab": {
          "base_uri": "https://localhost:8080/"
        }
      },
      "execution_count": 57,
      "outputs": [
        {
          "output_type": "stream",
          "name": "stdout",
          "text": [
            "yes\n"
          ]
        }
      ]
    },
    {
      "cell_type": "code",
      "source": [
        "done=True\n",
        "print(type(done)==bool)\n",
        "if done:\n",
        "  print('yes')\n",
        "else:\n",
        "  print('no')"
      ],
      "metadata": {
        "id": "J0Xc_nqfD5Q-",
        "outputId": "252a2ee0-7056-4cd8-e053-5c6f8d0d9a74",
        "colab": {
          "base_uri": "https://localhost:8080/"
        }
      },
      "execution_count": 58,
      "outputs": [
        {
          "output_type": "stream",
          "name": "stdout",
          "text": [
            "True\n",
            "yes\n"
          ]
        }
      ]
    },
    {
      "cell_type": "code",
      "source": [
        "done=\"beau\"\n",
        "print(type(done)==bool)\n",
        "if done:\n",
        "  print('yes')\n",
        "else:\n",
        "  print('no')"
      ],
      "metadata": {
        "id": "mkTUxHG9EHhw",
        "outputId": "1213d041-90e9-404b-9d3d-9dd48a6bccd5",
        "colab": {
          "base_uri": "https://localhost:8080/"
        }
      },
      "execution_count": 61,
      "outputs": [
        {
          "output_type": "stream",
          "name": "stdout",
          "text": [
            "False\n",
            "yes\n"
          ]
        }
      ]
    },
    {
      "cell_type": "markdown",
      "source": [
        "## Number Data Types"
      ],
      "metadata": {
        "id": "GAsbi4JFerlH"
      }
    },
    {
      "cell_type": "code",
      "source": [
        "num1= 2+3j\n",
        "num2=complex(2,3)\n",
        "print(num2 .real, num1 .imag)"
      ],
      "metadata": {
        "id": "WQuOcuvUer_X",
        "colab": {
          "base_uri": "https://localhost:8080/"
        },
        "outputId": "08ef45f3-9782-4532-e767-a6b1af4fb37d"
      },
      "execution_count": 63,
      "outputs": [
        {
          "output_type": "stream",
          "name": "stdout",
          "text": [
            "2.0 3.0\n"
          ]
        }
      ]
    },
    {
      "cell_type": "markdown",
      "source": [
        "## Built-in Functions"
      ],
      "metadata": {
        "id": "XolXXFBaetuF"
      }
    },
    {
      "cell_type": "code",
      "source": [
        "print(abs(-5.5))"
      ],
      "metadata": {
        "id": "cZiBq-tWeuJv",
        "colab": {
          "base_uri": "https://localhost:8080/"
        },
        "outputId": "0637adc1-1715-44c4-eca4-486b114b6b7b"
      },
      "execution_count": 64,
      "outputs": [
        {
          "output_type": "stream",
          "name": "stdout",
          "text": [
            "5.5\n"
          ]
        }
      ]
    },
    {
      "cell_type": "code",
      "source": [
        "print(round(5.5))"
      ],
      "metadata": {
        "id": "DwnbH1zlG1zk",
        "outputId": "b55ff4f4-bd03-46ba-bd88-b01cbf56a492",
        "colab": {
          "base_uri": "https://localhost:8080/"
        }
      },
      "execution_count": 66,
      "outputs": [
        {
          "output_type": "stream",
          "name": "stdout",
          "text": [
            "6\n"
          ]
        }
      ]
    },
    {
      "cell_type": "markdown",
      "source": [
        "## Enums"
      ],
      "metadata": {
        "id": "I53j-y1HevDM"
      }
    },
    {
      "cell_type": "code",
      "source": [],
      "metadata": {
        "id": "NEVbNcKMevfn"
      },
      "execution_count": null,
      "outputs": []
    },
    {
      "cell_type": "markdown",
      "source": [
        "## User Input"
      ],
      "metadata": {
        "id": "TYB97bGcewsF"
      }
    },
    {
      "cell_type": "code",
      "source": [],
      "metadata": {
        "id": "R6Tn9dRvexUX"
      },
      "execution_count": null,
      "outputs": []
    },
    {
      "cell_type": "markdown",
      "source": [
        "## Control Statements"
      ],
      "metadata": {
        "id": "S7iXVmC_eyow"
      }
    },
    {
      "cell_type": "code",
      "source": [],
      "metadata": {
        "id": "CX7ztXvKey_e"
      },
      "execution_count": null,
      "outputs": []
    },
    {
      "cell_type": "markdown",
      "source": [
        "## Lists"
      ],
      "metadata": {
        "id": "-o62Jhgcez5h"
      }
    },
    {
      "cell_type": "code",
      "source": [],
      "metadata": {
        "id": "Ph58MxB2e0RX"
      },
      "execution_count": null,
      "outputs": []
    },
    {
      "cell_type": "markdown",
      "source": [
        "## Sorting Lists"
      ],
      "metadata": {
        "id": "JXCNZ6obe1Rk"
      }
    },
    {
      "cell_type": "code",
      "source": [],
      "metadata": {
        "id": "lQVmMqQNe1nG"
      },
      "execution_count": null,
      "outputs": []
    },
    {
      "cell_type": "markdown",
      "source": [
        "## Tuples"
      ],
      "metadata": {
        "id": "v-XATXsSe2fU"
      }
    },
    {
      "cell_type": "code",
      "source": [],
      "metadata": {
        "id": "lywfMI8xe2y-"
      },
      "execution_count": null,
      "outputs": []
    },
    {
      "cell_type": "markdown",
      "source": [
        "## Dictionaries"
      ],
      "metadata": {
        "id": "z51qJ72re38l"
      }
    },
    {
      "cell_type": "code",
      "source": [],
      "metadata": {
        "id": "AswcmGTke4VG"
      },
      "execution_count": null,
      "outputs": []
    },
    {
      "cell_type": "markdown",
      "source": [
        "## Sets"
      ],
      "metadata": {
        "id": "o93NW4-Be5cC"
      }
    },
    {
      "cell_type": "code",
      "source": [],
      "metadata": {
        "id": "v3CIIJeAe5xu"
      },
      "execution_count": null,
      "outputs": []
    },
    {
      "cell_type": "markdown",
      "source": [
        "## Functions"
      ],
      "metadata": {
        "id": "UlOZz1nwe66p"
      }
    },
    {
      "cell_type": "code",
      "source": [],
      "metadata": {
        "id": "i4lZX_n8e7TO"
      },
      "execution_count": null,
      "outputs": []
    },
    {
      "cell_type": "markdown",
      "source": [
        "## Variable Scope"
      ],
      "metadata": {
        "id": "YfJx0wrPe8mH"
      }
    },
    {
      "cell_type": "code",
      "source": [],
      "metadata": {
        "id": "96Jp-il7e9A2"
      },
      "execution_count": null,
      "outputs": []
    },
    {
      "cell_type": "markdown",
      "source": [
        "## Nested Functions "
      ],
      "metadata": {
        "id": "rsdLZV63e-VW"
      }
    },
    {
      "cell_type": "code",
      "source": [],
      "metadata": {
        "id": "C4gt9Kjoe-ve"
      },
      "execution_count": null,
      "outputs": []
    },
    {
      "cell_type": "markdown",
      "source": [
        "## Closures"
      ],
      "metadata": {
        "id": "fM8dAnvie_p6"
      }
    },
    {
      "cell_type": "code",
      "source": [],
      "metadata": {
        "id": "kZCiwrFtfADm"
      },
      "execution_count": null,
      "outputs": []
    },
    {
      "cell_type": "markdown",
      "source": [
        "## Objects"
      ],
      "metadata": {
        "id": "C02Pc0GCfBB_"
      }
    },
    {
      "cell_type": "code",
      "source": [],
      "metadata": {
        "id": "2W0N_9JRfBZu"
      },
      "execution_count": null,
      "outputs": []
    },
    {
      "cell_type": "markdown",
      "source": [
        "## Loops"
      ],
      "metadata": {
        "id": "Q4Qhe-HufCe7"
      }
    },
    {
      "cell_type": "code",
      "source": [],
      "metadata": {
        "id": "VD4BYaZYfC52"
      },
      "execution_count": null,
      "outputs": []
    },
    {
      "cell_type": "markdown",
      "source": [
        "## Break and Continue"
      ],
      "metadata": {
        "id": "Xabbhir4fED1"
      }
    },
    {
      "cell_type": "code",
      "source": [],
      "metadata": {
        "id": "C5_SdToCfEYu"
      },
      "execution_count": null,
      "outputs": []
    },
    {
      "cell_type": "markdown",
      "source": [
        "## Classes"
      ],
      "metadata": {
        "id": "S7Akc8MUfFUB"
      }
    },
    {
      "cell_type": "code",
      "source": [],
      "metadata": {
        "id": "ZP_gl9IrfFvm"
      },
      "execution_count": null,
      "outputs": []
    },
    {
      "cell_type": "markdown",
      "source": [
        "## Modules"
      ],
      "metadata": {
        "id": "voM_fnldfGsC"
      }
    },
    {
      "cell_type": "code",
      "source": [],
      "metadata": {
        "id": "SfXtMHMufHd-"
      },
      "execution_count": null,
      "outputs": []
    },
    {
      "cell_type": "markdown",
      "source": [
        "## Arguments from Command Line"
      ],
      "metadata": {
        "id": "lS2yKZnSfK3E"
      }
    },
    {
      "cell_type": "code",
      "source": [],
      "metadata": {
        "id": "HetLVVF3fLUP"
      },
      "execution_count": null,
      "outputs": []
    },
    {
      "cell_type": "markdown",
      "source": [
        "## Lambda Functions"
      ],
      "metadata": {
        "id": "ly5LEeRefMt2"
      }
    },
    {
      "cell_type": "code",
      "source": [],
      "metadata": {
        "id": "BeZeGnl0fNCO"
      },
      "execution_count": null,
      "outputs": []
    },
    {
      "cell_type": "markdown",
      "source": [
        "## Map, Filter, Reduce"
      ],
      "metadata": {
        "id": "7Gh4uf41fOna"
      }
    },
    {
      "cell_type": "code",
      "source": [],
      "metadata": {
        "id": "x3ZW62tGfO7_"
      },
      "execution_count": null,
      "outputs": []
    },
    {
      "cell_type": "markdown",
      "source": [
        "## Recursion "
      ],
      "metadata": {
        "id": "q_isGYkCfQBP"
      }
    },
    {
      "cell_type": "code",
      "source": [],
      "metadata": {
        "id": "AaT1_pmUfQhW"
      },
      "execution_count": null,
      "outputs": []
    },
    {
      "cell_type": "markdown",
      "source": [
        "# The remaining modules from the Video is Optional if you wish to continue you can continue"
      ],
      "metadata": {
        "id": "N2Glk5gYfSnV"
      }
    },
    {
      "cell_type": "code",
      "source": [],
      "metadata": {
        "id": "KP3bIsY-fcEG"
      },
      "execution_count": null,
      "outputs": []
    }
  ]
}