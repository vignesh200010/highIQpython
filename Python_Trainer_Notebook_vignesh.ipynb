{
  "nbformat": 4,
  "nbformat_minor": 0,
  "metadata": {
    "colab": {
      "provenance": [],
      "include_colab_link": true
    },
    "kernelspec": {
      "name": "python3",
      "display_name": "Python 3"
    },
    "language_info": {
      "name": "python"
    }
  },
  "cells": [
    {
      "cell_type": "markdown",
      "metadata": {
        "id": "view-in-github",
        "colab_type": "text"
      },
      "source": [
        "<a href=\"https://colab.research.google.com/github/vignesh200010/highIQpython/blob/main/Python_Trainer_Notebook_vignesh.ipynb\" target=\"_parent\"><img src=\"https://colab.research.google.com/assets/colab-badge.svg\" alt=\"Open In Colab\"/></a>"
      ]
    },
    {
      "cell_type": "markdown",
      "source": [
        "# **HighIQ Python Trainer Notebook** *(Zero to One)*"
      ],
      "metadata": {
        "id": "Z4FTcvTAdQKq"
      }
    },
    {
      "cell_type": "markdown",
      "source": [
        "# [**Click on this Course**](https://www.youtube.com/watch?v=eWRfhZUzrAc&t=2s)"
      ],
      "metadata": {
        "id": "Uwve7HQNa_8p"
      }
    },
    {
      "cell_type": "markdown",
      "source": [
        "## Variable And Functions"
      ],
      "metadata": {
        "id": "cpgKGi14bJCQ"
      }
    },
    {
      "cell_type": "code",
      "execution_count": null,
      "metadata": {
        "id": "HPoiJb3ea9IP"
      },
      "outputs": [],
      "source": [
        "def get_choices():\n",
        "  player_choice='rock'\n",
        "  computer_choice='paper'\n",
        "  return computer_choice"
      ]
    },
    {
      "cell_type": "code",
      "source": [
        "print(get_choices())"
      ],
      "metadata": {
        "colab": {
          "base_uri": "https://localhost:8080/"
        },
        "id": "w3C0-hpSTx_I",
        "outputId": "61115ded-dc1c-4a80-b53b-37f98ff5bf6e"
      },
      "execution_count": null,
      "outputs": [
        {
          "output_type": "stream",
          "name": "stdout",
          "text": [
            "paper\n"
          ]
        }
      ]
    },
    {
      "cell_type": "markdown",
      "source": [
        "## Calling Funtions"
      ],
      "metadata": {
        "id": "nPYEMWVUbPyG"
      }
    },
    {
      "cell_type": "code",
      "source": [
        "def greeting():\n",
        "  return 'hi'\n",
        "response=greeting()\n",
        "print(response)"
      ],
      "metadata": {
        "id": "QQg2W7qgbTld",
        "colab": {
          "base_uri": "https://localhost:8080/"
        },
        "outputId": "20d224ed-97cb-4c21-b183-fef1e5942cdc"
      },
      "execution_count": null,
      "outputs": [
        {
          "output_type": "stream",
          "name": "stdout",
          "text": [
            "hi\n"
          ]
        }
      ]
    },
    {
      "cell_type": "code",
      "source": [
        "def get_choices():\n",
        "  player_choice='rock'\n",
        "  computer_choice='paper'\n",
        "  return computer_choice\n",
        "choices=get_choices()\n",
        "print(choices)"
      ],
      "metadata": {
        "colab": {
          "base_uri": "https://localhost:8080/"
        },
        "id": "WYOKjdUNVvND",
        "outputId": "2fa80099-90a5-44ca-eb01-7887f4c256a1"
      },
      "execution_count": null,
      "outputs": [
        {
          "output_type": "stream",
          "name": "stdout",
          "text": [
            "paper\n"
          ]
        }
      ]
    },
    {
      "cell_type": "markdown",
      "source": [
        "# Dictionaries"
      ],
      "metadata": {
        "id": "3zCwfoAsdcJc"
      }
    },
    {
      "cell_type": "code",
      "source": [
        "dict={\"name\":\"beau\",\"color\":'blue'}\n",
        "print(dict)\n"
      ],
      "metadata": {
        "id": "_DIhAalSde__",
        "colab": {
          "base_uri": "https://localhost:8080/"
        },
        "outputId": "cb729b9d-19e5-4729-c390-d1b0bb29a3b4"
      },
      "execution_count": null,
      "outputs": [
        {
          "output_type": "stream",
          "name": "stdout",
          "text": [
            "{'name': 'beau', 'color': 'blue'}\n"
          ]
        }
      ]
    },
    {
      "cell_type": "markdown",
      "source": [
        "## User Input"
      ],
      "metadata": {
        "id": "petiJbGXdfhj"
      }
    },
    {
      "cell_type": "code",
      "source": [
        "def get_choices():\n",
        "  player_choice = input(\"Enter a choice (rock, paper, scissors): \")\n",
        "  computer_choice='paper'\n",
        "  choices = {\"player\": player_choice, \"computer\": computer_choice}\n",
        "  return choices \n",
        "choices= get_choices()\n",
        "print(choices)\n"
      ],
      "metadata": {
        "id": "_9k1DtPvdgi1",
        "colab": {
          "base_uri": "https://localhost:8080/"
        },
        "outputId": "9069c8b9-b912-4855-9fef-7898fa98ba9a"
      },
      "execution_count": null,
      "outputs": [
        {
          "output_type": "stream",
          "name": "stdout",
          "text": [
            "Enter a choice (rock, paper, scissors): rock\n",
            "{'player': 'rock', 'computer': 'paper'}\n"
          ]
        }
      ]
    },
    {
      "cell_type": "markdown",
      "source": [
        "## Libraries, Lists, Methods"
      ],
      "metadata": {
        "id": "tzZl3DOXdprh"
      }
    },
    {
      "cell_type": "code",
      "source": [
        "import random\n",
        "def get_choices():\n",
        "  player_choice = input(\"Enter a choice (rock, paper, scissors): \")\n",
        "  options = [\"rock\", \"paper\", \"scissors\"]\n",
        "  computer_choice = random.choice(options)\n",
        "  choices = {\"player\": player_choice, \"computer\": computer_choice}\n",
        "  return choices\n",
        "choices= get_choices()\n",
        "print(choices)"
      ],
      "metadata": {
        "id": "_S9m4uMlds3G",
        "colab": {
          "base_uri": "https://localhost:8080/"
        },
        "outputId": "475993ba-db86-4bec-db90-646db16983dc"
      },
      "execution_count": null,
      "outputs": [
        {
          "output_type": "stream",
          "name": "stdout",
          "text": [
            "Enter a choice (rock, paper, scissors): paper\n",
            "{'player': 'paper', 'computer': 'rock'}\n"
          ]
        }
      ]
    },
    {
      "cell_type": "code",
      "source": [
        "import random\n",
        "food=['pizza', 'carrots', 'eggs']\n",
        "dinner=random.choice(food)\n",
        "print(dinner)"
      ],
      "metadata": {
        "colab": {
          "base_uri": "https://localhost:8080/"
        },
        "id": "Sinj3D4Whbes",
        "outputId": "fc0bc9cd-bce1-4a6f-c13e-18b4f4a574d0"
      },
      "execution_count": null,
      "outputs": [
        {
          "output_type": "stream",
          "name": "stdout",
          "text": [
            "carrots\n"
          ]
        }
      ]
    },
    {
      "cell_type": "markdown",
      "source": [
        "## Function Arguments"
      ],
      "metadata": {
        "id": "l-tGnRjadtV5"
      }
    },
    {
      "cell_type": "code",
      "source": [
        "import random\n",
        "def get_choices():\n",
        "  player_choice = input(\"Enter a choice (rock, paper, scissors): \")\n",
        "  options = [\"rock\", \"paper\", \"scissors\"]\n",
        "  computer_choice = random.choice(options)\n",
        "  choices = {\"player\": player_choice, \"computer\": computer_choice}\n",
        "  return choices\n",
        "\n",
        "def check_win(player, computer):\n",
        "  return[player, computer]\n",
        "  \n",
        "check_win('paper','rock')\n"
      ],
      "metadata": {
        "id": "EV16_MRKdumv",
        "colab": {
          "base_uri": "https://localhost:8080/"
        },
        "outputId": "5660da4b-efcb-4147-8b11-77eab225cfdd"
      },
      "execution_count": null,
      "outputs": [
        {
          "output_type": "execute_result",
          "data": {
            "text/plain": [
              "['paper', 'rock']"
            ]
          },
          "metadata": {},
          "execution_count": 1
        }
      ]
    },
    {
      "cell_type": "markdown",
      "source": [
        "## If Statements "
      ],
      "metadata": {
        "id": "03ei427ydvCH"
      }
    },
    {
      "cell_type": "code",
      "source": [
        "import random\n",
        "def get_choices():\n",
        "  player_choice = input(\"Enter a choice (rock, paper, scissors): \")\n",
        "  options = [\"rock\", \"paper\", \"scissors\"]\n",
        "  computer_choice = random.choice(options)\n",
        "  choices = {\"player\": player_choice, \"computer\": computer_choice}\n",
        "  return choices\n",
        "def check_win(player,computer):\n",
        "    if player==computer:\n",
        "        return(\"Its a tie\")\n",
        "check_win(\"rock\",\"rock\")   "
      ],
      "metadata": {
        "id": "KLdfAJpAdw5e",
        "colab": {
          "base_uri": "https://localhost:8080/",
          "height": 35
        },
        "outputId": "0279513c-b548-4309-8c40-0211b6b578d6"
      },
      "execution_count": null,
      "outputs": [
        {
          "output_type": "execute_result",
          "data": {
            "text/plain": [
              "'Its a tie'"
            ],
            "application/vnd.google.colaboratory.intrinsic+json": {
              "type": "string"
            }
          },
          "metadata": {},
          "execution_count": 4
        }
      ]
    },
    {
      "cell_type": "code",
      "source": [
        "a=3\n",
        "b=5\n",
        "if a<b:\n",
        "  print('yes')"
      ],
      "metadata": {
        "colab": {
          "base_uri": "https://localhost:8080/"
        },
        "id": "JWt8i07NwPjf",
        "outputId": "13014bc0-54b9-4fe0-bff4-1f15d8b2ebb5"
      },
      "execution_count": null,
      "outputs": [
        {
          "output_type": "stream",
          "name": "stdout",
          "text": [
            "yes\n"
          ]
        }
      ]
    },
    {
      "cell_type": "markdown",
      "source": [
        "## Concatenating Strings"
      ],
      "metadata": {
        "id": "lLc9dSxAdxlO"
      }
    },
    {
      "cell_type": "code",
      "source": [
        "\n",
        "import random\n",
        "def get_choices():\n",
        "  player_choice = input(\"Enter a choice (rock, paper, scissors): \")\n",
        "  options = [\"rock\", \"paper\", \"scissors\"]\n",
        "  computer_choice = random.choice(options)\n",
        "  choices = {\"player\": player_choice, \"computer\": computer_choice}\n",
        "  return choices\n",
        "def check_win(player,computer):\n",
        "    print(\"you chose \" + player + \" , computer \" + computer)\n",
        "    if player==computer:\n",
        "        return ('its a tie')\n",
        "check_win(\"rock\",\"paper\")"
      ],
      "metadata": {
        "id": "Fe9SwQGddzI_",
        "outputId": "5aa5a258-06db-408b-ab08-cac99d77dcb7",
        "colab": {
          "base_uri": "https://localhost:8080/"
        }
      },
      "execution_count": null,
      "outputs": [
        {
          "output_type": "stream",
          "name": "stdout",
          "text": [
            "you chose rock , computer paper\n"
          ]
        }
      ]
    },
    {
      "cell_type": "markdown",
      "source": [
        "## f-strings"
      ],
      "metadata": {
        "id": "P90e3Tehdzyo"
      }
    },
    {
      "cell_type": "code",
      "source": [
        "import random\n",
        "def get_choices():\n",
        "  player_choice = input(\"Enter a choice (rock, paper, scissors): \")\n",
        "  options = [\"rock\", \"paper\", \"scissors\"]\n",
        "  computer_choice = random.choice(options)\n",
        "  choices = {\"player\": player_choice, \"computer\": computer_choice}\n",
        "  return choices\n",
        "def check_win(player,computer):\n",
        "    print(f\"you chose {player},computer {computer}\")\n",
        "    if player==computer:\n",
        "        return ('its a tie')\n",
        "check_win(\"rock\",\"paper\")"
      ],
      "metadata": {
        "id": "Qgo8cE3cd1Q2",
        "colab": {
          "base_uri": "https://localhost:8080/"
        },
        "outputId": "30612739-f15c-4912-d4dd-37ec02ede4a9"
      },
      "execution_count": null,
      "outputs": [
        {
          "output_type": "stream",
          "name": "stdout",
          "text": [
            "you chose rock,computer paper\n"
          ]
        }
      ]
    },
    {
      "cell_type": "markdown",
      "source": [
        "## Else and Elif Statements"
      ],
      "metadata": {
        "id": "u_mTakxBd2kS"
      }
    },
    {
      "cell_type": "code",
      "source": [
        "import random\n",
        "def get_choices():\n",
        "  player_choice = input(\"Enter a choice (rock, paper, scissors): \")\n",
        "  options = [\"rock\", \"paper\", \"scissors\"]\n",
        "  computer_choice = random.choice(options)\n",
        "  choices = {\"player\": player_choice, \"computer\": computer_choice}\n",
        "  return choices\n",
        "def check_win(player,computer):\n",
        "    print(f\"you chose {player},computer {computer}\")\n",
        "    if player==computer:\n",
        "        return ('its a tie')\n",
        "    elif player == 'rock' and computer == 'scissors':\n",
        "      return 'rock samshes scissors! you win!'\n",
        "    elif player == 'rock' and computer== 'paper':\n",
        "      return 'rock samshes scissors! you win!'\n",
        "check_win(\"rock\",\"paper\")\n"
      ],
      "metadata": {
        "id": "zNjDnsigd2_W",
        "colab": {
          "base_uri": "https://localhost:8080/",
          "height": 53
        },
        "outputId": "fefd4b0b-6057-4f9e-d114-44fbd5d4cb7a"
      },
      "execution_count": null,
      "outputs": [
        {
          "output_type": "stream",
          "name": "stdout",
          "text": [
            "you chose rock,computer paper\n"
          ]
        },
        {
          "output_type": "execute_result",
          "data": {
            "text/plain": [
              "'rock samshes scissors! you win!'"
            ],
            "application/vnd.google.colaboratory.intrinsic+json": {
              "type": "string"
            }
          },
          "metadata": {},
          "execution_count": 50
        }
      ]
    },
    {
      "cell_type": "markdown",
      "source": [
        "## Refactoring and Nested If"
      ],
      "metadata": {
        "id": "wS2xfKnod4eR"
      }
    },
    {
      "cell_type": "markdown",
      "source": [
        "## Accessing Dictionary Values"
      ],
      "metadata": {
        "id": "DD9fzpy-d62Y"
      }
    },
    {
      "cell_type": "code",
      "source": [
        "import random\n",
        "\n",
        "def get_choices():\n",
        "  player_choice = input(\"Enter a choice (rock, paper, scissors): \")\n",
        "  options = [\"rock\", \"paper\", \"scissors\"]\n",
        "  computer_choice = random.choice(options)\n",
        "  choices = {\"player\": player_choice, \"computer\": computer_choice}\n",
        "  return choices\n",
        "\n",
        "def check_win(player, computer):\n",
        "  print(f\"You chose {player}, computer chose {computer}\")\n",
        "  if player == computer:\n",
        "    return \"It's a tie!\"\n",
        "  elif player == \"rock\":\n",
        "    if computer == \"scissors\":\n",
        "      return \"Rock smashes scissors! You win!\"\n",
        "    else:\n",
        "      return \"Paper covers rock! You lose.\"\n",
        "  elif player == \"paper\":\n",
        "    if computer == \"rock\":\n",
        "      return \"Paper covers rock! You win!\"\n",
        "    else:\n",
        "      return \"Scissors cuts paper! You lose.\"\n",
        "  elif player == \"scissors\":\n",
        "    if computer == \"paper\":\n",
        "      return \"Scissors cuts paper! You win!\"\n",
        "    else:\n",
        "      return \"Rock smashes scissors! You lose.\"\n",
        "      \n",
        "choices = get_choices()\n",
        "result = check_win(choices[\"player\"], choices[\"computer\"])\n",
        "print(result)"
      ],
      "metadata": {
        "id": "eY0OrKged7XW",
        "colab": {
          "base_uri": "https://localhost:8080/"
        },
        "outputId": "c1f776aa-42db-4c2c-b474-b27997f97f5b"
      },
      "execution_count": null,
      "outputs": [
        {
          "output_type": "stream",
          "name": "stdout",
          "text": [
            "Enter a choice (rock, paper, scissors): rock\n",
            "You chose rock, computer chose rock\n",
            "It's a tie!\n"
          ]
        }
      ]
    },
    {
      "cell_type": "markdown",
      "source": [
        "## Testing Game"
      ],
      "metadata": {
        "id": "6YCzWHIld9e9"
      }
    },
    {
      "cell_type": "code",
      "source": [
        "import random\n",
        "\n",
        "def get_choices():\n",
        "  player_choice = input(\"Enter a choice (rock, paper, scissors): \")\n",
        "  options = [\"rock\", \"paper\", \"scissors\"]\n",
        "  computer_choice = random.choice(options)\n",
        "  choices = {\"player\": player_choice, \"computer\": computer_choice}\n",
        "  return choices\n",
        "\n",
        "def check_win(player, computer):\n",
        "  print(f\"You chose {player}, computer chose {computer}\")\n",
        "  if player == computer:\n",
        "    return \"It's a tie!\"\n",
        "  elif player == \"rock\":\n",
        "    if computer == \"scissors\":\n",
        "      return \"Rock smashes scissors! You win!\"\n",
        "    else:\n",
        "      return \"Paper covers rock! You lose.\"\n",
        "  elif player == \"paper\":\n",
        "    if computer == \"rock\":\n",
        "      return \"Paper covers rock! You win!\"\n",
        "    else:\n",
        "      return \"Scissors cuts paper! You lose.\"\n",
        "  elif player == \"scissors\":\n",
        "    if computer == \"paper\":\n",
        "      return \"Scissors cuts paper! You win!\"\n",
        "    else:\n",
        "      return \"Rock smashes scissors! You lose.\"\n",
        "      \n",
        "choices = get_choices()\n",
        "result = check_win(choices[\"player\"], choices[\"computer\"])\n",
        "print(result)"
      ],
      "metadata": {
        "id": "s0OEj-Gbd-On"
      },
      "execution_count": null,
      "outputs": []
    },
    {
      "cell_type": "markdown",
      "source": [
        "## Variables"
      ],
      "metadata": {
        "id": "pMILE6PCeN9p"
      }
    },
    {
      "cell_type": "code",
      "source": [
        "name='beau'\n",
        "age=39\n",
        "print(name)\n",
        "print(age)\n"
      ],
      "metadata": {
        "id": "EVFLtjhUeOWX",
        "colab": {
          "base_uri": "https://localhost:8080/"
        },
        "outputId": "886c9289-b972-4e24-edc9-1698808e1a25"
      },
      "execution_count": null,
      "outputs": [
        {
          "output_type": "stream",
          "name": "stdout",
          "text": [
            "beau\n",
            "39\n"
          ]
        }
      ]
    },
    {
      "cell_type": "markdown",
      "source": [
        "## Expressions and Statements "
      ],
      "metadata": {
        "id": "6q1iRyb2ePuB"
      }
    },
    {
      "cell_type": "code",
      "source": [
        "name='beau'; print(name)"
      ],
      "metadata": {
        "id": "a3PXtTa0eREn",
        "colab": {
          "base_uri": "https://localhost:8080/"
        },
        "outputId": "61f4c27b-1ced-435c-f5f7-4bbaf5558941"
      },
      "execution_count": null,
      "outputs": [
        {
          "output_type": "stream",
          "name": "stdout",
          "text": [
            "beau\n"
          ]
        }
      ]
    },
    {
      "cell_type": "markdown",
      "source": [
        "## Comments"
      ],
      "metadata": {
        "id": "2rCTKhRLeRuE"
      }
    },
    {
      "cell_type": "code",
      "source": [
        "##this is commented line"
      ],
      "metadata": {
        "id": "x1raHR6OeTCn"
      },
      "execution_count": null,
      "outputs": []
    },
    {
      "cell_type": "markdown",
      "source": [
        "## Data Types"
      ],
      "metadata": {
        "id": "Y4UgKDOZeTlw"
      }
    },
    {
      "cell_type": "code",
      "source": [
        "name='beau'\n",
        "print(type(name)==str)"
      ],
      "metadata": {
        "id": "5e5xG42ReVSf",
        "colab": {
          "base_uri": "https://localhost:8080/"
        },
        "outputId": "3be4e930-1a8b-4abc-e7ef-f5d510a704e6"
      },
      "execution_count": null,
      "outputs": [
        {
          "output_type": "stream",
          "name": "stdout",
          "text": [
            "True\n"
          ]
        }
      ]
    },
    {
      "cell_type": "code",
      "source": [
        "name='beau'\n",
        "print(type(name))"
      ],
      "metadata": {
        "colab": {
          "base_uri": "https://localhost:8080/"
        },
        "id": "I8nEumEqGfO0",
        "outputId": "2070732a-5a85-4355-cd20-2c436adbb5f6"
      },
      "execution_count": null,
      "outputs": [
        {
          "output_type": "stream",
          "name": "stdout",
          "text": [
            "<class 'str'>\n"
          ]
        }
      ]
    },
    {
      "cell_type": "code",
      "source": [
        "name='beau'\n",
        "print(isinstance(name,str))\n",
        "age=39\n",
        "print(isinstance(age,int))\n"
      ],
      "metadata": {
        "colab": {
          "base_uri": "https://localhost:8080/"
        },
        "id": "FrM-qzbwG4ON",
        "outputId": "f21b1a7d-ea16-488a-95ec-d463eb90f737"
      },
      "execution_count": null,
      "outputs": [
        {
          "output_type": "stream",
          "name": "stdout",
          "text": [
            "True\n",
            "True\n"
          ]
        }
      ]
    },
    {
      "cell_type": "code",
      "source": [
        "number='20'\n",
        "age=int(number)\n",
        "print(isinstance(age,int))"
      ],
      "metadata": {
        "colab": {
          "base_uri": "https://localhost:8080/"
        },
        "id": "1OWXya2IH79V",
        "outputId": "ec6b608d-8313-444f-8711-b334446371de"
      },
      "execution_count": null,
      "outputs": [
        {
          "output_type": "stream",
          "name": "stdout",
          "text": [
            "True\n"
          ]
        }
      ]
    },
    {
      "cell_type": "markdown",
      "source": [
        "## Operators"
      ],
      "metadata": {
        "id": "mwrnTSyGeWYd"
      }
    },
    {
      "cell_type": "code",
      "source": [
        "##arithmetic operators \n",
        "##assignment operators\n",
        "##comparison operators\n",
        "##logical operators\n",
        "##Bitwise Operators\n",
        "##Boolean Operators\n",
        "##Ternary Operator"
      ],
      "metadata": {
        "id": "O2270ZTvK7EJ"
      },
      "execution_count": null,
      "outputs": []
    },
    {
      "cell_type": "markdown",
      "source": [
        "## Arithmetic Operators"
      ],
      "metadata": {
        "id": "whKmv46teX5c"
      }
    },
    {
      "cell_type": "code",
      "source": [
        "1+-1 #0\n",
        "2-1  #1\n",
        "2*2  #4\n",
        "4/2  #2\n",
        "4%3  #1\n",
        "4**2 #16\n",
        "5//2 #2"
      ],
      "metadata": {
        "id": "Y4rSawE8eYTP",
        "colab": {
          "base_uri": "https://localhost:8080/"
        },
        "outputId": "bff7197e-3ec1-42cc-eaaf-b69b12215989"
      },
      "execution_count": null,
      "outputs": [
        {
          "output_type": "execute_result",
          "data": {
            "text/plain": [
              "2"
            ]
          },
          "metadata": {},
          "execution_count": 93
        }
      ]
    },
    {
      "cell_type": "code",
      "source": [
        "print('scamp'+'is a good god')"
      ],
      "metadata": {
        "colab": {
          "base_uri": "https://localhost:8080/"
        },
        "id": "FKnm5vpAKxfO",
        "outputId": "a0fa3745-b79f-4ad3-83f7-f97f24fac0c0"
      },
      "execution_count": null,
      "outputs": [
        {
          "output_type": "stream",
          "name": "stdout",
          "text": [
            "scampis a good god\n"
          ]
        }
      ]
    },
    {
      "cell_type": "code",
      "source": [
        "age=8\n",
        "age+=8\n",
        "print(age)"
      ],
      "metadata": {
        "colab": {
          "base_uri": "https://localhost:8080/"
        },
        "id": "eG-4SxFyK0lX",
        "outputId": "b18323d9-56b4-4a67-fdf4-b5bd74efa051"
      },
      "execution_count": null,
      "outputs": [
        {
          "output_type": "stream",
          "name": "stdout",
          "text": [
            "16\n"
          ]
        }
      ]
    },
    {
      "cell_type": "markdown",
      "source": [
        "## Comparison Operators"
      ],
      "metadata": {
        "id": "6FmHbmxqeZq9"
      }
    },
    {
      "cell_type": "code",
      "source": [
        "a=1\n",
        "b=2\n",
        "print(a==b)\n",
        "print(a!=b)\n",
        "print(a>b)\n",
        "print(a<=b)"
      ],
      "metadata": {
        "id": "41c0Nb_QeaBZ",
        "colab": {
          "base_uri": "https://localhost:8080/"
        },
        "outputId": "b95fd3be-514c-499c-fe40-c50ce1f680e7"
      },
      "execution_count": null,
      "outputs": [
        {
          "output_type": "stream",
          "name": "stdout",
          "text": [
            "False\n",
            "True\n",
            "False\n",
            "True\n"
          ]
        }
      ]
    },
    {
      "cell_type": "markdown",
      "source": [
        "## Boolean Operators"
      ],
      "metadata": {
        "id": "2-J7FeH7ebK1"
      }
    },
    {
      "cell_type": "code",
      "source": [
        "condition1=True\n",
        "condition2=False\n",
        "print (not condition1)\n",
        "print (condition1 and condition2)\n",
        "print (condition1 or condition2)"
      ],
      "metadata": {
        "id": "kLdYyK5XebiG",
        "colab": {
          "base_uri": "https://localhost:8080/"
        },
        "outputId": "b55a16c1-b945-49b9-8af5-973d6eef986a"
      },
      "execution_count": null,
      "outputs": [
        {
          "output_type": "stream",
          "name": "stdout",
          "text": [
            "False\n",
            "False\n",
            "True\n"
          ]
        }
      ]
    },
    {
      "cell_type": "code",
      "source": [
        "print(0 or 1)\n",
        "print(False or 'hey')\n",
        "print('hi' or 'hey')\n",
        "print([] or False)\n",
        "print(False or [])"
      ],
      "metadata": {
        "colab": {
          "base_uri": "https://localhost:8080/"
        },
        "id": "y3bm40myPf7q",
        "outputId": "a31c9f4b-8036-454d-954f-3ff19e3f6725"
      },
      "execution_count": null,
      "outputs": [
        {
          "output_type": "stream",
          "name": "stdout",
          "text": [
            "1\n",
            "hey\n",
            "hi\n",
            "False\n",
            "[]\n"
          ]
        }
      ]
    },
    {
      "cell_type": "code",
      "source": [
        "print(0 and 1)\n",
        "print(1 and 0)\n",
        "print(False or 'hey')\n",
        "print('hi' or 'hey')\n",
        "print([] or False)\n",
        "print(False or [])"
      ],
      "metadata": {
        "colab": {
          "base_uri": "https://localhost:8080/"
        },
        "id": "26UexMerP3VG",
        "outputId": "57c2cd62-3add-41cc-f7b4-759feed65688"
      },
      "execution_count": null,
      "outputs": [
        {
          "output_type": "stream",
          "name": "stdout",
          "text": [
            "0\n",
            "0\n",
            "hey\n",
            "hi\n",
            "False\n",
            "[]\n"
          ]
        }
      ]
    },
    {
      "cell_type": "markdown",
      "source": [
        "## Bitwise Operators"
      ],
      "metadata": {
        "id": "TaKZjFosec8n"
      }
    },
    {
      "cell_type": "code",
      "source": [
        "## & perform binary AND\n",
        "## | perform binary OR\n",
        "## ^perform binary XOR operation\n",
        "## ~perform binary XOR operation\n",
        "## << shift left operation\n",
        "## >> shift left operation"
      ],
      "metadata": {
        "id": "MByGcBpOedUG"
      },
      "execution_count": null,
      "outputs": []
    },
    {
      "cell_type": "markdown",
      "source": [
        "## is & in Operators"
      ],
      "metadata": {
        "id": "hV5q9mC-eeo4"
      }
    },
    {
      "cell_type": "code",
      "source": [],
      "metadata": {
        "id": "Ndi4cnzlefAP"
      },
      "execution_count": null,
      "outputs": []
    },
    {
      "cell_type": "code",
      "source": [],
      "metadata": {
        "id": "jNilocyeCjYL"
      },
      "execution_count": null,
      "outputs": []
    },
    {
      "cell_type": "markdown",
      "source": [
        "## Ternary Operator"
      ],
      "metadata": {
        "id": "CUEmAwccegYF"
      }
    },
    {
      "cell_type": "code",
      "source": [
        "def is_adult2(age):\n",
        "  return True if age > 18 else False\n",
        "is_adult2(23)"
      ],
      "metadata": {
        "id": "MF-zLeiRegw2",
        "colab": {
          "base_uri": "https://localhost:8080/"
        },
        "outputId": "0ef0659e-3735-4e8e-f050-88e86814c898"
      },
      "execution_count": null,
      "outputs": [
        {
          "output_type": "execute_result",
          "data": {
            "text/plain": [
              "True"
            ]
          },
          "metadata": {},
          "execution_count": 103
        }
      ]
    },
    {
      "cell_type": "markdown",
      "source": [
        "## Strings"
      ],
      "metadata": {
        "id": "7L1YgOd8eh5h"
      }
    },
    {
      "cell_type": "code",
      "source": [
        "name='beau'\n",
        "name+=\" is my name\"\n",
        "print(name)\n"
      ],
      "metadata": {
        "id": "kwFNtWYkei_u",
        "colab": {
          "base_uri": "https://localhost:8080/"
        },
        "outputId": "aea59520-34f8-484a-a173-c691f64c4e36"
      },
      "execution_count": null,
      "outputs": [
        {
          "output_type": "stream",
          "name": "stdout",
          "text": [
            "beau is my name\n"
          ]
        }
      ]
    },
    {
      "cell_type": "code",
      "source": [
        "print(\"\"\" beau is \n",
        "39\n",
        "yesras old\n",
        "\"\"\")"
      ],
      "metadata": {
        "colab": {
          "base_uri": "https://localhost:8080/"
        },
        "id": "4AIcN0wK9RRf",
        "outputId": "4f5c6117-5fba-48ec-d714-b75d000a5800"
      },
      "execution_count": null,
      "outputs": [
        {
          "output_type": "stream",
          "name": "stdout",
          "text": [
            " beau is \n",
            "39\n",
            "yesras old\n",
            "\n"
          ]
        }
      ]
    },
    {
      "cell_type": "markdown",
      "source": [
        "## String Methods"
      ],
      "metadata": {
        "id": "_2IoegzLek6x"
      }
    },
    {
      "cell_type": "code",
      "source": [
        "print(\"beau\".upper())"
      ],
      "metadata": {
        "id": "Q6mQwv5_elY2",
        "colab": {
          "base_uri": "https://localhost:8080/"
        },
        "outputId": "7d5059d6-937b-4527-f4c0-0d3d4c000f52"
      },
      "execution_count": null,
      "outputs": [
        {
          "output_type": "stream",
          "name": "stdout",
          "text": [
            "BEAU\n"
          ]
        }
      ]
    },
    {
      "cell_type": "code",
      "source": [
        "print(\"BEau\".lower())"
      ],
      "metadata": {
        "colab": {
          "base_uri": "https://localhost:8080/"
        },
        "id": "UqmLFkML9bLf",
        "outputId": "b8670dca-9a0e-4682-9905-8e0df8925420"
      },
      "execution_count": null,
      "outputs": [
        {
          "output_type": "stream",
          "name": "stdout",
          "text": [
            "beau\n"
          ]
        }
      ]
    },
    {
      "cell_type": "code",
      "source": [
        "print(\"beau person\".title())"
      ],
      "metadata": {
        "colab": {
          "base_uri": "https://localhost:8080/"
        },
        "id": "ieabgKIr9gpB",
        "outputId": "a2b5355f-5330-4b2f-9174-2e02245c6ca3"
      },
      "execution_count": null,
      "outputs": [
        {
          "output_type": "stream",
          "name": "stdout",
          "text": [
            "Beau Person\n"
          ]
        }
      ]
    },
    {
      "cell_type": "code",
      "source": [
        "print(\"beau person\".islower())"
      ],
      "metadata": {
        "colab": {
          "base_uri": "https://localhost:8080/"
        },
        "id": "mxtShplh9v4_",
        "outputId": "bc0dd14f-85f7-48f7-a795-67ad97d70fbe"
      },
      "execution_count": null,
      "outputs": [
        {
          "output_type": "stream",
          "name": "stdout",
          "text": [
            "True\n"
          ]
        }
      ]
    },
    {
      "cell_type": "code",
      "source": [
        "print(\"beau person\".isalpha())"
      ],
      "metadata": {
        "colab": {
          "base_uri": "https://localhost:8080/"
        },
        "id": "xY8I-43494j5",
        "outputId": "ffc84724-93c9-4db0-b339-cafdb8ce5037"
      },
      "execution_count": null,
      "outputs": [
        {
          "output_type": "stream",
          "name": "stdout",
          "text": [
            "False\n"
          ]
        }
      ]
    },
    {
      "cell_type": "code",
      "source": [
        "print(\"beau person\".isalnum())"
      ],
      "metadata": {
        "colab": {
          "base_uri": "https://localhost:8080/"
        },
        "id": "6CDZuG4T9_Yl",
        "outputId": "04d11ffb-c38e-4613-b666-1908d8c7d922"
      },
      "execution_count": null,
      "outputs": [
        {
          "output_type": "stream",
          "name": "stdout",
          "text": [
            "False\n"
          ]
        }
      ]
    },
    {
      "cell_type": "code",
      "source": [
        "print(\"beau person\".startswith(\"beau\"))"
      ],
      "metadata": {
        "colab": {
          "base_uri": "https://localhost:8080/"
        },
        "id": "M83SqIE1-Rjt",
        "outputId": "144398e3-f135-4a64-8533-c841ebda6c6a"
      },
      "execution_count": null,
      "outputs": [
        {
          "output_type": "stream",
          "name": "stdout",
          "text": [
            "True\n"
          ]
        }
      ]
    },
    {
      "cell_type": "code",
      "source": [
        "print(\"beau person\".endswith(\"person\"))"
      ],
      "metadata": {
        "colab": {
          "base_uri": "https://localhost:8080/"
        },
        "id": "2W0OhwRI-bdK",
        "outputId": "b013f452-0e18-42ea-f7e3-deee08cdafdb"
      },
      "execution_count": null,
      "outputs": [
        {
          "output_type": "stream",
          "name": "stdout",
          "text": [
            "True\n"
          ]
        }
      ]
    },
    {
      "cell_type": "code",
      "source": [
        "txt = \"beau person\"\n",
        "\n",
        "x = txt.replace(\"beau\", \"ben\")\n",
        "\n",
        "print(x)\n"
      ],
      "metadata": {
        "colab": {
          "base_uri": "https://localhost:8080/"
        },
        "id": "zSAoQW3T-MKV",
        "outputId": "c80eddbc-9a9d-40a8-9f6a-2718fe58d231"
      },
      "execution_count": null,
      "outputs": [
        {
          "output_type": "stream",
          "name": "stdout",
          "text": [
            "ben person\n"
          ]
        }
      ]
    },
    {
      "cell_type": "code",
      "source": [
        "txt = \"beau person\"\n",
        "\n",
        "x = txt.split()\n",
        "\n",
        "print(x)"
      ],
      "metadata": {
        "colab": {
          "base_uri": "https://localhost:8080/"
        },
        "id": "TEoeLbx79LKT",
        "outputId": "d005df5d-54e7-4b63-da4f-6675eda997c8"
      },
      "execution_count": null,
      "outputs": [
        {
          "output_type": "stream",
          "name": "stdout",
          "text": [
            "['beau', 'person']\n"
          ]
        }
      ]
    },
    {
      "cell_type": "code",
      "source": [
        "name=\"Beau\"\n",
        "print(name.lower())\n",
        "print(name)"
      ],
      "metadata": {
        "colab": {
          "base_uri": "https://localhost:8080/"
        },
        "id": "N9lNBQlS_4em",
        "outputId": "cfcdeb9e-5936-45e8-ebe3-a125a9e72def"
      },
      "execution_count": null,
      "outputs": [
        {
          "output_type": "stream",
          "name": "stdout",
          "text": [
            "beau\n",
            "Beau\n"
          ]
        }
      ]
    },
    {
      "cell_type": "code",
      "source": [
        "name=\"Beau\"\n",
        "print(len(name))"
      ],
      "metadata": {
        "colab": {
          "base_uri": "https://localhost:8080/"
        },
        "id": "M2RB1ojkAPYi",
        "outputId": "25250ebc-a83c-4a86-dd40-f76a92576da2"
      },
      "execution_count": null,
      "outputs": [
        {
          "output_type": "stream",
          "name": "stdout",
          "text": [
            "4\n"
          ]
        }
      ]
    },
    {
      "cell_type": "code",
      "source": [
        "name=\"Beau\"\n",
        "print(name.lower())\n",
        "print(  \"au\" in name)"
      ],
      "metadata": {
        "colab": {
          "base_uri": "https://localhost:8080/"
        },
        "id": "-u_baFVwAT10",
        "outputId": "5623ccbc-88e9-402b-da3c-b7cf57f923bf"
      },
      "execution_count": null,
      "outputs": [
        {
          "output_type": "stream",
          "name": "stdout",
          "text": [
            "beau\n",
            "True\n"
          ]
        }
      ]
    },
    {
      "cell_type": "markdown",
      "source": [
        "## Escaping Characters"
      ],
      "metadata": {
        "id": "u9cxX7ciemf8"
      }
    },
    {
      "cell_type": "code",
      "source": [
        "name=\"be\\\"au\"\n",
        "print(name)"
      ],
      "metadata": {
        "id": "qHh5l3Eiem_H",
        "colab": {
          "base_uri": "https://localhost:8080/"
        },
        "outputId": "17400fec-36e5-4f21-e18d-140e0aca9332"
      },
      "execution_count": null,
      "outputs": [
        {
          "output_type": "stream",
          "name": "stdout",
          "text": [
            "be\"au\n"
          ]
        }
      ]
    },
    {
      "cell_type": "code",
      "source": [
        "name='be\\\"au'\n",
        "print(name)"
      ],
      "metadata": {
        "colab": {
          "base_uri": "https://localhost:8080/"
        },
        "id": "qeBzS8YvA4QV",
        "outputId": "ee60d812-5000-44b9-ad84-7ca21b8ce5db"
      },
      "execution_count": null,
      "outputs": [
        {
          "output_type": "stream",
          "name": "stdout",
          "text": [
            "be\"au\n"
          ]
        }
      ]
    },
    {
      "cell_type": "code",
      "source": [
        "name='be\\nau'\n",
        "print(name)"
      ],
      "metadata": {
        "colab": {
          "base_uri": "https://localhost:8080/"
        },
        "id": "0VFgnHJjBJTY",
        "outputId": "4a840613-6cc9-4bad-84db-3be899b7587b"
      },
      "execution_count": null,
      "outputs": [
        {
          "output_type": "stream",
          "name": "stdout",
          "text": [
            "be\n",
            "au\n"
          ]
        }
      ]
    },
    {
      "cell_type": "code",
      "source": [
        "name='be\\au'\n",
        "print(name)"
      ],
      "metadata": {
        "colab": {
          "base_uri": "https://localhost:8080/"
        },
        "id": "t5Yzfie-BQ9M",
        "outputId": "456140fa-32d5-40db-eea4-22a357e065ce"
      },
      "execution_count": null,
      "outputs": [
        {
          "output_type": "stream",
          "name": "stdout",
          "text": [
            "be\u0007u\n"
          ]
        }
      ]
    },
    {
      "cell_type": "code",
      "source": [
        "name='be\\\\au'\n",
        "print(name)"
      ],
      "metadata": {
        "colab": {
          "base_uri": "https://localhost:8080/"
        },
        "id": "lHzsFiw1BZ2F",
        "outputId": "f6537ea5-ac74-4613-9080-2e2fd4b2d66a"
      },
      "execution_count": null,
      "outputs": [
        {
          "output_type": "stream",
          "name": "stdout",
          "text": [
            "be\\au\n"
          ]
        }
      ]
    },
    {
      "cell_type": "markdown",
      "source": [
        "## String Characters & Slicing"
      ],
      "metadata": {
        "id": "splRgy3JeoGJ"
      }
    },
    {
      "cell_type": "code",
      "source": [
        "name='beau'\n",
        "print(name[0])\n",
        "print(name[-1])"
      ],
      "metadata": {
        "id": "6Xt-fu0Beop2",
        "colab": {
          "base_uri": "https://localhost:8080/"
        },
        "outputId": "3f9ed9e9-1bf1-465a-b430-edc91e9da298"
      },
      "execution_count": null,
      "outputs": [
        {
          "output_type": "stream",
          "name": "stdout",
          "text": [
            "b\n",
            "u\n"
          ]
        }
      ]
    },
    {
      "cell_type": "code",
      "source": [
        "name='beau is cool'\n",
        "print(name[1:2])\n",
        "print(name[1:7])\n",
        "print(name[:7])\n",
        "print(name[5:])"
      ],
      "metadata": {
        "colab": {
          "base_uri": "https://localhost:8080/"
        },
        "id": "NWFATJrtCA_B",
        "outputId": "e1bcbf2f-153b-47dd-b343-0de762a81128"
      },
      "execution_count": null,
      "outputs": [
        {
          "output_type": "stream",
          "name": "stdout",
          "text": [
            "e\n",
            "eau is\n",
            "beau is\n",
            "is cool\n"
          ]
        }
      ]
    },
    {
      "cell_type": "markdown",
      "source": [
        "## Booleans"
      ],
      "metadata": {
        "id": "ba0Wi85Vepwa"
      }
    },
    {
      "cell_type": "code",
      "source": [
        "done=True\n",
        "if done:\n",
        "  print('yes')\n",
        "else:\n",
        "  print('no')"
      ],
      "metadata": {
        "id": "Ylg0Z_8weqOf",
        "colab": {
          "base_uri": "https://localhost:8080/"
        },
        "outputId": "c48e307a-e540-4c2e-b63f-999015bde3da"
      },
      "execution_count": null,
      "outputs": [
        {
          "output_type": "stream",
          "name": "stdout",
          "text": [
            "yes\n"
          ]
        }
      ]
    },
    {
      "cell_type": "code",
      "source": [
        "done=False\n",
        "if done:\n",
        "  print('yes')\n",
        "else:\n",
        "  print('no')"
      ],
      "metadata": {
        "colab": {
          "base_uri": "https://localhost:8080/"
        },
        "id": "uU62LVRlDOUM",
        "outputId": "cd62f1fe-7a97-4eaf-a740-1d7ce8faf38d"
      },
      "execution_count": null,
      "outputs": [
        {
          "output_type": "stream",
          "name": "stdout",
          "text": [
            "no\n"
          ]
        }
      ]
    },
    {
      "cell_type": "code",
      "source": [
        "done=0\n",
        "if done:\n",
        "  print('yes')\n",
        "else:\n",
        "  print('no')"
      ],
      "metadata": {
        "colab": {
          "base_uri": "https://localhost:8080/"
        },
        "id": "7oKIYNPTDQht",
        "outputId": "7357fb53-a342-414f-e4fa-5f84953d1e47"
      },
      "execution_count": null,
      "outputs": [
        {
          "output_type": "stream",
          "name": "stdout",
          "text": [
            "no\n"
          ]
        }
      ]
    },
    {
      "cell_type": "code",
      "source": [
        "done=-1\n",
        "if done:\n",
        "  print('yes')\n",
        "else:\n",
        "  print('no')"
      ],
      "metadata": {
        "colab": {
          "base_uri": "https://localhost:8080/"
        },
        "id": "JJGj8LnyDTAW",
        "outputId": "412965e2-0f97-467b-ca5f-ca1acc30c5b1"
      },
      "execution_count": null,
      "outputs": [
        {
          "output_type": "stream",
          "name": "stdout",
          "text": [
            "yes\n"
          ]
        }
      ]
    },
    {
      "cell_type": "code",
      "source": [
        "done=''\n",
        "if done:\n",
        "  print('yes')\n",
        "else:\n",
        "  print('no')"
      ],
      "metadata": {
        "colab": {
          "base_uri": "https://localhost:8080/"
        },
        "id": "N32kf5EmDrZ7",
        "outputId": "f55afc67-4863-4215-fd78-5ea79aeb7a21"
      },
      "execution_count": null,
      "outputs": [
        {
          "output_type": "stream",
          "name": "stdout",
          "text": [
            "no\n"
          ]
        }
      ]
    },
    {
      "cell_type": "code",
      "source": [
        "done='beau'\n",
        "if done:\n",
        "  print('yes')\n",
        "else:\n",
        "  print('no')"
      ],
      "metadata": {
        "colab": {
          "base_uri": "https://localhost:8080/"
        },
        "id": "hswK2Ih7DuC8",
        "outputId": "e3633e53-b179-422f-d823-975857cd3b3c"
      },
      "execution_count": null,
      "outputs": [
        {
          "output_type": "stream",
          "name": "stdout",
          "text": [
            "yes\n"
          ]
        }
      ]
    },
    {
      "cell_type": "code",
      "source": [
        "done=True\n",
        "print(type(done)==bool)\n",
        "if done:\n",
        "  print('yes')\n",
        "else:\n",
        "  print('no')"
      ],
      "metadata": {
        "colab": {
          "base_uri": "https://localhost:8080/"
        },
        "id": "J0Xc_nqfD5Q-",
        "outputId": "252a2ee0-7056-4cd8-e053-5c6f8d0d9a74"
      },
      "execution_count": null,
      "outputs": [
        {
          "output_type": "stream",
          "name": "stdout",
          "text": [
            "True\n",
            "yes\n"
          ]
        }
      ]
    },
    {
      "cell_type": "code",
      "source": [
        "done=\"beau\"\n",
        "print(type(done)==bool)\n",
        "if done:\n",
        "  print('yes')\n",
        "else:\n",
        "  print('no')"
      ],
      "metadata": {
        "colab": {
          "base_uri": "https://localhost:8080/"
        },
        "id": "mkTUxHG9EHhw",
        "outputId": "1213d041-90e9-404b-9d3d-9dd48a6bccd5"
      },
      "execution_count": null,
      "outputs": [
        {
          "output_type": "stream",
          "name": "stdout",
          "text": [
            "False\n",
            "yes\n"
          ]
        }
      ]
    },
    {
      "cell_type": "markdown",
      "source": [
        "## Number Data Types"
      ],
      "metadata": {
        "id": "GAsbi4JFerlH"
      }
    },
    {
      "cell_type": "code",
      "source": [
        "num1= 2+3j\n",
        "num2=complex(2,3)\n",
        "print(num2 .real, num1 .imag)"
      ],
      "metadata": {
        "id": "WQuOcuvUer_X",
        "colab": {
          "base_uri": "https://localhost:8080/"
        },
        "outputId": "08ef45f3-9782-4532-e767-a6b1af4fb37d"
      },
      "execution_count": null,
      "outputs": [
        {
          "output_type": "stream",
          "name": "stdout",
          "text": [
            "2.0 3.0\n"
          ]
        }
      ]
    },
    {
      "cell_type": "markdown",
      "source": [
        "## Built-in Functions"
      ],
      "metadata": {
        "id": "XolXXFBaetuF"
      }
    },
    {
      "cell_type": "code",
      "source": [
        "print(abs(-5.5))"
      ],
      "metadata": {
        "id": "cZiBq-tWeuJv",
        "colab": {
          "base_uri": "https://localhost:8080/"
        },
        "outputId": "606133b8-85cc-41c7-94a0-aee77845ef05"
      },
      "execution_count": null,
      "outputs": [
        {
          "output_type": "stream",
          "name": "stdout",
          "text": [
            "5.5\n"
          ]
        }
      ]
    },
    {
      "cell_type": "code",
      "source": [
        "print(round(5.5))\n",
        "print(round(5.49))\n",
        "print(round(5.49,1))"
      ],
      "metadata": {
        "colab": {
          "base_uri": "https://localhost:8080/"
        },
        "id": "DwnbH1zlG1zk",
        "outputId": "89ff8e4b-9a9c-4dc4-b933-4e4839c19b6b"
      },
      "execution_count": null,
      "outputs": [
        {
          "output_type": "stream",
          "name": "stdout",
          "text": [
            "6\n",
            "5\n",
            "5.5\n"
          ]
        }
      ]
    },
    {
      "cell_type": "markdown",
      "source": [
        "## Enums"
      ],
      "metadata": {
        "id": "I53j-y1HevDM"
      }
    },
    {
      "cell_type": "code",
      "source": [
        "from enum import Enum\n",
        "class state(Enum):\n",
        "  INACTIVE=0\n",
        "  ACTIVE=1\n",
        "print(state.ACTIVE.value)\n",
        "print(state.INACTIVE.value)"
      ],
      "metadata": {
        "id": "NEVbNcKMevfn",
        "colab": {
          "base_uri": "https://localhost:8080/"
        },
        "outputId": "63033f12-692e-474e-dd8e-32741ee04bcd"
      },
      "execution_count": null,
      "outputs": [
        {
          "output_type": "stream",
          "name": "stdout",
          "text": [
            "1\n",
            "0\n"
          ]
        }
      ]
    },
    {
      "cell_type": "code",
      "source": [
        "from enum import Enum\n",
        "class state(Enum):\n",
        "  INACTIVE=0\n",
        "  ACTIVE=1\n",
        "print(state(0))\n",
        "print(state(1))"
      ],
      "metadata": {
        "colab": {
          "base_uri": "https://localhost:8080/"
        },
        "id": "7Cu3Orn6Ityy",
        "outputId": "43040536-31f9-41bf-cb37-5883cf54e77b"
      },
      "execution_count": null,
      "outputs": [
        {
          "output_type": "stream",
          "name": "stdout",
          "text": [
            "state.INACTIVE\n",
            "state.ACTIVE\n"
          ]
        }
      ]
    },
    {
      "cell_type": "code",
      "source": [
        "from enum import Enum\n",
        "class state(Enum):\n",
        "  INACTIVE=0\n",
        "  ACTIVE=1\n",
        "print(state(0))\n",
        "print(list(state))"
      ],
      "metadata": {
        "colab": {
          "base_uri": "https://localhost:8080/"
        },
        "id": "IidHltiwKDnn",
        "outputId": "0ff83913-50bc-41d1-83b3-08d2109b401f"
      },
      "execution_count": null,
      "outputs": [
        {
          "output_type": "stream",
          "name": "stdout",
          "text": [
            "state.INACTIVE\n",
            "[<state.INACTIVE: 0>, <state.ACTIVE: 1>]\n"
          ]
        }
      ]
    },
    {
      "cell_type": "markdown",
      "source": [
        "## User Input"
      ],
      "metadata": {
        "id": "TYB97bGcewsF"
      }
    },
    {
      "cell_type": "code",
      "source": [
        "print(\"what is your age? \")\n",
        "age=input()\n",
        "print(\"your age is \"+age)"
      ],
      "metadata": {
        "id": "R6Tn9dRvexUX",
        "colab": {
          "base_uri": "https://localhost:8080/"
        },
        "outputId": "db013baf-121c-4665-df29-0c27d497a0f2"
      },
      "execution_count": null,
      "outputs": [
        {
          "output_type": "stream",
          "name": "stdout",
          "text": [
            "what is your age? \n",
            "4\n",
            "your age is 4\n"
          ]
        }
      ]
    },
    {
      "cell_type": "code",
      "source": [
        "age=input(\"what is your age? \")\n",
        "print(\"your age is \"+age)"
      ],
      "metadata": {
        "colab": {
          "base_uri": "https://localhost:8080/"
        },
        "id": "PRuHXBlbKtEF",
        "outputId": "3f7a07fc-d9b0-4014-aa92-80504f3f5008"
      },
      "execution_count": null,
      "outputs": [
        {
          "output_type": "stream",
          "name": "stdout",
          "text": [
            "what is your age? 5\n",
            "your age is 5\n"
          ]
        }
      ]
    },
    {
      "cell_type": "markdown",
      "source": [
        "## Control Statements"
      ],
      "metadata": {
        "id": "S7iXVmC_eyow"
      }
    },
    {
      "cell_type": "code",
      "source": [
        "condition= False\n",
        "if condition==True:\n",
        "  print('thecondition')\n",
        "  print(\"was true\")\n",
        "else:\n",
        "  print(\"the condition\")\n",
        "  print('was false')"
      ],
      "metadata": {
        "id": "CX7ztXvKey_e",
        "colab": {
          "base_uri": "https://localhost:8080/"
        },
        "outputId": "bf3f5d71-41ec-44fe-ca64-67ac129682c6"
      },
      "execution_count": null,
      "outputs": [
        {
          "output_type": "stream",
          "name": "stdout",
          "text": [
            "the condition\n",
            "was false\n"
          ]
        }
      ]
    },
    {
      "cell_type": "code",
      "source": [
        "condition= False\n",
        "name=\"roger\"\n",
        "\n",
        "if condition == True:\n",
        "  print(' the condition')\n",
        "  print('was True')\n",
        "elif name =='roger':\n",
        "  print('hello roger')\n",
        "elif name =='syd':\n",
        "  print('hello syd')\n",
        "elif name =='flavio':\n",
        "  print('hello flavio')\n",
        "else:\n",
        "  print('the condition')\n",
        "  print('was False')"
      ],
      "metadata": {
        "colab": {
          "base_uri": "https://localhost:8080/"
        },
        "id": "iRTv0sn7MmHX",
        "outputId": "c00af8ef-bfa7-441f-bc95-ec45ace18184"
      },
      "execution_count": null,
      "outputs": [
        {
          "output_type": "stream",
          "name": "stdout",
          "text": [
            "hello roger\n"
          ]
        }
      ]
    },
    {
      "cell_type": "markdown",
      "source": [
        "## Lists"
      ],
      "metadata": {
        "id": "-o62Jhgcez5h"
      }
    },
    {
      "cell_type": "code",
      "source": [
        "dogs = ['roger',1,'syed',True]\n",
        "print('roger' in dogs)"
      ],
      "metadata": {
        "id": "Ph58MxB2e0RX",
        "colab": {
          "base_uri": "https://localhost:8080/"
        },
        "outputId": "49e45e6d-2fd1-47fb-e73f-a29ecdfceaf8"
      },
      "execution_count": null,
      "outputs": [
        {
          "output_type": "stream",
          "name": "stdout",
          "text": [
            "True\n"
          ]
        }
      ]
    },
    {
      "cell_type": "code",
      "source": [
        "dogs = ['roger',1,'syed',True]\n",
        "print('Beau' in dogs)"
      ],
      "metadata": {
        "colab": {
          "base_uri": "https://localhost:8080/"
        },
        "id": "RB_S6V7nOqY_",
        "outputId": "34cc536c-9482-44ee-c2cf-e89dc0ff62c6"
      },
      "execution_count": null,
      "outputs": [
        {
          "output_type": "stream",
          "name": "stdout",
          "text": [
            "False\n"
          ]
        }
      ]
    },
    {
      "cell_type": "code",
      "source": [
        "dogs = []\n",
        "print('roger' in dogs)"
      ],
      "metadata": {
        "colab": {
          "base_uri": "https://localhost:8080/"
        },
        "id": "43_jwYm7OuAC",
        "outputId": "95ec38f6-a766-4fdc-974d-2465a77a724c"
      },
      "execution_count": null,
      "outputs": [
        {
          "output_type": "stream",
          "name": "stdout",
          "text": [
            "False\n"
          ]
        }
      ]
    },
    {
      "cell_type": "code",
      "source": [
        "dogs = ['roger',1,'syed',True]\n",
        "print(dogs[0])"
      ],
      "metadata": {
        "colab": {
          "base_uri": "https://localhost:8080/"
        },
        "id": "kN0N_0m0OujM",
        "outputId": "39b8b203-6385-49c5-82a3-28fb14c9d959"
      },
      "execution_count": null,
      "outputs": [
        {
          "output_type": "stream",
          "name": "stdout",
          "text": [
            "roger\n"
          ]
        }
      ]
    },
    {
      "cell_type": "code",
      "source": [
        "dogs = ['roger',1,'syed',True]\n",
        "dogs[2] = 'beau'\n",
        "print(dogs)"
      ],
      "metadata": {
        "colab": {
          "base_uri": "https://localhost:8080/"
        },
        "id": "FXq9euneO9zU",
        "outputId": "3ab9f802-b648-49da-d98a-14da5c08b19c"
      },
      "execution_count": null,
      "outputs": [
        {
          "output_type": "stream",
          "name": "stdout",
          "text": [
            "['roger', 1, 'beau', True]\n"
          ]
        }
      ]
    },
    {
      "cell_type": "code",
      "source": [
        "dogs = ['roger',1,'syed',True]\n",
        "dogs[2] = 'beau'\n",
        "print(dogs[-1])"
      ],
      "metadata": {
        "colab": {
          "base_uri": "https://localhost:8080/"
        },
        "id": "NWhgEEMKPTya",
        "outputId": "e1dd4c7d-1993-4694-dcd1-15ec646b42a4"
      },
      "execution_count": null,
      "outputs": [
        {
          "output_type": "stream",
          "name": "stdout",
          "text": [
            "True\n"
          ]
        }
      ]
    },
    {
      "cell_type": "code",
      "source": [
        "dogs = ['roger',1,'syed',True,'quincy',7]\n",
        "dogs[2] = 'beau'\n",
        "print(dogs[2:4])"
      ],
      "metadata": {
        "colab": {
          "base_uri": "https://localhost:8080/"
        },
        "id": "opfjxKLEOyJ3",
        "outputId": "cc1c9a16-b4ab-4d51-ac8a-9a646c4ab565"
      },
      "execution_count": null,
      "outputs": [
        {
          "output_type": "stream",
          "name": "stdout",
          "text": [
            "['beau', True]\n"
          ]
        }
      ]
    },
    {
      "cell_type": "code",
      "source": [
        "dogs = ['roger',1,'syed',True,'quincy',7]\n",
        "dogs[2] = 'beau'\n",
        "print(dogs[2:])"
      ],
      "metadata": {
        "colab": {
          "base_uri": "https://localhost:8080/"
        },
        "id": "eB56DGCmPpcj",
        "outputId": "a01f8e83-f347-4cfc-8658-c475f512d08c"
      },
      "execution_count": null,
      "outputs": [
        {
          "output_type": "stream",
          "name": "stdout",
          "text": [
            "['beau', True, 'quincy', 7]\n"
          ]
        }
      ]
    },
    {
      "cell_type": "code",
      "source": [
        "dogs = ['roger',1,'syed',True,'quincy',7]\n",
        "dogs[2] = 'beau'\n",
        "print(dogs[:4])"
      ],
      "metadata": {
        "colab": {
          "base_uri": "https://localhost:8080/"
        },
        "id": "DJVyjNUSPrjJ",
        "outputId": "45c70b52-a284-4569-9879-80711fbe4412"
      },
      "execution_count": null,
      "outputs": [
        {
          "output_type": "stream",
          "name": "stdout",
          "text": [
            "['roger', 1, 'beau', True]\n"
          ]
        }
      ]
    },
    {
      "cell_type": "code",
      "source": [
        "dogs = ['roger',1,'syed',True,'quincy',7]\n",
        "dogs[2] = 'beau'\n",
        "print(len(dogs))"
      ],
      "metadata": {
        "colab": {
          "base_uri": "https://localhost:8080/"
        },
        "id": "0ym-l2woPuy8",
        "outputId": "80399c86-302b-442d-bea4-6a95a5d36ddb"
      },
      "execution_count": null,
      "outputs": [
        {
          "output_type": "stream",
          "name": "stdout",
          "text": [
            "6\n"
          ]
        }
      ]
    },
    {
      "cell_type": "code",
      "source": [
        "dogs = ['roger',1,'syed',True,'quincy',7]\n",
        "dogs[2] = 'beau'\n",
        "dogs .append('judah')\n",
        "print (dogs)"
      ],
      "metadata": {
        "colab": {
          "base_uri": "https://localhost:8080/"
        },
        "id": "bbszyGaWP0mF",
        "outputId": "d558fc1b-81e2-48f4-8e90-928d47a3d49a"
      },
      "execution_count": null,
      "outputs": [
        {
          "output_type": "stream",
          "name": "stdout",
          "text": [
            "['roger', 1, 'beau', True, 'quincy', 7, 'judah']\n"
          ]
        }
      ]
    },
    {
      "cell_type": "code",
      "source": [
        "dogs = ['roger',1,'syed',True,'quincy',7]\n",
        "dogs[2] = 'beau'\n",
        "dogs .extend(['judah',5])\n",
        "print (dogs)"
      ],
      "metadata": {
        "colab": {
          "base_uri": "https://localhost:8080/"
        },
        "id": "tiSF9nDgQHER",
        "outputId": "fceb7b2a-0c40-4466-9e03-b560d2f04ac0"
      },
      "execution_count": null,
      "outputs": [
        {
          "output_type": "stream",
          "name": "stdout",
          "text": [
            "['roger', 1, 'beau', True, 'quincy', 7, 'judah', 5]\n"
          ]
        }
      ]
    },
    {
      "cell_type": "code",
      "source": [
        "dogs = ['roger',1,'syed',True,'quincy',7]\n",
        "dogs[2] = 'beau'\n",
        "dogs +=['judah',5]\n",
        "print (dogs)"
      ],
      "metadata": {
        "colab": {
          "base_uri": "https://localhost:8080/"
        },
        "id": "kb0lKr54QVcV",
        "outputId": "92a21ebd-013d-4ead-da6e-bf8566106b1c"
      },
      "execution_count": null,
      "outputs": [
        {
          "output_type": "stream",
          "name": "stdout",
          "text": [
            "['roger', 1, 'beau', True, 'quincy', 7, 'judah', 5]\n"
          ]
        }
      ]
    },
    {
      "cell_type": "code",
      "source": [
        "dogs = ['roger',1,'syed',True,'quincy',7]\n",
        "dogs[2] = 'beau'\n",
        "dogs +=['judah',5]\n",
        "dogs .remove('quincy')\n",
        "print (dogs)"
      ],
      "metadata": {
        "colab": {
          "base_uri": "https://localhost:8080/"
        },
        "id": "rDkELi45Qu0B",
        "outputId": "39dd1045-0e19-45b1-cd4c-fd3908488660"
      },
      "execution_count": null,
      "outputs": [
        {
          "output_type": "stream",
          "name": "stdout",
          "text": [
            "['roger', 1, 'beau', True, 7, 'judah', 5]\n"
          ]
        }
      ]
    },
    {
      "cell_type": "code",
      "source": [
        "dogs = ['roger',1,'syed',True,'quincy',7]\n",
        "dogs[2] = 'beau'\n",
        "dogs +=['judah',5]\n",
        "dogs .remove('quincy')\n",
        "print (dogs.pop())\n",
        "print (dogs)"
      ],
      "metadata": {
        "colab": {
          "base_uri": "https://localhost:8080/"
        },
        "id": "PtHLuyY7RDAU",
        "outputId": "8b454ade-803b-4787-fef5-2aa4a74e224a"
      },
      "execution_count": null,
      "outputs": [
        {
          "output_type": "stream",
          "name": "stdout",
          "text": [
            "5\n",
            "['roger', 1, 'beau', True, 7, 'judah']\n"
          ]
        }
      ]
    },
    {
      "cell_type": "code",
      "source": [
        "items = ['roger',1,'syed',True,'quincy',7]\n",
        "items.insert(2,'test')\n",
        "print(items)"
      ],
      "metadata": {
        "colab": {
          "base_uri": "https://localhost:8080/"
        },
        "id": "hEv-SqsoRRCd",
        "outputId": "d86b66c4-2b97-4471-fd74-071ac3af65e0"
      },
      "execution_count": null,
      "outputs": [
        {
          "output_type": "stream",
          "name": "stdout",
          "text": [
            "['roger', 1, 'test', 'syed', True, 'quincy', 7]\n"
          ]
        }
      ]
    },
    {
      "cell_type": "code",
      "source": [
        "items = ['roger',1,'syed',True,'quincy',7]\n",
        "items[1:1]=['test1','Test2']\n",
        "print(items)"
      ],
      "metadata": {
        "colab": {
          "base_uri": "https://localhost:8080/"
        },
        "id": "iSIbFLtRRhZX",
        "outputId": "56d95633-1eef-4023-e88e-4e1ccdc6bbd4"
      },
      "execution_count": null,
      "outputs": [
        {
          "output_type": "stream",
          "name": "stdout",
          "text": [
            "['roger', 'test1', 'Test2', 1, 'syed', True, 'quincy', 7]\n"
          ]
        }
      ]
    },
    {
      "cell_type": "markdown",
      "source": [
        "## Sorting Lists"
      ],
      "metadata": {
        "id": "JXCNZ6obe1Rk"
      }
    },
    {
      "cell_type": "code",
      "source": [
        "items = ['roger','syed','beau','quincy']\n",
        "items.sort()\n",
        "print(items)"
      ],
      "metadata": {
        "id": "lQVmMqQNe1nG",
        "colab": {
          "base_uri": "https://localhost:8080/"
        },
        "outputId": "0c5214c7-44c0-43f1-a8b8-3211617ba61d"
      },
      "execution_count": null,
      "outputs": [
        {
          "output_type": "stream",
          "name": "stdout",
          "text": [
            "['beau', 'quincy', 'roger', 'syed']\n"
          ]
        }
      ]
    },
    {
      "cell_type": "code",
      "source": [
        "items = ['roger','syed','bob','beau','quincy']\n",
        "items .sort(key=str.lower)\n",
        "print(items)"
      ],
      "metadata": {
        "colab": {
          "base_uri": "https://localhost:8080/"
        },
        "id": "IqU-o4dBSML7",
        "outputId": "808082ca-885a-47ce-c87d-5ea709ef653c"
      },
      "execution_count": null,
      "outputs": [
        {
          "output_type": "stream",
          "name": "stdout",
          "text": [
            "['beau', 'bob', 'quincy', 'roger', 'syed']\n"
          ]
        }
      ]
    },
    {
      "cell_type": "code",
      "source": [
        "items = ['roger','syed','bob','beau','quincy']\n",
        "itermscopy=items[:]\n",
        "items .sort(key=str.lower)\n",
        "print(items)\n",
        "print(itermscopy)"
      ],
      "metadata": {
        "colab": {
          "base_uri": "https://localhost:8080/"
        },
        "id": "DnHhRkfqSYkx",
        "outputId": "7582cbe1-8edd-4ef4-8741-8ae5c398d1e3"
      },
      "execution_count": null,
      "outputs": [
        {
          "output_type": "stream",
          "name": "stdout",
          "text": [
            "['beau', 'bob', 'quincy', 'roger', 'syed']\n",
            "['roger', 'syed', 'bob', 'beau', 'quincy']\n"
          ]
        }
      ]
    },
    {
      "cell_type": "code",
      "source": [
        "items = ['roger','syed','bob','beau','quincy']\n",
        "\n",
        "print(sorted(items, key=str.lower))\n",
        "\n"
      ],
      "metadata": {
        "colab": {
          "base_uri": "https://localhost:8080/"
        },
        "id": "huap119zSxTz",
        "outputId": "3aedb7d5-b60b-4034-a547-8a2224140113"
      },
      "execution_count": null,
      "outputs": [
        {
          "output_type": "stream",
          "name": "stdout",
          "text": [
            "['beau', 'bob', 'quincy', 'roger', 'syed']\n"
          ]
        }
      ]
    },
    {
      "cell_type": "markdown",
      "source": [
        "## Tuples"
      ],
      "metadata": {
        "id": "v-XATXsSe2fU"
      }
    },
    {
      "cell_type": "code",
      "source": [
        "names=('roger','syd','beau')\n",
        "names[-1]\n",
        "names.index('roger')\n",
        "print(len(names))\n",
        "print('roger' in names)\n",
        "names[0:2]\n",
        "print(sorted(names))\n",
        "newTuple=names+('tina','quincy')\n",
        "print(newTuple)"
      ],
      "metadata": {
        "id": "lywfMI8xe2y-",
        "colab": {
          "base_uri": "https://localhost:8080/"
        },
        "outputId": "e097ca72-8c46-43c6-8374-c713ca565b71"
      },
      "execution_count": null,
      "outputs": [
        {
          "output_type": "stream",
          "name": "stdout",
          "text": [
            "3\n",
            "True\n",
            "['beau', 'roger', 'syd']\n",
            "('roger', 'syd', 'beau', 'tina', 'quincy')\n"
          ]
        }
      ]
    },
    {
      "cell_type": "markdown",
      "source": [
        "## Dictionaries"
      ],
      "metadata": {
        "id": "z51qJ72re38l"
      }
    },
    {
      "cell_type": "code",
      "source": [
        "dog={'name':'roger','age':8}\n",
        "dog['name']='syd'\n",
        "print(dog)"
      ],
      "metadata": {
        "id": "AswcmGTke4VG",
        "colab": {
          "base_uri": "https://localhost:8080/"
        },
        "outputId": "ea1b68c9-21ac-4cde-9ee3-ea6d06a47d52"
      },
      "execution_count": null,
      "outputs": [
        {
          "output_type": "stream",
          "name": "stdout",
          "text": [
            "{'name': 'syd', 'age': 8}\n"
          ]
        }
      ]
    },
    {
      "cell_type": "code",
      "source": [
        "dog={'name':'roger','age':8}\n",
        "print(dog['name'])"
      ],
      "metadata": {
        "id": "_cc2PrTmWZtD"
      },
      "execution_count": null,
      "outputs": []
    },
    {
      "cell_type": "code",
      "source": [
        "dog={'name':'roger','age':8}\n",
        "\n",
        "print(dog.get('name'))"
      ],
      "metadata": {
        "colab": {
          "base_uri": "https://localhost:8080/"
        },
        "id": "BGrfklBkWj-Y",
        "outputId": "d4398682-1375-49ef-ac1a-2db54751f4e1"
      },
      "execution_count": null,
      "outputs": [
        {
          "output_type": "stream",
          "name": "stdout",
          "text": [
            "roger\n"
          ]
        }
      ]
    },
    {
      "cell_type": "code",
      "source": [
        "dog={'name':'roger','age':8}\n",
        "\n",
        "print(dog.get('color'))"
      ],
      "metadata": {
        "colab": {
          "base_uri": "https://localhost:8080/"
        },
        "id": "rQa26LYfWu_O",
        "outputId": "dc9e1f6c-8e37-4220-ec40-fba87ddaff49"
      },
      "execution_count": null,
      "outputs": [
        {
          "output_type": "stream",
          "name": "stdout",
          "text": [
            "None\n"
          ]
        }
      ]
    },
    {
      "cell_type": "code",
      "source": [
        "dog={'name':'roger','age':8, 'color':'green'}\n",
        "\n",
        "print(dog.get('color'))"
      ],
      "metadata": {
        "colab": {
          "base_uri": "https://localhost:8080/"
        },
        "id": "T9LbVmg6Wxss",
        "outputId": "9ce5a569-3aa6-4739-f5fa-ec03f57b79d7"
      },
      "execution_count": null,
      "outputs": [
        {
          "output_type": "stream",
          "name": "stdout",
          "text": [
            "green\n"
          ]
        }
      ]
    },
    {
      "cell_type": "code",
      "source": [
        "dog={'name':'roger','age':8, 'color':'green'}\n",
        "\n",
        "print(dog.pop('name'))\n",
        "print(dog)"
      ],
      "metadata": {
        "colab": {
          "base_uri": "https://localhost:8080/"
        },
        "id": "6ogIEfGYXQtQ",
        "outputId": "0a0d6de0-f651-4663-b87f-fae2c52a30bd"
      },
      "execution_count": null,
      "outputs": [
        {
          "output_type": "stream",
          "name": "stdout",
          "text": [
            "roger\n",
            "{'age': 8, 'color': 'green'}\n"
          ]
        }
      ]
    },
    {
      "cell_type": "code",
      "source": [
        "dog={'name':'roger','age':8, 'color':'green'}\n",
        "\n",
        "print(dog.popitem())\n",
        "print(dog)"
      ],
      "metadata": {
        "colab": {
          "base_uri": "https://localhost:8080/"
        },
        "id": "KVq9VjHRXaIC",
        "outputId": "e3403cfd-bd09-4b7f-f58b-f981267f59fb"
      },
      "execution_count": null,
      "outputs": [
        {
          "output_type": "stream",
          "name": "stdout",
          "text": [
            "('color', 'green')\n",
            "{'name': 'roger', 'age': 8}\n"
          ]
        }
      ]
    },
    {
      "cell_type": "code",
      "source": [
        "dog={'name':'roger','age':8, 'color':'green'}\n",
        "\n",
        "\n",
        "print('color' in dog)"
      ],
      "metadata": {
        "colab": {
          "base_uri": "https://localhost:8080/"
        },
        "id": "A1XlqXVlXfRU",
        "outputId": "a9924fc3-375a-47d0-a6e2-2d369991b6ce"
      },
      "execution_count": null,
      "outputs": [
        {
          "output_type": "stream",
          "name": "stdout",
          "text": [
            "True\n"
          ]
        }
      ]
    },
    {
      "cell_type": "code",
      "source": [
        "dog={'name':'roger','age':8, 'color':'green'}\n",
        "\n",
        "print(dog.values())\n",
        "print(dog.keys())"
      ],
      "metadata": {
        "colab": {
          "base_uri": "https://localhost:8080/"
        },
        "id": "9Zy0RgopXxd3",
        "outputId": "705eb018-f451-4a68-c586-754ce565128c"
      },
      "execution_count": null,
      "outputs": [
        {
          "output_type": "stream",
          "name": "stdout",
          "text": [
            "dict_values(['roger', 8, 'green'])\n",
            "dict_keys(['name', 'age', 'color'])\n"
          ]
        }
      ]
    },
    {
      "cell_type": "code",
      "source": [
        "dog={'name':'roger','age':8, 'color':'green'}\n",
        "print (len(dog))"
      ],
      "metadata": {
        "colab": {
          "base_uri": "https://localhost:8080/"
        },
        "id": "j29n71N2YFAh",
        "outputId": "1a3cb64d-d9a5-4333-c622-62c1f06fc51c"
      },
      "execution_count": null,
      "outputs": [
        {
          "output_type": "stream",
          "name": "stdout",
          "text": [
            "3\n"
          ]
        }
      ]
    },
    {
      "cell_type": "code",
      "source": [
        "dog={'name':'roger','age':8, 'color':'green'}\n",
        "dog['favorite food']='meat'\n",
        "del dog['color']\n",
        "dogcopy=dog.copy()\n",
        "print(dog)"
      ],
      "metadata": {
        "colab": {
          "base_uri": "https://localhost:8080/"
        },
        "id": "xL1aVqPPY28Q",
        "outputId": "1d800fcc-1a49-4f6a-f229-e034c69fc085"
      },
      "execution_count": null,
      "outputs": [
        {
          "output_type": "stream",
          "name": "stdout",
          "text": [
            "{'name': 'roger', 'age': 8, 'favorite food': 'meat'}\n"
          ]
        }
      ]
    },
    {
      "cell_type": "markdown",
      "source": [
        "## Sets"
      ],
      "metadata": {
        "id": "o93NW4-Be5cC"
      }
    },
    {
      "cell_type": "code",
      "source": [
        "set1={'roger','syd'}\n",
        "set2={'roger'}\n",
        "intersect=set1 & set2\n",
        "print( intersect)"
      ],
      "metadata": {
        "id": "v3CIIJeAe5xu",
        "colab": {
          "base_uri": "https://localhost:8080/"
        },
        "outputId": "bff216d0-1185-419f-903e-9f3938e2bca6"
      },
      "execution_count": null,
      "outputs": [
        {
          "output_type": "stream",
          "name": "stdout",
          "text": [
            "{'roger'}\n"
          ]
        }
      ]
    },
    {
      "cell_type": "code",
      "source": [
        "set1={'roger','syd'}\n",
        "set2={'roger'}\n",
        "mod=set1 - set2\n",
        "print( mod)"
      ],
      "metadata": {
        "colab": {
          "base_uri": "https://localhost:8080/"
        },
        "id": "cerf9pU-dIc-",
        "outputId": "e01ecd5d-0ed5-4d5c-f361-277719a61151"
      },
      "execution_count": null,
      "outputs": [
        {
          "output_type": "stream",
          "name": "stdout",
          "text": [
            "{'syd'}\n"
          ]
        }
      ]
    },
    {
      "cell_type": "code",
      "source": [
        "set1={'roger','syd'}\n",
        "set2={'roger'}\n",
        "mod=set1 | set2\n",
        "print( mod)"
      ],
      "metadata": {
        "colab": {
          "base_uri": "https://localhost:8080/"
        },
        "id": "TFWiOwBodWAz",
        "outputId": "56c3a2de-88d2-42df-bc67-26dc6f3670cf"
      },
      "execution_count": null,
      "outputs": [
        {
          "output_type": "stream",
          "name": "stdout",
          "text": [
            "{'syd', 'roger'}\n"
          ]
        }
      ]
    },
    {
      "cell_type": "code",
      "source": [
        "set1={'roger','syd'}\n",
        "set2={'roger'}\n",
        "mod=set1 > set2\n",
        "print( mod)"
      ],
      "metadata": {
        "colab": {
          "base_uri": "https://localhost:8080/"
        },
        "id": "ds5_xnKmdYqe",
        "outputId": "cef116fd-79af-461b-f7d6-e08b7dd5981d"
      },
      "execution_count": null,
      "outputs": [
        {
          "output_type": "stream",
          "name": "stdout",
          "text": [
            "True\n"
          ]
        }
      ]
    },
    {
      "cell_type": "code",
      "source": [
        "set1={'roger','syd'}\n",
        "set2={'roger'}\n",
        "mod=set1 < set2\n",
        "print( mod)"
      ],
      "metadata": {
        "colab": {
          "base_uri": "https://localhost:8080/"
        },
        "id": "QGMr3zNrdbot",
        "outputId": "9d6eff09-c88a-4781-ce77-6444c74d69be"
      },
      "execution_count": null,
      "outputs": [
        {
          "output_type": "stream",
          "name": "stdout",
          "text": [
            "False\n"
          ]
        }
      ]
    },
    {
      "cell_type": "code",
      "source": [
        "set1={'roger','syd'}\n",
        "set2={'roger'}\n",
        "\n",
        "print( list(set1))"
      ],
      "metadata": {
        "colab": {
          "base_uri": "https://localhost:8080/"
        },
        "id": "NG5L9KJtdf6B",
        "outputId": "56167681-a88a-49e8-918e-5eacf9c8126c"
      },
      "execution_count": null,
      "outputs": [
        {
          "output_type": "stream",
          "name": "stdout",
          "text": [
            "['syd', 'roger']\n"
          ]
        }
      ]
    },
    {
      "cell_type": "code",
      "source": [
        "set1={'roger','syd','roger'}\n",
        "set2={'roger'}\n",
        "\n",
        "print( list(set1))"
      ],
      "metadata": {
        "colab": {
          "base_uri": "https://localhost:8080/"
        },
        "id": "MyryK3hedntQ",
        "outputId": "6ed679ab-c988-4c11-9f94-7a82d9ef0eb5"
      },
      "execution_count": null,
      "outputs": [
        {
          "output_type": "stream",
          "name": "stdout",
          "text": [
            "['syd', 'roger']\n"
          ]
        }
      ]
    },
    {
      "cell_type": "markdown",
      "source": [
        "## Functions"
      ],
      "metadata": {
        "id": "UlOZz1nwe66p"
      }
    },
    {
      "cell_type": "code",
      "source": [
        "def hello():\n",
        "  print('hello')\n",
        "hello()\n",
        "hello()\n",
        "hello()"
      ],
      "metadata": {
        "id": "i4lZX_n8e7TO",
        "colab": {
          "base_uri": "https://localhost:8080/"
        },
        "outputId": "27f7506b-0026-4004-ec63-386390abf65d"
      },
      "execution_count": null,
      "outputs": [
        {
          "output_type": "stream",
          "name": "stdout",
          "text": [
            "hello\n",
            "hello\n",
            "hello\n"
          ]
        }
      ]
    },
    {
      "cell_type": "code",
      "source": [
        "def hello(name):\n",
        "  print('hello '+name)\n",
        "hello('beau')\n",
        "hello('quincy')\n"
      ],
      "metadata": {
        "colab": {
          "base_uri": "https://localhost:8080/"
        },
        "id": "_xo7SwQSeCPG",
        "outputId": "5f424171-ecd3-4b8c-c2fa-d829a831fed9"
      },
      "execution_count": null,
      "outputs": [
        {
          "output_type": "stream",
          "name": "stdout",
          "text": [
            "hello beau\n",
            "hello quincy\n"
          ]
        }
      ]
    },
    {
      "cell_type": "code",
      "source": [
        "def hello(name='my friend'):\n",
        "  print('hello '+ name)\n",
        "hello('beau')\n",
        "hello('quincy')\n",
        "hello()"
      ],
      "metadata": {
        "colab": {
          "base_uri": "https://localhost:8080/"
        },
        "id": "YPaf_8h4edET",
        "outputId": "a5ceee85-6037-4613-cd1f-aa13eee05d83"
      },
      "execution_count": null,
      "outputs": [
        {
          "output_type": "stream",
          "name": "stdout",
          "text": [
            "hello beau\n",
            "hello quincy\n",
            "hello my friend\n"
          ]
        }
      ]
    },
    {
      "cell_type": "code",
      "source": [
        "def hello(name,age):\n",
        "  print('hello '+ name + ', you are ' +str(age) +' years old!')\n",
        "hello('beau',39)\n",
        "hello('quincy',70 )\n"
      ],
      "metadata": {
        "colab": {
          "base_uri": "https://localhost:8080/"
        },
        "id": "VTp76VVeeqDH",
        "outputId": "69c9c530-6ea8-4f06-cb80-2f4c19f5ebf1"
      },
      "execution_count": null,
      "outputs": [
        {
          "output_type": "stream",
          "name": "stdout",
          "text": [
            "hello beau, you are 39 years old!\n",
            "hello quincy, you are 70 years old!\n"
          ]
        }
      ]
    },
    {
      "cell_type": "code",
      "source": [
        "def change (value):\n",
        "  value=2\n",
        "val=1\n",
        "change(val)\n",
        "print(val)"
      ],
      "metadata": {
        "colab": {
          "base_uri": "https://localhost:8080/"
        },
        "id": "4W8GpsULfOqR",
        "outputId": "3f7108b1-b7f5-466c-8659-80b8b451fe0f"
      },
      "execution_count": null,
      "outputs": [
        {
          "output_type": "stream",
          "name": "stdout",
          "text": [
            "1\n"
          ]
        }
      ]
    },
    {
      "cell_type": "code",
      "source": [
        "def change (value):\n",
        "  value['name']='syd'\n",
        "\n",
        "val={'name':'beau'}\n",
        "change(val)\n",
        "print(val)"
      ],
      "metadata": {
        "colab": {
          "base_uri": "https://localhost:8080/"
        },
        "id": "XDAXKfGQf5TW",
        "outputId": "3b2964a8-ed4d-40b5-96d0-752a54b88a29"
      },
      "execution_count": null,
      "outputs": [
        {
          "output_type": "stream",
          "name": "stdout",
          "text": [
            "{'name': 'syd'}\n"
          ]
        }
      ]
    },
    {
      "cell_type": "code",
      "source": [
        "def hello (name):\n",
        "  if not name:\n",
        "    return\n",
        "  print('hello ' +name +'!')\n",
        "hello('beau')\n",
        "  \n"
      ],
      "metadata": {
        "colab": {
          "base_uri": "https://localhost:8080/"
        },
        "id": "QWO1LFcWgGUh",
        "outputId": "b21c3087-1dac-486a-f109-235fe75547ba"
      },
      "execution_count": null,
      "outputs": [
        {
          "output_type": "stream",
          "name": "stdout",
          "text": [
            "hello beau!\n"
          ]
        }
      ]
    },
    {
      "cell_type": "code",
      "source": [
        "def hello (name):\n",
        "  print('hello ' +name +'!')\n",
        "  return name, 'beau',8\n",
        "print(hello('syd'))"
      ],
      "metadata": {
        "colab": {
          "base_uri": "https://localhost:8080/"
        },
        "id": "Rws2Svl0gybK",
        "outputId": "5b3f9be2-7257-4fc7-a7dd-8c2538d7dac1"
      },
      "execution_count": null,
      "outputs": [
        {
          "output_type": "stream",
          "name": "stdout",
          "text": [
            "hello syd!\n",
            "('syd', 'beau', 8)\n"
          ]
        }
      ]
    },
    {
      "cell_type": "markdown",
      "source": [
        "## Variable Scope"
      ],
      "metadata": {
        "id": "YfJx0wrPe8mH"
      }
    },
    {
      "cell_type": "code",
      "source": [
        "age=8\n",
        "def test():\n",
        "  print(age)\n",
        "print(age)\n",
        "test()"
      ],
      "metadata": {
        "id": "96Jp-il7e9A2",
        "colab": {
          "base_uri": "https://localhost:8080/"
        },
        "outputId": "33ddfac7-a23d-4363-9670-b4ff2097acbb"
      },
      "execution_count": null,
      "outputs": [
        {
          "output_type": "stream",
          "name": "stdout",
          "text": [
            "8\n",
            "8\n"
          ]
        }
      ]
    },
    {
      "cell_type": "markdown",
      "source": [
        "## Nested Functions "
      ],
      "metadata": {
        "id": "rsdLZV63e-VW"
      }
    },
    {
      "cell_type": "code",
      "source": [
        "def talk(phrase):\n",
        "  def say(word):\n",
        "    print(word)\n",
        "  words = phrase .split(' ')\n",
        "  for word in words:\n",
        "    say(word)\n",
        "talk ('i am going to buy the milk')"
      ],
      "metadata": {
        "id": "C4gt9Kjoe-ve",
        "colab": {
          "base_uri": "https://localhost:8080/"
        },
        "outputId": "c42ff762-c971-4b7e-e0dd-49dd5b1ddce6"
      },
      "execution_count": null,
      "outputs": [
        {
          "output_type": "stream",
          "name": "stdout",
          "text": [
            "i\n",
            "am\n",
            "going\n",
            "to\n",
            "buy\n",
            "the\n",
            "milk\n"
          ]
        }
      ]
    },
    {
      "cell_type": "markdown",
      "source": [
        "## Closures"
      ],
      "metadata": {
        "id": "fM8dAnvie_p6"
      }
    },
    {
      "cell_type": "code",
      "source": [
        "def counter():\n",
        "  count=0\n",
        "\n",
        "  def increment():\n",
        "    nonlocal count\n",
        "    count = count+1\n",
        "    return count\n",
        "  return increment\n",
        "\n",
        "increment = counter()\n",
        "\n",
        "print(increment())\n",
        "print(increment())\n",
        "print(increment())"
      ],
      "metadata": {
        "id": "kZCiwrFtfADm",
        "colab": {
          "base_uri": "https://localhost:8080/"
        },
        "outputId": "fe4e99fc-ac10-4a36-ee5d-750553b4522a"
      },
      "execution_count": null,
      "outputs": [
        {
          "output_type": "stream",
          "name": "stdout",
          "text": [
            "1\n",
            "2\n",
            "3\n"
          ]
        }
      ]
    },
    {
      "cell_type": "markdown",
      "source": [
        "## Objects"
      ],
      "metadata": {
        "id": "C02Pc0GCfBB_"
      }
    },
    {
      "cell_type": "code",
      "source": [
        "age=8\n",
        "print(age.real)\n",
        "print(age.imag)\n",
        "print(age.bit_length)"
      ],
      "metadata": {
        "id": "2W0N_9JRfBZu",
        "colab": {
          "base_uri": "https://localhost:8080/"
        },
        "outputId": "cd7b5a79-6cef-42a7-bf7a-8f4df391e2e1"
      },
      "execution_count": null,
      "outputs": [
        {
          "output_type": "stream",
          "name": "stdout",
          "text": [
            "8\n",
            "0\n",
            "<built-in method bit_length of int object at 0xa9c880>\n"
          ]
        }
      ]
    },
    {
      "cell_type": "code",
      "source": [
        "item=[1,2]\n",
        "item.append(3)\n",
        "item.pop()\n",
        "print(id(item))"
      ],
      "metadata": {
        "colab": {
          "base_uri": "https://localhost:8080/"
        },
        "id": "Rus-j0v_z6zt",
        "outputId": "66fc7793-882d-47bc-9b7c-16215ee4c55b"
      },
      "execution_count": null,
      "outputs": [
        {
          "output_type": "stream",
          "name": "stdout",
          "text": [
            "139647023756144\n"
          ]
        }
      ]
    },
    {
      "cell_type": "code",
      "source": [
        "age=8\n",
        "age=age+1\n",
        "print(age)"
      ],
      "metadata": {
        "colab": {
          "base_uri": "https://localhost:8080/"
        },
        "id": "-rV8uyV90cYX",
        "outputId": "fcb1b8f3-f391-46a7-ac87-db420410b62e"
      },
      "execution_count": null,
      "outputs": [
        {
          "output_type": "stream",
          "name": "stdout",
          "text": [
            "9\n"
          ]
        }
      ]
    },
    {
      "cell_type": "markdown",
      "source": [
        "## Loops"
      ],
      "metadata": {
        "id": "Q4Qhe-HufCe7"
      }
    },
    {
      "cell_type": "code",
      "source": [
        "count=0\n",
        "while count < 10:\n",
        "  print('the condition is True')\n",
        "  count = count+1\n",
        "print('after the loop')"
      ],
      "metadata": {
        "id": "VD4BYaZYfC52",
        "colab": {
          "base_uri": "https://localhost:8080/"
        },
        "outputId": "9acc6ebc-278b-407a-fe87-16786e107b4d"
      },
      "execution_count": null,
      "outputs": [
        {
          "output_type": "stream",
          "name": "stdout",
          "text": [
            "the condition is True\n",
            "the condition is True\n",
            "the condition is True\n",
            "the condition is True\n",
            "the condition is True\n",
            "the condition is True\n",
            "the condition is True\n",
            "the condition is True\n",
            "the condition is True\n",
            "the condition is True\n",
            "after the loop\n"
          ]
        }
      ]
    },
    {
      "cell_type": "code",
      "source": [
        "items=[1,2,3,4]\n",
        "for item in items:\n",
        "  print(item)"
      ],
      "metadata": {
        "colab": {
          "base_uri": "https://localhost:8080/"
        },
        "id": "V02ysbPJ2Mw9",
        "outputId": "a2ed5d12-3cd5-434c-a5ff-35b365eaa168"
      },
      "execution_count": null,
      "outputs": [
        {
          "output_type": "stream",
          "name": "stdout",
          "text": [
            "1\n",
            "2\n",
            "3\n",
            "4\n"
          ]
        }
      ]
    },
    {
      "cell_type": "code",
      "source": [
        "for item in range(15):\n",
        "  print (item)"
      ],
      "metadata": {
        "colab": {
          "base_uri": "https://localhost:8080/"
        },
        "id": "w16T78SM2iQW",
        "outputId": "36931270-95b8-44a7-f9c2-beab829abbcd"
      },
      "execution_count": null,
      "outputs": [
        {
          "output_type": "stream",
          "name": "stdout",
          "text": [
            "0\n",
            "1\n",
            "2\n",
            "3\n",
            "4\n",
            "5\n",
            "6\n",
            "7\n",
            "8\n",
            "9\n",
            "10\n",
            "11\n",
            "12\n",
            "13\n",
            "14\n"
          ]
        }
      ]
    },
    {
      "cell_type": "code",
      "source": [
        "items=[1,2,3,4]\n",
        "for index, items in enumerate(items):\n",
        "  print( index,item)"
      ],
      "metadata": {
        "colab": {
          "base_uri": "https://localhost:8080/"
        },
        "id": "RiRVb1Y42_Pd",
        "outputId": "d1f8e515-530b-4285-86a7-fe1b8a95d418"
      },
      "execution_count": null,
      "outputs": [
        {
          "output_type": "stream",
          "name": "stdout",
          "text": [
            "0 14\n",
            "1 14\n",
            "2 14\n",
            "3 14\n"
          ]
        }
      ]
    },
    {
      "cell_type": "code",
      "source": [
        "items=['roger','syed','bob']\n",
        "for index, item in enumerate(items):\n",
        "  print( index,item)"
      ],
      "metadata": {
        "colab": {
          "base_uri": "https://localhost:8080/"
        },
        "id": "vYxG22bq3V8J",
        "outputId": "4adaafed-1d85-492a-bd48-7b951721c97b"
      },
      "execution_count": null,
      "outputs": [
        {
          "output_type": "stream",
          "name": "stdout",
          "text": [
            "0 roger\n",
            "1 syed\n",
            "2 bob\n",
            "0 roger\n",
            "1 syed\n",
            "2 bob\n"
          ]
        }
      ]
    },
    {
      "cell_type": "markdown",
      "source": [
        "## Break and Continue"
      ],
      "metadata": {
        "id": "Xabbhir4fED1"
      }
    },
    {
      "cell_type": "code",
      "source": [
        "items = [1,2,3,4]\n",
        "for item in items:\n",
        "  if item ==2:\n",
        "    continue\n",
        "  print(item)"
      ],
      "metadata": {
        "id": "C5_SdToCfEYu",
        "colab": {
          "base_uri": "https://localhost:8080/"
        },
        "outputId": "60067a60-23e2-4ce0-d55b-c62fc43e199d"
      },
      "execution_count": null,
      "outputs": [
        {
          "output_type": "stream",
          "name": "stdout",
          "text": [
            "1\n",
            "3\n",
            "4\n"
          ]
        }
      ]
    },
    {
      "cell_type": "code",
      "source": [
        "items = [1,2,3,4]\n",
        "for item in items:\n",
        "  if item ==2:\n",
        "    break\n",
        "  print(item)"
      ],
      "metadata": {
        "id": "J2OupdyZ4KtF",
        "outputId": "cf6cda31-96a0-4ce1-b422-e5f5fe5fe525",
        "colab": {
          "base_uri": "https://localhost:8080/"
        }
      },
      "execution_count": null,
      "outputs": [
        {
          "output_type": "stream",
          "name": "stdout",
          "text": [
            "1\n"
          ]
        }
      ]
    },
    {
      "cell_type": "markdown",
      "source": [
        "## Classes"
      ],
      "metadata": {
        "id": "S7Akc8MUfFUB"
      }
    },
    {
      "cell_type": "code",
      "source": [
        "class dog:\n",
        "  def __init__(self,name,age):\n",
        "    self.name = name\n",
        "    self.age = age\n",
        "  def bark(self):\n",
        "    print('woof!')\n",
        "roger = dog('roger',8)\n",
        "print(roger.name)\n",
        "print(roger.age)\n",
        "(roger.bark())\n"
      ],
      "metadata": {
        "id": "ZP_gl9IrfFvm",
        "colab": {
          "base_uri": "https://localhost:8080/"
        },
        "outputId": "0857b154-c92f-48c9-fc03-76abf47ea990"
      },
      "execution_count": 3,
      "outputs": [
        {
          "output_type": "stream",
          "name": "stdout",
          "text": [
            "roger\n",
            "8\n",
            "woof!\n"
          ]
        }
      ]
    },
    {
      "cell_type": "code",
      "source": [
        "class Animal:\n",
        "  def walk(self):\n",
        "    print('walking...')\n",
        "class dog(Animal):\n",
        "  def __init__(self,name,age):\n",
        "    self.name = name\n",
        "    self.age = age\n",
        "  def bark(self):\n",
        "    print('woof!')\n",
        "roger = dog('roger',8)\n",
        "print(roger.name)\n",
        "print(roger.age)\n",
        "roger.bark()\n",
        "roger.walk()"
      ],
      "metadata": {
        "colab": {
          "base_uri": "https://localhost:8080/"
        },
        "id": "FY-Tg3SBUj0A",
        "outputId": "6ea3afcc-2e28-4253-a130-aae45facae52"
      },
      "execution_count": 9,
      "outputs": [
        {
          "output_type": "stream",
          "name": "stdout",
          "text": [
            "roger\n",
            "8\n",
            "woof!\n",
            "walking...\n"
          ]
        }
      ]
    },
    {
      "cell_type": "markdown",
      "source": [
        "## Modules"
      ],
      "metadata": {
        "id": "voM_fnldfGsC"
      }
    },
    {
      "cell_type": "code",
      "source": [
        "\n"
      ],
      "metadata": {
        "id": "SfXtMHMufHd-"
      },
      "execution_count": 11,
      "outputs": []
    },
    {
      "cell_type": "markdown",
      "source": [
        "## Arguments from Command Line"
      ],
      "metadata": {
        "id": "lS2yKZnSfK3E"
      }
    },
    {
      "cell_type": "code",
      "source": [
        "import sys\n",
        "\n",
        "print(sys.argv)"
      ],
      "metadata": {
        "id": "HetLVVF3fLUP",
        "colab": {
          "base_uri": "https://localhost:8080/"
        },
        "outputId": "adcfc0e6-1320-4e9a-c59a-76284bbc1e59"
      },
      "execution_count": 13,
      "outputs": [
        {
          "output_type": "stream",
          "name": "stdout",
          "text": [
            "['/usr/local/lib/python3.7/dist-packages/ipykernel_launcher.py', '-f', '/root/.local/share/jupyter/runtime/kernel-bb24a759-9f30-4c40-8dd0-ad100774a5ee.json']\n"
          ]
        }
      ]
    },
    {
      "cell_type": "code",
      "source": [
        "import sys\n",
        "name = sys.argv[1]\n",
        "print('hello' + name)"
      ],
      "metadata": {
        "id": "oV-LKh4WaShx",
        "outputId": "3c8dcb15-9731-4134-8199-a0a3cef11fa6",
        "colab": {
          "base_uri": "https://localhost:8080/"
        }
      },
      "execution_count": 16,
      "outputs": [
        {
          "output_type": "stream",
          "name": "stdout",
          "text": [
            "hello-f\n"
          ]
        }
      ]
    },
    {
      "cell_type": "code",
      "source": [
        "import argparse\n",
        "parser = argparse .Argumentparser (description='This program prints the name of my dogs')\n",
        "parser.add_arguments('-c','--color', metavar='color', required=True, choices={'red','yellow'}, help='The color to search for')\n",
        "args= parser.parse_args()\n",
        "print(args.color)"
      ],
      "metadata": {
        "id": "0GlHQTDDami5",
        "outputId": "26bef06e-5693-4696-a315-f64cf2e66427",
        "colab": {
          "base_uri": "https://localhost:8080/",
          "height": 235
        }
      },
      "execution_count": 19,
      "outputs": [
        {
          "output_type": "error",
          "ename": "AttributeError",
          "evalue": "ignored",
          "traceback": [
            "\u001b[0;31m---------------------------------------------------------------------------\u001b[0m",
            "\u001b[0;31mAttributeError\u001b[0m                            Traceback (most recent call last)",
            "\u001b[0;32m<ipython-input-19-3b1364911c23>\u001b[0m in \u001b[0;36m<module>\u001b[0;34m\u001b[0m\n\u001b[1;32m      1\u001b[0m \u001b[0;32mimport\u001b[0m \u001b[0margparse\u001b[0m\u001b[0;34m\u001b[0m\u001b[0;34m\u001b[0m\u001b[0m\n\u001b[0;32m----> 2\u001b[0;31m \u001b[0mparser\u001b[0m \u001b[0;34m=\u001b[0m \u001b[0margparse\u001b[0m \u001b[0;34m.\u001b[0m\u001b[0mArgumentparser\u001b[0m \u001b[0;34m(\u001b[0m\u001b[0mdescription\u001b[0m\u001b[0;34m=\u001b[0m\u001b[0;34m'This program prints the name of my dogs'\u001b[0m\u001b[0;34m)\u001b[0m\u001b[0;34m\u001b[0m\u001b[0;34m\u001b[0m\u001b[0m\n\u001b[0m\u001b[1;32m      3\u001b[0m \u001b[0mparser\u001b[0m\u001b[0;34m.\u001b[0m\u001b[0madd_arguments\u001b[0m\u001b[0;34m(\u001b[0m\u001b[0;34m'-c'\u001b[0m\u001b[0;34m,\u001b[0m\u001b[0;34m'--color'\u001b[0m\u001b[0;34m,\u001b[0m \u001b[0mmetavar\u001b[0m\u001b[0;34m=\u001b[0m\u001b[0;34m'color'\u001b[0m\u001b[0;34m,\u001b[0m \u001b[0mrequired\u001b[0m\u001b[0;34m=\u001b[0m\u001b[0;32mTrue\u001b[0m\u001b[0;34m,\u001b[0m \u001b[0mchoices\u001b[0m\u001b[0;34m=\u001b[0m\u001b[0;34m{\u001b[0m\u001b[0;34m'red'\u001b[0m\u001b[0;34m,\u001b[0m\u001b[0;34m'yellow'\u001b[0m\u001b[0;34m}\u001b[0m\u001b[0;34m,\u001b[0m \u001b[0mhelp\u001b[0m\u001b[0;34m=\u001b[0m\u001b[0;34m'The color to search for'\u001b[0m\u001b[0;34m)\u001b[0m\u001b[0;34m\u001b[0m\u001b[0;34m\u001b[0m\u001b[0m\n\u001b[1;32m      4\u001b[0m \u001b[0margs\u001b[0m\u001b[0;34m=\u001b[0m \u001b[0mparser\u001b[0m\u001b[0;34m.\u001b[0m\u001b[0mparse_args\u001b[0m\u001b[0;34m(\u001b[0m\u001b[0;34m)\u001b[0m\u001b[0;34m\u001b[0m\u001b[0;34m\u001b[0m\u001b[0m\n\u001b[1;32m      5\u001b[0m \u001b[0mprint\u001b[0m\u001b[0;34m(\u001b[0m\u001b[0margs\u001b[0m\u001b[0;34m.\u001b[0m\u001b[0mcolor\u001b[0m\u001b[0;34m)\u001b[0m\u001b[0;34m\u001b[0m\u001b[0;34m\u001b[0m\u001b[0m\n",
            "\u001b[0;31mAttributeError\u001b[0m: module 'argparse' has no attribute 'Argumentparser'"
          ]
        }
      ]
    },
    {
      "cell_type": "markdown",
      "source": [
        "## Lambda Functions"
      ],
      "metadata": {
        "id": "ly5LEeRefMt2"
      }
    },
    {
      "cell_type": "code",
      "source": [
        "lambda num:num*2\n",
        "multiply = lambda a,b:a*b\n",
        "print(multiply(2,4))"
      ],
      "metadata": {
        "id": "BeZeGnl0fNCO",
        "colab": {
          "base_uri": "https://localhost:8080/"
        },
        "outputId": "ada54e02-37c0-4b69-a4a1-eb51f8a2921d"
      },
      "execution_count": 21,
      "outputs": [
        {
          "output_type": "stream",
          "name": "stdout",
          "text": [
            "8\n"
          ]
        }
      ]
    },
    {
      "cell_type": "markdown",
      "source": [
        "## Map, Filter, Reduce"
      ],
      "metadata": {
        "id": "7Gh4uf41fOna"
      }
    },
    {
      "cell_type": "code",
      "source": [],
      "metadata": {
        "id": "x3ZW62tGfO7_"
      },
      "execution_count": null,
      "outputs": []
    },
    {
      "cell_type": "markdown",
      "source": [
        "## Recursion "
      ],
      "metadata": {
        "id": "q_isGYkCfQBP"
      }
    },
    {
      "cell_type": "code",
      "source": [],
      "metadata": {
        "id": "AaT1_pmUfQhW"
      },
      "execution_count": null,
      "outputs": []
    },
    {
      "cell_type": "markdown",
      "source": [
        "# The remaining modules from the Video is Optional if you wish to continue you can continue"
      ],
      "metadata": {
        "id": "N2Glk5gYfSnV"
      }
    },
    {
      "cell_type": "code",
      "source": [],
      "metadata": {
        "id": "KP3bIsY-fcEG"
      },
      "execution_count": null,
      "outputs": []
    }
  ]
}