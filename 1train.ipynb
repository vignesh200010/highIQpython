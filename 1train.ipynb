{
  "nbformat": 4,
  "nbformat_minor": 0,
  "metadata": {
    "colab": {
      "provenance": [],
      "authorship_tag": "ABX9TyO/IAztoGouC/odg+LIrQg4",
      "include_colab_link": true
    },
    "kernelspec": {
      "name": "python3",
      "display_name": "Python 3"
    },
    "language_info": {
      "name": "python"
    }
  },
  "cells": [
    {
      "cell_type": "markdown",
      "metadata": {
        "id": "view-in-github",
        "colab_type": "text"
      },
      "source": [
        "<a href=\"https://colab.research.google.com/github/vignesh200010/highIQpython/blob/main/1train.ipynb\" target=\"_parent\"><img src=\"https://colab.research.google.com/assets/colab-badge.svg\" alt=\"Open In Colab\"/></a>"
      ]
    },
    {
      "cell_type": "code",
      "execution_count": 9,
      "metadata": {
        "id": "1B18mjP-gcpm"
      },
      "outputs": [],
      "source": [
        "class train:\n",
        "  def __init__(self):\n",
        "    self.train_name=''\n",
        "    self.start_time=0\n",
        "    self.ending_time=0\n",
        "    self.arrival='' \n",
        "    self.departure='' \n",
        "    self.seats=0\n",
        "    self.available_seats=0\n",
        "    self.cancel_=0\n",
        "    self.seating_price=0\n",
        "    self.id=0\n",
        "    pass\n",
        "\n",
        "  def admin_creation(self,id_,start_time_,ending_time_,arrival_,departure_,train_name_,seats_,seating_price_):\n",
        "    self.start_time=start_time_\n",
        "    self.ending_time=ending_time_\n",
        "    self.arrival =arrival_ \n",
        "    self.departure=departure_ \n",
        "    self.train_name=train_name_\n",
        "    self.seats=seats_\n",
        "    self.seating_price=seating_price_\n",
        "    self.id=id_\n",
        "    #self.cancel=cancel_\n",
        "\n",
        "  def update_available_seats(self,numberofTickets):\n",
        "    if numberofTickets<=self.available_seats:\n",
        "      self.available_seats -= numberofTickets\n",
        "      return True\n",
        "    else:\n",
        "      return False\n",
        "  \n",
        "  def print_train(self):\n",
        "    print(self.id,self.start_time,self.ending_time,self.arrival,self.departure,self.train_name,self.seats,self.seating_price,self.available_seats)\n",
        "#self.train_name,\n",
        "\n",
        "class Admin:\n",
        "  def __init__(self,name):\n",
        "    self.name=name\n",
        "    self.list_trains=[]\n",
        "    \n",
        "   \n",
        "  \n",
        "  def create_train(self,id_,start_time_,ending_time_,arrival_,departure_,train_name_,seats_,seating_price_):\n",
        "    locals()[train_name_]=train()\n",
        "    locals()[train_name_].admin_creation(id_,start_time_,ending_time_,arrival_,departure_,train_name_,seats_,seating_price_)\n",
        "    print(locals()[train_name_].train_name)\n",
        "    self.list_trains.append(locals()[train_name_])\n",
        "  \n",
        "  def return_list_trains(self):\n",
        "    return self.list_trains\n",
        "\n",
        "\n",
        "\n",
        "\n",
        "class User:\n",
        "  def __init__(self,name):\n",
        "    self.user_name=name\n",
        "\n",
        "  def search_train(self,user_time_,user_starting_point_,user_ending_point_):\n",
        "    Tra = dell.return_list_trains()\n",
        "    #print(Tra)\n",
        "    user_time=user_time_\n",
        "    user_start_point = user_starting_point_\n",
        "    user_end_point = user_ending_point_\n",
        "    print('id','start_time_','ending_time_','arrival_','departure_','train_name_','seats_','seating_price_')\n",
        "    for var in Tra:\n",
        "      if var.start_time>=user_time:\n",
        "        #print('time match',var.arrival,var.departure)\n",
        "        if var.arrival==user_end_point and var.departure==user_start_point:\n",
        "          var.print_train()\n",
        "  def booking(self,no_t,id_):\n",
        "    a=dell.return_list_trains()\n",
        "    for var in a:\n",
        "      if var.id==id_:\n",
        "        if var.update_available_seats(no_t):\n",
        "          print('booking successful')\n",
        "        else:\n",
        "          print('no ticket avaliable')\n",
        "        break\n",
        "\n",
        "  def cancel(self,id_,n_o_t):\n",
        "    s = dell.return_lists_trains()\n",
        "    #booked_seats =i.seats-i.available_seats\n",
        "    for i in s:\n",
        "      booked_seats =i.seats-i.available_seats\n",
        "      if i.id == id_:\n",
        "        if n_o_t <= booked_seats:\n",
        "          i.available_seats += n_o_t\n",
        "          print('Tickets are cancelled')\n",
        "        else:\n",
        "          print('No cancellation')\n"
      ]
    },
    {
      "cell_type": "code",
      "source": [
        "dell = Admin('dell')\n",
        "dell.create_train(1,12,15,'bangalore','chennai','brindavan exp',22,500)\n",
        "dell.create_train(2,14,19,'bangalore','chennai','mysore tippu exp',22,2000)"
      ],
      "metadata": {
        "colab": {
          "base_uri": "https://localhost:8080/"
        },
        "id": "RxE2blcwgmj9",
        "outputId": "33242821-a737-4448-f060-15fb494fb650"
      },
      "execution_count": 10,
      "outputs": [
        {
          "output_type": "stream",
          "name": "stdout",
          "text": [
            "brindavan exp\n",
            "mysore tippu exp\n"
          ]
        }
      ]
    },
    {
      "cell_type": "code",
      "source": [
        "vignesh=User('vignesh')\n",
        "\n",
        "user_time = 1\n",
        "user_end_point='bangalore'\n",
        "user_start_point='chennai'\n",
        "\n",
        "vignesh.search_train(user_time,user_start_point,user_end_point)"
      ],
      "metadata": {
        "colab": {
          "base_uri": "https://localhost:8080/"
        },
        "id": "NOK63cZ2g5Ga",
        "outputId": "3e24cbdb-afa8-4ef5-ec7a-352c5de81863"
      },
      "execution_count": 12,
      "outputs": [
        {
          "output_type": "stream",
          "name": "stdout",
          "text": [
            "id start_time_ ending_time_ arrival_ departure_ train_name_ seats_ seating_price_\n",
            "1 12 15 bangalore chennai brindavan exp 22 500 0\n",
            "2 14 19 bangalore chennai mysore tippu exp 22 2000 0\n"
          ]
        }
      ]
    },
    {
      "cell_type": "code",
      "source": [
        "\n",
        "vignesh.booking(10,2)\n"
      ],
      "metadata": {
        "colab": {
          "base_uri": "https://localhost:8080/"
        },
        "id": "ORVON47WhF2R",
        "outputId": "f8f38a08-e60e-41c4-fa05-c6082190c821"
      },
      "execution_count": 13,
      "outputs": [
        {
          "output_type": "stream",
          "name": "stdout",
          "text": [
            "no ticket avaliable\n"
          ]
        }
      ]
    },
    {
      "cell_type": "code",
      "source": [
        "vignesh.cancel(1,2)"
      ],
      "metadata": {
        "colab": {
          "base_uri": "https://localhost:8080/",
          "height": 299
        },
        "id": "gP7B-jAb-u7_",
        "outputId": "a106ef84-f30b-4be0-dc4b-701896392845"
      },
      "execution_count": 14,
      "outputs": [
        {
          "output_type": "error",
          "ename": "AttributeError",
          "evalue": "ignored",
          "traceback": [
            "\u001b[0;31m---------------------------------------------------------------------------\u001b[0m",
            "\u001b[0;31mAttributeError\u001b[0m                            Traceback (most recent call last)",
            "\u001b[0;32m<ipython-input-14-1d243d8cc6b2>\u001b[0m in \u001b[0;36m<module>\u001b[0;34m\u001b[0m\n\u001b[0;32m----> 1\u001b[0;31m \u001b[0mvignesh\u001b[0m\u001b[0;34m.\u001b[0m\u001b[0mcancel\u001b[0m\u001b[0;34m(\u001b[0m\u001b[0;36m1\u001b[0m\u001b[0;34m,\u001b[0m\u001b[0;36m2\u001b[0m\u001b[0;34m)\u001b[0m\u001b[0;34m\u001b[0m\u001b[0;34m\u001b[0m\u001b[0m\n\u001b[0m",
            "\u001b[0;32m<ipython-input-9-401a9ce7eef9>\u001b[0m in \u001b[0;36mcancel\u001b[0;34m(self, id_, n_o_t)\u001b[0m\n\u001b[1;32m     81\u001b[0m \u001b[0;34m\u001b[0m\u001b[0m\n\u001b[1;32m     82\u001b[0m   \u001b[0;32mdef\u001b[0m \u001b[0mcancel\u001b[0m\u001b[0;34m(\u001b[0m\u001b[0mself\u001b[0m\u001b[0;34m,\u001b[0m\u001b[0mid_\u001b[0m\u001b[0;34m,\u001b[0m\u001b[0mn_o_t\u001b[0m\u001b[0;34m)\u001b[0m\u001b[0;34m:\u001b[0m\u001b[0;34m\u001b[0m\u001b[0;34m\u001b[0m\u001b[0m\n\u001b[0;32m---> 83\u001b[0;31m     \u001b[0ms\u001b[0m \u001b[0;34m=\u001b[0m \u001b[0mdell\u001b[0m\u001b[0;34m.\u001b[0m\u001b[0mreturn_lists_trains\u001b[0m\u001b[0;34m(\u001b[0m\u001b[0;34m)\u001b[0m\u001b[0;34m\u001b[0m\u001b[0;34m\u001b[0m\u001b[0m\n\u001b[0m\u001b[1;32m     84\u001b[0m     \u001b[0;31m#booked_seats =i.seats-i.available_seats\u001b[0m\u001b[0;34m\u001b[0m\u001b[0;34m\u001b[0m\u001b[0;34m\u001b[0m\u001b[0m\n\u001b[1;32m     85\u001b[0m     \u001b[0;32mfor\u001b[0m \u001b[0mi\u001b[0m \u001b[0;32min\u001b[0m \u001b[0ms\u001b[0m\u001b[0;34m:\u001b[0m\u001b[0;34m\u001b[0m\u001b[0;34m\u001b[0m\u001b[0m\n",
            "\u001b[0;31mAttributeError\u001b[0m: 'Admin' object has no attribute 'return_lists_trains'"
          ]
        }
      ]
    },
    {
      "cell_type": "code",
      "source": [],
      "metadata": {
        "id": "sIte4U2DhJsq"
      },
      "execution_count": null,
      "outputs": []
    }
  ]
}