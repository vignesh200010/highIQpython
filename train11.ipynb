{
  "nbformat": 4,
  "nbformat_minor": 0,
  "metadata": {
    "colab": {
      "provenance": [],
      "authorship_tag": "ABX9TyNguBHHF2DtIxJzE5hYyWGA",
      "include_colab_link": true
    },
    "kernelspec": {
      "name": "python3",
      "display_name": "Python 3"
    },
    "language_info": {
      "name": "python"
    }
  },
  "cells": [
    {
      "cell_type": "markdown",
      "metadata": {
        "id": "view-in-github",
        "colab_type": "text"
      },
      "source": [
        "<a href=\"https://colab.research.google.com/github/vignesh200010/highIQpython/blob/main/train11.ipynb\" target=\"_parent\"><img src=\"https://colab.research.google.com/assets/colab-badge.svg\" alt=\"Open In Colab\"/></a>"
      ]
    },
    {
      "cell_type": "markdown",
      "source": [],
      "metadata": {
        "id": "eZLT1Zi-L-Vp"
      }
    },
    {
      "cell_type": "markdown",
      "source": [
        "Destinations: chennai to banglore\n",
        "Admin who can add & remove Train and check status of train\n",
        "\n",
        "There is a user who can serach Train based on arrival destination\n",
        "\n",
        "and user time.\n",
        "\n",
        "train Object with following properties:\n",
        "Train Name\n",
        "Starting Time\n",
        "Ending Time\n",
        "Arrival\n",
        "Departure\n",
        "Seats\n",
        "Seating Price\n",
        "function to update the seat number\n"
      ],
      "metadata": {
        "id": "uLKkV2_mMAsK"
      }
    },
    {
      "cell_type": "markdown",
      "source": [],
      "metadata": {
        "id": "n56RFVsOMAk9"
      }
    },
    {
      "cell_type": "code",
      "execution_count": 38,
      "metadata": {
        "id": "NVkMVQlKLgkC"
      },
      "outputs": [],
      "source": [
        "class train:\n",
        "  def __init__(self):\n",
        "    self.train_name=''\n",
        "    self.start_time=0\n",
        "    self.ending_time=0\n",
        "    self.arrival='' \n",
        "    self.departure='' \n",
        "    self.seats=0\n",
        "    self.available_seats=0\n",
        "    self.cancel_=0\n",
        "    self.seating_price=0\n",
        "    self.id=0\n",
        "    pass\n",
        "\n",
        "  def admin_creation(self,id_,start_time_,ending_time_,arrival_,departure_,train_name_,seats_,seating_price_):\n",
        "    self.start_time=start_time_\n",
        "    self.ending_time=ending_time_\n",
        "    self.arrival =arrival_ \n",
        "    self.departure=departure_ \n",
        "    self.train_name=train_name_\n",
        "    self.seats=seats_\n",
        "    self.seating_price=seating_price_\n",
        "    self.id=id_\n",
        "    self.cancel=cancel_\n",
        "\n",
        "  def update_available_seats(self,numberofTickets):\n",
        "    if numberofTickets<=self.available_seats:\n",
        "      self.available_seats -= numberofTickets\n",
        "      return True\n",
        "    else:\n",
        "      return False\n",
        "  def seat_cancel(self,numberofTickets):\n",
        "    if numberofTickets>=self.available_seats:\n",
        "      self.available_seats += numberofTickets\n",
        "      return True\n",
        "    else:\n",
        "      return False\n",
        "\n",
        "  def print_train(self):\n",
        "    print(self.id,self.start_time,self.ending_time,self.arrival,self.departure,self.train_name,self.seats,self.seating_price,self.available_seats)\n",
        "#self.train_name,\n",
        "\n",
        "class Admin:\n",
        "  def __init__(self,name):\n",
        "    self.name=name\n",
        "    self.list_trains=[]\n",
        "    \n",
        "   \n",
        "  \n",
        "  def create_train(self,id_,start_time_,ending_time_,arrival_,departure_,train_name_,seats_,seating_price_):\n",
        "    locals()[train_name_]=train()\n",
        "    locals()[train_name_].admin_creation(id_,start_time_,ending_time_,arrival_,departure_,train_name_,seats_,seating_price_)\n",
        "    print(locals()[train_name_].train_name)\n",
        "    self.list_trains.append(locals()[train_name_])\n",
        "  \n",
        "  def return_list_trains(self):\n",
        "    return self.list_trains\n",
        "\n",
        "\n",
        "\n",
        "\n",
        "class User:\n",
        "  def __init__(self,name):\n",
        "    self.user_name=name\n",
        "\n",
        "  def search_train(self,user_time_,user_starting_point_,user_ending_point_):\n",
        "    Tra = dell.return_list_trains()\n",
        "    #print(Tra)\n",
        "    user_time=user_time_\n",
        "    user_start_point = user_starting_point_\n",
        "    user_end_point = user_ending_point_\n",
        "    print('id','start_time_','ending_time_','arrival_','departure_','train_name_','seats_','seating_price_')\n",
        "    for var in Tra:\n",
        "      if var.start_time>=user_time:\n",
        "        #print('time match',var.arrival,var.departure)\n",
        "        if var.arrival==user_end_point and var.departure==user_start_point:\n",
        "          var.print_train()\n",
        "  def booking(self,no_t,id_):\n",
        "    a=dell.return_list_trains()\n",
        "    for var in a:\n",
        "      if var.id==id_:\n",
        "        if var.update_available_seats(no_t):\n",
        "          print('booking successful')\n",
        "        else:\n",
        "          print('no ticket avaliable')\n",
        "        break\n",
        "  '''\n",
        "  def cancel_(self,no_t,id_):\n",
        "    a=dell.return_list_trains()\n",
        "    for var in a:\n",
        "      if var.id==id_:\n",
        "        if var.update_available_seats(no_t):\n",
        "          print('cancel successful')\n",
        "        else:\n",
        "          print('not successful')\n",
        "        break\n",
        "        '''\n"
      ]
    },
    {
      "cell_type": "code",
      "source": [
        "'''\n",
        "class train:\n",
        "  def __init__(self):\n",
        "    self.train_name=''\n",
        "    self.start_time=0\n",
        "    self.ending_time=0\n",
        "    self.arrival='' \n",
        "    self.departure='' \n",
        "    self.seats=0\n",
        "    self.available_seat=0\n",
        "    \n",
        "    self.seating_price=0\n",
        "    self.id=0\n",
        "    pass\n",
        "\n",
        "  def admin_creation(self,id_,start_time_,ending_time_,arrival_,departure_,train_name_,seats_,seating_price_):\n",
        "    self.start_time=start_time_\n",
        "    self.ending_time=ending_time_\n",
        "    self.arrival =arrival_ \n",
        "    self.departure=departure_ \n",
        "    self.train_name=train_name_\n",
        "    self.seats=seats_\n",
        "    self.seating_price=seating_price_\n",
        "    self.id=id_\n",
        "\n",
        "  def update_available_seats(self,numberofTickets):\n",
        "    if numberofTickets<=self.available_self:\n",
        "      self.available_self -= numberofTickets\n",
        "      return True\n",
        "    else:\n",
        "      return False\n",
        "\n",
        "  def print_train(self):\n",
        "    print(self.id,self.start_time,self.ending_time,self.arrival,self.departure,self.train_name,self.seats,self.seating_price,self._available_seats)\n",
        "#self.train_name,\n",
        "  def getstatus(self): \n",
        "    print(f\"TRAIN name {self.train_name} || SEATS STATUS : AVAILABLE SEATS  {len(self.seats)}\")\n",
        "  def return_list_trains(self):\n",
        "    return self.list_trains\n",
        "  def booktickets(self):\n",
        "        if len(self.seats) > 0 :\n",
        "            print(f\"CONGRATULATIONS YOUR SEATS ARE BOOKED\")\n",
        "            print(\"-------------------------------------------------------------------------------------------------\")\n",
        "            self.seats.pop()\n",
        "        else :    \n",
        "            print(\"SEATS NOT AVAILABLE ASK TICKET DEPARTMENT FOR ALTERNATIVES\")\n",
        "            print(\"-------------------------------------------------------------------------------------------------\")\n",
        "  def ticketCancellation(self,num):\n",
        "        self.seats.append(num)\n",
        "        print(f\"CONFIRMATION ! YOUR SEATS ARE CANCELLED SEAT NO. CANCELLED {num}\")      \n",
        "\n",
        "class Admin:\n",
        "  def __init__(self,name):\n",
        "    self.name=name\n",
        "    self.list_trains=[]\n",
        "    \n",
        "   \n",
        "  \n",
        "  def create_train(self,id_,start_time_,ending_time_,arrival_,departure_,train_name_,seats_,seating_price_):\n",
        "    locals()[train_name_]=train()\n",
        "    locals()[train_name_].admin_creation(id,start_time_,ending_time_,arrival_,departure_,train_name_,seats_,seating_price_)\n",
        "    print(locals()[train_name_].train_name)\n",
        "    self.list_trains.append(locals()[train_name_])\n",
        "  \n",
        "  def return_list_trains(self):\n",
        "    return self.list_trains\n",
        "  def booktickets(self):\n",
        "        if len(self.seats) > 0 :\n",
        "            print(f\"CONGRATULATIONS YOUR SEATS ARE BOOKED\")\n",
        "            print(\"-------------------------------------------------------------------------------------------------\")\n",
        "            self.seats.pop()\n",
        "        else :    \n",
        "            print(\"SEATS NOT AVAILABLE ASK TICKET DEPARTMENT FOR ALTERNATIVES\")\n",
        "            print(\"-------------------------------------------------------------------------------------------------\")\n",
        "  def ticketCancellation(self,num):\n",
        "        self.seats.append(num)\n",
        "        print(f\"CONFIRMATION ! YOUR SEATS ARE CANCELLED SEAT NO. CANCELLED {num}\")\n",
        "\n",
        "class User:\n",
        "  def __init__(self,name):\n",
        "    self.user_name=name\n",
        "\n",
        "  def search_train(self,user_time_,user_starting_point_,user_ending_point_):\n",
        "    Tra = dell.return_list_trains()\n",
        "    user_time=user_time_\n",
        "    user_start_point = user_starting_point_\n",
        "    user_end_point = user_ending_point_\n",
        "    print('id','start_time_','ending_time_','arrival_','departure_','train_name_','seats_','seating_price_')\n",
        "    for var in Tra:\n",
        "      if var.start_time>user_time:\n",
        "        if var.arrival==user_end_point and var.departure==user_start_point:\n",
        "          var.print_train()\n",
        "  def booking(self,no_t,id_):\n",
        "    a=dell.return_list_trains()\n",
        "    for var in a:\n",
        "      if var.id==id_:\n",
        "        if var.update_available_seats(no_t):\n",
        "          print('booking successful')\n",
        "        else:\n",
        "          print('no ticket avaliable')\n",
        "        break\n",
        "        '''\n"
      ],
      "metadata": {
        "id": "l1r_hMGfPdDS"
      },
      "execution_count": 2,
      "outputs": []
    },
    {
      "cell_type": "code",
      "source": [
        "''''\n",
        "class Train :\n",
        "    def __init__(self,train_name_,seats_):\n",
        "        self.train_name=train_name_\n",
        "        self.seats=seats_\n",
        "        \n",
        "    def getstatus(self): \n",
        "        print(f\"TRAIN name {self.train_name} || SEATS STATUS : AVAILABLE SEATS  {len(self.seats)}\")\n",
        "        print(\"-------------------------------------------------------------------------------------------------\")\n",
        "    def booktickets(self):\n",
        "        if len(self.seats) > 0 :\n",
        "            print(f\"CONGRATULATIONS YOUR SEATS ARE BOOKED\")\n",
        "            print(\"-------------------------------------------------------------------------------------------------\")\n",
        "            self.seats.pop()\n",
        "        else :    \n",
        "            print(\"SEATS NOT AVAILABLE ASK TICKET DEPARTMENT FOR ALTERNATIVES\")\n",
        "            print(\"-------------------------------------------------------------------------------------------------\")\n",
        "    def ticketCancellation(self,num):\n",
        "        self.seats.append(num)\n",
        "        print(f\"CONFIRMATION ! YOUR SEATS ARE CANCELLED SEAT NO. CANCELLED {num}\")\n",
        "\n",
        "\n",
        "brindavan_exp = Train(\"brindavan exp\",[1,2,3,4,5,6,7,8,9,10,11,12,13,14,15,16,17,18,19,20]) #Give parameters to the instance\n",
        "brindavan_exp.getstatus()\n",
        "brindavan_exp.booktickets()\n",
        "brindavan_exp.getstatus() \n",
        "brindavan_exp.ticketCancellation(20) \n",
        "brindavan_exp.getstatus()\n"
      ],
      "metadata": {
        "id": "bIDrOYyoJbo2",
        "outputId": "f4d7b2de-88bb-43c0-8da8-496aa1a81d69",
        "colab": {
          "base_uri": "https://localhost:8080/"
        }
      },
      "execution_count": 16,
      "outputs": [
        {
          "output_type": "stream",
          "name": "stdout",
          "text": [
            "TRAIN name brindavan exp || SEATS STATUS : AVAILABLE SEATS  20\n",
            "-------------------------------------------------------------------------------------------------\n",
            "CONGRATULATIONS YOUR SEATS ARE BOOKED\n",
            "-------------------------------------------------------------------------------------------------\n",
            "TRAIN name brindavan exp || SEATS STATUS : AVAILABLE SEATS  19\n",
            "-------------------------------------------------------------------------------------------------\n",
            "CONFIRMATION ! YOUR SEATS ARE CANCELLED SEAT NO. CANCELLED 20\n",
            "TRAIN name brindavan exp || SEATS STATUS : AVAILABLE SEATS  20\n",
            "-------------------------------------------------------------------------------------------------\n"
          ]
        }
      ]
    },
    {
      "cell_type": "code",
      "source": [
        "dell = Admin('dell')\n",
        "dell.create_train(1,12,15,'bangalore','chennai','brindavan exp',22,500)\n",
        "dell.create_train(2,14,19,'bangalore','chennai','mysore tippu exp',22,2000)\n",
        "#dell.create_train('bangalore kakinada sheahadri exp',12,20,'bangalore','Chennai',600,1000)\n"
      ],
      "metadata": {
        "colab": {
          "base_uri": "https://localhost:8080/"
        },
        "id": "xUo7sG92PHUX",
        "outputId": "cc9fa5a8-3119-47a0-a9c1-aaf320b2e5b9"
      },
      "execution_count": 39,
      "outputs": [
        {
          "output_type": "stream",
          "name": "stdout",
          "text": [
            "brindavan exp\n",
            "mysore tippu exp\n"
          ]
        }
      ]
    },
    {
      "cell_type": "code",
      "source": [
        "vignesh=User('vignesh')\n",
        "\n",
        "user_time = 1\n",
        "user_end_point='bangalore'\n",
        "user_start_point='chennai'\n",
        "\n",
        "vignesh.search_train(user_time,user_start_point,user_end_point)\n",
        "brindavan_exp = Train(\"brindavan exp\",[1,2,3,4,5,6,7,8,9,10,11,12,13,14,15,16,17,18,19,20]\n",
        "brindavan_exp.ticketCancellation(1)\n",
        "brindavan_exp.getstatus()\n",
        "brindavan_exp.booktickets(12)\n",
        "brindavan_exp = list_trains(\"brindavan exp\",[1,2,3,4,5,6,7,8,9,10,11,12,13,14,15,16,17,18,19,20])"
      ],
      "metadata": {
        "colab": {
          "base_uri": "https://localhost:8080/",
          "height": 135
        },
        "id": "Kc9o6O-tzelE",
        "outputId": "6e44a11b-e388-4491-9596-1be80583f890"
      },
      "execution_count": 35,
      "outputs": [
        {
          "output_type": "error",
          "ename": "SyntaxError",
          "evalue": "ignored",
          "traceback": [
            "\u001b[0;36m  File \u001b[0;32m\"<ipython-input-35-066090e0fd18>\"\u001b[0;36m, line \u001b[0;32m9\u001b[0m\n\u001b[0;31m    brindavan_exp.ticketCancellation(1)\u001b[0m\n\u001b[0m    ^\u001b[0m\n\u001b[0;31mSyntaxError\u001b[0m\u001b[0;31m:\u001b[0m invalid syntax\n"
          ]
        }
      ]
    },
    {
      "cell_type": "code",
      "source": [
        "vignesh=User('vignesh')\n",
        "\n",
        "user_time = 1\n",
        "user_end_point='bangalore'\n",
        "user_start_point='chennai'\n",
        "\n",
        "vignesh.search_train(user_time,user_start_point,user_end_point)"
      ],
      "metadata": {
        "id": "4pIcvfw_G5IX",
        "outputId": "8b373c55-d1d7-44f8-e600-df1c3579f16a",
        "colab": {
          "base_uri": "https://localhost:8080/"
        }
      },
      "execution_count": 40,
      "outputs": [
        {
          "output_type": "stream",
          "name": "stdout",
          "text": [
            "id start_time_ ending_time_ arrival_ departure_ train_name_ seats_ seating_price_\n",
            "1 12 15 bangalore chennai brindavan exp 22 500 0\n",
            "2 14 19 bangalore chennai mysore tippu exp 22 2000 0\n"
          ]
        }
      ]
    },
    {
      "cell_type": "code",
      "source": [
        "vignesh.booking(10,2)"
      ],
      "metadata": {
        "id": "ba7HDGltuw2_",
        "outputId": "913b6ece-36a4-4c38-acb1-de481a625870",
        "colab": {
          "base_uri": "https://localhost:8080/",
          "height": 171
        }
      },
      "execution_count": 1,
      "outputs": [
        {
          "output_type": "error",
          "ename": "NameError",
          "evalue": "ignored",
          "traceback": [
            "\u001b[0;31m---------------------------------------------------------------------------\u001b[0m",
            "\u001b[0;31mNameError\u001b[0m                                 Traceback (most recent call last)",
            "\u001b[0;32m<ipython-input-1-8514f6eccc92>\u001b[0m in \u001b[0;36m<module>\u001b[0;34m\u001b[0m\n\u001b[0;32m----> 1\u001b[0;31m \u001b[0mvignesh\u001b[0m\u001b[0;34m.\u001b[0m\u001b[0mbooking\u001b[0m\u001b[0;34m(\u001b[0m\u001b[0;36m10\u001b[0m\u001b[0;34m,\u001b[0m\u001b[0;36m2\u001b[0m\u001b[0;34m)\u001b[0m\u001b[0;34m\u001b[0m\u001b[0;34m\u001b[0m\u001b[0m\n\u001b[0m",
            "\u001b[0;31mNameError\u001b[0m: name 'vignesh' is not defined"
          ]
        }
      ]
    },
    {
      "cell_type": "code",
      "source": [
        " def generate_ticket(train,source,destination,no_of_passengers):\n",
        "    ticket_number_list = []\n",
        "    i = 0\n",
        "    if no_of_passengers < 5:\n",
        "        while no_of_passengers != 0:\n",
        "            ticket_number_list.append(train + \":\" + source[0:] + \":\" + destination[0:] + \":\" + str(200+i))\n",
        "            i = i+1\n",
        "            no_of_passengers = no_of_passengers - 1\n",
        "    else:\n",
        "        for i in range(50):\n",
        "            ticket_number_list.append(train + \":\" + source[0:] + \":\" + destination[0:] + \":\" + str(199+no_of_passengers))\n",
        "            i = i+1\n",
        "            no_of_passengers = no_of_passengers - 1\n",
        "        ticket_number_list = ticket_number_list[::-1]\n",
        "\n",
        "    return ticket_number_list\n",
        "print(generate_ticket(\"brindavan exp\",\"Bangalore\",\"chenni\",10))"
      ],
      "metadata": {
        "colab": {
          "base_uri": "https://localhost:8080/"
        },
        "id": "q8BtWlOzMzqF",
        "outputId": "485442e5-f565-406a-92f7-8cc9fbad85c1"
      },
      "execution_count": 4,
      "outputs": [
        {
          "output_type": "stream",
          "name": "stdout",
          "text": [
            "['brindavan exp:Bangalore:chenni:160', 'brindavan exp:Bangalore:chenni:161', 'brindavan exp:Bangalore:chenni:162', 'brindavan exp:Bangalore:chenni:163', 'brindavan exp:Bangalore:chenni:164', 'brindavan exp:Bangalore:chenni:165', 'brindavan exp:Bangalore:chenni:166', 'brindavan exp:Bangalore:chenni:167', 'brindavan exp:Bangalore:chenni:168', 'brindavan exp:Bangalore:chenni:169', 'brindavan exp:Bangalore:chenni:170', 'brindavan exp:Bangalore:chenni:171', 'brindavan exp:Bangalore:chenni:172', 'brindavan exp:Bangalore:chenni:173', 'brindavan exp:Bangalore:chenni:174', 'brindavan exp:Bangalore:chenni:175', 'brindavan exp:Bangalore:chenni:176', 'brindavan exp:Bangalore:chenni:177', 'brindavan exp:Bangalore:chenni:178', 'brindavan exp:Bangalore:chenni:179', 'brindavan exp:Bangalore:chenni:180', 'brindavan exp:Bangalore:chenni:181', 'brindavan exp:Bangalore:chenni:182', 'brindavan exp:Bangalore:chenni:183', 'brindavan exp:Bangalore:chenni:184', 'brindavan exp:Bangalore:chenni:185', 'brindavan exp:Bangalore:chenni:186', 'brindavan exp:Bangalore:chenni:187', 'brindavan exp:Bangalore:chenni:188', 'brindavan exp:Bangalore:chenni:189', 'brindavan exp:Bangalore:chenni:190', 'brindavan exp:Bangalore:chenni:191', 'brindavan exp:Bangalore:chenni:192', 'brindavan exp:Bangalore:chenni:193', 'brindavan exp:Bangalore:chenni:194', 'brindavan exp:Bangalore:chenni:195', 'brindavan exp:Bangalore:chenni:196', 'brindavan exp:Bangalore:chenni:197', 'brindavan exp:Bangalore:chenni:198', 'brindavan exp:Bangalore:chenni:199', 'brindavan exp:Bangalore:chenni:200', 'brindavan exp:Bangalore:chenni:201', 'brindavan exp:Bangalore:chenni:202', 'brindavan exp:Bangalore:chenni:203', 'brindavan exp:Bangalore:chenni:204', 'brindavan exp:Bangalore:chenni:205', 'brindavan exp:Bangalore:chenni:206', 'brindavan exp:Bangalore:chenni:207', 'brindavan exp:Bangalore:chenni:208', 'brindavan exp:Bangalore:chenni:209']\n"
          ]
        }
      ]
    },
    {
      "cell_type": "code",
      "source": [
        "def generate_ticket(train,source,destination,no_of_passengers):\n",
        "    ticket_number_list = []\n",
        "    seat_no = 0\n",
        "    if no_of_passengers < 5:\n",
        "        while no_of_passengers != 0:\n",
        "            ticket_number_list.append(train + \":\" + source[0:] + \":\" + destination[0:] + \":\" + str(200+i))\n",
        "            seat_no = seat_no+1\n",
        "            no_of_passengers = no_of_passengers - 1\n",
        "    else:\n",
        "        for seat_no in range(50):\n",
        "            ticket_number_list.append(train + \":\" + source[0:] + \":\" + destination[0:] + \":\" + str(199+no_of_passengers))\n",
        "            seat_no = seat_no+1\n",
        "            no_of_passengers = no_of_passengers - 1\n",
        "        ticket_number_list = ticket_number_list[::-1]\n",
        "\n",
        "    return ticket_number_list\n",
        "print(generate_ticket(\"brindavan exp\",\"Bangalore\",\"chenni\",1))\n"
      ],
      "metadata": {
        "id": "e61gbytJM0SI"
      },
      "execution_count": null,
      "outputs": []
    },
    {
      "cell_type": "code",
      "source": [
        "  class seats:\n",
        "    def seat_avali(self):\n",
        "      if self.sears in dell.seat_avali and dell.seat_avali[self.train]>=:\n",
        "        dell"
      ],
      "metadata": {
        "id": "96X4Y0orQtcf"
      },
      "execution_count": null,
      "outputs": []
    },
    {
      "cell_type": "code",
      "source": [
        "#class seat_availability:\n",
        "  def _init_(self, train_name, seats_available_):\n",
        "    self.train_name = train_name\n",
        "    self.total_seats = 0\n",
        "    self.seats_booked = 0\n",
        "    self.availability_seats = seats_available_\n",
        "  def booking_ticket (self, seats_t_):\n",
        "    self.seats=seats_t_\n",
        "    print(\"No. of seats are:\", self.seats)\n",
        "    self.availability_seats=seats_t_ - self.seats_booked\n",
        "\n",
        "  def booked_seat_ontrain(self, no_of_seats_booked_):\n",
        "    self.no_of_seats_booked=no_of_seats_booked_\n",
        "    print(\"You have booked these no. of seats:\", seats_booked)"
      ],
      "metadata": {
        "colab": {
          "base_uri": "https://localhost:8080/",
          "height": 130
        },
        "id": "L7Q3QmSC9Q2R",
        "outputId": "9b3ab8dd-68d6-4aec-bb00-f3b89dc13d9b"
      },
      "execution_count": null,
      "outputs": [
        {
          "output_type": "error",
          "ename": "IndentationError",
          "evalue": "ignored",
          "traceback": [
            "\u001b[0;36m  File \u001b[0;32m\"<ipython-input-30-3f822f785679>\"\u001b[0;36m, line \u001b[0;32m2\u001b[0m\n\u001b[0;31m    def _init_(self, train_name, seats_available_):\u001b[0m\n\u001b[0m    ^\u001b[0m\n\u001b[0;31mIndentationError\u001b[0m\u001b[0;31m:\u001b[0m unexpected indent\n"
          ]
        }
      ]
    },
    {
      "cell_type": "code",
      "source": [],
      "metadata": {
        "id": "GxSy8b7iQuU9"
      },
      "execution_count": null,
      "outputs": []
    }
  ]
}