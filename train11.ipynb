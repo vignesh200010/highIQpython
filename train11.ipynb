{
  "nbformat": 4,
  "nbformat_minor": 0,
  "metadata": {
    "colab": {
      "provenance": [],
      "authorship_tag": "ABX9TyPop/meIWmTBMXQhWQxY8xW",
      "include_colab_link": true
    },
    "kernelspec": {
      "name": "python3",
      "display_name": "Python 3"
    },
    "language_info": {
      "name": "python"
    }
  },
  "cells": [
    {
      "cell_type": "markdown",
      "metadata": {
        "id": "view-in-github",
        "colab_type": "text"
      },
      "source": [
        "<a href=\"https://colab.research.google.com/github/vignesh200010/highIQpython/blob/main/train11.ipynb\" target=\"_parent\"><img src=\"https://colab.research.google.com/assets/colab-badge.svg\" alt=\"Open In Colab\"/></a>"
      ]
    },
    {
      "cell_type": "markdown",
      "source": [],
      "metadata": {
        "id": "eZLT1Zi-L-Vp"
      }
    },
    {
      "cell_type": "markdown",
      "source": [
        "Destinations: chennai to banglore\n",
        "Admin who can add & remove Train and check status of train\n",
        "\n",
        "There is a user who can serach Train based on arrival destination\n",
        "\n",
        "and user time.\n",
        "\n",
        "train Object with following properties:\n",
        "Train Name\n",
        "Starting Time\n",
        "Ending Time\n",
        "Arrival\n",
        "Departure\n",
        "Seats\n",
        "Seating Price\n",
        "function to update the seat number\n"
      ],
      "metadata": {
        "id": "uLKkV2_mMAsK"
      }
    },
    {
      "cell_type": "markdown",
      "source": [],
      "metadata": {
        "id": "n56RFVsOMAk9"
      }
    },
    {
      "cell_type": "code",
      "execution_count": 21,
      "metadata": {
        "colab": {
          "base_uri": "https://localhost:8080/"
        },
        "id": "NVkMVQlKLgkC",
        "outputId": "9d9e6aea-16df-469a-9add-78c3ab665731"
      },
      "outputs": [
        {
          "output_type": "stream",
          "name": "stdout",
          "text": [
            "['brindavan exp:Bangalore:chenni:160', 'brindavan exp:Bangalore:chenni:161', 'brindavan exp:Bangalore:chenni:162', 'brindavan exp:Bangalore:chenni:163', 'brindavan exp:Bangalore:chenni:164', 'brindavan exp:Bangalore:chenni:165', 'brindavan exp:Bangalore:chenni:166', 'brindavan exp:Bangalore:chenni:167', 'brindavan exp:Bangalore:chenni:168', 'brindavan exp:Bangalore:chenni:169', 'brindavan exp:Bangalore:chenni:170', 'brindavan exp:Bangalore:chenni:171', 'brindavan exp:Bangalore:chenni:172', 'brindavan exp:Bangalore:chenni:173', 'brindavan exp:Bangalore:chenni:174', 'brindavan exp:Bangalore:chenni:175', 'brindavan exp:Bangalore:chenni:176', 'brindavan exp:Bangalore:chenni:177', 'brindavan exp:Bangalore:chenni:178', 'brindavan exp:Bangalore:chenni:179', 'brindavan exp:Bangalore:chenni:180', 'brindavan exp:Bangalore:chenni:181', 'brindavan exp:Bangalore:chenni:182', 'brindavan exp:Bangalore:chenni:183', 'brindavan exp:Bangalore:chenni:184', 'brindavan exp:Bangalore:chenni:185', 'brindavan exp:Bangalore:chenni:186', 'brindavan exp:Bangalore:chenni:187', 'brindavan exp:Bangalore:chenni:188', 'brindavan exp:Bangalore:chenni:189', 'brindavan exp:Bangalore:chenni:190', 'brindavan exp:Bangalore:chenni:191', 'brindavan exp:Bangalore:chenni:192', 'brindavan exp:Bangalore:chenni:193', 'brindavan exp:Bangalore:chenni:194', 'brindavan exp:Bangalore:chenni:195', 'brindavan exp:Bangalore:chenni:196', 'brindavan exp:Bangalore:chenni:197', 'brindavan exp:Bangalore:chenni:198', 'brindavan exp:Bangalore:chenni:199', 'brindavan exp:Bangalore:chenni:200', 'brindavan exp:Bangalore:chenni:201', 'brindavan exp:Bangalore:chenni:202', 'brindavan exp:Bangalore:chenni:203', 'brindavan exp:Bangalore:chenni:204', 'brindavan exp:Bangalore:chenni:205', 'brindavan exp:Bangalore:chenni:206', 'brindavan exp:Bangalore:chenni:207', 'brindavan exp:Bangalore:chenni:208', 'brindavan exp:Bangalore:chenni:209']\n"
          ]
        }
      ],
      "source": [
        "class train:\n",
        "  def __init__(self):\n",
        "    self.train_name=''\n",
        "    self.start_time=0\n",
        "    self.ending_time=0\n",
        "    self.arrival='' \n",
        "    self.departure='' \n",
        "    self.seats=0\n",
        "    self.seating_price=0\n",
        "\n",
        "    pass\n",
        "\n",
        "  def admin_creation(self,tain_name_,start_time_,ending_time_,arrival_,departure_,seats_,seating_price_):\n",
        "    self.train_name=tain_name_\n",
        "    self.start_time=start_time_\n",
        "    self.ending_time=ending_time_\n",
        "    self.arrival =arrival_ \n",
        "    self.departure=departure_ \n",
        "    self.seats=seats_\n",
        "    self.seating_price=seating_price_\n",
        "\n",
        "  def print_bus(self):\n",
        "    print(self.train_name,self.start_time,self.ending_time,self.arrival,self.departure,self.seats,self.seating_price)\n",
        "\n",
        "class Admin:\n",
        "  def __init__(self,name):\n",
        "    self.list_trains=[]\n",
        "    self.name=name\n",
        "   \n",
        "  \n",
        "  def create_train(self,train_name_,start_time_,ending_time_,arrival_,departure_,seats_,seating_price_):\n",
        "    locals()[train_name_]=train()\n",
        "    locals()[train_name_].admin_creation(train_name_,start_time_,ending_time_,arrival_,departure_,seats_,seating_price_)\n",
        "    print(locals()[train_name_].train_name)\n",
        "    self.list_trains.append(locals()[train_name_])\n",
        "  \n",
        "  def return_list_trains(self):\n",
        "    return self.list_trains\n",
        "\n",
        "\n",
        "\n",
        "\n",
        "class User:\n",
        "  def __init__(self,name):\n",
        "    self.user_name=name\n",
        "    self.generate_ticket=generate_ticket\n",
        "  \n",
        "  def search_train(self,user_time_,user_starting_point_,user_ending_point_):\n",
        "    Tra = dell.return_list_trains()\n",
        "    user_time=user_time_\n",
        "    user_start_point = user_starting_point_\n",
        "    user_end_point = user_ending_point_\n",
        "    for var in Tra:\n",
        "      if var.start_time>user_time:\n",
        "        if var.arrival==user_end_point and var.departure==user_start_point:\n",
        "          var.print_train()\n",
        "\n",
        "  def generate_ticket(train,source,destination,no_of_passengers):\n",
        "    ticket_number_list = []\n",
        "    seat_no = 0\n",
        "    if no_of_passengers < 5:\n",
        "        while no_of_passengers != 0:\n",
        "            ticket_number_list.append(train + \":\" + source[0:] + \":\" + destination[0:] + \":\" + str(200+i))\n",
        "            seat_no = seat_no+1\n",
        "            no_of_passengers = no_of_passengers - 1\n",
        "    else:\n",
        "        for i in range(50):\n",
        "            ticket_number_list.append(train + \":\" + source[0:] + \":\" + destination[0:] + \":\" + str(199+no_of_passengers))\n",
        "            i = i+1\n",
        "            no_of_passengers = no_of_passengers - 1\n",
        "        ticket_number_list = ticket_number_list[::-1]\n",
        "\n",
        "    return ticket_number_list\n",
        "print(generate_ticket(\"brindavan exp\",\"Bangalore\",\"chenni\",10))\n",
        "\n",
        "   \n"
      ]
    },
    {
      "cell_type": "code",
      "source": [
        "dell = Admin('dell')\n",
        "dell.create_train('brindavan exp',1,9,'bangalore','Chennai',250,2000)\n",
        "dell.create_train('mysore tippu exp',13,18,'bangalore','Chennai',500,2000)\n",
        "dell.create_train('bangalore kakinada sheahadri exp',12,20,'bangalore','Chennai',600,1000)"
      ],
      "metadata": {
        "id": "xUo7sG92PHUX"
      },
      "execution_count": null,
      "outputs": []
    },
    {
      "cell_type": "code",
      "source": [
        " def generate_ticket(train,source,destination,no_of_passengers):\n",
        "    ticket_number_list = []\n",
        "    i = 0\n",
        "    if no_of_passengers < 5:\n",
        "        while no_of_passengers != 0:\n",
        "            ticket_number_list.append(train + \":\" + source[0:] + \":\" + destination[0:] + \":\" + str(200+i))\n",
        "            i = i+1\n",
        "            no_of_passengers = no_of_passengers - 1\n",
        "    else:\n",
        "        for i in range(50):\n",
        "            ticket_number_list.append(train + \":\" + source[0:] + \":\" + destination[0:] + \":\" + str(199+no_of_passengers))\n",
        "            i = i+1\n",
        "            no_of_passengers = no_of_passengers - 1\n",
        "        ticket_number_list = ticket_number_list[::-1]\n",
        "\n",
        "    return ticket_number_list\n",
        "print(generate_ticket(\"brindavan exp\",\"Bangalore\",\"chenni\",10))"
      ],
      "metadata": {
        "colab": {
          "base_uri": "https://localhost:8080/"
        },
        "id": "q8BtWlOzMzqF",
        "outputId": "528d4c1b-bac4-4b38-b503-ee8b0232a9c5"
      },
      "execution_count": 15,
      "outputs": [
        {
          "output_type": "stream",
          "name": "stdout",
          "text": [
            "['brindavan exp:Bangalore:chenni:160', 'brindavan exp:Bangalore:chenni:161', 'brindavan exp:Bangalore:chenni:162', 'brindavan exp:Bangalore:chenni:163', 'brindavan exp:Bangalore:chenni:164', 'brindavan exp:Bangalore:chenni:165', 'brindavan exp:Bangalore:chenni:166', 'brindavan exp:Bangalore:chenni:167', 'brindavan exp:Bangalore:chenni:168', 'brindavan exp:Bangalore:chenni:169', 'brindavan exp:Bangalore:chenni:170', 'brindavan exp:Bangalore:chenni:171', 'brindavan exp:Bangalore:chenni:172', 'brindavan exp:Bangalore:chenni:173', 'brindavan exp:Bangalore:chenni:174', 'brindavan exp:Bangalore:chenni:175', 'brindavan exp:Bangalore:chenni:176', 'brindavan exp:Bangalore:chenni:177', 'brindavan exp:Bangalore:chenni:178', 'brindavan exp:Bangalore:chenni:179', 'brindavan exp:Bangalore:chenni:180', 'brindavan exp:Bangalore:chenni:181', 'brindavan exp:Bangalore:chenni:182', 'brindavan exp:Bangalore:chenni:183', 'brindavan exp:Bangalore:chenni:184', 'brindavan exp:Bangalore:chenni:185', 'brindavan exp:Bangalore:chenni:186', 'brindavan exp:Bangalore:chenni:187', 'brindavan exp:Bangalore:chenni:188', 'brindavan exp:Bangalore:chenni:189', 'brindavan exp:Bangalore:chenni:190', 'brindavan exp:Bangalore:chenni:191', 'brindavan exp:Bangalore:chenni:192', 'brindavan exp:Bangalore:chenni:193', 'brindavan exp:Bangalore:chenni:194', 'brindavan exp:Bangalore:chenni:195', 'brindavan exp:Bangalore:chenni:196', 'brindavan exp:Bangalore:chenni:197', 'brindavan exp:Bangalore:chenni:198', 'brindavan exp:Bangalore:chenni:199', 'brindavan exp:Bangalore:chenni:200', 'brindavan exp:Bangalore:chenni:201', 'brindavan exp:Bangalore:chenni:202', 'brindavan exp:Bangalore:chenni:203', 'brindavan exp:Bangalore:chenni:204', 'brindavan exp:Bangalore:chenni:205', 'brindavan exp:Bangalore:chenni:206', 'brindavan exp:Bangalore:chenni:207', 'brindavan exp:Bangalore:chenni:208', 'brindavan exp:Bangalore:chenni:209']\n"
          ]
        }
      ]
    },
    {
      "cell_type": "code",
      "source": [],
      "metadata": {
        "id": "e61gbytJM0SI"
      },
      "execution_count": null,
      "outputs": []
    },
    {
      "cell_type": "code",
      "source": [],
      "metadata": {
        "id": "96X4Y0orQtcf"
      },
      "execution_count": 16,
      "outputs": []
    },
    {
      "cell_type": "code",
      "source": [],
      "metadata": {
        "id": "GxSy8b7iQuU9"
      },
      "execution_count": null,
      "outputs": []
    }
  ]
}