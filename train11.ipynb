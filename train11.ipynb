{
  "nbformat": 4,
  "nbformat_minor": 0,
  "metadata": {
    "colab": {
      "provenance": [],
      "authorship_tag": "ABX9TyO2qhvCAQEGFuAwl1KRaVZr",
      "include_colab_link": true
    },
    "kernelspec": {
      "name": "python3",
      "display_name": "Python 3"
    },
    "language_info": {
      "name": "python"
    }
  },
  "cells": [
    {
      "cell_type": "markdown",
      "metadata": {
        "id": "view-in-github",
        "colab_type": "text"
      },
      "source": [
        "<a href=\"https://colab.research.google.com/github/vignesh200010/highIQpython/blob/main/train11.ipynb\" target=\"_parent\"><img src=\"https://colab.research.google.com/assets/colab-badge.svg\" alt=\"Open In Colab\"/></a>"
      ]
    },
    {
      "cell_type": "markdown",
      "source": [],
      "metadata": {
        "id": "eZLT1Zi-L-Vp"
      }
    },
    {
      "cell_type": "markdown",
      "source": [
        "Destinations: chennai to banglore\n",
        "Admin who can add & remove Train and check status of train\n",
        "\n",
        "There is a user who can serach Train based on arrival destination\n",
        "\n",
        "and user time.\n",
        "\n",
        "train Object with following properties:\n",
        "Train Name\n",
        "Starting Time\n",
        "Ending Time\n",
        "Arrival\n",
        "Departure\n",
        "Seats\n",
        "Seating Price\n"
      ],
      "metadata": {
        "id": "uLKkV2_mMAsK"
      }
    },
    {
      "cell_type": "markdown",
      "source": [],
      "metadata": {
        "id": "n56RFVsOMAk9"
      }
    },
    {
      "cell_type": "code",
      "execution_count": null,
      "metadata": {
        "id": "NVkMVQlKLgkC"
      },
      "outputs": [],
      "source": [
        "class train:\n",
        "  def __init__(self):\n",
        "    self.train_name=''\n",
        "    self.start_time=0\n",
        "    self.ending_time=0\n",
        "    self.arrival='' \n",
        "    self.departure='' \n",
        "    self.seats=0\n",
        "    self.seating_price=0\n",
        "    pass\n",
        "\n",
        "  def admin_creation(self,tain_name_,start_time_,ending_time_,arrival_,departure_,seats_,seating_price_):\n",
        "    self.train_name=tain_name_\n",
        "    self.start_time=start_time_\n",
        "    self.ending_time=ending_time_\n",
        "    self.arrival =arrival_ \n",
        "    self.departure=departure_ \n",
        "    self.seats=seats_\n",
        "    self.seating_price=seating_price_\n",
        "\n",
        "  def print_bus(self):\n",
        "    print(self.train_name,self.start_time,self.ending_time,self.arrival,self.departure,self.seats,self.seating_price)\n",
        "\n",
        "class Admin:\n",
        "  def __init__(self,name):\n",
        "    self.list_trains=[]\n",
        "    self.name=name\n",
        "   \n",
        "  \n",
        "  def create_train(self,train_name_,start_time_,ending_time_,arrival_,departure_,seats_,seating_price_):\n",
        "    locals()[train_name_]=train()\n",
        "    locals()[train_name_].admin_creation(train_name_,start_time_,ending_time_,arrival_,departure_,seats_,seating_price_)\n",
        "    print(locals()[train_name_].train_name)\n",
        "    self.list_trains.append(locals()[train_name_])\n",
        "  \n",
        "  def return_list_trains(self):\n",
        "    return self.list_trains\n",
        "\n",
        "\n",
        "\n",
        "\n",
        "class User:\n",
        "  def __init__(self,name):\n",
        "    self.user_name=name\n",
        "  \n",
        "  def search_train(self,user_time_,user_starting_point_,user_ending_point_):\n",
        "    Tra = dell.return_list_trains()\n",
        "    user_time=user_time_\n",
        "    user_start_point = user_starting_point_\n",
        "    user_end_point = user_ending_point_\n",
        "    for var in Tra:\n",
        "      if var.start_time>user_time:\n",
        "        if var.arrival==user_end_point and var.departure==user_start_point:\n",
        "          var.print_train()\n"
      ]
    }
  ]
}