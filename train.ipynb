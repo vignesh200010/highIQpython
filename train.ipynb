{
  "nbformat": 4,
  "nbformat_minor": 0,
  "metadata": {
    "colab": {
      "provenance": [],
      "authorship_tag": "ABX9TyNf20Fq1KmNU/AU1I99VUrt",
      "include_colab_link": true
    },
    "kernelspec": {
      "name": "python3",
      "display_name": "Python 3"
    },
    "language_info": {
      "name": "python"
    }
  },
  "cells": [
    {
      "cell_type": "markdown",
      "metadata": {
        "id": "view-in-github",
        "colab_type": "text"
      },
      "source": [
        "<a href=\"https://colab.research.google.com/github/vignesh200010/highIQpython/blob/main/train.ipynb\" target=\"_parent\"><img src=\"https://colab.research.google.com/assets/colab-badge.svg\" alt=\"Open In Colab\"/></a>"
      ]
    },
    {
      "cell_type": "code",
      "execution_count": null,
      "metadata": {
        "id": "nvkJzJggAW7l"
      },
      "outputs": [],
      "source": [
        "print(\"\\n\\nTicket Booking System\\n\")\n",
        "restart = ('Y')\n",
        "\n",
        "while restart != ('N','NO','n','no'):\n",
        "\tprint(\"1.Check PNR status\")\n",
        "\tprint(\"2.Ticket Reservation\")\n",
        "\toption = int(input(\"\\nEnter your option : \"))\n",
        "\n",
        "\tif option == 1:\n",
        "\t\tprint(\"Your PNR status is t3\")\n",
        "\t\texit(0)\n",
        "\n",
        "\telif option == 2:\n",
        "\t\tpeople = int(input(\"\\nEnter no. of Ticket you want : \"))\n",
        "\t\tname_l = []\n",
        "\t\tage_l = []\n",
        "\t\tsex_l = []\n",
        "\t\tfor p in range(people):\n",
        "\t\t\tname = str(input(\"\\nName : \"))\n",
        "\t\t\tname_l.append(name)\n",
        "\t\t\tage  = int(input(\"\\nAge  : \"))\n",
        "\t\t\tage_l.append(age)\n",
        "\t\t\tsex  = input(\"\\nMale or Female : \")\n",
        "\t\t\tsex_l.append(sex)\n",
        "\n",
        "\t\trestart = str(input(\"\\nDid you forgot someone? y/n: \"))\n",
        "\t\tif restart in ('y','YES','yes','Yes'):\n",
        "\t\t\trestart = ('Y')\n",
        "\t\telse :\n",
        "\t\t\tx = 0\n",
        "\t\t\tprint(\"\\nTotal Ticket : \",people)\n",
        "\t\t\tfor p in range(1,people+1):\n",
        "\t\t\t\tprint(\"Ticket : \",p)\n",
        "\t\t\t\tprint(\"Name : \", name_l[x])\n",
        "\t\t\t\tprint(\"Age  : \", age_l[x])\n",
        "\t\t\t\tprint(\"Sex : \",sex_l[x])\n",
        "\t\t\t\tx += 1\n"
      ]
    },
    {
      "cell_type": "code",
      "source": [
        "#admin\n",
        "class Reservation:\n",
        "   def __init__(self,passenger_id,passenger_fname,passenger_lname):\n",
        "      self.passenger_id = passenger_id\n",
        "      self.passenger_name = passenger_fname\n",
        "      self.passenger_lname = passenger_lname\n",
        "      self.cost = 0\n",
        "      self.reservation_id = []\n",
        "      self.passenger_record = {'p_name'  : self.passenger_fname + self.passenger_lname,\n",
        "                             'p_id'    : self.passenger_id,\n",
        "                             'p_wallet': self.cost,\n",
        "                             'p_reservation_id': self.reservation_id,\n",
        "                            }\n",
        "      self.train_seats = { 'Business Class' : 50,\n",
        "                           'First Class'    : 50,\n",
        "                           'Premium Economy': 100,\n",
        "                           'Regular Economy': 150 }\n",
        "      self.train_price = { 'Business Class' : 2500,\n",
        "                           'First Class'    : 2000,\n",
        "                           'Premium Economy': 1800,\n",
        "                           'Regular Economy': 1500 }\n",
        "Reservation(1234,passenger_fname='ben',passenger_lname='ten')\n",
        "print(Reservation)\n",
        "#train_seat= self.train_seats()\n",
        "\n",
        "\n",
        "print(\"\\n\\nTicket Booking System\\n\")\n",
        "restart = ('Y')\n",
        "\n",
        "while restart != ('N','NO','n','no'):\n",
        "\tprint(\"1.Check PNR status\")\n",
        "\tprint(\"2.Ticket Reservation\")\n",
        "\toption = int(input(\"\\nEnter your option : \"))\n",
        "\n",
        "\tif option == 1:\n",
        "\t\tprint(\"Your PNR status is t3\")\n",
        "\t\texit(0)\n",
        "\n",
        "\telif option == 2:\n",
        "\t\tpeople = int(input(\"\\nEnter no. of Ticket you want : \"))\n",
        "\t\tname_l = []\n",
        "\t\tage_l = []\n",
        "\t\tsex_l = []\n",
        "\t\tfor p in range(people):\n",
        "\t\t\tname = str(input(\"\\nName : \"))\n",
        "\t\t\tname_l.append(name)\n",
        "\t\t\tage  = int(input(\"\\nAge  : \"))\n",
        "\t\t\tage_l.append(age)\n",
        "\t\t\tsex  = input(\"\\nMale or Female : \")\n",
        "\t\t\tsex_l.append(sex)\n",
        "\n",
        "\t\trestart = str(input(\"\\nDid you forgot someone? y/n: \"))\n",
        "\t\tif restart in ('y','YES','yes','Yes'):\n",
        "\t\t\trestart = ('Y')\n",
        "\t\telse :\n",
        "\t\t\tx = 0\n",
        "\t\t\tprint(\"\\nTotal Ticket : \",people)\n",
        "\t\t\tfor p in range(1,people+1):\n",
        "\t\t\t\tprint(\"Ticket : \",p)\n",
        "\t\t\t\tprint(\"Name : \", name_l[x])\n",
        "\t\t\t\tprint(\"Age  : \", age_l[x])\n",
        "\t\t\t\tprint(\"Sex : \",sex_l[x])\n",
        "\t\t\t\tx += 1\n",
        "\n",
        "\n",
        "\n",
        "\n"
      ],
      "metadata": {
        "colab": {
          "base_uri": "https://localhost:8080/",
          "height": 200
        },
        "id": "zqRDY3SGAvHQ",
        "outputId": "5ccd866e-92fe-4732-d03b-2165f2769f88"
      },
      "execution_count": 25,
      "outputs": [
        {
          "output_type": "stream",
          "name": "stdout",
          "text": [
            "\n",
            "\n",
            "Ticket Booking System\n",
            "\n"
          ]
        },
        {
          "output_type": "error",
          "ename": "SyntaxError",
          "evalue": "ignored",
          "traceback": [
            "\u001b[0;36m  File \u001b[0;32m\"<ipython-input-25-6d10ca685a26>\"\u001b[0;36m, line \u001b[0;32m62\u001b[0m\n\u001b[0;31m    break\u001b[0m\n\u001b[0m    ^\u001b[0m\n\u001b[0;31mSyntaxError\u001b[0m\u001b[0;31m:\u001b[0m 'break' outside loop\n"
          ]
        }
      ]
    },
    {
      "cell_type": "code",
      "source": [
        "#admin\n",
        "class Reservation:\n",
        "   def __init__(self,passenger_id,passenger_fname,passenger_lname):\n",
        "      self.passenger_id = passenger_id\n",
        "      self.passenger_name = passenger_fname\n",
        "      self.passenger_lname = passenger_lname\n",
        "      self.reservation_id = []\n",
        "      self.passenger_record = {'p_name'  : self.passenger_fname + self.passenger_lname,\n",
        "                             'p_id'    : self.passenger_id,\n",
        "                             'p_reservation_id': self.reservation_id}\n",
        "      self.train_seats = { 'Business Class' : 50,\n",
        "                           'First Class'    : 50,\n",
        "                           'Premium Economy': 100,\n",
        "                           'Regular Economy': 150 }\n",
        "      self.train_price = { 'Business Class' : 2500,\n",
        "                           'First Class'    : 2000,\n",
        "                           'Premium Economy': 1800,\n",
        "                           'Regular Economy': 1500 }\n",
        "Reservation(1234,passenger_fname='ben',passenger_lname='ten')\n",
        "print(Reservation)\n",
        "#train_seat= self.train_seats()\n",
        "\n",
        "\n",
        "print(\"\\n\\nTicket Booking System\\n\")\n",
        "restart = ('Y')\n",
        "\n",
        "while restart != ('N','NO','n','no'):\n",
        "\tprint(\"1.Check PNR status\")\n",
        "\tprint(\"2.Ticket Reservation\")\n",
        "\toption = int(input(\"\\nEnter your option : \"))\n",
        "\n",
        "\tif option == 1:\n",
        "\t\tprint(\"Your PNR status is t3\")\n",
        "\t\texit(0)\n",
        "\n",
        "\telif option == 2:\n",
        "\t\tpeople = int(input(\"\\nEnter no. of Ticket you want : \"))\n",
        "\t\tname_l = []\n",
        "\t\tage_l = []\n",
        "\t\tsex_l = []\n",
        "\t\tfor p in range(people):\n",
        "\t\t\tname = str(input(\"\\nName : \"))\n",
        "\t\t\tname_l.append(name)\n",
        "\t\t\tage  = int(input(\"\\nAge  : \"))\n",
        "\t\t\tage_l.append(age)\n",
        "\t\t\tsex  = input(\"\\nMale or Female : \")\n",
        "\t\t\tsex_l.append(sex)\n",
        "\n",
        "\t\trestart = str(input(\"\\nDid you forgot someone? y/n: \"))\n",
        "\t\tif restart in ('y','YES','yes','Yes'):\n",
        "\t\t\trestart = ('Y')\n",
        "\t\telse :\n",
        "\t\t\tx = 0\n",
        "\t\t\tprint(\"\\nTotal Ticket : \",people)\n",
        "\t\t\tfor p in range(1,people+1):\n",
        "\t\t\t\tprint(\"Ticket : \",p)\n",
        "\t\t\t\tprint(\"Name : \", name_l[x])\n",
        "\t\t\t\tprint(\"Age  : \", age_l[x])\n",
        "\t\t\t\tprint(\"Sex : \",sex_l[x])\n",
        "\t\t\t\tx += 1\n",
        "\n",
        "\n",
        "\n",
        "\n",
        "\n",
        "\n"
      ],
      "metadata": {
        "colab": {
          "base_uri": "https://localhost:8080/"
        },
        "id": "j3uu_VHhHaU6",
        "outputId": "aaa811aa-1cbb-4e28-cf9f-b5d4e497ed79"
      },
      "execution_count": 30,
      "outputs": [
        {
          "output_type": "stream",
          "name": "stdout",
          "text": [
            "<class '__main__.Reservation'>\n"
          ]
        }
      ]
    },
    {
      "cell_type": "code",
      "source": [
        "#admin\n"
      ],
      "metadata": {
        "id": "6A5ZSsu4La-K"
      },
      "execution_count": null,
      "outputs": []
    },
    {
      "cell_type": "code",
      "source": [],
      "metadata": {
        "id": "z0keXpBHCvAN"
      },
      "execution_count": null,
      "outputs": []
    }
  ]
}