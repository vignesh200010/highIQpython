{
  "nbformat": 4,
  "nbformat_minor": 0,
  "metadata": {
    "colab": {
      "provenance": [],
      "authorship_tag": "ABX9TyMkqMl5511a9tqzvuasaZA9",
      "include_colab_link": true
    },
    "kernelspec": {
      "name": "python3",
      "display_name": "Python 3"
    },
    "language_info": {
      "name": "python"
    }
  },
  "cells": [
    {
      "cell_type": "markdown",
      "metadata": {
        "id": "view-in-github",
        "colab_type": "text"
      },
      "source": [
        "<a href=\"https://colab.research.google.com/github/vignesh200010/highIQpython/blob/main/train.ipynb\" target=\"_parent\"><img src=\"https://colab.research.google.com/assets/colab-badge.svg\" alt=\"Open In Colab\"/></a>"
      ]
    },
    {
      "cell_type": "code",
      "execution_count": null,
      "metadata": {
        "id": "nvkJzJggAW7l"
      },
      "outputs": [],
      "source": [
        "print(\"\\n\\nTicket Booking System\\n\")\n",
        "restart = ('Y')\n",
        "\n",
        "while restart != ('N','NO','n','no'):\n",
        "\tprint(\"1.Check PNR status\")\n",
        "\tprint(\"2.Ticket Reservation\")\n",
        "\toption = int(input(\"\\nEnter your option : \"))\n",
        "\n",
        "\tif option == 1:\n",
        "\t\tprint(\"Your PNR status is t3\")\n",
        "\t\texit(0)\n",
        "\n",
        "\telif option == 2:\n",
        "\t\tpeople = int(input(\"\\nEnter no. of Ticket you want : \"))\n",
        "\t\tname_l = []\n",
        "\t\tage_l = []\n",
        "\t\tsex_l = []\n",
        "\t\tfor p in range(people):\n",
        "\t\t\tname = str(input(\"\\nName : \"))\n",
        "\t\t\tname_l.append(name)\n",
        "\t\t\tage  = int(input(\"\\nAge  : \"))\n",
        "\t\t\tage_l.append(age)\n",
        "\t\t\tsex  = input(\"\\nMale or Female : \")\n",
        "\t\t\tsex_l.append(sex)\n",
        "\n",
        "\t\trestart = str(input(\"\\nDid you forgot someone? y/n: \"))\n",
        "\t\tif restart in ('y','YES','yes','Yes'):\n",
        "\t\t\trestart = ('Y')\n",
        "\t\telse :\n",
        "\t\t\tx = 0\n",
        "\t\t\tprint(\"\\nTotal Ticket : \",people)\n",
        "\t\t\tfor p in range(1,people+1):\n",
        "\t\t\t\tprint(\"Ticket : \",p)\n",
        "\t\t\t\tprint(\"Name : \", name_l[x])\n",
        "\t\t\t\tprint(\"Age  : \", age_l[x])\n",
        "\t\t\t\tprint(\"Sex : \",sex_l[x])\n",
        "\t\t\t\tx += 1\n"
      ]
    },
    {
      "cell_type": "code",
      "source": [
        "#admin\n",
        "class Reservation:\n",
        "   def __init__(self,passenger_id,passenger_fname,passenger_lname):\n",
        "      self.passenger_id = passenger_id\n",
        "      self.passenger_fname = passenger_fname\n",
        "      self.passenger_lname = passenger_lname\n",
        "      self.cost = 0\n",
        "      self.reservation_id = []\n",
        "      self.passenger_record = {'p_name'  : self.passenger_fname + self.passenger_lname,\n",
        "                             'p_id'    : self.passenger_id,\n",
        "                             'p_wallet': self.cost,\n",
        "                             'p_reservation_id': self.reservation_id,\n",
        "                            }\n",
        "      self.train_seats = { 'Business Class' : 50,\n",
        "                           'First Class'    : 50,\n",
        "                           'Premium Economy': 100,\n",
        "                           'Regular Economy': 150 }\n",
        "      self.train_price = { 'Business Class' : 2500,\n",
        "                           'First Class'    : 2000,\n",
        "                           'Premium Economy': 1800,\n",
        "                           'Regular Economy': 1500 }\n",
        "print(\"\\n\\nTicket Booking System\\n\")\n",
        "restart = ('Y')\n",
        "\n",
        "while restart != ('N','NO','n','no'):\n",
        "\tprint(\"1.Check PNR status\")\n",
        "\tprint(\"2.Ticket Reservation\")\n",
        "\toption = int(input(\"\\nEnter your option : \"))\n",
        "\n",
        "\tif option == 1:\n",
        "\t\tprint(\"Your PNR status is t3\")\n",
        "\t\texit(0)\n",
        "\n",
        "\telif option == 2:\n",
        "\t\tpeople = int(input(\"\\nEnter no. of Ticket you want : \"))\n",
        "\t\tname_l = []\n",
        "\t\tage_l = []\n",
        "\t\tsex_l = []\n",
        "\t\tfor p in range(people):\n",
        "\t\t\tname = str(input(\"\\nName : \"))\n",
        "\t\t\tname_l.append(name)\n",
        "\t\t\tage  = int(input(\"\\nAge  : \"))\n",
        "\t\t\tage_l.append(age)\n",
        "\t\t\tsex  = input(\"\\nMale or Female : \")\n",
        "\t\t\tsex_l.append(sex)\n",
        "\n",
        "\t\trestart = str(input(\"\\nDid you forgot someone? y/n: \"))\n",
        "\t\tif restart in ('y','YES','yes','Yes'):\n",
        "\t\t\trestart = ('Y')\n",
        "\t\telse :\n",
        "\t\t\tx = 0\n",
        "\t\t\tprint(\"\\nTotal Ticket : \",people)\n",
        "\t\t\tfor p in range(1,people+1):\n",
        "\t\t\t\tprint(\"Ticket : \",p)\n",
        "\t\t\t\tprint(\"Name : \", name_l[x])\n",
        "\t\t\t\tprint(\"Age  : \", age_l[x])\n",
        "\t\t\t\tprint(\"Sex : \",sex_l[x])\n",
        "\t\t\t\tx += 1\n"
      ],
      "metadata": {
        "id": "zqRDY3SGAvHQ"
      },
      "execution_count": null,
      "outputs": []
    }
  ]
}