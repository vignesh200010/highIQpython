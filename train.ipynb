{
  "nbformat": 4,
  "nbformat_minor": 0,
  "metadata": {
    "colab": {
      "provenance": [],
      "authorship_tag": "ABX9TyMSl0396Sj9HZJz/k/nJmOL",
      "include_colab_link": true
    },
    "kernelspec": {
      "name": "python3",
      "display_name": "Python 3"
    },
    "language_info": {
      "name": "python"
    }
  },
  "cells": [
    {
      "cell_type": "markdown",
      "metadata": {
        "id": "view-in-github",
        "colab_type": "text"
      },
      "source": [
        "<a href=\"https://colab.research.google.com/github/vignesh200010/highIQpython/blob/main/train.ipynb\" target=\"_parent\"><img src=\"https://colab.research.google.com/assets/colab-badge.svg\" alt=\"Open In Colab\"/></a>"
      ]
    },
    {
      "cell_type": "code",
      "source": [
        "### Objectives\n",
        "\n",
        "\n",
        "\n",
        "1.   Admin who can add buses remove buses and check status\n",
        "2.   There is a user who can serach buses based on arrival destination and user time.\n",
        "3.   Bus Object with following properties:\n",
        "\n",
        "*   Starting Time\n",
        "*   Ending Time\n",
        "*   Arrival \n",
        "*   Departure \n",
        "*   Bus Name\n",
        "*   Seats\n",
        "*   Seating Price\n",
        "\n",
        "# Destinations: A,B,C,D,E,F\n",
        "\n",
        "\n",
        "\n"
      ],
      "metadata": {
        "id": "tgqjl_3Rts6I"
      },
      "execution_count": null,
      "outputs": []
    },
    {
      "cell_type": "markdown",
      "source": [
        "### Objectives\n",
        "\n",
        "\n",
        "\n",
        "1.   Admin who can add Train remove Train and check status\n",
        "2.   There is a user who can serach Train based on arrival destination and user time.\n",
        "3.   Bus Object with following properties:\n",
        "\n",
        "*   Starting Time\n",
        "*   Ending Time\n",
        "*   Arrival \n",
        "*   Departure \n",
        "*   Train Name\n",
        "*   Seats\n",
        "*   Seating Price\n",
        "\n",
        "# Destinations: A,B,C,D,E,F\n"
      ],
      "metadata": {
        "id": "fRJo8xuA-vHl"
      }
    },
    {
      "cell_type": "code",
      "source": [
        "class train:\n",
        "  def __init__(self):\n",
        "    self.train_name = ''\n",
        "    self.start_time = 0\n",
        "    self.ending_time = 0\n",
        "    self.arrival = '' \n",
        "    self.departure = '' \n",
        "    self.seats = 0\n",
        "    self.seating_price = 0\n",
        "    pass\n",
        "\n",
        "  def admin_creation(self,tain_name_,start_time_,ending_time_,arrival_,departure_,seats_,seating_price_):\n",
        "    self.train_name =tain_name_\n",
        "    self.start_time = start_time_\n",
        "    self.ending_time = ending_time_\n",
        "    self.arrival  = arrival_ \n",
        "    self.departure = departure_ \n",
        "    self.seats = seats_\n",
        "    self.seating_price = seating_price_\n",
        "\n",
        "  def print_bus(self):\n",
        "    print(self.train_name,self.start_time,self.ending_time,self.arrival,self.departure,self.seats,self.seating_price)\n",
        "\n",
        "class Admin:\n",
        "  def __init__(self,name):\n",
        "    self.name = name\n",
        "    self.list_trains = []\n",
        "  \n",
        "  def create_train(self,train_name_,start_time_,ending_time_,arrival_,departure_,seats_,seating_price_):\n",
        "    locals()[train_name_] = train()\n",
        "    locals()[train_name_].admin_creation(train_name_,start_time_,ending_time_,arrival_,departure_,seats_,seating_price_)\n",
        "    print(locals()[train_name_].train_name)\n",
        "    self.list_trains.append(locals()[train_name_])\n",
        "  \n",
        "  def return_list_trains(self):\n",
        "    return self.list_trains\n",
        "\n",
        "class User:\n",
        "  def __init__(self,name):\n",
        "    self.user_name = name\n",
        "  \n",
        "  def search_train(self,user_time_,user_starting_point_,user_ending_point_):\n",
        "    a = dell.return_list_trains()\n",
        "    user_time = user_time_\n",
        "    user_start_point = user_starting_point_\n",
        "    user_end_point = user_ending_point_\n",
        "    for i in a:\n",
        "      if i.start_time>user_time:\n",
        "        if i.arrival == user_end_point and i.departure == user_start_point:\n",
        "          i.print_train()"
      ],
      "metadata": {
        "id": "7xK6oAuQ_BcA"
      },
      "execution_count": 44,
      "outputs": []
    },
    {
      "cell_type": "code",
      "source": [
        "dell = Admin('dell')\n",
        "dell.create_train('brindavan exp',1,9,'bangalore','Chennai',60,500)\n",
        "dell.create_train('mysore tippu exp',13,18,'bangalore','Chennai',60,500)\n",
        "dell.create_train('bangalore kakinada sheahadri exp',12,20,'bangalore','Chennai',60,500)"
      ],
      "metadata": {
        "id": "UW4-QbpuBTak",
        "outputId": "297504c7-629b-4b1d-b919-0508b6324490",
        "colab": {
          "base_uri": "https://localhost:8080/"
        }
      },
      "execution_count": 45,
      "outputs": [
        {
          "output_type": "stream",
          "name": "stdout",
          "text": [
            "brindavan exp\n",
            "mysore tippu exp\n",
            "bangalore kakinada sheahadri exp\n"
          ]
        }
      ]
    },
    {
      "cell_type": "code",
      "source": [
        "vignesh = User('vignesh')\n",
        "user_time = 1\n",
        "user_start_point = 'bangalore'\n",
        "user_end_point = 'chennai'\n",
        "vignesh.search_train(user_time,user_start_point,user_end_point)"
      ],
      "metadata": {
        "id": "ahBLBvFxBwbe"
      },
      "execution_count": 49,
      "outputs": []
    },
    {
      "cell_type": "code",
      "source": [
        "ram = User('ram')\n",
        "user_time = 15\n",
        "user_start_point = 'Bangalore'\n",
        "user_end_point = 'chennai'\n",
        "ram.search_train(user_time,user_start_point,user_end_point)"
      ],
      "metadata": {
        "id": "2cZIy0dEC_az"
      },
      "execution_count": 48,
      "outputs": []
    },
    {
      "cell_type": "code",
      "source": [
        "a = dell.return_list_trains()\n",
        "user_time = 12\n",
        "user_start_point = 'Chennai'\n",
        "user_end_point = 'Mumbai'\n",
        "for i in a:\n",
        "  if i.start_time>user_time:\n",
        "    if i.arrival == user_end_point and i.departure == user_start_point:\n",
        "      i.print_train() "
      ],
      "metadata": {
        "id": "DYDPbVS4CEwQ"
      },
      "execution_count": 47,
      "outputs": []
    },
    {
      "cell_type": "code",
      "source": [],
      "metadata": {
        "id": "mThxC9luF036"
      },
      "execution_count": null,
      "outputs": []
    }
  ]
}