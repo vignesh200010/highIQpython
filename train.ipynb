{
  "nbformat": 4,
  "nbformat_minor": 0,
  "metadata": {
    "colab": {
      "provenance": [],
      "authorship_tag": "ABX9TyMXw1cTkjyWC9IOUvAFDGBQ",
      "include_colab_link": true
    },
    "kernelspec": {
      "name": "python3",
      "display_name": "Python 3"
    },
    "language_info": {
      "name": "python"
    }
  },
  "cells": [
    {
      "cell_type": "markdown",
      "metadata": {
        "id": "view-in-github",
        "colab_type": "text"
      },
      "source": [
        "<a href=\"https://colab.research.google.com/github/vignesh200010/highIQpython/blob/main/train.ipynb\" target=\"_parent\"><img src=\"https://colab.research.google.com/assets/colab-badge.svg\" alt=\"Open In Colab\"/></a>"
      ]
    },
    {
      "cell_type": "markdown",
      "source": [
        "# Objectives\n",
        "-------------------------------------\n",
        "# Destinations: chennai to banglore\n",
        "-------------------------------------\n",
        "1.   Admin who can add & remove Train and check status of train\n",
        "\n",
        "2.   There is a user who can serach Train based on arrival destination \n",
        "and user time.\n",
        "\n",
        "3.   train Object with following properties:\n",
        "*   Train Name\n",
        "*   Starting Time\n",
        "*   Ending Time\n",
        "*   Arrival \n",
        "*   Departure \n",
        "*   Seats\n",
        "*   Seating Price"
      ],
      "metadata": {
        "id": "fRJo8xuA-vHl"
      }
    },
    {
      "cell_type": "code",
      "source": [
        "class train:\n",
        "  def __init__(self):\n",
        "    self.train_name = ''\n",
        "    self.start_time = 0\n",
        "    self.ending_time = 0\n",
        "    self.arrival = '' \n",
        "    self.departure = '' \n",
        "    self.seats = 0\n",
        "    self.seating_price = 0\n",
        "    pass\n",
        "\n",
        "  def admin_creation(self,tain_name_,start_time_,ending_time_,arrival_,departure_,seats_,seating_price_):\n",
        "    self.train_name =tain_name_\n",
        "    self.start_time = start_time_\n",
        "    self.ending_time = ending_time_\n",
        "    self.arrival  = arrival_ \n",
        "    self.departure = departure_ \n",
        "    self.seats = seats_\n",
        "    self.seating_price = seating_price_\n",
        "\n",
        "  def print_bus(self):\n",
        "    print(self.train_name,self.start_time,self.ending_time,self.arrival,self.departure,self.seats,self.seating_price)\n",
        "\n",
        "\n",
        "\n",
        "class Admin:\n",
        "  def __init__(self,name):\n",
        "    self.name = name\n",
        "    self.list_trains = []\n",
        "  \n",
        "  def create_train(self,train_name_,start_time_,ending_time_,arrival_,departure_,seats_,seating_price_):\n",
        "    locals()[train_name_] = train()\n",
        "    locals()[train_name_].admin_creation(train_name_,start_time_,ending_time_,arrival_,departure_,seats_,seating_price_)\n",
        "    print(locals()[train_name_].train_name)\n",
        "    self.list_trains.append(locals()[train_name_])\n",
        "  \n",
        "  def return_list_trains(self):\n",
        "    return self.list_trains\n",
        "\n",
        "\n",
        "\n",
        "class User:\n",
        "  def __init__(self,name):\n",
        "    self.user_name = name\n",
        "  \n",
        "  def search_train(self,user_time_,user_starting_point_,user_ending_point_):\n",
        "    Tra = dell.return_list_trains()\n",
        "    user_time = user_time_\n",
        "    user_start_point = user_starting_point_\n",
        "    user_end_point = user_ending_point_\n",
        "    for var in Tra:\n",
        "      if var.start_time>user_time:\n",
        "        if var.arrival == user_end_point and var.departure == user_start_point:\n",
        "          var.print_train()"
      ],
      "metadata": {
        "id": "7xK6oAuQ_BcA"
      },
      "execution_count": 63,
      "outputs": []
    },
    {
      "cell_type": "code",
      "source": [
        "dell = Admin('dell')\n",
        "dell.create_train('brindavan exp',1,9,'bangalore','Chennai',250,2000)\n",
        "dell.create_train('mysore tippu exp',13,18,'bangalore','Chennai',500,2000)\n",
        "dell.create_train('bangalore kakinada sheahadri exp',12,20,'bangalore','Chennai',600,1000)\n"
      ],
      "metadata": {
        "colab": {
          "base_uri": "https://localhost:8080/"
        },
        "id": "UW4-QbpuBTak",
        "outputId": "8cb0527f-d9ed-4a0d-f86f-d55c4c9cde17"
      },
      "execution_count": 64,
      "outputs": [
        {
          "output_type": "stream",
          "name": "stdout",
          "text": [
            "brindavan exp\n",
            "mysore tippu exp\n",
            "bangalore kakinada sheahadri exp\n"
          ]
        }
      ]
    },
    {
      "cell_type": "code",
      "source": [
        "vignesh = User('vignesh')\n",
        "\n",
        "user_time = 1\n",
        "user_end_point = 'bangalore'\n",
        "user_start_point = 'chennai'\n",
        "\n",
        "vignesh.search_train(user_time,user_start_point,user_end_point)"
      ],
      "metadata": {
        "id": "ahBLBvFxBwbe"
      },
      "execution_count": 65,
      "outputs": []
    },
    {
      "cell_type": "code",
      "source": [
        "ram = User('ram')\n",
        "\n",
        "user_time = 15\n",
        "user_end_point = 'Bangalore'\n",
        "user_start_point = 'chennai'\n",
        "\n",
        "ram.search_train(user_time,user_start_point,user_end_point)"
      ],
      "metadata": {
        "id": "2cZIy0dEC_az"
      },
      "execution_count": 66,
      "outputs": []
    },
    {
      "cell_type": "code",
      "source": [
        "Tra = dell.return_list_trains()\n",
        "user_time = 12\n",
        "user_end_point = 'Bangalore'\n",
        "user_start_point = 'Chennai'\n",
        "for var in Tra:\n",
        "  if var.start_time>user_time:\n",
        "    if var.arrival == user_end_point and var.departure == user_start_point:\n",
        "      var.print_train() "
      ],
      "metadata": {
        "id": "DYDPbVS4CEwQ"
      },
      "execution_count": 67,
      "outputs": []
    },
    {
      "cell_type": "code",
      "source": [],
      "metadata": {
        "id": "mThxC9luF036"
      },
      "execution_count": null,
      "outputs": []
    }
  ]
}