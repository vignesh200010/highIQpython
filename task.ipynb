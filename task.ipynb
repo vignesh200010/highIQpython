{
  "nbformat": 4,
  "nbformat_minor": 0,
  "metadata": {
    "colab": {
      "provenance": [],
      "authorship_tag": "ABX9TyNRM/Epco7V91cheFARoK/K",
      "include_colab_link": true
    },
    "kernelspec": {
      "name": "python3",
      "display_name": "Python 3"
    },
    "language_info": {
      "name": "python"
    }
  },
  "cells": [
    {
      "cell_type": "markdown",
      "metadata": {
        "id": "view-in-github",
        "colab_type": "text"
      },
      "source": [
        "<a href=\"https://colab.research.google.com/github/vignesh200010/highIQpython/blob/main/task.ipynb\" target=\"_parent\"><img src=\"https://colab.research.google.com/assets/colab-badge.svg\" alt=\"Open In Colab\"/></a>"
      ]
    },
    {
      "cell_type": "code",
      "execution_count": 3,
      "metadata": {
        "colab": {
          "base_uri": "https://localhost:8080/",
          "height": 130
        },
        "id": "6-tS9cypE76Z",
        "outputId": "bc4412ba-c377-4686-cd8c-f2adc6cbef6b"
      },
      "outputs": [
        {
          "output_type": "error",
          "ename": "SyntaxError",
          "evalue": "ignored",
          "traceback": [
            "\u001b[0;36m  File \u001b[0;32m\"<ipython-input-3-4b0618c61153>\"\u001b[0;36m, line \u001b[0;32m1\u001b[0m\n\u001b[0;31m    1import re\u001b[0m\n\u001b[0m          ^\u001b[0m\n\u001b[0;31mSyntaxError\u001b[0m\u001b[0;31m:\u001b[0m invalid syntax\n"
          ]
        }
      ],
      "source": [
        "import time\n",
        "\n",
        "def sum_of_n_long(n):\n",
        "    \"\"\"\n",
        "    Explain Your Formula here\n",
        "    S(n) = n*(n+1)/2\n",
        "    \"\"\"\n",
        "    start = time.time()\n",
        "    s = 0\n",
        "    for i in range(n+1):\n",
        "        s+=i\n",
        "    end = time.time()\n",
        "    print(\"Time Taken long: \",end-start)\n",
        "    print(\"Sum: \",s)\n",
        "##    \n",
        "def sum_of_n_shrt(n):\n",
        "    start = time.time()\n",
        "    s = (n*(n+1))/2 # O(1)\n",
        "    end = time.time()\n",
        "    print(\"Time Taken short: \",end-start)\n",
        "    print(\"Sum: \",s)\n",
        "    return (s)\n",
        "def fun():\n",
        "    n1 = int(input(\"Enter Number one: \"))\n",
        "    n2 = int(input(\"Enter Number two: \"))\n",
        "    a=sum_of_n_shrt(n1)\n",
        "    b=sum_of_n_shrt(n2)\n",
        "    print(a)\n",
        "    print(b)\n",
        "    c=b-a\n",
        "\n",
        "\n",
        "fun()\n"
      ]
    },
    {
      "cell_type": "code",
      "source": [
        "import re\n",
        "def is_allowed_specific_char(string):\n",
        "    charRe = re.compile(r'[^a-zA-Z0-9]')\n",
        "    string = charRe.search(string)\n",
        "    return not bool(string)\n",
        "\n",
        "print(is_allowed_specific_char(\"ABCDEFabcdef123450\")) \n",
        "print(is_allowed_specific_char(\"*&%@#!}{\"))"
      ],
      "metadata": {
        "colab": {
          "base_uri": "https://localhost:8080/"
        },
        "id": "Qv7fcyD8FZh2",
        "outputId": "3c3d5210-75ec-4c09-afb9-eb6b12035223"
      },
      "execution_count": 2,
      "outputs": [
        {
          "output_type": "stream",
          "name": "stdout",
          "text": [
            "True\n",
            "False\n"
          ]
        }
      ]
    },
    {
      "cell_type": "code",
      "source": [],
      "metadata": {
        "id": "BnnLgCXrFmXN"
      },
      "execution_count": null,
      "outputs": []
    }
  ]
}