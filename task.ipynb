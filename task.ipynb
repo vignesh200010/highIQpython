{
  "nbformat": 4,
  "nbformat_minor": 0,
  "metadata": {
    "colab": {
      "provenance": [],
      "authorship_tag": "ABX9TyOqI+fSOh9vtnXFlueQwMtr",
      "include_colab_link": true
    },
    "kernelspec": {
      "name": "python3",
      "display_name": "Python 3"
    },
    "language_info": {
      "name": "python"
    }
  },
  "cells": [
    {
      "cell_type": "markdown",
      "metadata": {
        "id": "view-in-github",
        "colab_type": "text"
      },
      "source": [
        "<a href=\"https://colab.research.google.com/github/vignesh200010/highIQpython/blob/main/task.ipynb\" target=\"_parent\"><img src=\"https://colab.research.google.com/assets/colab-badge.svg\" alt=\"Open In Colab\"/></a>"
      ]
    },
    {
      "cell_type": "code",
      "execution_count": null,
      "metadata": {
        "colab": {
          "base_uri": "https://localhost:8080/"
        },
        "id": "6-tS9cypE76Z",
        "outputId": "cd6ce07a-349e-470b-8f18-49eb7508886c"
      },
      "outputs": [
        {
          "output_type": "stream",
          "name": "stdout",
          "text": [
            "Enter Number one: 5\n",
            "Enter Number two: 10\n",
            "Time Taken short:  1.430511474609375e-06\n",
            "Sum:  15.0\n",
            "Time Taken short:  1.430511474609375e-06\n",
            "Sum:  55.0\n",
            "15.0\n",
            "55.0\n"
          ]
        }
      ],
      "source": [
        "import time\n",
        "\n",
        "def sum_of_n_long(n):\n",
        "    \"\"\"\n",
        "    Explain Your Formula here\n",
        "    S(n) = n*(n+1)/2\n",
        "    \"\"\"\n",
        "    start = time.time()\n",
        "    s = 0\n",
        "    for i in range(n+1):\n",
        "        s+=i\n",
        "    end = time.time()\n",
        "    print(\"Time Taken long: \",end-start)\n",
        "    print(\"Sum: \",s)\n",
        "##    \n",
        "def sum_of_n_shrt(n):\n",
        "    start = time.time()\n",
        "    s = (n*(n+1))/2 # O(1)\n",
        "    end = time.time()\n",
        "    print(\"Time Taken short: \",end-start)\n",
        "    print(\"Sum: \",s)\n",
        "    return (s)\n",
        "def fun():\n",
        "    n1 = int(input(\"Enter Number one: \"))\n",
        "    n2 = int(input(\"Enter Number two: \"))\n",
        "    a=sum_of_n_shrt(n1)\n",
        "    b=sum_of_n_shrt(n2)\n",
        "    print(a)\n",
        "    print(b)\n",
        "    c=b-a\n",
        "\n",
        "\n",
        "fun()\n"
      ]
    },
    {
      "cell_type": "code",
      "source": [
        "import re\n",
        "def is_allowed_specific_char(string):\n",
        "    charRe = re.compile(r'[^a-zA-Z0-9]')\n",
        "    string = charRe.search(string)\n",
        "    return not bool(string)\n",
        "\n",
        "print(is_allowed_specific_char(\"ABCDEFabcdef123450\")) \n",
        "print(is_allowed_specific_char(\"*&%@#!}{\"))"
      ],
      "metadata": {
        "colab": {
          "base_uri": "https://localhost:8080/"
        },
        "id": "Qv7fcyD8FZh2",
        "outputId": "3c3d5210-75ec-4c09-afb9-eb6b12035223"
      },
      "execution_count": null,
      "outputs": [
        {
          "output_type": "stream",
          "name": "stdout",
          "text": [
            "True\n",
            "False\n"
          ]
        }
      ]
    },
    {
      "cell_type": "code",
      "source": [
        "import re\n",
        "def text_match(text):\n",
        "        patterns = '^a(b*)$'\n",
        "        if re.search(patterns,  text):\n",
        "                return 'Found a match!'\n",
        "        else:\n",
        "                return('Not matched!')\n",
        "print(text_match(\"ac\"))\n",
        "print(text_match(\"abc\"))\n",
        "print(text_match(\"a\"))\n",
        "print(text_match(\"ab\"))\n",
        "print(text_match(\"abb\"))"
      ],
      "metadata": {
        "colab": {
          "base_uri": "https://localhost:8080/"
        },
        "id": "tgGpvETliqxN",
        "outputId": "7c94314b-26c4-4ee2-9f34-c6ad5616cc3a"
      },
      "execution_count": null,
      "outputs": [
        {
          "output_type": "stream",
          "name": "stdout",
          "text": [
            "Not matched!\n",
            "Not matched!\n",
            "Found a match!\n",
            "Found a match!\n",
            "Found a match!\n"
          ]
        }
      ]
    },
    {
      "cell_type": "code",
      "source": [
        "import re\n",
        "def text_match(text):\n",
        "        patterns = 'ab+?'\n",
        "        if re.search(patterns,  text):\n",
        "                return 'Found a match!'\n",
        "        else:\n",
        "                return('Not matched!')\n",
        "\n",
        "print(text_match(\"ab\"))\n",
        "print(text_match(\"abc\"))"
      ],
      "metadata": {
        "colab": {
          "base_uri": "https://localhost:8080/"
        },
        "id": "BnnLgCXrFmXN",
        "outputId": "877b2002-5af3-400f-81ec-ed101ada2140"
      },
      "execution_count": null,
      "outputs": [
        {
          "output_type": "stream",
          "name": "stdout",
          "text": [
            "Found a match!\n",
            "Found a match!\n"
          ]
        }
      ]
    },
    {
      "cell_type": "code",
      "source": [
        "import re\n",
        "def text_match(text):\n",
        "        patterns = 'ab+?'\n",
        "        if re.search(patterns,  text):\n",
        "                return 'Found a match!'\n",
        "        else:\n",
        "                return('Not matched!')\n",
        "\n",
        "print(text_match(\"ab\"))\n",
        "print(text_match(\"abcd\"))"
      ],
      "metadata": {
        "colab": {
          "base_uri": "https://localhost:8080/"
        },
        "id": "t-GKYU19vINZ",
        "outputId": "716bebd5-5bd1-4a60-e466-efc1248316db"
      },
      "execution_count": null,
      "outputs": [
        {
          "output_type": "stream",
          "name": "stdout",
          "text": [
            "Found a match!\n",
            "Found a match!\n"
          ]
        }
      ]
    },
    {
      "cell_type": "code",
      "source": [
        "import re\n",
        "def text_match(text):\n",
        "        patterns = 'ab{3}?'\n",
        "        if re.search(patterns,  text):\n",
        "                return 'Found a match!'\n",
        "        else:\n",
        "                return('Not matched!')\n",
        "\n",
        "print(text_match(\"abbb\"))\n",
        "print(text_match(\"aabbbbbc\"))"
      ],
      "metadata": {
        "colab": {
          "base_uri": "https://localhost:8080/"
        },
        "id": "foXhABCqv9Qd",
        "outputId": "dd3c31b5-d73e-4f56-a31e-71b3ad116d5d"
      },
      "execution_count": null,
      "outputs": [
        {
          "output_type": "stream",
          "name": "stdout",
          "text": [
            "Found a match!\n",
            "Found a match!\n"
          ]
        }
      ]
    },
    {
      "cell_type": "code",
      "source": [
        "import re\n",
        "def text_match(text):\n",
        "        patterns = '^[a-z]+_[a-z]+$'\n",
        "        if re.search(patterns,  text):\n",
        "                return 'Found a match!'\n",
        "        else:\n",
        "                return('Not matched!')\n",
        "\n",
        "print(text_match(\"aab_cbbbc\"))\n",
        "print(text_match(\"aab_Abbbc\"))\n",
        "print(text_match(\"Aaab_abbbc\"))"
      ],
      "metadata": {
        "colab": {
          "base_uri": "https://localhost:8080/"
        },
        "id": "vZpwduGkydgc",
        "outputId": "f61aa5c7-9f5b-4299-ce05-8352fb927281"
      },
      "execution_count": null,
      "outputs": [
        {
          "output_type": "stream",
          "name": "stdout",
          "text": [
            "Found a match!\n",
            "Not matched!\n",
            "Not matched!\n"
          ]
        }
      ]
    },
    {
      "cell_type": "code",
      "source": [
        "import re\n",
        "def text_match(text):\n",
        "        patterns = '^[a-z]+_[a-z]+$'\n",
        "        if re.search(patterns,  text,re.I):\n",
        "                return 'Found a match!'\n",
        "        else:\n",
        "                return('Not matched!')\n",
        "\n",
        "print(text_match(\"aab_cbbbc\"))\n",
        "print(text_match(\"aab_Abbbc\"))\n",
        "print(text_match(\"Aaab_abbbc\"))"
      ],
      "metadata": {
        "colab": {
          "base_uri": "https://localhost:8080/"
        },
        "id": "kkKDSh4sFJtv",
        "outputId": "4402bfb0-493a-4a91-f09b-5bbc04ef361e"
      },
      "execution_count": null,
      "outputs": [
        {
          "output_type": "stream",
          "name": "stdout",
          "text": [
            "Found a match!\n",
            "Found a match!\n",
            "Found a match!\n"
          ]
        }
      ]
    },
    {
      "cell_type": "code",
      "source": [
        "import re\n",
        "def text_match(text):\n",
        "        patterns = '[A-Z]+[a-z]+$'\n",
        "        if re.search(patterns, text):\n",
        "                return 'Found a match!'\n",
        "        else:\n",
        "                return('Not matched!')\n",
        "print(text_match(\"AaBbGg\"))\n",
        "print(text_match(\"Python\"))\n",
        "print(text_match(\"Python\"))\n",
        "print(text_match(\"PYTHON\"))\n",
        "print(text_match(\"aA\"))\n",
        "print(text_match(\"Aa\"))"
      ],
      "metadata": {
        "colab": {
          "base_uri": "https://localhost:8080/"
        },
        "id": "2pQpqMVtFbl5",
        "outputId": "6dcf358e-705b-4bc1-cfad-c399079585f2"
      },
      "execution_count": null,
      "outputs": [
        {
          "output_type": "stream",
          "name": "stdout",
          "text": [
            "Found a match!\n",
            "Found a match!\n",
            "Found a match!\n",
            "Not matched!\n",
            "Not matched!\n",
            "Found a match!\n"
          ]
        }
      ]
    },
    {
      "cell_type": "code",
      "source": [
        "import re\n",
        "def text_match(text):\n",
        "        patterns = 'a.*?b$'\n",
        "        if re.search(patterns,  text):\n",
        "                return 'Found a match!'\n",
        "        else:\n",
        "                return('Not matched!')\n",
        "\n",
        "print(text_match(\"aabbbbd\"))\n",
        "print(text_match(\"aabAbbbc\"))\n",
        "print(text_match(\"accddbbjjjb\"))"
      ],
      "metadata": {
        "colab": {
          "base_uri": "https://localhost:8080/"
        },
        "id": "900JvoLoICBS",
        "outputId": "ea3c4ec9-bbae-4f72-814f-c338d16cd164"
      },
      "execution_count": null,
      "outputs": [
        {
          "output_type": "stream",
          "name": "stdout",
          "text": [
            "Not matched!\n",
            "Not matched!\n",
            "Not matched!\n"
          ]
        }
      ]
    },
    {
      "cell_type": "code",
      "source": [
        "import re\n",
        "def text_match(text):\n",
        "        patterns = '^\\w+'\n",
        "        if re.search(patterns,  text):\n",
        "                return 'Found a match!'\n",
        "        else:\n",
        "                return('Not matched!')\n",
        "\n",
        "print(text_match(\"The quick brown fox jumps over the lazy dog.\"))\n",
        "print(text_match(\" The quick brown fox jumps over the lazy dog.\"))"
      ],
      "metadata": {
        "id": "dd3-cncBLW8i",
        "colab": {
          "base_uri": "https://localhost:8080/"
        },
        "outputId": "313a2c45-5f58-4a94-ddea-f81eb75d9fc1"
      },
      "execution_count": 1,
      "outputs": [
        {
          "output_type": "stream",
          "name": "stdout",
          "text": [
            "Found a match!\n",
            "Not matched!\n"
          ]
        }
      ]
    },
    {
      "cell_type": "code",
      "source": [],
      "metadata": {
        "id": "p1o4ojaU-QUU"
      },
      "execution_count": null,
      "outputs": []
    }
  ]
}