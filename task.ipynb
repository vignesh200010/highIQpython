{
  "nbformat": 4,
  "nbformat_minor": 0,
  "metadata": {
    "colab": {
      "provenance": [],
      "authorship_tag": "ABX9TyOzz9Ti0hJu3lkTa+grRH80",
      "include_colab_link": true
    },
    "kernelspec": {
      "name": "python3",
      "display_name": "Python 3"
    },
    "language_info": {
      "name": "python"
    }
  },
  "cells": [
    {
      "cell_type": "markdown",
      "metadata": {
        "id": "view-in-github",
        "colab_type": "text"
      },
      "source": [
        "<a href=\"https://colab.research.google.com/github/vignesh200010/highIQpython/blob/main/task.ipynb\" target=\"_parent\"><img src=\"https://colab.research.google.com/assets/colab-badge.svg\" alt=\"Open In Colab\"/></a>"
      ]
    },
    {
      "cell_type": "code",
      "execution_count": null,
      "metadata": {
        "colab": {
          "base_uri": "https://localhost:8080/"
        },
        "id": "6-tS9cypE76Z",
        "outputId": "cd6ce07a-349e-470b-8f18-49eb7508886c"
      },
      "outputs": [
        {
          "output_type": "stream",
          "name": "stdout",
          "text": [
            "Enter Number one: 5\n",
            "Enter Number two: 10\n",
            "Time Taken short:  1.430511474609375e-06\n",
            "Sum:  15.0\n",
            "Time Taken short:  1.430511474609375e-06\n",
            "Sum:  55.0\n",
            "15.0\n",
            "55.0\n"
          ]
        }
      ],
      "source": [
        "import time\n",
        "\n",
        "def sum_of_n_long(n):\n",
        "    \"\"\"\n",
        "    Explain Your Formula here\n",
        "    S(n) = n*(n+1)/2\n",
        "    \"\"\"\n",
        "    start = time.time()\n",
        "    s = 0\n",
        "    for i in range(n+1):\n",
        "        s+=i\n",
        "    end = time.time()\n",
        "    print(\"Time Taken long: \",end-start)\n",
        "    print(\"Sum: \",s)\n",
        "##    \n",
        "def sum_of_n_shrt(n):\n",
        "    start = time.time()\n",
        "    s = (n*(n+1))/2 # O(1)\n",
        "    end = time.time()\n",
        "    print(\"Time Taken short: \",end-start)\n",
        "    print(\"Sum: \",s)\n",
        "    return (s)\n",
        "def fun():\n",
        "    n1 = int(input(\"Enter Number one: \"))\n",
        "    n2 = int(input(\"Enter Number two: \"))\n",
        "    a=sum_of_n_shrt(n1)\n",
        "    b=sum_of_n_shrt(n2)\n",
        "    print(a)\n",
        "    print(b)\n",
        "    c=b-a\n",
        "\n",
        "\n",
        "fun()\n"
      ]
    },
    {
      "cell_type": "code",
      "source": [
        "import re\n",
        "def is_allowed_specific_char(string):\n",
        "    charRe = re.compile(r'[^a-zA-Z0-9]')\n",
        "    string = charRe.search(string)\n",
        "    return not bool(string)\n",
        "\n",
        "print(is_allowed_specific_char(\"ABCDEFabcdef123450\")) \n",
        "print(is_allowed_specific_char(\"*&%@#!}{\"))"
      ],
      "metadata": {
        "colab": {
          "base_uri": "https://localhost:8080/"
        },
        "id": "Qv7fcyD8FZh2",
        "outputId": "3c3d5210-75ec-4c09-afb9-eb6b12035223"
      },
      "execution_count": null,
      "outputs": [
        {
          "output_type": "stream",
          "name": "stdout",
          "text": [
            "True\n",
            "False\n"
          ]
        }
      ]
    },
    {
      "cell_type": "code",
      "source": [
        "import re\n",
        "def text_match(text):\n",
        "        patterns = '^a(b*)$'\n",
        "        if re.search(patterns,  text):\n",
        "                return 'Found a match!'\n",
        "        else:\n",
        "                return('Not matched!')\n",
        "print(text_match(\"ac\"))\n",
        "print(text_match(\"abc\"))\n",
        "print(text_match(\"a\"))\n",
        "print(text_match(\"ab\"))\n",
        "print(text_match(\"abb\"))"
      ],
      "metadata": {
        "colab": {
          "base_uri": "https://localhost:8080/"
        },
        "id": "tgGpvETliqxN",
        "outputId": "7c94314b-26c4-4ee2-9f34-c6ad5616cc3a"
      },
      "execution_count": null,
      "outputs": [
        {
          "output_type": "stream",
          "name": "stdout",
          "text": [
            "Not matched!\n",
            "Not matched!\n",
            "Found a match!\n",
            "Found a match!\n",
            "Found a match!\n"
          ]
        }
      ]
    },
    {
      "cell_type": "code",
      "source": [
        "import re\n",
        "def text_match(text):\n",
        "        patterns = 'ab+?'\n",
        "        if re.search(patterns,  text):\n",
        "                return 'Found a match!'\n",
        "        else:\n",
        "                return('Not matched!')\n",
        "\n",
        "print(text_match(\"ab\"))\n",
        "print(text_match(\"abc\"))"
      ],
      "metadata": {
        "colab": {
          "base_uri": "https://localhost:8080/"
        },
        "id": "BnnLgCXrFmXN",
        "outputId": "877b2002-5af3-400f-81ec-ed101ada2140"
      },
      "execution_count": null,
      "outputs": [
        {
          "output_type": "stream",
          "name": "stdout",
          "text": [
            "Found a match!\n",
            "Found a match!\n"
          ]
        }
      ]
    },
    {
      "cell_type": "code",
      "source": [
        "import re\n",
        "def text_match(text):\n",
        "        patterns = 'ab+?'\n",
        "        if re.search(patterns,  text):\n",
        "                return 'Found a match!'\n",
        "        else:\n",
        "                return('Not matched!')\n",
        "\n",
        "print(text_match(\"ab\"))\n",
        "print(text_match(\"abcd\"))"
      ],
      "metadata": {
        "colab": {
          "base_uri": "https://localhost:8080/"
        },
        "id": "t-GKYU19vINZ",
        "outputId": "716bebd5-5bd1-4a60-e466-efc1248316db"
      },
      "execution_count": null,
      "outputs": [
        {
          "output_type": "stream",
          "name": "stdout",
          "text": [
            "Found a match!\n",
            "Found a match!\n"
          ]
        }
      ]
    },
    {
      "cell_type": "code",
      "source": [
        "import re\n",
        "def text_match(text):\n",
        "        patterns = 'ab{3}?'\n",
        "        if re.search(patterns,  text):\n",
        "                return 'Found a match!'\n",
        "        else:\n",
        "                return('Not matched!')\n",
        "\n",
        "print(text_match(\"abbb\"))\n",
        "print(text_match(\"aabbbbbc\"))"
      ],
      "metadata": {
        "colab": {
          "base_uri": "https://localhost:8080/"
        },
        "id": "foXhABCqv9Qd",
        "outputId": "dd3c31b5-d73e-4f56-a31e-71b3ad116d5d"
      },
      "execution_count": null,
      "outputs": [
        {
          "output_type": "stream",
          "name": "stdout",
          "text": [
            "Found a match!\n",
            "Found a match!\n"
          ]
        }
      ]
    },
    {
      "cell_type": "code",
      "source": [
        "import re\n",
        "def text_match(text):\n",
        "        patterns = '^[a-z]+_[a-z]+$'\n",
        "        if re.search(patterns,  text):\n",
        "                return 'Found a match!'\n",
        "        else:\n",
        "                return('Not matched!')\n",
        "\n",
        "print(text_match(\"aab_cbbbc\"))\n",
        "print(text_match(\"aab_Abbbc\"))\n",
        "print(text_match(\"Aaab_abbbc\"))"
      ],
      "metadata": {
        "colab": {
          "base_uri": "https://localhost:8080/"
        },
        "id": "vZpwduGkydgc",
        "outputId": "f61aa5c7-9f5b-4299-ce05-8352fb927281"
      },
      "execution_count": null,
      "outputs": [
        {
          "output_type": "stream",
          "name": "stdout",
          "text": [
            "Found a match!\n",
            "Not matched!\n",
            "Not matched!\n"
          ]
        }
      ]
    },
    {
      "cell_type": "code",
      "source": [
        "import re\n",
        "def text_match(text):\n",
        "        patterns = '^[a-z]+_[a-z]+$'\n",
        "        if re.search(patterns,  text,re.I):\n",
        "                return 'Found a match!'\n",
        "        else:\n",
        "                return('Not matched!')\n",
        "\n",
        "print(text_match(\"aab_cbbbc\"))\n",
        "print(text_match(\"aab_Abbbc\"))\n",
        "print(text_match(\"Aaab_abbbc\"))"
      ],
      "metadata": {
        "colab": {
          "base_uri": "https://localhost:8080/"
        },
        "id": "kkKDSh4sFJtv",
        "outputId": "4402bfb0-493a-4a91-f09b-5bbc04ef361e"
      },
      "execution_count": null,
      "outputs": [
        {
          "output_type": "stream",
          "name": "stdout",
          "text": [
            "Found a match!\n",
            "Found a match!\n",
            "Found a match!\n"
          ]
        }
      ]
    },
    {
      "cell_type": "code",
      "source": [
        "import re\n",
        "def text_match(text):\n",
        "        patterns = '[A-Z]+[a-z]+$'\n",
        "        if re.search(patterns, text):\n",
        "                return 'Found a match!'\n",
        "        else:\n",
        "                return('Not matched!')\n",
        "print(text_match(\"AaBbGg\"))\n",
        "print(text_match(\"Python\"))\n",
        "print(text_match(\"Python\"))\n",
        "print(text_match(\"PYTHON\"))\n",
        "print(text_match(\"aA\"))\n",
        "print(text_match(\"Aa\"))"
      ],
      "metadata": {
        "colab": {
          "base_uri": "https://localhost:8080/"
        },
        "id": "2pQpqMVtFbl5",
        "outputId": "6dcf358e-705b-4bc1-cfad-c399079585f2"
      },
      "execution_count": null,
      "outputs": [
        {
          "output_type": "stream",
          "name": "stdout",
          "text": [
            "Found a match!\n",
            "Found a match!\n",
            "Found a match!\n",
            "Not matched!\n",
            "Not matched!\n",
            "Found a match!\n"
          ]
        }
      ]
    },
    {
      "cell_type": "code",
      "source": [
        "import re\n",
        "def text_match(text):\n",
        "        patterns = 'a.*?b$'\n",
        "        if re.search(patterns,  text):\n",
        "                return 'Found a match!'\n",
        "        else:\n",
        "                return('Not matched!')\n",
        "\n",
        "print(text_match(\"aabbbbd\"))\n",
        "print(text_match(\"aabAbbbc\"))\n",
        "print(text_match(\"accddbbjjjb\"))"
      ],
      "metadata": {
        "colab": {
          "base_uri": "https://localhost:8080/"
        },
        "id": "900JvoLoICBS",
        "outputId": "ea3c4ec9-bbae-4f72-814f-c338d16cd164"
      },
      "execution_count": null,
      "outputs": [
        {
          "output_type": "stream",
          "name": "stdout",
          "text": [
            "Not matched!\n",
            "Not matched!\n",
            "Not matched!\n"
          ]
        }
      ]
    },
    {
      "cell_type": "code",
      "source": [
        "import re\n",
        "def text_match(text):\n",
        "        patterns = '^\\w+'\n",
        "        if re.search(patterns,  text):\n",
        "                return 'Found a match!'\n",
        "        else:\n",
        "                return('Not matched!')\n",
        "\n",
        "print(text_match(\"The quick brown fox jumps over the lazy dog.\"))\n",
        "print(text_match(\" The quick brown fox jumps over the lazy dog.\"))"
      ],
      "metadata": {
        "id": "dd3-cncBLW8i",
        "colab": {
          "base_uri": "https://localhost:8080/"
        },
        "outputId": "313a2c45-5f58-4a94-ddea-f81eb75d9fc1"
      },
      "execution_count": null,
      "outputs": [
        {
          "output_type": "stream",
          "name": "stdout",
          "text": [
            "Found a match!\n",
            "Not matched!\n"
          ]
        }
      ]
    },
    {
      "cell_type": "code",
      "source": [
        "import re\n",
        "def text_match(text):\n",
        "        patterns = '\\w+\\S*$'\n",
        "        if re.search(patterns,  text):\n",
        "                return 'Found a match!'\n",
        "        else:\n",
        "                return('Not matched!')\n",
        "\n",
        "print(text_match(\"The quick brown fox jumps over the lazy dog.\"))\n",
        "print(text_match(\"The quick brown fox jumps over the lazy dog. \"))\n",
        "print(text_match(\"The quick brown fox jumps over the lazy dog \"))"
      ],
      "metadata": {
        "colab": {
          "base_uri": "https://localhost:8080/"
        },
        "id": "9Wiqv6y6_KZE",
        "outputId": "c92bf0ba-d74e-4321-be15-feafd871d241"
      },
      "execution_count": null,
      "outputs": [
        {
          "output_type": "stream",
          "name": "stdout",
          "text": [
            "Found a match!\n",
            "Not matched!\n",
            "Not matched!\n"
          ]
        }
      ]
    },
    {
      "cell_type": "code",
      "source": [
        "import re\n",
        "def text_match(text):\n",
        "        patterns = '\\w*z.\\w*'\n",
        "        if re.search(patterns,  text):\n",
        "                return 'Found a match!'\n",
        "        else:\n",
        "                return('Not matched!')\n",
        "\n",
        "print(text_match(\"The quick brown fox jumps over the lazy dog.\"))\n",
        "print(text_match(\"Python Exercises.\"))"
      ],
      "metadata": {
        "colab": {
          "base_uri": "https://localhost:8080/"
        },
        "id": "p1o4ojaU-QUU",
        "outputId": "122946a4-c725-4c09-dd39-5ab37d8e5d8e"
      },
      "execution_count": null,
      "outputs": [
        {
          "output_type": "stream",
          "name": "stdout",
          "text": [
            "Found a match!\n",
            "Not matched!\n"
          ]
        }
      ]
    },
    {
      "cell_type": "code",
      "source": [
        "import re\n",
        "def text_match(text):\n",
        "        patterns = '\\Bz\\B'\n",
        "        if re.search(patterns,  text):\n",
        "                return 'Found a match!'\n",
        "        else:\n",
        "                return('Not matched!')\n",
        "\n",
        "print(text_match(\"The quick brown fox jumps over the lazy dog.\"))\n",
        "print(text_match(\"Python Exercises.\"))"
      ],
      "metadata": {
        "colab": {
          "base_uri": "https://localhost:8080/"
        },
        "id": "kuj6VOq8D5tV",
        "outputId": "3fd09dd0-576a-420a-9449-6aa418f248b6"
      },
      "execution_count": null,
      "outputs": [
        {
          "output_type": "stream",
          "name": "stdout",
          "text": [
            "Found a match!\n",
            "Not matched!\n"
          ]
        }
      ]
    },
    {
      "cell_type": "code",
      "source": [
        "import re\n",
        "def text_match(text):\n",
        "        patterns = '^[a-zA-Z0-9_]*$'\n",
        "        if re.search(patterns,  text):\n",
        "                return 'Found a match!'\n",
        "        else:\n",
        "                return('Not matched!')\n",
        "\n",
        "print(text_match(\"The quick brown fox jumps over the lazy dog.\"))\n",
        "print(text_match(\"Python_Exercises_1\"))"
      ],
      "metadata": {
        "colab": {
          "base_uri": "https://localhost:8080/"
        },
        "id": "wSRXoSWjHI6s",
        "outputId": "865bf670-28d4-49f4-ca5a-622777ce2edb"
      },
      "execution_count": null,
      "outputs": [
        {
          "output_type": "stream",
          "name": "stdout",
          "text": [
            "Not matched!\n",
            "Found a match!\n"
          ]
        }
      ]
    },
    {
      "cell_type": "code",
      "source": [
        "import re\n",
        "def match_num(string):\n",
        "    text = re.compile(r\"^5\")\n",
        "    if text.match(string):\n",
        "        return True\n",
        "    else:\n",
        "        return False\n",
        "print(match_num('5-2345861'))\n",
        "print(match_num('6-2345861'))"
      ],
      "metadata": {
        "colab": {
          "base_uri": "https://localhost:8080/"
        },
        "id": "imbExO1jHg6V",
        "outputId": "b14c7365-a265-4d82-8ae4-b52da3754f8c"
      },
      "execution_count": null,
      "outputs": [
        {
          "output_type": "stream",
          "name": "stdout",
          "text": [
            "True\n",
            "False\n"
          ]
        }
      ]
    },
    {
      "cell_type": "code",
      "source": [
        "import re\n",
        "ip = \"216.08.094.196\"\n",
        "string = re.sub('\\.[0]*', '.', ip)\n",
        "print(string)"
      ],
      "metadata": {
        "colab": {
          "base_uri": "https://localhost:8080/"
        },
        "id": "NJqgfnnIIyDU",
        "outputId": "d7b021f1-d2a9-4bcf-d112-8021b18152e2"
      },
      "execution_count": null,
      "outputs": [
        {
          "output_type": "stream",
          "name": "stdout",
          "text": [
            "216.8.94.196\n"
          ]
        }
      ]
    },
    {
      "cell_type": "code",
      "source": [
        "import re\n",
        "def end_num(string):\n",
        "    text = re.compile(r\".*[0-9]$\")\n",
        "    if text.match(string):\n",
        "        return True\n",
        "    else:\n",
        "        return False\n",
        "\n",
        "print(end_num('abcdef'))\n",
        "print(end_num('abcdef6'))"
      ],
      "metadata": {
        "colab": {
          "base_uri": "https://localhost:8080/"
        },
        "id": "8fxsgNlXK5KX",
        "outputId": "c87a63ec-0411-4e8a-94bb-80b89e21cde9"
      },
      "execution_count": null,
      "outputs": [
        {
          "output_type": "stream",
          "name": "stdout",
          "text": [
            "False\n",
            "True\n"
          ]
        }
      ]
    },
    {
      "cell_type": "code",
      "source": [
        "import re\n",
        "results = re.finditer(r\"([0-9]{1,3})\", \"Exercises number 1, 12, 13, and 345 are important\")\n",
        "print(\"Number of length 1 to 3\")\n",
        "for n in results:\n",
        "     print(n.group(0))\n",
        "\t "
      ],
      "metadata": {
        "colab": {
          "base_uri": "https://localhost:8080/"
        },
        "id": "cxcPwREQPqBW",
        "outputId": "b40f1c07-3b80-41da-f572-24dd96c083a5"
      },
      "execution_count": null,
      "outputs": [
        {
          "output_type": "stream",
          "name": "stdout",
          "text": [
            "Number of length 1 to 3\n",
            "1\n",
            "12\n",
            "13\n",
            "345\n"
          ]
        }
      ]
    },
    {
      "cell_type": "code",
      "source": [
        "import re\n",
        "patterns = [ 'fox', 'dog', 'horse' ]\n",
        "text = 'The quick brown fox jumps over the lazy dog.'\n",
        "for pattern in patterns:\n",
        "    print('Searching for \"%s\" in \"%s\" ->' % (pattern, text),)\n",
        "    if re.search(pattern,  text):\n",
        "        print('Matched!')\n",
        "    else:\n",
        "        print('Not Matched!')"
      ],
      "metadata": {
        "colab": {
          "base_uri": "https://localhost:8080/"
        },
        "id": "p1WCrOIOWCOk",
        "outputId": "22d0b914-a042-4f2d-c650-45dc61baea76"
      },
      "execution_count": null,
      "outputs": [
        {
          "output_type": "stream",
          "name": "stdout",
          "text": [
            "Searching for \"fox\" in \"The quick brown fox jumps over the lazy dog.\" ->\n",
            "Matched!\n",
            "Searching for \"dog\" in \"The quick brown fox jumps over the lazy dog.\" ->\n",
            "Matched!\n",
            "Searching for \"horse\" in \"The quick brown fox jumps over the lazy dog.\" ->\n",
            "Not Matched!\n"
          ]
        }
      ]
    },
    {
      "cell_type": "code",
      "source": [
        "import re\n",
        "pattern = 'fox'\n",
        "text = 'The quick brown fox jumps over the lazy dog.'\n",
        "match = re.search(pattern, text)\n",
        "s = match.start()\n",
        "e = match.end()\n",
        "print('Found \"%s\" in \"%s\" from %d to %d ' % \\\n",
        "    (match.re.pattern, match.string, s, e))"
      ],
      "metadata": {
        "colab": {
          "base_uri": "https://localhost:8080/"
        },
        "id": "ft6qEDSRaOT0",
        "outputId": "62e999c9-aeea-4544-9ddd-21ed8e4de3da"
      },
      "execution_count": null,
      "outputs": [
        {
          "output_type": "stream",
          "name": "stdout",
          "text": [
            "Found \"fox\" in \"The quick brown fox jumps over the lazy dog.\" from 16 to 19 \n"
          ]
        }
      ]
    },
    {
      "cell_type": "code",
      "source": [
        "import re\n",
        "text = 'Python exercises, PHP exercises, C# exercises'\n",
        "pattern = 'exercises'\n",
        "for match in re.findall(pattern, text):\n",
        "    print('Found \"%s\"' % match)"
      ],
      "metadata": {
        "colab": {
          "base_uri": "https://localhost:8080/"
        },
        "id": "bw5_E2tbkRoW",
        "outputId": "1696be00-4232-42bd-ae44-e554786e879e"
      },
      "execution_count": null,
      "outputs": [
        {
          "output_type": "stream",
          "name": "stdout",
          "text": [
            "Found \"exercises\"\n",
            "Found \"exercises\"\n",
            "Found \"exercises\"\n"
          ]
        }
      ]
    },
    {
      "cell_type": "code",
      "source": [
        "import re\n",
        "text = 'Python exercises, PHP exercises, C# exercises'\n",
        "pattern = 'exercises'\n",
        "for match in re.finditer(pattern, text):\n",
        "    s = match.start()\n",
        "    e = match.end()\n",
        "    print('Found \"%s\" at %d:%d' % (text[s:e], s, e))"
      ],
      "metadata": {
        "colab": {
          "base_uri": "https://localhost:8080/"
        },
        "id": "Cz9f1GgSnSq4",
        "outputId": "9f26c99c-9e8c-4dad-8906-e04f5b088fae"
      },
      "execution_count": null,
      "outputs": [
        {
          "output_type": "stream",
          "name": "stdout",
          "text": [
            "Found \"exercises\" at 7:16\n",
            "Found \"exercises\" at 22:31\n",
            "Found \"exercises\" at 36:45\n"
          ]
        }
      ]
    },
    {
      "cell_type": "code",
      "source": [
        "import re\n",
        "text = 'Python Exercises'\n",
        "text =text.replace (\" \", \"_\")\n",
        "print(text)\n",
        "text =text.replace (\"_\", \" \")\n",
        "print(text)"
      ],
      "metadata": {
        "colab": {
          "base_uri": "https://localhost:8080/"
        },
        "id": "cU5_GXDJo_QN",
        "outputId": "be1701f7-7009-4f42-c788-7bff0d281192"
      },
      "execution_count": null,
      "outputs": [
        {
          "output_type": "stream",
          "name": "stdout",
          "text": [
            "Python_Exercises\n",
            "Python Exercises\n"
          ]
        }
      ]
    },
    {
      "cell_type": "code",
      "source": [
        "import re\n",
        "def extract_date(url):\n",
        "        return re.findall(r'/(\\d{4})/(\\d{1,2})/(\\d{1,2})/', url)\n",
        "url1= \"https://www.washingtonpost.com/news/football-insider/wp/2016/09/02/odell-beckhams-fame-rests-on-one-stupid-little-ball-josh-norman-tells-author/\"\n",
        "print(extract_date(url1))"
      ],
      "metadata": {
        "colab": {
          "base_uri": "https://localhost:8080/"
        },
        "id": "98PfFrCQqZnI",
        "outputId": "d7ccd20b-585f-4ce3-8dd8-93dbaf7833d0"
      },
      "execution_count": null,
      "outputs": [
        {
          "output_type": "stream",
          "name": "stdout",
          "text": [
            "[('2016', '09', '02')]\n"
          ]
        }
      ]
    },
    {
      "cell_type": "code",
      "source": [
        "import re\n",
        "def change_date_format(dt):\n",
        "        return re.sub(r'(\\d{4})-(\\d{1,2})-(\\d{1,2})', '\\\\3-\\\\2-\\\\1', dt)\n",
        "dt1 = \"2026-01-02\"\n",
        "print(\"Original date in YYY-MM-DD Format: \",dt1)\n",
        "print(\"New date in DD-MM-YYYY Format: \",change_date_format(dt1))"
      ],
      "metadata": {
        "colab": {
          "base_uri": "https://localhost:8080/"
        },
        "id": "9dOshzazsJUr",
        "outputId": "7c0adcd5-60bd-453a-9f7d-93d003aaa2ed"
      },
      "execution_count": null,
      "outputs": [
        {
          "output_type": "stream",
          "name": "stdout",
          "text": [
            "Original date in YYY-MM-DD Format:  2026-01-02\n",
            "New date in DD-MM-YYYY Format:  02-01-2026\n"
          ]
        }
      ]
    },
    {
      "cell_type": "code",
      "source": [
        "import re\n",
        "\n",
        "\n",
        "words = [\"Python PHP\", \"Java JavaScript\", \"c c++\"]\n",
        "\n",
        "for w in words:\n",
        "        m = re.match(\"(P\\w+)\\W(P\\w+)\", w)\n",
        "        if m:\n",
        "            print(m.groups())"
      ],
      "metadata": {
        "colab": {
          "base_uri": "https://localhost:8080/"
        },
        "id": "nMRpuY5zsrAb",
        "outputId": "c781924f-0fb3-47f1-9419-b3194ace60db"
      },
      "execution_count": null,
      "outputs": [
        {
          "output_type": "stream",
          "name": "stdout",
          "text": [
            "('Python', 'PHP')\n"
          ]
        }
      ]
    },
    {
      "cell_type": "code",
      "source": [
        "import re\n",
        "# Sample string.\n",
        "text = \"Ten 10, Twenty 20, Thirty 30\"\n",
        "result = re.split(\"\\D+\", text)\n",
        "# Print results.\n",
        "for element in result:\n",
        "    print(element)"
      ],
      "metadata": {
        "colab": {
          "base_uri": "https://localhost:8080/"
        },
        "id": "fhvaXWVDtJw8",
        "outputId": "85b5fe81-2663-4644-9095-cd65892a6238"
      },
      "execution_count": null,
      "outputs": [
        {
          "output_type": "stream",
          "name": "stdout",
          "text": [
            "\n",
            "10\n",
            "20\n",
            "30\n"
          ]
        }
      ]
    },
    {
      "cell_type": "code",
      "source": [
        "import re\n",
        "# Input.\n",
        "text = \"The following example creates an ArrayList with a capacity of 50 elements. Four elements are then added to the ArrayList and the ArrayList is trimmed accordingly.\"\n",
        "#find all the words starting with 'a' or 'e'\n",
        "list = re.findall(\"[ae]\\w+\", text)\n",
        "# Print result.\n",
        "print(list)"
      ],
      "metadata": {
        "colab": {
          "base_uri": "https://localhost:8080/"
        },
        "id": "gDweua_c1mn9",
        "outputId": "2e994713-5b31-49ec-8f83-dbde0c31820d"
      },
      "execution_count": null,
      "outputs": [
        {
          "output_type": "stream",
          "name": "stdout",
          "text": [
            "['example', 'eates', 'an', 'ayList', 'apacity', 'elements', 'elements', 'are', 'en', 'added', 'ayList', 'and', 'ayList', 'ed', 'accordingly']\n"
          ]
        }
      ]
    },
    {
      "cell_type": "code",
      "source": [
        "import re\n",
        "# Input.\n",
        "text = \"The following example creates an ArrayList with a capacity of 50 elements. Four elements are then added to the ArrayList and the ArrayList is trimmed accordingly.\"\n",
        "\n",
        "for m in re.finditer(\"\\d+\", text):\n",
        "    print(m.group(0))\n",
        "    print(\"Index position:\", m.start())"
      ],
      "metadata": {
        "colab": {
          "base_uri": "https://localhost:8080/"
        },
        "id": "-bMVuif82Ugr",
        "outputId": "53af8bd4-a7f9-40b6-d4eb-3030b77832ae"
      },
      "execution_count": null,
      "outputs": [
        {
          "output_type": "stream",
          "name": "stdout",
          "text": [
            "50\n",
            "Index position: 62\n"
          ]
        }
      ]
    },
    {
      "cell_type": "code",
      "source": [
        "import re\n",
        "street = '21 Ramkrishna Road'\n",
        "print(re.sub('Road$', 'Rd.', street))"
      ],
      "metadata": {
        "colab": {
          "base_uri": "https://localhost:8080/"
        },
        "id": "xMxrIoiR4aQH",
        "outputId": "30e9d2e1-5d2d-4a2c-f39c-a2094b32a33d"
      },
      "execution_count": null,
      "outputs": [
        {
          "output_type": "stream",
          "name": "stdout",
          "text": [
            "21 Ramkrishna Rd.\n"
          ]
        }
      ]
    },
    {
      "cell_type": "code",
      "source": [
        "import re\n",
        "text = 'Python Exercises, PHP exercises.'\n",
        "print(re.sub(\"[ ,.]\", \":\", text))"
      ],
      "metadata": {
        "colab": {
          "base_uri": "https://localhost:8080/"
        },
        "id": "GHyU-pi-4ygM",
        "outputId": "07a5fb1c-434d-47cc-a6f3-5143f044cc08"
      },
      "execution_count": null,
      "outputs": [
        {
          "output_type": "stream",
          "name": "stdout",
          "text": [
            "Python:Exercises::PHP:exercises:\n"
          ]
        }
      ]
    },
    {
      "cell_type": "code",
      "source": [
        "\n",
        "import re\n",
        "text = 'Python Exercises, PHP exercises.'\n",
        "print(re.sub(\"[ ,.]\", \":\", text, 2))"
      ],
      "metadata": {
        "colab": {
          "base_uri": "https://localhost:8080/"
        },
        "id": "4RHNRkS35Ib_",
        "outputId": "b2545ed8-4d2e-4be6-b877-e4bd9678e1d9"
      },
      "execution_count": null,
      "outputs": [
        {
          "output_type": "stream",
          "name": "stdout",
          "text": [
            "Python:Exercises: PHP exercises.\n"
          ]
        }
      ]
    },
    {
      "cell_type": "code",
      "source": [
        "import re\n",
        "text = 'The quick brown fox jumps over the lazy dog.'\n",
        "print(re.findall(r\"\\b\\w{5}\\b\", text))"
      ],
      "metadata": {
        "colab": {
          "base_uri": "https://localhost:8080/"
        },
        "id": "bhMQaAQR5vtM",
        "outputId": "a06c6682-f59d-4248-904d-3a1277a3ac00"
      },
      "execution_count": null,
      "outputs": [
        {
          "output_type": "stream",
          "name": "stdout",
          "text": [
            "['quick', 'brown', 'jumps']\n"
          ]
        }
      ]
    },
    {
      "cell_type": "code",
      "source": [
        "import re\n",
        "text = 'The quick brown fox jumps over the lazy dog.'\n",
        "print(re.findall(r\"\\b\\w{3,5}\\b\", text))"
      ],
      "metadata": {
        "colab": {
          "base_uri": "https://localhost:8080/"
        },
        "id": "DhS8GhsL7RxC",
        "outputId": "45c31b2e-dd7e-4cb7-c42d-b38f955c36b8"
      },
      "execution_count": null,
      "outputs": [
        {
          "output_type": "stream",
          "name": "stdout",
          "text": [
            "['The', 'quick', 'brown', 'fox', 'jumps', 'over', 'the', 'lazy', 'dog']\n"
          ]
        }
      ]
    },
    {
      "cell_type": "code",
      "source": [
        "import re\n",
        "text = 'The quick brown fox jumps over the lazy dog.'\n",
        "print(re.findall(r\"\\b\\w{4,}\\b\", text))"
      ],
      "metadata": {
        "id": "Jzwwyvpm7mc4",
        "outputId": "b7bc4e07-06bb-4fa0-ba32-1a2b484e291a",
        "colab": {
          "base_uri": "https://localhost:8080/"
        }
      },
      "execution_count": 3,
      "outputs": [
        {
          "output_type": "stream",
          "name": "stdout",
          "text": [
            "['quick', 'brown', 'jumps', 'over', 'lazy']\n"
          ]
        }
      ]
    },
    {
      "cell_type": "code",
      "source": [
        "def camel_to_snake(text):\n",
        "        import re\n",
        "        str1 = re.sub('(.)([A-Z][a-z]+)', r'\\1_\\2', text)\n",
        "        return re.sub('([a-z0-9])([A-Z])', r'\\1_\\2', str1).lower()\n",
        "\n",
        "print(camel_to_snake('PythonExercises'))"
      ],
      "metadata": {
        "id": "Mt3ieqsu7uO6",
        "outputId": "113582c8-238e-4b0f-e0ae-2eb54d2ce3e3",
        "colab": {
          "base_uri": "https://localhost:8080/"
        }
      },
      "execution_count": 1,
      "outputs": [
        {
          "output_type": "stream",
          "name": "stdout",
          "text": [
            "python_exercises\n"
          ]
        }
      ]
    },
    {
      "cell_type": "code",
      "source": [
        "def snake_to_camel(word):\n",
        "        import re\n",
        "        return ''.join(x.capitalize() or '_' for x in word.split('_'))\n",
        "\n",
        "print(snake_to_camel('python_exercises'))"
      ],
      "metadata": {
        "id": "WgireJ-4zSVv",
        "outputId": "4a047032-c826-4f79-cb1b-da1c4497e70e",
        "colab": {
          "base_uri": "https://localhost:8080/"
        }
      },
      "execution_count": 4,
      "outputs": [
        {
          "output_type": "stream",
          "name": "stdout",
          "text": [
            "PythonExercises\n"
          ]
        }
      ]
    },
    {
      "cell_type": "code",
      "source": [
        "def camel_to_snake(text):\n",
        "        import re\n",
        "        str1 = re.sub('(.)([A-Z][a-z]+)', r'\\1_\\2', text)\n",
        "        return re.sub('([a-z0-9])([A-Z])', r'\\1_\\2', str1).lower()\n",
        "\n",
        "print(camel_to_snake('PythonExercises'))"
      ],
      "metadata": {
        "id": "diMcYfZi1OTT",
        "outputId": "d863c9d3-55e0-4942-f913-0123c5119a35",
        "colab": {
          "base_uri": "https://localhost:8080/"
        }
      },
      "execution_count": 6,
      "outputs": [
        {
          "output_type": "stream",
          "name": "stdout",
          "text": [
            "python_exercises\n"
          ]
        }
      ]
    },
    {
      "cell_type": "code",
      "source": [
        "def snake_to_camel(word):\n",
        "        import re\n",
        "        return ''.join(x.capitalize() or '_' for x in word.split('_'))\n",
        "\n",
        "print(snake_to_camel('python_exercises'))"
      ],
      "metadata": {
        "id": "aic1z59J2nNw",
        "outputId": "588452b9-e4c8-46ea-8ee4-41b39b9df0d5",
        "colab": {
          "base_uri": "https://localhost:8080/"
        }
      },
      "execution_count": 7,
      "outputs": [
        {
          "output_type": "stream",
          "name": "stdout",
          "text": [
            "PythonExercises\n"
          ]
        }
      ]
    },
    {
      "cell_type": "code",
      "source": [
        "import re\n",
        "text1 = '\"Python\", \"PHP\", \"Java\"'\n",
        "print(re.findall(r'\"(.*?)\"', text1))"
      ],
      "metadata": {
        "id": "7UC0JsWf3jxA",
        "outputId": "bd925dbc-76ed-4773-ecb6-dd5dc27de676",
        "colab": {
          "base_uri": "https://localhost:8080/"
        }
      },
      "execution_count": 8,
      "outputs": [
        {
          "output_type": "stream",
          "name": "stdout",
          "text": [
            "['Python', 'PHP', 'Java']\n"
          ]
        }
      ]
    },
    {
      "cell_type": "code",
      "source": [
        "import re\n",
        "text1 = '\"Python\", \"PHP\", \"Java\"'\n",
        "print(re.findall(r'\"(.*?)\"', text1))"
      ],
      "metadata": {
        "id": "l_ZEnwI33-lZ",
        "outputId": "c4d14ee6-272a-4929-b31a-305c7f5a2c0f",
        "colab": {
          "base_uri": "https://localhost:8080/"
        }
      },
      "execution_count": 9,
      "outputs": [
        {
          "output_type": "stream",
          "name": "stdout",
          "text": [
            "['Python', 'PHP', 'Java']\n"
          ]
        }
      ]
    },
    {
      "cell_type": "code",
      "source": [
        "import re\n",
        "text1 = ' Python    Exercises '\n",
        "print(\"Original string:\",text1)\n",
        "print(\"Without extra spaces:\",re.sub(r'\\s+', '',text1))"
      ],
      "metadata": {
        "id": "S_3v2H8X4g1a",
        "outputId": "32a2c974-642e-4faf-dce8-c3c7ef92abfd",
        "colab": {
          "base_uri": "https://localhost:8080/"
        }
      },
      "execution_count": 10,
      "outputs": [
        {
          "output_type": "stream",
          "name": "stdout",
          "text": [
            "Original string:  Python    Exercises \n",
            "Without extra spaces: PythonExercises\n"
          ]
        }
      ]
    },
    {
      "cell_type": "code",
      "source": [
        "import re\n",
        "text1 = '**//Python Exercises// - 12. '\n",
        "pattern = re.compile('[\\W_]+')\n",
        "print(pattern.sub('', text1))"
      ],
      "metadata": {
        "id": "R6uiZ7HL4jy7",
        "outputId": "d4c471af-78f1-4212-bb23-fd0471685e92",
        "colab": {
          "base_uri": "https://localhost:8080/"
        }
      },
      "execution_count": 11,
      "outputs": [
        {
          "output_type": "stream",
          "name": "stdout",
          "text": [
            "PythonExercises12\n"
          ]
        }
      ]
    },
    {
      "cell_type": "code",
      "source": [
        "import re\n",
        "text = '<p>Contents :</p><a href=\"https://w3resource.com\">Python Examples</a><a href=\"http://github.com\">Even More Examples</a>'\n",
        "urls = re.findall('http[s]?://(?:[a-zA-Z]|[0-9]|[$-_@.&+]|[!*\\(\\),]|(?:%[0-9a-fA-F][0-9a-fA-F]))+', text)\n",
        "print(\"Original string: \",text)\n",
        "print(\"Urls: \",urls)"
      ],
      "metadata": {
        "id": "L7V7wutk4pIE",
        "outputId": "b5701794-c3d3-49bc-ac55-74d472d36ecc",
        "colab": {
          "base_uri": "https://localhost:8080/"
        }
      },
      "execution_count": 12,
      "outputs": [
        {
          "output_type": "stream",
          "name": "stdout",
          "text": [
            "Original string:  <p>Contents :</p><a href=\"https://w3resource.com\">Python Examples</a><a href=\"http://github.com\">Even More Examples</a>\n",
            "Urls:  ['https://w3resource.com', 'http://github.com']\n"
          ]
        }
      ]
    },
    {
      "cell_type": "code",
      "source": [
        "import re\n",
        "text = \"PythonTutorialAndExercises\"\n",
        "print(re.findall('[A-Z][^A-Z]*', text))"
      ],
      "metadata": {
        "id": "djKHJpBQ5JXa",
        "outputId": "c1389fd3-5091-4a3e-cf9c-d1be471857b9",
        "colab": {
          "base_uri": "https://localhost:8080/"
        }
      },
      "execution_count": 14,
      "outputs": [
        {
          "output_type": "stream",
          "name": "stdout",
          "text": [
            "['Python', 'Tutorial', 'And', 'Exercises']\n"
          ]
        }
      ]
    },
    {
      "cell_type": "code",
      "source": [],
      "metadata": {
        "id": "c7ZvxO6C6g0-"
      },
      "execution_count": null,
      "outputs": []
    }
  ]
}