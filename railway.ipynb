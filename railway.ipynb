{
  "nbformat": 4,
  "nbformat_minor": 0,
  "metadata": {
    "colab": {
      "provenance": [],
      "authorship_tag": "ABX9TyNwFOQTqam35g3b07mVkuLB",
      "include_colab_link": true
    },
    "kernelspec": {
      "name": "python3",
      "display_name": "Python 3"
    },
    "language_info": {
      "name": "python"
    }
  },
  "cells": [
    {
      "cell_type": "markdown",
      "metadata": {
        "id": "view-in-github",
        "colab_type": "text"
      },
      "source": [
        "<a href=\"https://colab.research.google.com/github/vignesh200010/highIQpython/blob/main/railway.ipynb\" target=\"_parent\"><img src=\"https://colab.research.google.com/assets/colab-badge.svg\" alt=\"Open In Colab\"/></a>"
      ]
    },
    {
      "cell_type": "code",
      "execution_count": null,
      "metadata": {
        "id": "DlRX2alj3Ebj"
      },
      "outputs": [],
      "source": [
        "\n",
        "class Reservation:\n",
        "   def __init__(self,passenger_id,passenger_fname,passenger_lname):\n",
        "      self.passenger_id = passenger_id\n",
        "      self.passenger_fname = passenger_fname\n",
        "      self.passenger_lname = passenger_lname\n",
        "      self.cost = 0\n",
        "      self.reservation_id = []\n",
        "      self.passenger_record = {'p_name'  : self.passenger_fname + self.passenger_lname,\n",
        "                             'p_id'    : self.passenger_id,\n",
        "                             'p_wallet': self.cost,\n",
        "                             'p_reservation_id': self.reservation_id,\n",
        "                            }\n",
        "      self.train_seats = { 'Business Class' : 50,\n",
        "                           'First Class'    : 50,\n",
        "                           'Premium Economy': 100,\n",
        "                           'Regular Economy': 150 }\n",
        "      self.train_price = { 'Business Class' : 2500,\n",
        "                           'First Class'    : 2000,\n",
        "                           'Premium Economy': 1800,\n",
        "                           'Regular Economy': 1500 }\n",
        "  def currentStatus(self,option):\n",
        "       if option == \"train\":\n",
        "           for key, value in self.train_seats.items():\n",
        "              print (key, value)\n",
        "\n",
        "  class user(Reservation):\n",
        "    def __init__(self,passenger_id,passenger_fname,passenger_lname,train_seat_section,train_departure_date):\n",
        "      Reservation.__init__(self,passenger_id,passenger_fname,passenger_lname)\n",
        "      self.train_seat_section = train_seat_section\n",
        "      self.train_departure_date = train_departure_date   \n",
        "    def CheckAvailability(self):\n",
        "      if  (self.train_seats.get(self.train_seat_section) != 0):\n",
        "        self.train_seats[self.train_seat_section] -= 1\n",
        "        self.passenger_record['p_wallet'] +=        self.airline_price[self.train_seat_section]\n",
        "        print \"\\n\\nReserved train Ticket\\n\\n\"\n",
        "           \n"
      ]
    },
    {
      "cell_type": "code",
      "source": [
        "class user:\n",
        "   def __init__(self,passenger_id,passenger_fname,passenger_lname,cancel):\n",
        "      self.passenger_id = passenger_id\n",
        "      self.passenger_fname = passenger_fname\n",
        "      self.passenger_lname = passenger_lname\n",
        "      self.passenger_cancel = cancel\n",
        "      self.cost = 0\n",
        "      self.reservation_id = []\n",
        "      self.passenger_record = {'p_name'  : self.passenger_fname + self.passenger_lname,\n",
        "                             'p_id'    : self.passenger_id,\n",
        "                             'p_wallet': self.cost,\n",
        "                             'p_reservation_id': self.reservation_id,\n",
        "                            }\n",
        "      self.train_seats = { 'Business Class' : 50,\n",
        "                           'First Class'    : 50,\n",
        "                           'Premium Economy': 100,\n",
        "                           'Regular Economy': 150 }\n",
        "      self.train_price = { 'Business Class' : 2500,\n",
        "                           'First Class'    : 2000,\n",
        "                           'Premium Economy': 1800,\n",
        "                           'Regular Economy': 1500 }\n",
        "      def cancel():\n",
        "        self.passenger_cancel"
      ],
      "metadata": {
        "id": "XjV5LIbl8Azk"
      },
      "execution_count": null,
      "outputs": []
    },
    {
      "cell_type": "code",
      "source": [
        "class tomato:\n",
        "    def color(self):\n",
        "        print('red')\n",
        "    def type(self):\n",
        "        print('vegetables')\n",
        "class apple:\n",
        "    def color(self):\n",
        "        print('red')\n",
        "    def type(self):\n",
        "        print('fruits')\n",
        "def fun(obj):\n",
        "    obj.type()\n",
        "    obj.color()\n",
        "c=tomato()\n",
        "d=apple()\n",
        "fun(c)\n",
        "fun(d)"
      ],
      "metadata": {
        "colab": {
          "base_uri": "https://localhost:8080/"
        },
        "id": "BEg1zkTE9JDV",
        "outputId": "97741079-739b-4ddd-e2a0-34554324f825"
      },
      "execution_count": 1,
      "outputs": [
        {
          "output_type": "stream",
          "name": "stdout",
          "text": [
            "vegetables\n",
            "red\n",
            "fruits\n",
            "red\n"
          ]
        }
      ]
    },
    {
      "cell_type": "code",
      "source": [],
      "metadata": {
        "id": "GCrvuuK_9Jyv"
      },
      "execution_count": null,
      "outputs": []
    }
  ]
}