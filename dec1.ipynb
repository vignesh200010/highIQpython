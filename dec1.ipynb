{
  "nbformat": 4,
  "nbformat_minor": 0,
  "metadata": {
    "colab": {
      "provenance": [],
      "authorship_tag": "ABX9TyPrZtrtWJeeU4RddeWYLbV0",
      "include_colab_link": true
    },
    "kernelspec": {
      "name": "python3",
      "display_name": "Python 3"
    },
    "language_info": {
      "name": "python"
    }
  },
  "cells": [
    {
      "cell_type": "markdown",
      "metadata": {
        "id": "view-in-github",
        "colab_type": "text"
      },
      "source": [
        "<a href=\"https://colab.research.google.com/github/vignesh200010/highIQpython/blob/main/dec1.ipynb\" target=\"_parent\"><img src=\"https://colab.research.google.com/assets/colab-badge.svg\" alt=\"Open In Colab\"/></a>"
      ]
    },
    {
      "cell_type": "code",
      "execution_count": null,
      "metadata": {
        "colab": {
          "base_uri": "https://localhost:8080/"
        },
        "id": "rfe4098Ldhb7",
        "outputId": "c0e3dadb-5ee9-431d-8c57-321a0ac16d67"
      },
      "outputs": [
        {
          "output_type": "stream",
          "name": "stdout",
          "text": [
            "enter your mail ID:vignesh&gmail.com\n",
            "valid email id\n"
          ]
        }
      ],
      "source": [
        "import re\n",
        "var=(input('enter your mail ID:'))\n",
        "condition='[a-z]+[&]\\D{5}[.]\\D{2,3}'\n",
        "if (re.search(condition,var)):\n",
        "    print('valid email id')\n",
        "else:\n",
        "    print(\"invalid\")\n"
      ]
    },
    {
      "cell_type": "code",
      "source": [
        "import re\n",
        "regex= r'\\b[A-Z+a-z+0-9._%+-]+&(gmail|yahoo|outlook|netwon)\\.(com|in|edu|ai)\\b'\n",
        "def valid (gmail):\n",
        "    if (re.fullmatch(regex,gmail)):\n",
        "        print('valid email id')\n",
        "    else:\n",
        "        print('invalid')\n",
        "gmail='vignesh%&gmail.com'\n",
        "valid(gmail)"
      ],
      "metadata": {
        "colab": {
          "base_uri": "https://localhost:8080/"
        },
        "id": "sYme2Dximj2L",
        "outputId": "4f3f86d6-a9f9-4e7c-d39b-f8e79b586bbb"
      },
      "execution_count": null,
      "outputs": [
        {
          "output_type": "stream",
          "name": "stdout",
          "text": [
            "valid email id\n"
          ]
        }
      ]
    },
    {
      "cell_type": "code",
      "source": [
        "# Python 3: Fibonacci series up to n\n",
        "def fib(n):\n",
        "   a, b = 0, 1\n",
        "   while a < n:\n",
        "     print(a, end=' ')\n",
        "     a, b = b, a+b\n",
        "     print()\n",
        "fib(1000)"
      ],
      "metadata": {
        "colab": {
          "base_uri": "https://localhost:8080/"
        },
        "id": "aquQeOHSmmK0",
        "outputId": "a4ae22b7-90ae-438d-a94c-6bd63540c080"
      },
      "execution_count": null,
      "outputs": [
        {
          "output_type": "stream",
          "name": "stdout",
          "text": [
            "0 \n",
            "1 \n",
            "1 \n",
            "2 \n",
            "3 \n",
            "5 \n",
            "8 \n",
            "13 \n",
            "21 \n",
            "34 \n",
            "55 \n",
            "89 \n",
            "144 \n",
            "233 \n",
            "377 \n",
            "610 \n",
            "987 \n"
          ]
        }
      ]
    },
    {
      "cell_type": "code",
      "source": [
        "print('andrei')"
      ],
      "metadata": {
        "colab": {
          "base_uri": "https://localhost:8080/"
        },
        "id": "orTjBq_QBxbW",
        "outputId": "2adb2bf7-1514-4c9d-c8b2-1cb47a9c3a0e"
      },
      "execution_count": null,
      "outputs": [
        {
          "output_type": "stream",
          "name": "stdout",
          "text": [
            "andrei\n"
          ]
        }
      ]
    },
    {
      "cell_type": "code",
      "source": [
        "input('whats your name?')"
      ],
      "metadata": {
        "colab": {
          "base_uri": "https://localhost:8080/",
          "height": 54
        },
        "id": "mkHYt8HGHj4m",
        "outputId": "285e517a-996b-4677-878e-a6ffa6adc676"
      },
      "execution_count": null,
      "outputs": [
        {
          "name": "stdout",
          "output_type": "stream",
          "text": [
            "whats your name?andrei\n"
          ]
        },
        {
          "output_type": "execute_result",
          "data": {
            "text/plain": [
              "'andrei'"
            ],
            "application/vnd.google.colaboratory.intrinsic+json": {
              "type": "string"
            }
          },
          "metadata": {},
          "execution_count": 5
        }
      ]
    },
    {
      "cell_type": "code",
      "source": [
        "name=input('whats your name?')\n",
        "print(name)"
      ],
      "metadata": {
        "colab": {
          "base_uri": "https://localhost:8080/"
        },
        "id": "n-YoaUoIHo3b",
        "outputId": "eafb8e44-e937-4a51-e715-54e4a43b317c"
      },
      "execution_count": null,
      "outputs": [
        {
          "output_type": "stream",
          "name": "stdout",
          "text": [
            "whats your name?andrei\n",
            "andrei\n"
          ]
        }
      ]
    },
    {
      "cell_type": "code",
      "source": [
        "name=input('whats your name?')\n",
        "print('hellooo ' +name)"
      ],
      "metadata": {
        "colab": {
          "base_uri": "https://localhost:8080/"
        },
        "id": "lFKhNdvoIeJd",
        "outputId": "28d27abb-0971-4f45-db64-953093321327"
      },
      "execution_count": null,
      "outputs": [
        {
          "output_type": "stream",
          "name": "stdout",
          "text": [
            "whats your name?andrei\n",
            "hellooo andrei\n"
          ]
        }
      ]
    },
    {
      "cell_type": "code",
      "source": [
        "type(1)   # int \n",
        "type(-10) # int\n",
        "type(0)   # int\n",
        "type(0.0) # float\n",
        "type(2.2) # float\n",
        "type(4E2) # float - 4*10 to the power of 2"
      ],
      "metadata": {
        "id": "0EkK7LZnJmI-",
        "outputId": "8405110b-7084-4e39-9755-ac7481434404",
        "colab": {
          "base_uri": "https://localhost:8080/"
        }
      },
      "execution_count": null,
      "outputs": [
        {
          "output_type": "execute_result",
          "data": {
            "text/plain": [
              "float"
            ]
          },
          "metadata": {},
          "execution_count": 1
        }
      ]
    },
    {
      "cell_type": "code",
      "source": [
        "# Arithmetic\n",
        "10 + 3  # 13\n",
        "10 - 3  # 7\n",
        "10 * 3  # 30\n",
        "10 ** 3 # 1000\n",
        "10 / 3  # 3.3333333333333335\n",
        "10 // 3 # 3 --> floor division - no decimals and returns an int\n",
        "10 % 3  # 1 --> modulo operator - return the reminder. Good for deciding if number is even or odd"
      ],
      "metadata": {
        "id": "-0DI_A-0f7T4",
        "outputId": "0167edda-608a-4dbc-9c02-063ce5f73e17",
        "colab": {
          "base_uri": "https://localhost:8080/"
        }
      },
      "execution_count": null,
      "outputs": [
        {
          "output_type": "execute_result",
          "data": {
            "text/plain": [
              "1"
            ]
          },
          "metadata": {},
          "execution_count": 2
        }
      ]
    },
    {
      "cell_type": "code",
      "source": [
        "print((20-3)+2 **2)"
      ],
      "metadata": {
        "id": "hrAtNQXogFlA",
        "colab": {
          "base_uri": "https://localhost:8080/"
        },
        "outputId": "ba8ee9c8-3c8e-41e2-9cc8-c52da4d32a77"
      },
      "execution_count": 1,
      "outputs": [
        {
          "output_type": "stream",
          "name": "stdout",
          "text": [
            "21\n"
          ]
        }
      ]
    },
    {
      "cell_type": "code",
      "source": [
        "print(bin(5))\n",
        "print(int('0b101',2))"
      ],
      "metadata": {
        "colab": {
          "base_uri": "https://localhost:8080/"
        },
        "id": "8r2C_BQbSEIY",
        "outputId": "b9eab034-8744-4528-d691-9a731943647f"
      },
      "execution_count": 2,
      "outputs": [
        {
          "output_type": "stream",
          "name": "stdout",
          "text": [
            "0b101\n",
            "5\n"
          ]
        }
      ]
    },
    {
      "cell_type": "code",
      "source": [
        "#augmented assignment operatior\n",
        "some_value=5\n",
        "some_value+=5\n",
        "print(some_value)"
      ],
      "metadata": {
        "colab": {
          "base_uri": "https://localhost:8080/"
        },
        "id": "pK9YTn8ZTV-W",
        "outputId": "ae407341-9f40-4880-8bf1-8e189c25e1d8"
      },
      "execution_count": 3,
      "outputs": [
        {
          "output_type": "stream",
          "name": "stdout",
          "text": [
            "10\n"
          ]
        }
      ]
    },
    {
      "cell_type": "code",
      "source": [
        "iq=190 \n",
        "user_age=iq/4\n",
        "a=user_age\n",
        "print(a)"
      ],
      "metadata": {
        "colab": {
          "base_uri": "https://localhost:8080/"
        },
        "id": "6X0JzenWVAUp",
        "outputId": "e1cb8e5b-35a6-45bc-e900-1f2b56349a95"
      },
      "execution_count": 4,
      "outputs": [
        {
          "output_type": "stream",
          "name": "stdout",
          "text": [
            "47.5\n"
          ]
        }
      ]
    },
    {
      "cell_type": "code",
      "source": [
        "#string\n",
        "long_string='''\n",
        "wow\n",
        "O O\n",
        "___\n",
        "'''\n",
        "print(long_string)"
      ],
      "metadata": {
        "colab": {
          "base_uri": "https://localhost:8080/"
        },
        "id": "IUgd35wYW_A3",
        "outputId": "d8f98969-308f-45ff-d6d2-c934fcad238a"
      },
      "execution_count": 5,
      "outputs": [
        {
          "output_type": "stream",
          "name": "stdout",
          "text": [
            "\n",
            "wow\n",
            "O O\n",
            "___\n",
            "\n"
          ]
        }
      ]
    },
    {
      "cell_type": "code",
      "source": [
        "firstname='andrei'\n",
        "lastname='neagoie'\n",
        "full_name=firstname+lastname\n",
        "print(full_name)"
      ],
      "metadata": {
        "colab": {
          "base_uri": "https://localhost:8080/"
        },
        "id": "YKy9wP0iZW46",
        "outputId": "d08536c7-0dd9-4799-fa43-113a510a81c8"
      },
      "execution_count": 6,
      "outputs": [
        {
          "output_type": "stream",
          "name": "stdout",
          "text": [
            "andreineagoie\n"
          ]
        }
      ]
    },
    {
      "cell_type": "code",
      "source": [
        "firstname='andrei'\n",
        "lastname='neagoie'\n",
        "full_name=firstname+' '+lastname\n",
        "print(full_name)"
      ],
      "metadata": {
        "colab": {
          "base_uri": "https://localhost:8080/"
        },
        "id": "wPX1whDzaIec",
        "outputId": "d93276ee-7da6-43d8-8332-2d69db96aa24"
      },
      "execution_count": 8,
      "outputs": [
        {
          "output_type": "stream",
          "name": "stdout",
          "text": [
            "andrei neagoie\n"
          ]
        }
      ]
    },
    {
      "cell_type": "code",
      "source": [
        "#String Concatenation\n",
        "print('hello ' + 'andrei')"
      ],
      "metadata": {
        "colab": {
          "base_uri": "https://localhost:8080/"
        },
        "id": "jrNgcZB0aK_u",
        "outputId": "cb476c65-98a8-4c77-c15d-5556b9ffa028"
      },
      "execution_count": 11,
      "outputs": [
        {
          "output_type": "stream",
          "name": "stdout",
          "text": [
            "hello andrei\n"
          ]
        }
      ]
    },
    {
      "cell_type": "code",
      "source": [
        "a=str(100)\n",
        "b=int(a)\n",
        "c=type(b)\n",
        "print(c)\n"
      ],
      "metadata": {
        "colab": {
          "base_uri": "https://localhost:8080/"
        },
        "id": "b9Og24TradqE",
        "outputId": "07739d95-cfb7-4af9-dfd3-5edfa6eb18d5"
      },
      "execution_count": 12,
      "outputs": [
        {
          "output_type": "stream",
          "name": "stdout",
          "text": [
            "<class 'int'>\n"
          ]
        }
      ]
    },
    {
      "cell_type": "code",
      "source": [
        "#Escape Sequences\n",
        "weather=\"it\\'s kind of sunny\"\n",
        "print(weather)"
      ],
      "metadata": {
        "colab": {
          "base_uri": "https://localhost:8080/"
        },
        "id": "L1PYqT3hbbMU",
        "outputId": "debaa071-7597-4564-84d0-b358818c7442"
      },
      "execution_count": 13,
      "outputs": [
        {
          "output_type": "stream",
          "name": "stdout",
          "text": [
            "it's kind of sunny\n"
          ]
        }
      ]
    },
    {
      "cell_type": "code",
      "source": [
        "weather=\"\\t it\\'s kind of sunny \\n hope you have agood day!\"\n",
        "print(weather)"
      ],
      "metadata": {
        "colab": {
          "base_uri": "https://localhost:8080/"
        },
        "id": "bphmX39McTF2",
        "outputId": "499d3034-db6c-499d-f59f-5320b5e8a887"
      },
      "execution_count": 15,
      "outputs": [
        {
          "output_type": "stream",
          "name": "stdout",
          "text": [
            "\t it's kind of sunny \n",
            " hope you have agood day!\n"
          ]
        }
      ]
    },
    {
      "cell_type": "code",
      "source": [
        "#Formatted Strings\n",
        "name= 'johnny'\n",
        "age=55\n",
        "print('hi '+name+' .you are '+str(age)+' years old')"
      ],
      "metadata": {
        "colab": {
          "base_uri": "https://localhost:8080/"
        },
        "id": "utWlI6yfcywn",
        "outputId": "f6535861-f382-44dd-a60e-8ceee309d85f"
      },
      "execution_count": 17,
      "outputs": [
        {
          "output_type": "stream",
          "name": "stdout",
          "text": [
            "hi johnny .you are 55 years old\n"
          ]
        }
      ]
    },
    {
      "cell_type": "code",
      "source": [
        "\n",
        "name= 'johnny'\n",
        "age=55\n",
        "print(f'hi {name} .you are {age} years old')"
      ],
      "metadata": {
        "colab": {
          "base_uri": "https://localhost:8080/"
        },
        "id": "q0Bafmr3dsPR",
        "outputId": "0fe571c6-cd30-40e5-970e-85e7a9e3880a"
      },
      "execution_count": 19,
      "outputs": [
        {
          "output_type": "stream",
          "name": "stdout",
          "text": [
            "hi johnny .you are 55 years old\n"
          ]
        }
      ]
    },
    {
      "cell_type": "code",
      "source": [
        "name= 'johnny'\n",
        "age=55\n",
        "print('hi {} .you are {} years old'.format('jhoni','55'))"
      ],
      "metadata": {
        "colab": {
          "base_uri": "https://localhost:8080/"
        },
        "id": "aGKzbp-_eRdI",
        "outputId": "33911df7-4dae-4092-ade2-91c5bb55e1e5"
      },
      "execution_count": 20,
      "outputs": [
        {
          "output_type": "stream",
          "name": "stdout",
          "text": [
            "hi jhoni .you are 55 years old\n"
          ]
        }
      ]
    },
    {
      "cell_type": "code",
      "source": [
        "name= 'johnny'\n",
        "age=55\n",
        "print('hi {1} .you are {0} years old'.format(name,age))"
      ],
      "metadata": {
        "colab": {
          "base_uri": "https://localhost:8080/"
        },
        "id": "PCfzKerje0Yq",
        "outputId": "95cc2836-d2e3-4e92-8644-3d44d9304a35"
      },
      "execution_count": 21,
      "outputs": [
        {
          "output_type": "stream",
          "name": "stdout",
          "text": [
            "hi 55 .you are johnny years old\n"
          ]
        }
      ]
    },
    {
      "cell_type": "code",
      "source": [
        "#String Indexes\n",
        "self='me me'\n",
        "print(self[1])\n",
        "print(self[0])"
      ],
      "metadata": {
        "colab": {
          "base_uri": "https://localhost:8080/"
        },
        "id": "y5FyJSMtfJP8",
        "outputId": "319d23ce-c2a4-4db8-850f-e8edd8459d26"
      },
      "execution_count": 23,
      "outputs": [
        {
          "output_type": "stream",
          "name": "stdout",
          "text": [
            "e\n",
            "m\n"
          ]
        }
      ]
    },
    {
      "cell_type": "code",
      "source": [
        "self='01234'\n",
        "print(self[1:3])\n",
        "print(self[0:3])\n",
        "print(self[0:5])"
      ],
      "metadata": {
        "colab": {
          "base_uri": "https://localhost:8080/"
        },
        "id": "1VHyjiKygczs",
        "outputId": "83f31fb5-ee15-4afb-abd4-f79d128e4569"
      },
      "execution_count": 26,
      "outputs": [
        {
          "output_type": "stream",
          "name": "stdout",
          "text": [
            "12\n",
            "012\n",
            "01234\n"
          ]
        }
      ]
    },
    {
      "cell_type": "code",
      "source": [
        "#Immutability\n",
        "self='0123'\n",
        "self=self+'4'\n",
        "print(self)"
      ],
      "metadata": {
        "colab": {
          "base_uri": "https://localhost:8080/"
        },
        "id": "F4RuRt4WgrEU",
        "outputId": "e9174e65-3f9e-41cc-dffc-c31f250abe88"
      },
      "execution_count": 27,
      "outputs": [
        {
          "output_type": "stream",
          "name": "stdout",
          "text": [
            "01234\n"
          ]
        }
      ]
    },
    {
      "cell_type": "code",
      "source": [
        "greet='to be or not to be'\n",
        "print(greet.upper())\n",
        "print(greet.capitalize())\n",
        "print(greet.lower())\n",
        "print(greet.find('be'))\n",
        "print(greet.replace('be','me'))"
      ],
      "metadata": {
        "colab": {
          "base_uri": "https://localhost:8080/"
        },
        "id": "wezoYXuDhq9L",
        "outputId": "5606f78d-3e16-4368-e808-7afc05b37746"
      },
      "execution_count": 33,
      "outputs": [
        {
          "output_type": "stream",
          "name": "stdout",
          "text": [
            "TO BE OR NOT TO BE\n",
            "To be or not to be\n",
            "to be or not to be\n",
            "3\n",
            "to me or not to me\n"
          ]
        }
      ]
    },
    {
      "cell_type": "code",
      "source": [
        "greet='to be or not to be'\n",
        "greet1=greet.replace('be','me')\n",
        "print(greet1)"
      ],
      "metadata": {
        "colab": {
          "base_uri": "https://localhost:8080/"
        },
        "id": "RB1KxZsMja9L",
        "outputId": "178584be-a575-45a8-ce43-e1a1ef70acbd"
      },
      "execution_count": 35,
      "outputs": [
        {
          "output_type": "stream",
          "name": "stdout",
          "text": [
            "to me or not to me\n"
          ]
        }
      ]
    },
    {
      "cell_type": "code",
      "source": [
        "name='andrei'\n",
        "is_cool=False\n",
        "is_cool=True\n",
        "print(bool('True'))"
      ],
      "metadata": {
        "colab": {
          "base_uri": "https://localhost:8080/"
        },
        "id": "BxWw_EaekOeF",
        "outputId": "e9465a50-bbff-48f3-c982-183bd43f7ba9"
      },
      "execution_count": 36,
      "outputs": [
        {
          "output_type": "stream",
          "name": "stdout",
          "text": [
            "True\n"
          ]
        }
      ]
    },
    {
      "cell_type": "code",
      "source": [
        "birth_year=input('what year were you born?')\n",
        "\n",
        "age=2019-int(birth_year)\n",
        "\n",
        "print(f'your age is:{age}')"
      ],
      "metadata": {
        "colab": {
          "base_uri": "https://localhost:8080/"
        },
        "id": "nDQlBB0Nk5WZ",
        "outputId": "75011b6f-6953-4231-f5f9-2cfc41ad5adf"
      },
      "execution_count": 39,
      "outputs": [
        {
          "output_type": "stream",
          "name": "stdout",
          "text": [
            "what year were you born?2000\n",
            "your age is:19\n"
          ]
        }
      ]
    },
    {
      "cell_type": "code",
      "source": [
        "birth_year=input('what year were you born?')\n",
        "\n",
        "age=2019-float(birth_year)\n",
        "\n",
        "print(f'your age is:{age}')"
      ],
      "metadata": {
        "colab": {
          "base_uri": "https://localhost:8080/"
        },
        "id": "OCR66dLFlejF",
        "outputId": "cc6d8f35-22c1-41a0-be02-30908e0d0db0"
      },
      "execution_count": 40,
      "outputs": [
        {
          "output_type": "stream",
          "name": "stdout",
          "text": [
            "what year were you born?2000\n",
            "your age is:19.0\n"
          ]
        }
      ]
    },
    {
      "cell_type": "code",
      "source": [
        "birth_year=input('what year were you born?')\n",
        "\n",
        "age=2019-bool(birth_year)\n",
        "\n",
        "print(f'your age is:{age}')"
      ],
      "metadata": {
        "colab": {
          "base_uri": "https://localhost:8080/"
        },
        "id": "bLR-P_PRmVEY",
        "outputId": "2a4229b4-1cb8-46aa-ca47-fe1b122d3de3"
      },
      "execution_count": 41,
      "outputs": [
        {
          "output_type": "stream",
          "name": "stdout",
          "text": [
            "what year were you born?2000\n",
            "your age is:2018\n"
          ]
        }
      ]
    },
    {
      "cell_type": "code",
      "source": [
        "username=input('what is your name?')\n",
        "password=input('what is your password?')\n",
        "print(f'{username}, your password, {password}, is {len(password)}letter long')"
      ],
      "metadata": {
        "colab": {
          "base_uri": "https://localhost:8080/"
        },
        "id": "YNfBLYaSmh9e",
        "outputId": "cdc00056-00b0-405f-800c-a53ef3f92ec8"
      },
      "execution_count": 42,
      "outputs": [
        {
          "output_type": "stream",
          "name": "stdout",
          "text": [
            "what is your name?andrei\n",
            "what is your password?copy\n",
            "andrei, your password, copy, is 4letter long\n"
          ]
        }
      ]
    },
    {
      "cell_type": "code",
      "source": [
        "username=input('what is your name?')\n",
        "password=input('what is your password?')\n",
        "password_length=len(password)\n",
        "hidden='*'*password_length\n",
        "print(f'{username}, your password, {hidden}, is {password_length}letter long')"
      ],
      "metadata": {
        "colab": {
          "base_uri": "https://localhost:8080/"
        },
        "id": "twFdgwxRtVhL",
        "outputId": "9fc5f5fc-29dd-45a5-d596-0d416010cc62"
      },
      "execution_count": 43,
      "outputs": [
        {
          "output_type": "stream",
          "name": "stdout",
          "text": [
            "what is your name?andrei\n",
            "what is your password?copy\n",
            "andrei, your password, ****, is 4letter long\n"
          ]
        }
      ]
    },
    {
      "cell_type": "code",
      "source": [
        "amazon=['notebook','sunglass','toys','grapes']\n",
        "amazon[0]='laptop'\n",
        "newcart=amazon\n",
        "newcart[0]='gum'\n",
        "print(newcart)\n",
        "print(amazon)"
      ],
      "metadata": {
        "colab": {
          "base_uri": "https://localhost:8080/"
        },
        "id": "hsDbVRsxt-t0",
        "outputId": "28c5527f-23d0-4f7a-a741-6cc3383411e1"
      },
      "execution_count": 45,
      "outputs": [
        {
          "output_type": "stream",
          "name": "stdout",
          "text": [
            "['gum', 'sunglass', 'toys', 'grapes']\n",
            "['gum', 'sunglass', 'toys', 'grapes']\n"
          ]
        }
      ]
    },
    {
      "cell_type": "code",
      "source": [],
      "metadata": {
        "id": "Exj6VU9Xv3uA"
      },
      "execution_count": null,
      "outputs": []
    }
  ]
}