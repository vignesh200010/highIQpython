{
  "nbformat": 4,
  "nbformat_minor": 0,
  "metadata": {
    "colab": {
      "provenance": [],
      "authorship_tag": "ABX9TyPF9M8VE4xPdnQSBDEHTfb4",
      "include_colab_link": true
    },
    "kernelspec": {
      "name": "python3",
      "display_name": "Python 3"
    },
    "language_info": {
      "name": "python"
    }
  },
  "cells": [
    {
      "cell_type": "markdown",
      "metadata": {
        "id": "view-in-github",
        "colab_type": "text"
      },
      "source": [
        "<a href=\"https://colab.research.google.com/github/vignesh200010/highIQpython/blob/main/dec1.ipynb\" target=\"_parent\"><img src=\"https://colab.research.google.com/assets/colab-badge.svg\" alt=\"Open In Colab\"/></a>"
      ]
    },
    {
      "cell_type": "code",
      "execution_count": null,
      "metadata": {
        "colab": {
          "base_uri": "https://localhost:8080/"
        },
        "id": "rfe4098Ldhb7",
        "outputId": "c0e3dadb-5ee9-431d-8c57-321a0ac16d67"
      },
      "outputs": [
        {
          "output_type": "stream",
          "name": "stdout",
          "text": [
            "enter your mail ID:vignesh&gmail.com\n",
            "valid email id\n"
          ]
        }
      ],
      "source": [
        "import re\n",
        "var=(input('enter your mail ID:'))\n",
        "condition='[a-z]+[&]\\D{5}[.]\\D{2,3}'\n",
        "if (re.search(condition,var)):\n",
        "    print('valid email id')\n",
        "else:\n",
        "    print(\"invalid\")\n"
      ]
    },
    {
      "cell_type": "code",
      "source": [
        "import re\n",
        "regex= r'\\b[A-Z+a-z+0-9._%+-]+&(gmail|yahoo|outlook|netwon)\\.(com|in|edu|ai)\\b'\n",
        "def valid (gmail):\n",
        "    if (re.fullmatch(regex,gmail)):\n",
        "        print('valid email id')\n",
        "    else:\n",
        "        print('invalid')\n",
        "gmail='vignesh%&gmail.com'\n",
        "valid(gmail)"
      ],
      "metadata": {
        "colab": {
          "base_uri": "https://localhost:8080/"
        },
        "id": "sYme2Dximj2L",
        "outputId": "4f3f86d6-a9f9-4e7c-d39b-f8e79b586bbb"
      },
      "execution_count": null,
      "outputs": [
        {
          "output_type": "stream",
          "name": "stdout",
          "text": [
            "valid email id\n"
          ]
        }
      ]
    },
    {
      "cell_type": "code",
      "source": [
        "# Python 3: Fibonacci series up to n\n",
        "def fib(n):\n",
        "   a, b = 0, 1\n",
        "   while a < n:\n",
        "     print(a, end=' ')\n",
        "     a, b = b, a+b\n",
        "     print()\n",
        "fib(1000)"
      ],
      "metadata": {
        "colab": {
          "base_uri": "https://localhost:8080/"
        },
        "id": "aquQeOHSmmK0",
        "outputId": "a4ae22b7-90ae-438d-a94c-6bd63540c080"
      },
      "execution_count": null,
      "outputs": [
        {
          "output_type": "stream",
          "name": "stdout",
          "text": [
            "0 \n",
            "1 \n",
            "1 \n",
            "2 \n",
            "3 \n",
            "5 \n",
            "8 \n",
            "13 \n",
            "21 \n",
            "34 \n",
            "55 \n",
            "89 \n",
            "144 \n",
            "233 \n",
            "377 \n",
            "610 \n",
            "987 \n"
          ]
        }
      ]
    },
    {
      "cell_type": "code",
      "source": [
        "print('andrei')"
      ],
      "metadata": {
        "colab": {
          "base_uri": "https://localhost:8080/"
        },
        "id": "orTjBq_QBxbW",
        "outputId": "2adb2bf7-1514-4c9d-c8b2-1cb47a9c3a0e"
      },
      "execution_count": null,
      "outputs": [
        {
          "output_type": "stream",
          "name": "stdout",
          "text": [
            "andrei\n"
          ]
        }
      ]
    },
    {
      "cell_type": "code",
      "source": [
        "input('whats your name?')"
      ],
      "metadata": {
        "colab": {
          "base_uri": "https://localhost:8080/",
          "height": 54
        },
        "id": "mkHYt8HGHj4m",
        "outputId": "285e517a-996b-4677-878e-a6ffa6adc676"
      },
      "execution_count": null,
      "outputs": [
        {
          "name": "stdout",
          "output_type": "stream",
          "text": [
            "whats your name?andrei\n"
          ]
        },
        {
          "output_type": "execute_result",
          "data": {
            "text/plain": [
              "'andrei'"
            ],
            "application/vnd.google.colaboratory.intrinsic+json": {
              "type": "string"
            }
          },
          "metadata": {},
          "execution_count": 5
        }
      ]
    },
    {
      "cell_type": "code",
      "source": [
        "name=input('whats your name?')\n",
        "print(name)"
      ],
      "metadata": {
        "colab": {
          "base_uri": "https://localhost:8080/"
        },
        "id": "n-YoaUoIHo3b",
        "outputId": "eafb8e44-e937-4a51-e715-54e4a43b317c"
      },
      "execution_count": null,
      "outputs": [
        {
          "output_type": "stream",
          "name": "stdout",
          "text": [
            "whats your name?andrei\n",
            "andrei\n"
          ]
        }
      ]
    },
    {
      "cell_type": "code",
      "source": [
        "name=input('whats your name?')\n",
        "print('hellooo ' +name)"
      ],
      "metadata": {
        "colab": {
          "base_uri": "https://localhost:8080/"
        },
        "id": "lFKhNdvoIeJd",
        "outputId": "28d27abb-0971-4f45-db64-953093321327"
      },
      "execution_count": null,
      "outputs": [
        {
          "output_type": "stream",
          "name": "stdout",
          "text": [
            "whats your name?andrei\n",
            "hellooo andrei\n"
          ]
        }
      ]
    },
    {
      "cell_type": "code",
      "source": [
        "type(1)   # int \n",
        "type(-10) # int\n",
        "type(0)   # int\n",
        "type(0.0) # float\n",
        "type(2.2) # float\n",
        "type(4E2) # float - 4*10 to the power of 2"
      ],
      "metadata": {
        "id": "0EkK7LZnJmI-",
        "outputId": "8405110b-7084-4e39-9755-ac7481434404",
        "colab": {
          "base_uri": "https://localhost:8080/"
        }
      },
      "execution_count": null,
      "outputs": [
        {
          "output_type": "execute_result",
          "data": {
            "text/plain": [
              "float"
            ]
          },
          "metadata": {},
          "execution_count": 1
        }
      ]
    },
    {
      "cell_type": "code",
      "source": [
        "# Arithmetic\n",
        "10 + 3  # 13\n",
        "10 - 3  # 7\n",
        "10 * 3  # 30\n",
        "10 ** 3 # 1000\n",
        "10 / 3  # 3.3333333333333335\n",
        "10 // 3 # 3 --> floor division - no decimals and returns an int\n",
        "10 % 3  # 1 --> modulo operator - return the reminder. Good for deciding if number is even or odd"
      ],
      "metadata": {
        "id": "-0DI_A-0f7T4",
        "outputId": "0167edda-608a-4dbc-9c02-063ce5f73e17",
        "colab": {
          "base_uri": "https://localhost:8080/"
        }
      },
      "execution_count": null,
      "outputs": [
        {
          "output_type": "execute_result",
          "data": {
            "text/plain": [
              "1"
            ]
          },
          "metadata": {},
          "execution_count": 2
        }
      ]
    },
    {
      "cell_type": "code",
      "source": [
        "print((20-3)+2 **2)"
      ],
      "metadata": {
        "id": "hrAtNQXogFlA",
        "colab": {
          "base_uri": "https://localhost:8080/"
        },
        "outputId": "ba8ee9c8-3c8e-41e2-9cc8-c52da4d32a77"
      },
      "execution_count": 1,
      "outputs": [
        {
          "output_type": "stream",
          "name": "stdout",
          "text": [
            "21\n"
          ]
        }
      ]
    },
    {
      "cell_type": "code",
      "source": [
        "print(bin(5))\n",
        "print(int('0b101',2))"
      ],
      "metadata": {
        "colab": {
          "base_uri": "https://localhost:8080/"
        },
        "id": "8r2C_BQbSEIY",
        "outputId": "b9eab034-8744-4528-d691-9a731943647f"
      },
      "execution_count": 2,
      "outputs": [
        {
          "output_type": "stream",
          "name": "stdout",
          "text": [
            "0b101\n",
            "5\n"
          ]
        }
      ]
    },
    {
      "cell_type": "code",
      "source": [
        "#augmented assignment operatior\n",
        "some_value=5\n",
        "some_value+=5\n",
        "print(some_value)"
      ],
      "metadata": {
        "colab": {
          "base_uri": "https://localhost:8080/"
        },
        "id": "pK9YTn8ZTV-W",
        "outputId": "ae407341-9f40-4880-8bf1-8e189c25e1d8"
      },
      "execution_count": 3,
      "outputs": [
        {
          "output_type": "stream",
          "name": "stdout",
          "text": [
            "10\n"
          ]
        }
      ]
    },
    {
      "cell_type": "code",
      "source": [
        "iq=190 \n",
        "user_age=iq/4\n",
        "a=user_age\n",
        "print(a)"
      ],
      "metadata": {
        "colab": {
          "base_uri": "https://localhost:8080/"
        },
        "id": "6X0JzenWVAUp",
        "outputId": "e1cb8e5b-35a6-45bc-e900-1f2b56349a95"
      },
      "execution_count": 4,
      "outputs": [
        {
          "output_type": "stream",
          "name": "stdout",
          "text": [
            "47.5\n"
          ]
        }
      ]
    },
    {
      "cell_type": "code",
      "source": [
        "#string\n",
        "long_string='''\n",
        "wow\n",
        "O O\n",
        "___\n",
        "'''\n",
        "print(long_string)"
      ],
      "metadata": {
        "colab": {
          "base_uri": "https://localhost:8080/"
        },
        "id": "IUgd35wYW_A3",
        "outputId": "d8f98969-308f-45ff-d6d2-c934fcad238a"
      },
      "execution_count": 5,
      "outputs": [
        {
          "output_type": "stream",
          "name": "stdout",
          "text": [
            "\n",
            "wow\n",
            "O O\n",
            "___\n",
            "\n"
          ]
        }
      ]
    },
    {
      "cell_type": "code",
      "source": [
        "firstname='andrei'\n",
        "lastname='neagoie'\n",
        "full_name=firstname+lastname\n",
        "print(full_name)"
      ],
      "metadata": {
        "colab": {
          "base_uri": "https://localhost:8080/"
        },
        "id": "YKy9wP0iZW46",
        "outputId": "d08536c7-0dd9-4799-fa43-113a510a81c8"
      },
      "execution_count": 6,
      "outputs": [
        {
          "output_type": "stream",
          "name": "stdout",
          "text": [
            "andreineagoie\n"
          ]
        }
      ]
    },
    {
      "cell_type": "code",
      "source": [
        "firstname='andrei'\n",
        "lastname='neagoie'\n",
        "full_name=firstname+' '+lastname\n",
        "print(full_name)"
      ],
      "metadata": {
        "colab": {
          "base_uri": "https://localhost:8080/"
        },
        "id": "wPX1whDzaIec",
        "outputId": "d93276ee-7da6-43d8-8332-2d69db96aa24"
      },
      "execution_count": 8,
      "outputs": [
        {
          "output_type": "stream",
          "name": "stdout",
          "text": [
            "andrei neagoie\n"
          ]
        }
      ]
    },
    {
      "cell_type": "code",
      "source": [
        "#String Concatenation\n",
        "print('hello ' + 'andrei')"
      ],
      "metadata": {
        "colab": {
          "base_uri": "https://localhost:8080/"
        },
        "id": "jrNgcZB0aK_u",
        "outputId": "cb476c65-98a8-4c77-c15d-5556b9ffa028"
      },
      "execution_count": 11,
      "outputs": [
        {
          "output_type": "stream",
          "name": "stdout",
          "text": [
            "hello andrei\n"
          ]
        }
      ]
    },
    {
      "cell_type": "code",
      "source": [
        "a=str(100)\n",
        "b=int(a)\n",
        "c=type(b)\n",
        "print(c)\n"
      ],
      "metadata": {
        "colab": {
          "base_uri": "https://localhost:8080/"
        },
        "id": "b9Og24TradqE",
        "outputId": "07739d95-cfb7-4af9-dfd3-5edfa6eb18d5"
      },
      "execution_count": 12,
      "outputs": [
        {
          "output_type": "stream",
          "name": "stdout",
          "text": [
            "<class 'int'>\n"
          ]
        }
      ]
    },
    {
      "cell_type": "code",
      "source": [
        "#Escape Sequences\n",
        "weather=\"it\\'s kind of sunny\"\n",
        "print(weather)"
      ],
      "metadata": {
        "colab": {
          "base_uri": "https://localhost:8080/"
        },
        "id": "L1PYqT3hbbMU",
        "outputId": "debaa071-7597-4564-84d0-b358818c7442"
      },
      "execution_count": 13,
      "outputs": [
        {
          "output_type": "stream",
          "name": "stdout",
          "text": [
            "it's kind of sunny\n"
          ]
        }
      ]
    },
    {
      "cell_type": "code",
      "source": [
        "weather=\"\\t it\\'s kind of sunny \\n hope you have agood day!\"\n",
        "print(weather)"
      ],
      "metadata": {
        "colab": {
          "base_uri": "https://localhost:8080/"
        },
        "id": "bphmX39McTF2",
        "outputId": "499d3034-db6c-499d-f59f-5320b5e8a887"
      },
      "execution_count": 15,
      "outputs": [
        {
          "output_type": "stream",
          "name": "stdout",
          "text": [
            "\t it's kind of sunny \n",
            " hope you have agood day!\n"
          ]
        }
      ]
    },
    {
      "cell_type": "code",
      "source": [
        "#Formatted Strings\n",
        "name= 'johnny'\n",
        "age=55\n",
        "print('hi '+name+' .you are '+str(age)+' years old')"
      ],
      "metadata": {
        "colab": {
          "base_uri": "https://localhost:8080/"
        },
        "id": "utWlI6yfcywn",
        "outputId": "f6535861-f382-44dd-a60e-8ceee309d85f"
      },
      "execution_count": 17,
      "outputs": [
        {
          "output_type": "stream",
          "name": "stdout",
          "text": [
            "hi johnny .you are 55 years old\n"
          ]
        }
      ]
    },
    {
      "cell_type": "code",
      "source": [
        "\n",
        "name= 'johnny'\n",
        "age=55\n",
        "print(f'hi {name} .you are {age} years old')"
      ],
      "metadata": {
        "colab": {
          "base_uri": "https://localhost:8080/"
        },
        "id": "q0Bafmr3dsPR",
        "outputId": "0fe571c6-cd30-40e5-970e-85e7a9e3880a"
      },
      "execution_count": 19,
      "outputs": [
        {
          "output_type": "stream",
          "name": "stdout",
          "text": [
            "hi johnny .you are 55 years old\n"
          ]
        }
      ]
    },
    {
      "cell_type": "code",
      "source": [
        "name= 'johnny'\n",
        "age=55\n",
        "print('hi {} .you are {} years old'.format('jhoni','55'))"
      ],
      "metadata": {
        "colab": {
          "base_uri": "https://localhost:8080/"
        },
        "id": "aGKzbp-_eRdI",
        "outputId": "33911df7-4dae-4092-ade2-91c5bb55e1e5"
      },
      "execution_count": 20,
      "outputs": [
        {
          "output_type": "stream",
          "name": "stdout",
          "text": [
            "hi jhoni .you are 55 years old\n"
          ]
        }
      ]
    },
    {
      "cell_type": "code",
      "source": [
        "name= 'johnny'\n",
        "age=55\n",
        "print('hi {1} .you are {0} years old'.format(name,age))"
      ],
      "metadata": {
        "colab": {
          "base_uri": "https://localhost:8080/"
        },
        "id": "PCfzKerje0Yq",
        "outputId": "95cc2836-d2e3-4e92-8644-3d44d9304a35"
      },
      "execution_count": 21,
      "outputs": [
        {
          "output_type": "stream",
          "name": "stdout",
          "text": [
            "hi 55 .you are johnny years old\n"
          ]
        }
      ]
    },
    {
      "cell_type": "code",
      "source": [
        "#String Indexes\n",
        "self='me me'\n",
        "print(self[1])\n",
        "print(self[0])"
      ],
      "metadata": {
        "colab": {
          "base_uri": "https://localhost:8080/"
        },
        "id": "y5FyJSMtfJP8",
        "outputId": "319d23ce-c2a4-4db8-850f-e8edd8459d26"
      },
      "execution_count": 23,
      "outputs": [
        {
          "output_type": "stream",
          "name": "stdout",
          "text": [
            "e\n",
            "m\n"
          ]
        }
      ]
    },
    {
      "cell_type": "code",
      "source": [
        "self='01234'\n",
        "print(self[1:3])\n",
        "print(self[0:3])\n",
        "print(self[0:5])"
      ],
      "metadata": {
        "colab": {
          "base_uri": "https://localhost:8080/"
        },
        "id": "1VHyjiKygczs",
        "outputId": "83f31fb5-ee15-4afb-abd4-f79d128e4569"
      },
      "execution_count": 26,
      "outputs": [
        {
          "output_type": "stream",
          "name": "stdout",
          "text": [
            "12\n",
            "012\n",
            "01234\n"
          ]
        }
      ]
    },
    {
      "cell_type": "code",
      "source": [
        "#Immutability\n",
        "self='0123'\n",
        "self=self+'4'\n",
        "print(self)"
      ],
      "metadata": {
        "colab": {
          "base_uri": "https://localhost:8080/"
        },
        "id": "F4RuRt4WgrEU",
        "outputId": "e9174e65-3f9e-41cc-dffc-c31f250abe88"
      },
      "execution_count": 27,
      "outputs": [
        {
          "output_type": "stream",
          "name": "stdout",
          "text": [
            "01234\n"
          ]
        }
      ]
    },
    {
      "cell_type": "code",
      "source": [
        "greet='to be or not to be'\n",
        "print(greet.upper())\n",
        "print(greet.capitalize())\n",
        "print(greet.lower())\n",
        "print(greet.find('be'))\n",
        "print(greet.replace('be','me'))"
      ],
      "metadata": {
        "colab": {
          "base_uri": "https://localhost:8080/"
        },
        "id": "wezoYXuDhq9L",
        "outputId": "5606f78d-3e16-4368-e808-7afc05b37746"
      },
      "execution_count": 33,
      "outputs": [
        {
          "output_type": "stream",
          "name": "stdout",
          "text": [
            "TO BE OR NOT TO BE\n",
            "To be or not to be\n",
            "to be or not to be\n",
            "3\n",
            "to me or not to me\n"
          ]
        }
      ]
    },
    {
      "cell_type": "code",
      "source": [
        "greet='to be or not to be'\n",
        "greet1=greet.replace('be','me')\n",
        "print(greet1)"
      ],
      "metadata": {
        "colab": {
          "base_uri": "https://localhost:8080/"
        },
        "id": "RB1KxZsMja9L",
        "outputId": "178584be-a575-45a8-ce43-e1a1ef70acbd"
      },
      "execution_count": 35,
      "outputs": [
        {
          "output_type": "stream",
          "name": "stdout",
          "text": [
            "to me or not to me\n"
          ]
        }
      ]
    },
    {
      "cell_type": "code",
      "source": [
        "name='andrei'\n",
        "is_cool=False\n",
        "is_cool=True\n",
        "print(bool('True'))"
      ],
      "metadata": {
        "colab": {
          "base_uri": "https://localhost:8080/"
        },
        "id": "BxWw_EaekOeF",
        "outputId": "e9465a50-bbff-48f3-c982-183bd43f7ba9"
      },
      "execution_count": 36,
      "outputs": [
        {
          "output_type": "stream",
          "name": "stdout",
          "text": [
            "True\n"
          ]
        }
      ]
    },
    {
      "cell_type": "code",
      "source": [
        "birth_year=input('what year were you born?')\n",
        "\n",
        "age=2019-int(birth_year)\n",
        "\n",
        "print(f'your age is:{age}')"
      ],
      "metadata": {
        "colab": {
          "base_uri": "https://localhost:8080/"
        },
        "id": "nDQlBB0Nk5WZ",
        "outputId": "75011b6f-6953-4231-f5f9-2cfc41ad5adf"
      },
      "execution_count": 39,
      "outputs": [
        {
          "output_type": "stream",
          "name": "stdout",
          "text": [
            "what year were you born?2000\n",
            "your age is:19\n"
          ]
        }
      ]
    },
    {
      "cell_type": "code",
      "source": [
        "birth_year=input('what year were you born?')\n",
        "\n",
        "age=2019-float(birth_year)\n",
        "\n",
        "print(f'your age is:{age}')"
      ],
      "metadata": {
        "colab": {
          "base_uri": "https://localhost:8080/"
        },
        "id": "OCR66dLFlejF",
        "outputId": "cc6d8f35-22c1-41a0-be02-30908e0d0db0"
      },
      "execution_count": 40,
      "outputs": [
        {
          "output_type": "stream",
          "name": "stdout",
          "text": [
            "what year were you born?2000\n",
            "your age is:19.0\n"
          ]
        }
      ]
    },
    {
      "cell_type": "code",
      "source": [
        "birth_year=input('what year were you born?')\n",
        "\n",
        "age=2019-bool(birth_year)\n",
        "\n",
        "print(f'your age is:{age}')"
      ],
      "metadata": {
        "colab": {
          "base_uri": "https://localhost:8080/"
        },
        "id": "bLR-P_PRmVEY",
        "outputId": "2a4229b4-1cb8-46aa-ca47-fe1b122d3de3"
      },
      "execution_count": 41,
      "outputs": [
        {
          "output_type": "stream",
          "name": "stdout",
          "text": [
            "what year were you born?2000\n",
            "your age is:2018\n"
          ]
        }
      ]
    },
    {
      "cell_type": "code",
      "source": [
        "username=input('what is your name?')\n",
        "password=input('what is your password?')\n",
        "print(f'{username}, your password, {password}, is {len(password)}letter long')"
      ],
      "metadata": {
        "colab": {
          "base_uri": "https://localhost:8080/"
        },
        "id": "YNfBLYaSmh9e",
        "outputId": "cdc00056-00b0-405f-800c-a53ef3f92ec8"
      },
      "execution_count": 42,
      "outputs": [
        {
          "output_type": "stream",
          "name": "stdout",
          "text": [
            "what is your name?andrei\n",
            "what is your password?copy\n",
            "andrei, your password, copy, is 4letter long\n"
          ]
        }
      ]
    },
    {
      "cell_type": "code",
      "source": [
        "username=input('what is your name?')\n",
        "password=input('what is your password?')\n",
        "password_length=len(password)\n",
        "hidden='*'*password_length\n",
        "print(f'{username}, your password, {hidden}, is {password_length}letter long')"
      ],
      "metadata": {
        "colab": {
          "base_uri": "https://localhost:8080/"
        },
        "id": "twFdgwxRtVhL",
        "outputId": "9fc5f5fc-29dd-45a5-d596-0d416010cc62"
      },
      "execution_count": 43,
      "outputs": [
        {
          "output_type": "stream",
          "name": "stdout",
          "text": [
            "what is your name?andrei\n",
            "what is your password?copy\n",
            "andrei, your password, ****, is 4letter long\n"
          ]
        }
      ]
    },
    {
      "cell_type": "code",
      "source": [
        "amazon=['notebook','sunglass','toys','grapes']\n",
        "amazon[0]='laptop'\n",
        "newcart=amazon\n",
        "newcart[0]='gum'\n",
        "print(newcart)\n",
        "print(amazon)"
      ],
      "metadata": {
        "colab": {
          "base_uri": "https://localhost:8080/"
        },
        "id": "hsDbVRsxt-t0",
        "outputId": "28c5527f-23d0-4f7a-a741-6cc3383411e1"
      },
      "execution_count": 45,
      "outputs": [
        {
          "output_type": "stream",
          "name": "stdout",
          "text": [
            "['gum', 'sunglass', 'toys', 'grapes']\n",
            "['gum', 'sunglass', 'toys', 'grapes']\n"
          ]
        }
      ]
    },
    {
      "cell_type": "code",
      "source": [
        "matrix=[\n",
        "    [1,0,1],\n",
        "    [0,1,0],\n",
        "    [1,0,1]\n",
        "]\n",
        "print(matrix[0][1])"
      ],
      "metadata": {
        "colab": {
          "base_uri": "https://localhost:8080/"
        },
        "id": "Exj6VU9Xv3uA",
        "outputId": "a4755540-b8a8-4467-c334-98cdcdd1c7e4"
      },
      "execution_count": 47,
      "outputs": [
        {
          "output_type": "stream",
          "name": "stdout",
          "text": [
            "0\n"
          ]
        }
      ]
    },
    {
      "cell_type": "code",
      "source": [
        "basket=[1,2,3,4,5]\n",
        "basket.append(100)\n",
        "newlist=basket\n",
        "print(basket)\n",
        "print(newlist)"
      ],
      "metadata": {
        "colab": {
          "base_uri": "https://localhost:8080/"
        },
        "id": "r5qadiegwxOh",
        "outputId": "f2a1f50e-88d1-433b-98e6-92a69ad823ad"
      },
      "execution_count": 48,
      "outputs": [
        {
          "output_type": "stream",
          "name": "stdout",
          "text": [
            "[1, 2, 3, 4, 5, 100]\n",
            "[1, 2, 3, 4, 5, 100]\n"
          ]
        }
      ]
    },
    {
      "cell_type": "code",
      "source": [
        "basket=[1,2,3,4,5]\n",
        "basket.insert(4,100)\n",
        "newlist=basket\n",
        "print(basket)\n",
        "print(newlist)"
      ],
      "metadata": {
        "colab": {
          "base_uri": "https://localhost:8080/"
        },
        "id": "XnBLLP1QyS4T",
        "outputId": "a977218e-7057-43da-fab3-c06ec61e34a4"
      },
      "execution_count": 49,
      "outputs": [
        {
          "output_type": "stream",
          "name": "stdout",
          "text": [
            "[1, 2, 3, 4, 100, 5]\n",
            "[1, 2, 3, 4, 100, 5]\n"
          ]
        }
      ]
    },
    {
      "cell_type": "code",
      "source": [
        "basket=[1,2,3,4,5]\n",
        "basket.extend([100,101])\n",
        "newlist=basket\n",
        "print(basket)\n",
        "print(newlist)"
      ],
      "metadata": {
        "colab": {
          "base_uri": "https://localhost:8080/"
        },
        "id": "jRUpN1cdyISL",
        "outputId": "b25f42a3-0a2c-4e7e-e759-9354b43bae21"
      },
      "execution_count": 50,
      "outputs": [
        {
          "output_type": "stream",
          "name": "stdout",
          "text": [
            "[1, 2, 3, 4, 5, 100, 101]\n",
            "[1, 2, 3, 4, 5, 100, 101]\n"
          ]
        }
      ]
    },
    {
      "cell_type": "code",
      "source": [
        "basket=[1,2,3,4,5]\n",
        "basket.append(100)\n",
        "newlist=basket\n",
        "basket.pop()\n",
        "basket.pop(3)\n",
        "print(basket)\n"
      ],
      "metadata": {
        "colab": {
          "base_uri": "https://localhost:8080/"
        },
        "id": "vCfcmYaDytiD",
        "outputId": "db3c09b7-a4f9-4428-f3a2-d82246a831d9"
      },
      "execution_count": 52,
      "outputs": [
        {
          "output_type": "stream",
          "name": "stdout",
          "text": [
            "[1, 2, 3, 5]\n"
          ]
        }
      ]
    },
    {
      "cell_type": "code",
      "source": [
        "basket=[1,7,3,4,2,6,5]\n",
        "basket.sort()\n",
        "print(basket)"
      ],
      "metadata": {
        "colab": {
          "base_uri": "https://localhost:8080/"
        },
        "id": "K56xDz8Vy9pA",
        "outputId": "975f7318-1262-492f-bc91-18453f1a4643"
      },
      "execution_count": 53,
      "outputs": [
        {
          "output_type": "stream",
          "name": "stdout",
          "text": [
            "[1, 2, 3, 4, 5, 6, 7]\n"
          ]
        }
      ]
    },
    {
      "cell_type": "code",
      "source": [
        "basket=[1,7,3,4,2,6,5]\n",
        "print(sorted(basket))"
      ],
      "metadata": {
        "colab": {
          "base_uri": "https://localhost:8080/"
        },
        "id": "DGODIgUQz1IG",
        "outputId": "37dd21ea-39d0-4baa-8908-a21971fd9ba6"
      },
      "execution_count": 54,
      "outputs": [
        {
          "output_type": "stream",
          "name": "stdout",
          "text": [
            "[1, 2, 3, 4, 5, 6, 7]\n"
          ]
        }
      ]
    },
    {
      "cell_type": "code",
      "source": [
        "print(list(range(1,100)))"
      ],
      "metadata": {
        "colab": {
          "base_uri": "https://localhost:8080/"
        },
        "id": "U19eMg9n0GFT",
        "outputId": "4e5363f9-8132-48f5-d6d0-b15521d0fcb2"
      },
      "execution_count": 55,
      "outputs": [
        {
          "output_type": "stream",
          "name": "stdout",
          "text": [
            "[1, 2, 3, 4, 5, 6, 7, 8, 9, 10, 11, 12, 13, 14, 15, 16, 17, 18, 19, 20, 21, 22, 23, 24, 25, 26, 27, 28, 29, 30, 31, 32, 33, 34, 35, 36, 37, 38, 39, 40, 41, 42, 43, 44, 45, 46, 47, 48, 49, 50, 51, 52, 53, 54, 55, 56, 57, 58, 59, 60, 61, 62, 63, 64, 65, 66, 67, 68, 69, 70, 71, 72, 73, 74, 75, 76, 77, 78, 79, 80, 81, 82, 83, 84, 85, 86, 87, 88, 89, 90, 91, 92, 93, 94, 95, 96, 97, 98, 99]\n"
          ]
        }
      ]
    },
    {
      "cell_type": "code",
      "source": [
        "sen='!'\n",
        "seen=sen.join(['hi','hello','how','are','you'])\n",
        "print(seen)"
      ],
      "metadata": {
        "colab": {
          "base_uri": "https://localhost:8080/"
        },
        "id": "QDbZ8x270z4m",
        "outputId": "40848a0f-c5e9-4192-f996-99ac86d31a09"
      },
      "execution_count": 56,
      "outputs": [
        {
          "output_type": "stream",
          "name": "stdout",
          "text": [
            "hi!hello!how!are!you\n"
          ]
        }
      ]
    },
    {
      "cell_type": "code",
      "source": [
        "seen=' '.join(['hi','hello','how','are','you'])\n",
        "print(seen)"
      ],
      "metadata": {
        "colab": {
          "base_uri": "https://localhost:8080/"
        },
        "id": "1E3ruydE1d7i",
        "outputId": "6bc33e82-894c-4467-b5ab-0b2af004dc6e"
      },
      "execution_count": 57,
      "outputs": [
        {
          "output_type": "stream",
          "name": "stdout",
          "text": [
            "hi hello how are you\n"
          ]
        }
      ]
    },
    {
      "cell_type": "code",
      "source": [
        "a,b,c, *other, d=[1,2,3,4,5,6,7,8,9]\n",
        "print(a)\n",
        "print(b)\n",
        "print(c)\n",
        "print(other)\n",
        "print(d)"
      ],
      "metadata": {
        "colab": {
          "base_uri": "https://localhost:8080/"
        },
        "id": "mjJr-pcL1mzB",
        "outputId": "e123f9ca-66f7-4135-fa13-fec2588074f3"
      },
      "execution_count": 63,
      "outputs": [
        {
          "output_type": "stream",
          "name": "stdout",
          "text": [
            "1\n",
            "2\n",
            "3\n",
            "[4, 5, 6, 7, 8]\n",
            "9\n"
          ]
        }
      ]
    },
    {
      "cell_type": "code",
      "source": [
        "dictn={'a':[0,1,2,3],'b':'hi','c':'hello'}\n",
        "print(dictn['a'][1])\n",
        "print(dictn['a'])\n",
        "print(dictn.get('age',55))\n",
        "print(dictn.get('age'))\n",
        "print('a'in dictn)"
      ],
      "metadata": {
        "colab": {
          "base_uri": "https://localhost:8080/"
        },
        "id": "XGw7LGdy2aR-",
        "outputId": "e54a419d-fda4-4497-eb08-d2029dadac58"
      },
      "execution_count": 70,
      "outputs": [
        {
          "output_type": "stream",
          "name": "stdout",
          "text": [
            "1\n",
            "[0, 1, 2, 3]\n",
            "55\n",
            "None\n",
            "True\n"
          ]
        }
      ]
    },
    {
      "cell_type": "code",
      "source": [
        "my=(1,2,3,4,5)\n",
        "print (5 in my)"
      ],
      "metadata": {
        "colab": {
          "base_uri": "https://localhost:8080/"
        },
        "id": "S_XB_fRq4Fsy",
        "outputId": "2725ef6e-8bd2-4e3b-addd-dd3cb2191fe8"
      },
      "execution_count": 71,
      "outputs": [
        {
          "output_type": "stream",
          "name": "stdout",
          "text": [
            "True\n"
          ]
        }
      ]
    },
    {
      "cell_type": "code",
      "source": [
        "my=(1,2,3,4,5)\n",
        "me=my[1:2]\n",
        "print(me)"
      ],
      "metadata": {
        "colab": {
          "base_uri": "https://localhost:8080/"
        },
        "id": "XmCbDped6XC8",
        "outputId": "72ff129c-754b-42f5-edf3-831088693290"
      },
      "execution_count": 72,
      "outputs": [
        {
          "output_type": "stream",
          "name": "stdout",
          "text": [
            "(2,)\n"
          ]
        }
      ]
    },
    {
      "cell_type": "code",
      "source": [
        "old=False\n",
        "licenced=True\n",
        "if old:\n",
        "  print('you are old enoughto drive')\n",
        "elif licenced:\n",
        "  print('you can drive now!')\n",
        "else:\n",
        "  print('youare not of age!')\n",
        "print('okok')"
      ],
      "metadata": {
        "colab": {
          "base_uri": "https://localhost:8080/"
        },
        "id": "-YKiQoZ16wnB",
        "outputId": "e8825dd8-2a60-43fb-8baa-461da8ed1496"
      },
      "execution_count": 74,
      "outputs": [
        {
          "output_type": "stream",
          "name": "stdout",
          "text": [
            "you can drive now!\n",
            "okok\n"
          ]
        }
      ]
    },
    {
      "cell_type": "code",
      "source": [
        "old=True\n",
        "licenced=True\n",
        "if old and licenced:\n",
        "  print('you are old enoughto drive')\n",
        "else:\n",
        "  print('youare not of age!')\n",
        "print('okok')"
      ],
      "metadata": {
        "colab": {
          "base_uri": "https://localhost:8080/"
        },
        "id": "nQRM6WWkIVWR",
        "outputId": "124ffcf9-2781-4888-a619-545b7e862063"
      },
      "execution_count": 76,
      "outputs": [
        {
          "output_type": "stream",
          "name": "stdout",
          "text": [
            "you are old enoughto drive\n",
            "okok\n"
          ]
        }
      ]
    },
    {
      "cell_type": "code",
      "source": [
        "#Ternary Operator\n",
        "friend=True\n",
        "can_message= 'message allowed' if friend else 'not allowed to message'\n",
        "print(can_message)"
      ],
      "metadata": {
        "colab": {
          "base_uri": "https://localhost:8080/"
        },
        "id": "ukqvhtKxJ9XJ",
        "outputId": "3a947820-f6ff-4dbd-ffc9-f0186de54f56"
      },
      "execution_count": 77,
      "outputs": [
        {
          "output_type": "stream",
          "name": "stdout",
          "text": [
            "message allowed\n"
          ]
        }
      ]
    },
    {
      "cell_type": "code",
      "source": [
        "friend=True\n",
        "best_friend=True\n",
        "if friend or best_friend:\n",
        "  print('best friend forever')"
      ],
      "metadata": {
        "colab": {
          "base_uri": "https://localhost:8080/"
        },
        "id": "TCgkpvoTZQQw",
        "outputId": "4578f446-c56a-4c90-f0b1-5f4ab827871d"
      },
      "execution_count": 78,
      "outputs": [
        {
          "output_type": "stream",
          "name": "stdout",
          "text": [
            "best friend forever\n"
          ]
        }
      ]
    },
    {
      "cell_type": "code",
      "source": [
        "print('hello'=='hello')"
      ],
      "metadata": {
        "colab": {
          "base_uri": "https://localhost:8080/"
        },
        "id": "nKUIqPHceQCR",
        "outputId": "384a4689-d7e5-4955-962b-0b4610c49c45"
      },
      "execution_count": 79,
      "outputs": [
        {
          "output_type": "stream",
          "name": "stdout",
          "text": [
            "True\n"
          ]
        }
      ]
    },
    {
      "cell_type": "code",
      "source": [
        "print('a'<'b')"
      ],
      "metadata": {
        "colab": {
          "base_uri": "https://localhost:8080/"
        },
        "id": "iKlJmygyeQV4",
        "outputId": "d2fcee65-cfb5-46fe-c1b8-d491bee74720"
      },
      "execution_count": 80,
      "outputs": [
        {
          "output_type": "stream",
          "name": "stdout",
          "text": [
            "True\n"
          ]
        }
      ]
    },
    {
      "cell_type": "code",
      "source": [
        "print('a'>'A')"
      ],
      "metadata": {
        "colab": {
          "base_uri": "https://localhost:8080/"
        },
        "id": "LRt6_1wzejYu",
        "outputId": "b2af84a9-0eaf-4255-8e0b-3b8883f00065"
      },
      "execution_count": 81,
      "outputs": [
        {
          "output_type": "stream",
          "name": "stdout",
          "text": [
            "True\n"
          ]
        }
      ]
    },
    {
      "cell_type": "code",
      "source": [
        "magician=True\n",
        "expert=True\n",
        "if expert and magician:\n",
        "  print('you are master magician')\n",
        "elif magician or not expert:\n",
        "  print('your almost there')\n",
        "elif not magician:\n",
        "  print('magical powers you need')"
      ],
      "metadata": {
        "colab": {
          "base_uri": "https://localhost:8080/"
        },
        "id": "FA9RebSCelF3",
        "outputId": "02d146db-5f61-4c52-c69d-4761224643e6"
      },
      "execution_count": 1,
      "outputs": [
        {
          "output_type": "stream",
          "name": "stdout",
          "text": [
            "you are master magician\n"
          ]
        }
      ]
    },
    {
      "cell_type": "code",
      "source": [],
      "metadata": {
        "id": "HOGN-wFL9ssg"
      },
      "execution_count": null,
      "outputs": []
    }
  ]
}