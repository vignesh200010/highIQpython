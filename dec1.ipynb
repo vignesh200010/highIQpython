{
  "nbformat": 4,
  "nbformat_minor": 0,
  "metadata": {
    "colab": {
      "provenance": [],
      "authorship_tag": "ABX9TyN78qQTF0iN1sbeH7mnnjuX",
      "include_colab_link": true
    },
    "kernelspec": {
      "name": "python3",
      "display_name": "Python 3"
    },
    "language_info": {
      "name": "python"
    }
  },
  "cells": [
    {
      "cell_type": "markdown",
      "metadata": {
        "id": "view-in-github",
        "colab_type": "text"
      },
      "source": [
        "<a href=\"https://colab.research.google.com/github/vignesh200010/highIQpython/blob/main/dec1.ipynb\" target=\"_parent\"><img src=\"https://colab.research.google.com/assets/colab-badge.svg\" alt=\"Open In Colab\"/></a>"
      ]
    },
    {
      "cell_type": "code",
      "execution_count": null,
      "metadata": {
        "id": "rfe4098Ldhb7"
      },
      "outputs": [],
      "source": [
        "import re\n",
        "var=(input('enter your mail ID:'))\n",
        "condition='[a-z]+[&]\\D{5}[.]\\D{2,3}'\n",
        "if (re.search(condition,var)):\n",
        "    print('valid email id')\n",
        "else:\n",
        "    print(\"invalid\")\n"
      ]
    }
  ]
}