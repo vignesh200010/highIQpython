{
  "nbformat": 4,
  "nbformat_minor": 0,
  "metadata": {
    "colab": {
      "provenance": [],
      "authorship_tag": "ABX9TyPsYHd111R5LbGh2q1uiyLo",
      "include_colab_link": true
    },
    "kernelspec": {
      "name": "python3",
      "display_name": "Python 3"
    },
    "language_info": {
      "name": "python"
    }
  },
  "cells": [
    {
      "cell_type": "markdown",
      "metadata": {
        "id": "view-in-github",
        "colab_type": "text"
      },
      "source": [
        "<a href=\"https://colab.research.google.com/github/vignesh200010/highIQpython/blob/main/dec1.ipynb\" target=\"_parent\"><img src=\"https://colab.research.google.com/assets/colab-badge.svg\" alt=\"Open In Colab\"/></a>"
      ]
    },
    {
      "cell_type": "code",
      "execution_count": 1,
      "metadata": {
        "colab": {
          "base_uri": "https://localhost:8080/"
        },
        "id": "rfe4098Ldhb7",
        "outputId": "c0e3dadb-5ee9-431d-8c57-321a0ac16d67"
      },
      "outputs": [
        {
          "output_type": "stream",
          "name": "stdout",
          "text": [
            "enter your mail ID:vignesh&gmail.com\n",
            "valid email id\n"
          ]
        }
      ],
      "source": [
        "import re\n",
        "var=(input('enter your mail ID:'))\n",
        "condition='[a-z]+[&]\\D{5}[.]\\D{2,3}'\n",
        "if (re.search(condition,var)):\n",
        "    print('valid email id')\n",
        "else:\n",
        "    print(\"invalid\")\n"
      ]
    },
    {
      "cell_type": "code",
      "source": [
        "import re\n",
        "regex= r'\\b[A-Z+a-z+0-9._%+-]+&(gmail|yahoo|outlook|netwon)\\.(com|in|edu|ai)\\b'\n",
        "def valid (gmail):\n",
        "    if (re.fullmatch(regex,gmail)):\n",
        "        print('valid email id')\n",
        "    else:\n",
        "        print('invalid')\n",
        "gmail='vignesh%&gmail.com'\n",
        "valid(gmail)"
      ],
      "metadata": {
        "colab": {
          "base_uri": "https://localhost:8080/"
        },
        "id": "sYme2Dximj2L",
        "outputId": "4f3f86d6-a9f9-4e7c-d39b-f8e79b586bbb"
      },
      "execution_count": 2,
      "outputs": [
        {
          "output_type": "stream",
          "name": "stdout",
          "text": [
            "valid email id\n"
          ]
        }
      ]
    },
    {
      "cell_type": "code",
      "source": [],
      "metadata": {
        "id": "aquQeOHSmmK0"
      },
      "execution_count": null,
      "outputs": []
    }
  ]
}