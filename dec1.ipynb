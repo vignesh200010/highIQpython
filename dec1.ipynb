{
  "nbformat": 4,
  "nbformat_minor": 0,
  "metadata": {
    "colab": {
      "provenance": [],
      "authorship_tag": "ABX9TyMrpxlvogOWqM5jQS6YNg3u",
      "include_colab_link": true
    },
    "kernelspec": {
      "name": "python3",
      "display_name": "Python 3"
    },
    "language_info": {
      "name": "python"
    }
  },
  "cells": [
    {
      "cell_type": "markdown",
      "metadata": {
        "id": "view-in-github",
        "colab_type": "text"
      },
      "source": [
        "<a href=\"https://colab.research.google.com/github/vignesh200010/highIQpython/blob/main/dec1.ipynb\" target=\"_parent\"><img src=\"https://colab.research.google.com/assets/colab-badge.svg\" alt=\"Open In Colab\"/></a>"
      ]
    },
    {
      "cell_type": "code",
      "execution_count": 1,
      "metadata": {
        "colab": {
          "base_uri": "https://localhost:8080/"
        },
        "id": "rfe4098Ldhb7",
        "outputId": "c0e3dadb-5ee9-431d-8c57-321a0ac16d67"
      },
      "outputs": [
        {
          "output_type": "stream",
          "name": "stdout",
          "text": [
            "enter your mail ID:vignesh&gmail.com\n",
            "valid email id\n"
          ]
        }
      ],
      "source": [
        "import re\n",
        "var=(input('enter your mail ID:'))\n",
        "condition='[a-z]+[&]\\D{5}[.]\\D{2,3}'\n",
        "if (re.search(condition,var)):\n",
        "    print('valid email id')\n",
        "else:\n",
        "    print(\"invalid\")\n"
      ]
    },
    {
      "cell_type": "code",
      "source": [
        "import re\n",
        "regex= r'\\b[A-Z+a-z+0-9._%+-]+&(gmail|yahoo|outlook|netwon)\\.(com|in|edu|ai)\\b'\n",
        "def valid (gmail):\n",
        "    if (re.fullmatch(regex,gmail)):\n",
        "        print('valid email id')\n",
        "    else:\n",
        "        print('invalid')\n",
        "gmail='vignesh%&gmail.com'\n",
        "valid(gmail)"
      ],
      "metadata": {
        "colab": {
          "base_uri": "https://localhost:8080/"
        },
        "id": "sYme2Dximj2L",
        "outputId": "4f3f86d6-a9f9-4e7c-d39b-f8e79b586bbb"
      },
      "execution_count": 2,
      "outputs": [
        {
          "output_type": "stream",
          "name": "stdout",
          "text": [
            "valid email id\n"
          ]
        }
      ]
    },
    {
      "cell_type": "code",
      "source": [
        "# Python 3: Fibonacci series up to n\n",
        "def fib(n):\n",
        "   a, b = 0, 1\n",
        "   while a < n:\n",
        "     print(a, end=' ')\n",
        "     a, b = b, a+b\n",
        "     print()\n",
        "fib(1000)"
      ],
      "metadata": {
        "colab": {
          "base_uri": "https://localhost:8080/"
        },
        "id": "aquQeOHSmmK0",
        "outputId": "a4ae22b7-90ae-438d-a94c-6bd63540c080"
      },
      "execution_count": 3,
      "outputs": [
        {
          "output_type": "stream",
          "name": "stdout",
          "text": [
            "0 \n",
            "1 \n",
            "1 \n",
            "2 \n",
            "3 \n",
            "5 \n",
            "8 \n",
            "13 \n",
            "21 \n",
            "34 \n",
            "55 \n",
            "89 \n",
            "144 \n",
            "233 \n",
            "377 \n",
            "610 \n",
            "987 \n"
          ]
        }
      ]
    },
    {
      "cell_type": "code",
      "source": [
        "print('andrei')"
      ],
      "metadata": {
        "colab": {
          "base_uri": "https://localhost:8080/"
        },
        "id": "orTjBq_QBxbW",
        "outputId": "2adb2bf7-1514-4c9d-c8b2-1cb47a9c3a0e"
      },
      "execution_count": 4,
      "outputs": [
        {
          "output_type": "stream",
          "name": "stdout",
          "text": [
            "andrei\n"
          ]
        }
      ]
    },
    {
      "cell_type": "code",
      "source": [
        "input('whats your name?')"
      ],
      "metadata": {
        "colab": {
          "base_uri": "https://localhost:8080/",
          "height": 54
        },
        "id": "mkHYt8HGHj4m",
        "outputId": "285e517a-996b-4677-878e-a6ffa6adc676"
      },
      "execution_count": 5,
      "outputs": [
        {
          "name": "stdout",
          "output_type": "stream",
          "text": [
            "whats your name?andrei\n"
          ]
        },
        {
          "output_type": "execute_result",
          "data": {
            "text/plain": [
              "'andrei'"
            ],
            "application/vnd.google.colaboratory.intrinsic+json": {
              "type": "string"
            }
          },
          "metadata": {},
          "execution_count": 5
        }
      ]
    },
    {
      "cell_type": "code",
      "source": [
        "name=input('whats your name?')\n",
        "print(name)"
      ],
      "metadata": {
        "colab": {
          "base_uri": "https://localhost:8080/"
        },
        "id": "n-YoaUoIHo3b",
        "outputId": "eafb8e44-e937-4a51-e715-54e4a43b317c"
      },
      "execution_count": 6,
      "outputs": [
        {
          "output_type": "stream",
          "name": "stdout",
          "text": [
            "whats your name?andrei\n",
            "andrei\n"
          ]
        }
      ]
    },
    {
      "cell_type": "code",
      "source": [
        "name=input('whats your name?')\n",
        "print('hellooo ' +name)"
      ],
      "metadata": {
        "colab": {
          "base_uri": "https://localhost:8080/"
        },
        "id": "lFKhNdvoIeJd",
        "outputId": "28d27abb-0971-4f45-db64-953093321327"
      },
      "execution_count": 7,
      "outputs": [
        {
          "output_type": "stream",
          "name": "stdout",
          "text": [
            "whats your name?andrei\n",
            "hellooo andrei\n"
          ]
        }
      ]
    },
    {
      "cell_type": "code",
      "source": [],
      "metadata": {
        "id": "0EkK7LZnJmI-"
      },
      "execution_count": null,
      "outputs": []
    }
  ]
}