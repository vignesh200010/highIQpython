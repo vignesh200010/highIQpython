{
  "nbformat": 4,
  "nbformat_minor": 0,
  "metadata": {
    "colab": {
      "provenance": [],
      "authorship_tag": "ABX9TyPW+l3iQnkHOgPSMhrnMeoa",
      "include_colab_link": true
    },
    "kernelspec": {
      "name": "python3",
      "display_name": "Python 3"
    },
    "language_info": {
      "name": "python"
    }
  },
  "cells": [
    {
      "cell_type": "markdown",
      "metadata": {
        "id": "view-in-github",
        "colab_type": "text"
      },
      "source": [
        "<a href=\"https://colab.research.google.com/github/vignesh200010/highIQpython/blob/main/regular_expression.ipynb\" target=\"_parent\"><img src=\"https://colab.research.google.com/assets/colab-badge.svg\" alt=\"Open In Colab\"/></a>"
      ]
    },
    {
      "cell_type": "code",
      "execution_count": null,
      "metadata": {
        "colab": {
          "base_uri": "https://localhost:8080/",
          "height": 244
        },
        "id": "Mv6fNuB0vy3j",
        "outputId": "e16fb9f1-c4cd-4516-c74e-59325427f3eb"
      },
      "outputs": [
        {
          "output_type": "error",
          "ename": "NameError",
          "evalue": "ignored",
          "traceback": [
            "\u001b[0;31m---------------------------------------------------------------------------\u001b[0m",
            "\u001b[0;31mNameError\u001b[0m                                 Traceback (most recent call last)",
            "\u001b[0;32m<ipython-input-2-d97507f27e3f>\u001b[0m in \u001b[0;36m<module>\u001b[0;34m\u001b[0m\n\u001b[0;32m----> 1\u001b[0;31m \u001b[0miterator\u001b[0m \u001b[0;34m=\u001b[0m \u001b[0mp\u001b[0m\u001b[0;34m.\u001b[0m\u001b[0mfinditer\u001b[0m\u001b[0;34m(\u001b[0m\u001b[0;34m'12 drummers drumming, 11 ... 10 ...'\u001b[0m\u001b[0;34m)\u001b[0m\u001b[0;34m\u001b[0m\u001b[0;34m\u001b[0m\u001b[0m\n\u001b[0m\u001b[1;32m      2\u001b[0m \u001b[0miterator\u001b[0m\u001b[0;34m\u001b[0m\u001b[0;34m\u001b[0m\u001b[0m\n\u001b[1;32m      3\u001b[0m \u001b[0;31m#<callable_iterator object at 0x...>\u001b[0m\u001b[0;34m\u001b[0m\u001b[0;34m\u001b[0m\u001b[0;34m\u001b[0m\u001b[0m\n\u001b[1;32m      4\u001b[0m \u001b[0;32mfor\u001b[0m \u001b[0mmatch\u001b[0m \u001b[0;32min\u001b[0m \u001b[0miterator\u001b[0m\u001b[0;34m:\u001b[0m\u001b[0;34m\u001b[0m\u001b[0;34m\u001b[0m\u001b[0m\n\u001b[1;32m      5\u001b[0m     \u001b[0mprint\u001b[0m\u001b[0;34m(\u001b[0m\u001b[0mmatch\u001b[0m\u001b[0;34m.\u001b[0m\u001b[0mspan\u001b[0m\u001b[0;34m(\u001b[0m\u001b[0;34m)\u001b[0m\u001b[0;34m)\u001b[0m\u001b[0;34m\u001b[0m\u001b[0;34m\u001b[0m\u001b[0m\n",
            "\u001b[0;31mNameError\u001b[0m: name 'p' is not defined"
          ]
        }
      ],
      "source": [
        "iterator = p.finditer('12 drummers drumming, 11 ... 10 ...')\n",
        "iterator  \n",
        "#<callable_iterator object at 0x...>\n",
        "for match in iterator:\n",
        "    print(match.span())\n",
        "\n",
        "#(0, 2)\n",
        "#(22, 24)\n",
        "#(29, 31)"
      ]
    },
    {
      "cell_type": "code",
      "source": [
        "import re\n",
        "help(re)"
      ],
      "metadata": {
        "id": "tDSzM7o54po4",
        "colab": {
          "base_uri": "https://localhost:8080/"
        },
        "outputId": "b7dcc04d-9592-42b3-8c2d-b12f8093a532"
      },
      "execution_count": null,
      "outputs": [
        {
          "output_type": "stream",
          "name": "stdout",
          "text": [
            "Help on module re:\n",
            "\n",
            "NAME\n",
            "    re - Support for regular expressions (RE).\n",
            "\n",
            "MODULE REFERENCE\n",
            "    https://docs.python.org/3.8/library/re\n",
            "    \n",
            "    The following documentation is automatically generated from the Python\n",
            "    source files.  It may be incomplete, incorrect or include features that\n",
            "    are considered implementation detail and may vary between Python\n",
            "    implementations.  When in doubt, consult the module reference at the\n",
            "    location listed above.\n",
            "\n",
            "DESCRIPTION\n",
            "    This module provides regular expression matching operations similar to\n",
            "    those found in Perl.  It supports both 8-bit and Unicode strings; both\n",
            "    the pattern and the strings being processed can contain null bytes and\n",
            "    characters outside the US ASCII range.\n",
            "    \n",
            "    Regular expressions can contain both special and ordinary characters.\n",
            "    Most ordinary characters, like \"A\", \"a\", or \"0\", are the simplest\n",
            "    regular expressions; they simply match themselves.  You can\n",
            "    concatenate ordinary characters, so last matches the string 'last'.\n",
            "    \n",
            "    The special characters are:\n",
            "        \".\"      Matches any character except a newline.\n",
            "        \"^\"      Matches the start of the string.\n",
            "        \"$\"      Matches the end of the string or just before the newline at\n",
            "                 the end of the string.\n",
            "        \"*\"      Matches 0 or more (greedy) repetitions of the preceding RE.\n",
            "                 Greedy means that it will match as many repetitions as possible.\n",
            "        \"+\"      Matches 1 or more (greedy) repetitions of the preceding RE.\n",
            "        \"?\"      Matches 0 or 1 (greedy) of the preceding RE.\n",
            "        *?,+?,?? Non-greedy versions of the previous three special characters.\n",
            "        {m,n}    Matches from m to n repetitions of the preceding RE.\n",
            "        {m,n}?   Non-greedy version of the above.\n",
            "        \"\\\\\"     Either escapes special characters or signals a special sequence.\n",
            "        []       Indicates a set of characters.\n",
            "                 A \"^\" as the first character indicates a complementing set.\n",
            "        \"|\"      A|B, creates an RE that will match either A or B.\n",
            "        (...)    Matches the RE inside the parentheses.\n",
            "                 The contents can be retrieved or matched later in the string.\n",
            "        (?aiLmsux) The letters set the corresponding flags defined below.\n",
            "        (?:...)  Non-grouping version of regular parentheses.\n",
            "        (?P<name>...) The substring matched by the group is accessible by name.\n",
            "        (?P=name)     Matches the text matched earlier by the group named name.\n",
            "        (?#...)  A comment; ignored.\n",
            "        (?=...)  Matches if ... matches next, but doesn't consume the string.\n",
            "        (?!...)  Matches if ... doesn't match next.\n",
            "        (?<=...) Matches if preceded by ... (must be fixed length).\n",
            "        (?<!...) Matches if not preceded by ... (must be fixed length).\n",
            "        (?(id/name)yes|no) Matches yes pattern if the group with id/name matched,\n",
            "                           the (optional) no pattern otherwise.\n",
            "    \n",
            "    The special sequences consist of \"\\\\\" and a character from the list\n",
            "    below.  If the ordinary character is not on the list, then the\n",
            "    resulting RE will match the second character.\n",
            "        \\number  Matches the contents of the group of the same number.\n",
            "        \\A       Matches only at the start of the string.\n",
            "        \\Z       Matches only at the end of the string.\n",
            "        \\b       Matches the empty string, but only at the start or end of a word.\n",
            "        \\B       Matches the empty string, but not at the start or end of a word.\n",
            "        \\d       Matches any decimal digit; equivalent to the set [0-9] in\n",
            "                 bytes patterns or string patterns with the ASCII flag.\n",
            "                 In string patterns without the ASCII flag, it will match the whole\n",
            "                 range of Unicode digits.\n",
            "        \\D       Matches any non-digit character; equivalent to [^\\d].\n",
            "        \\s       Matches any whitespace character; equivalent to [ \\t\\n\\r\\f\\v] in\n",
            "                 bytes patterns or string patterns with the ASCII flag.\n",
            "                 In string patterns without the ASCII flag, it will match the whole\n",
            "                 range of Unicode whitespace characters.\n",
            "        \\S       Matches any non-whitespace character; equivalent to [^\\s].\n",
            "        \\w       Matches any alphanumeric character; equivalent to [a-zA-Z0-9_]\n",
            "                 in bytes patterns or string patterns with the ASCII flag.\n",
            "                 In string patterns without the ASCII flag, it will match the\n",
            "                 range of Unicode alphanumeric characters (letters plus digits\n",
            "                 plus underscore).\n",
            "                 With LOCALE, it will match the set [0-9_] plus characters defined\n",
            "                 as letters for the current locale.\n",
            "        \\W       Matches the complement of \\w.\n",
            "        \\\\       Matches a literal backslash.\n",
            "    \n",
            "    This module exports the following functions:\n",
            "        match     Match a regular expression pattern to the beginning of a string.\n",
            "        fullmatch Match a regular expression pattern to all of a string.\n",
            "        search    Search a string for the presence of a pattern.\n",
            "        sub       Substitute occurrences of a pattern found in a string.\n",
            "        subn      Same as sub, but also return the number of substitutions made.\n",
            "        split     Split a string by the occurrences of a pattern.\n",
            "        findall   Find all occurrences of a pattern in a string.\n",
            "        finditer  Return an iterator yielding a Match object for each match.\n",
            "        compile   Compile a pattern into a Pattern object.\n",
            "        purge     Clear the regular expression cache.\n",
            "        escape    Backslash all non-alphanumerics in a string.\n",
            "    \n",
            "    Each function other than purge and escape can take an optional 'flags' argument\n",
            "    consisting of one or more of the following module constants, joined by \"|\".\n",
            "    A, L, and U are mutually exclusive.\n",
            "        A  ASCII       For string patterns, make \\w, \\W, \\b, \\B, \\d, \\D\n",
            "                       match the corresponding ASCII character categories\n",
            "                       (rather than the whole Unicode categories, which is the\n",
            "                       default).\n",
            "                       For bytes patterns, this flag is the only available\n",
            "                       behaviour and needn't be specified.\n",
            "        I  IGNORECASE  Perform case-insensitive matching.\n",
            "        L  LOCALE      Make \\w, \\W, \\b, \\B, dependent on the current locale.\n",
            "        M  MULTILINE   \"^\" matches the beginning of lines (after a newline)\n",
            "                       as well as the string.\n",
            "                       \"$\" matches the end of lines (before a newline) as well\n",
            "                       as the end of the string.\n",
            "        S  DOTALL      \".\" matches any character at all, including the newline.\n",
            "        X  VERBOSE     Ignore whitespace and comments for nicer looking RE's.\n",
            "        U  UNICODE     For compatibility only. Ignored for string patterns (it\n",
            "                       is the default), and forbidden for bytes patterns.\n",
            "    \n",
            "    This module also defines an exception 'error'.\n",
            "\n",
            "CLASSES\n",
            "    builtins.Exception(builtins.BaseException)\n",
            "        error\n",
            "    builtins.object\n",
            "        Match\n",
            "        Pattern\n",
            "    \n",
            "    class Match(builtins.object)\n",
            "     |  The result of re.match() and re.search().\n",
            "     |  Match objects always have a boolean value of True.\n",
            "     |  \n",
            "     |  Methods defined here:\n",
            "     |  \n",
            "     |  __copy__(self, /)\n",
            "     |  \n",
            "     |  __deepcopy__(self, memo, /)\n",
            "     |  \n",
            "     |  __getitem__(self, key, /)\n",
            "     |      Return self[key].\n",
            "     |  \n",
            "     |  __repr__(self, /)\n",
            "     |      Return repr(self).\n",
            "     |  \n",
            "     |  end(self, group=0, /)\n",
            "     |      Return index of the end of the substring matched by group.\n",
            "     |  \n",
            "     |  expand(self, /, template)\n",
            "     |      Return the string obtained by doing backslash substitution on the string template, as done by the sub() method.\n",
            "     |  \n",
            "     |  group(...)\n",
            "     |      group([group1, ...]) -> str or tuple.\n",
            "     |      Return subgroup(s) of the match by indices or names.\n",
            "     |      For 0 returns the entire match.\n",
            "     |  \n",
            "     |  groupdict(self, /, default=None)\n",
            "     |      Return a dictionary containing all the named subgroups of the match, keyed by the subgroup name.\n",
            "     |      \n",
            "     |      default\n",
            "     |        Is used for groups that did not participate in the match.\n",
            "     |  \n",
            "     |  groups(self, /, default=None)\n",
            "     |      Return a tuple containing all the subgroups of the match, from 1.\n",
            "     |      \n",
            "     |      default\n",
            "     |        Is used for groups that did not participate in the match.\n",
            "     |  \n",
            "     |  span(self, group=0, /)\n",
            "     |      For match object m, return the 2-tuple (m.start(group), m.end(group)).\n",
            "     |  \n",
            "     |  start(self, group=0, /)\n",
            "     |      Return index of the start of the substring matched by group.\n",
            "     |  \n",
            "     |  ----------------------------------------------------------------------\n",
            "     |  Data descriptors defined here:\n",
            "     |  \n",
            "     |  endpos\n",
            "     |      The index into the string beyond which the RE engine will not go.\n",
            "     |  \n",
            "     |  lastgroup\n",
            "     |      The name of the last matched capturing group.\n",
            "     |  \n",
            "     |  lastindex\n",
            "     |      The integer index of the last matched capturing group.\n",
            "     |  \n",
            "     |  pos\n",
            "     |      The index into the string at which the RE engine started looking for a match.\n",
            "     |  \n",
            "     |  re\n",
            "     |      The regular expression object.\n",
            "     |  \n",
            "     |  regs\n",
            "     |  \n",
            "     |  string\n",
            "     |      The string passed to match() or search().\n",
            "    \n",
            "    class Pattern(builtins.object)\n",
            "     |  Compiled regular expression object.\n",
            "     |  \n",
            "     |  Methods defined here:\n",
            "     |  \n",
            "     |  __copy__(self, /)\n",
            "     |  \n",
            "     |  __deepcopy__(self, memo, /)\n",
            "     |  \n",
            "     |  __eq__(self, value, /)\n",
            "     |      Return self==value.\n",
            "     |  \n",
            "     |  __ge__(self, value, /)\n",
            "     |      Return self>=value.\n",
            "     |  \n",
            "     |  __gt__(self, value, /)\n",
            "     |      Return self>value.\n",
            "     |  \n",
            "     |  __hash__(self, /)\n",
            "     |      Return hash(self).\n",
            "     |  \n",
            "     |  __le__(self, value, /)\n",
            "     |      Return self<=value.\n",
            "     |  \n",
            "     |  __lt__(self, value, /)\n",
            "     |      Return self<value.\n",
            "     |  \n",
            "     |  __ne__(self, value, /)\n",
            "     |      Return self!=value.\n",
            "     |  \n",
            "     |  __repr__(self, /)\n",
            "     |      Return repr(self).\n",
            "     |  \n",
            "     |  findall(self, /, string, pos=0, endpos=9223372036854775807)\n",
            "     |      Return a list of all non-overlapping matches of pattern in string.\n",
            "     |  \n",
            "     |  finditer(self, /, string, pos=0, endpos=9223372036854775807)\n",
            "     |      Return an iterator over all non-overlapping matches for the RE pattern in string.\n",
            "     |      \n",
            "     |      For each match, the iterator returns a match object.\n",
            "     |  \n",
            "     |  fullmatch(self, /, string, pos=0, endpos=9223372036854775807)\n",
            "     |      Matches against all of the string.\n",
            "     |  \n",
            "     |  match(self, /, string, pos=0, endpos=9223372036854775807)\n",
            "     |      Matches zero or more characters at the beginning of the string.\n",
            "     |  \n",
            "     |  scanner(self, /, string, pos=0, endpos=9223372036854775807)\n",
            "     |  \n",
            "     |  search(self, /, string, pos=0, endpos=9223372036854775807)\n",
            "     |      Scan through string looking for a match, and return a corresponding match object instance.\n",
            "     |      \n",
            "     |      Return None if no position in the string matches.\n",
            "     |  \n",
            "     |  split(self, /, string, maxsplit=0)\n",
            "     |      Split string by the occurrences of pattern.\n",
            "     |  \n",
            "     |  sub(self, /, repl, string, count=0)\n",
            "     |      Return the string obtained by replacing the leftmost non-overlapping occurrences of pattern in string by the replacement repl.\n",
            "     |  \n",
            "     |  subn(self, /, repl, string, count=0)\n",
            "     |      Return the tuple (new_string, number_of_subs_made) found by replacing the leftmost non-overlapping occurrences of pattern with the replacement repl.\n",
            "     |  \n",
            "     |  ----------------------------------------------------------------------\n",
            "     |  Data descriptors defined here:\n",
            "     |  \n",
            "     |  flags\n",
            "     |      The regex matching flags.\n",
            "     |  \n",
            "     |  groupindex\n",
            "     |      A dictionary mapping group names to group numbers.\n",
            "     |  \n",
            "     |  groups\n",
            "     |      The number of capturing groups in the pattern.\n",
            "     |  \n",
            "     |  pattern\n",
            "     |      The pattern string from which the RE object was compiled.\n",
            "    \n",
            "    class error(builtins.Exception)\n",
            "     |  error(msg, pattern=None, pos=None)\n",
            "     |  \n",
            "     |  Exception raised for invalid regular expressions.\n",
            "     |  \n",
            "     |  Attributes:\n",
            "     |  \n",
            "     |      msg: The unformatted error message\n",
            "     |      pattern: The regular expression pattern\n",
            "     |      pos: The index in the pattern where compilation failed (may be None)\n",
            "     |      lineno: The line corresponding to pos (may be None)\n",
            "     |      colno: The column corresponding to pos (may be None)\n",
            "     |  \n",
            "     |  Method resolution order:\n",
            "     |      error\n",
            "     |      builtins.Exception\n",
            "     |      builtins.BaseException\n",
            "     |      builtins.object\n",
            "     |  \n",
            "     |  Methods defined here:\n",
            "     |  \n",
            "     |  __init__(self, msg, pattern=None, pos=None)\n",
            "     |      Initialize self.  See help(type(self)) for accurate signature.\n",
            "     |  \n",
            "     |  ----------------------------------------------------------------------\n",
            "     |  Data descriptors defined here:\n",
            "     |  \n",
            "     |  __weakref__\n",
            "     |      list of weak references to the object (if defined)\n",
            "     |  \n",
            "     |  ----------------------------------------------------------------------\n",
            "     |  Static methods inherited from builtins.Exception:\n",
            "     |  \n",
            "     |  __new__(*args, **kwargs) from builtins.type\n",
            "     |      Create and return a new object.  See help(type) for accurate signature.\n",
            "     |  \n",
            "     |  ----------------------------------------------------------------------\n",
            "     |  Methods inherited from builtins.BaseException:\n",
            "     |  \n",
            "     |  __delattr__(self, name, /)\n",
            "     |      Implement delattr(self, name).\n",
            "     |  \n",
            "     |  __getattribute__(self, name, /)\n",
            "     |      Return getattr(self, name).\n",
            "     |  \n",
            "     |  __reduce__(...)\n",
            "     |      Helper for pickle.\n",
            "     |  \n",
            "     |  __repr__(self, /)\n",
            "     |      Return repr(self).\n",
            "     |  \n",
            "     |  __setattr__(self, name, value, /)\n",
            "     |      Implement setattr(self, name, value).\n",
            "     |  \n",
            "     |  __setstate__(...)\n",
            "     |  \n",
            "     |  __str__(self, /)\n",
            "     |      Return str(self).\n",
            "     |  \n",
            "     |  with_traceback(...)\n",
            "     |      Exception.with_traceback(tb) --\n",
            "     |      set self.__traceback__ to tb and return self.\n",
            "     |  \n",
            "     |  ----------------------------------------------------------------------\n",
            "     |  Data descriptors inherited from builtins.BaseException:\n",
            "     |  \n",
            "     |  __cause__\n",
            "     |      exception cause\n",
            "     |  \n",
            "     |  __context__\n",
            "     |      exception context\n",
            "     |  \n",
            "     |  __dict__\n",
            "     |  \n",
            "     |  __suppress_context__\n",
            "     |  \n",
            "     |  __traceback__\n",
            "     |  \n",
            "     |  args\n",
            "\n",
            "FUNCTIONS\n",
            "    compile(pattern, flags=0)\n",
            "        Compile a regular expression pattern, returning a Pattern object.\n",
            "    \n",
            "    escape(pattern)\n",
            "        Escape special characters in a string.\n",
            "    \n",
            "    findall(pattern, string, flags=0)\n",
            "        Return a list of all non-overlapping matches in the string.\n",
            "        \n",
            "        If one or more capturing groups are present in the pattern, return\n",
            "        a list of groups; this will be a list of tuples if the pattern\n",
            "        has more than one group.\n",
            "        \n",
            "        Empty matches are included in the result.\n",
            "    \n",
            "    finditer(pattern, string, flags=0)\n",
            "        Return an iterator over all non-overlapping matches in the\n",
            "        string.  For each match, the iterator returns a Match object.\n",
            "        \n",
            "        Empty matches are included in the result.\n",
            "    \n",
            "    fullmatch(pattern, string, flags=0)\n",
            "        Try to apply the pattern to all of the string, returning\n",
            "        a Match object, or None if no match was found.\n",
            "    \n",
            "    match(pattern, string, flags=0)\n",
            "        Try to apply the pattern at the start of the string, returning\n",
            "        a Match object, or None if no match was found.\n",
            "    \n",
            "    purge()\n",
            "        Clear the regular expression caches\n",
            "    \n",
            "    search(pattern, string, flags=0)\n",
            "        Scan through string looking for a match to the pattern, returning\n",
            "        a Match object, or None if no match was found.\n",
            "    \n",
            "    split(pattern, string, maxsplit=0, flags=0)\n",
            "        Split the source string by the occurrences of the pattern,\n",
            "        returning a list containing the resulting substrings.  If\n",
            "        capturing parentheses are used in pattern, then the text of all\n",
            "        groups in the pattern are also returned as part of the resulting\n",
            "        list.  If maxsplit is nonzero, at most maxsplit splits occur,\n",
            "        and the remainder of the string is returned as the final element\n",
            "        of the list.\n",
            "    \n",
            "    sub(pattern, repl, string, count=0, flags=0)\n",
            "        Return the string obtained by replacing the leftmost\n",
            "        non-overlapping occurrences of the pattern in string by the\n",
            "        replacement repl.  repl can be either a string or a callable;\n",
            "        if a string, backslash escapes in it are processed.  If it is\n",
            "        a callable, it's passed the Match object and must return\n",
            "        a replacement string to be used.\n",
            "    \n",
            "    subn(pattern, repl, string, count=0, flags=0)\n",
            "        Return a 2-tuple containing (new_string, number).\n",
            "        new_string is the string obtained by replacing the leftmost\n",
            "        non-overlapping occurrences of the pattern in the source\n",
            "        string by the replacement repl.  number is the number of\n",
            "        substitutions that were made. repl can be either a string or a\n",
            "        callable; if a string, backslash escapes in it are processed.\n",
            "        If it is a callable, it's passed the Match object and must\n",
            "        return a replacement string to be used.\n",
            "    \n",
            "    template(pattern, flags=0)\n",
            "        Compile a template pattern, returning a Pattern object\n",
            "\n",
            "DATA\n",
            "    A = re.ASCII\n",
            "    ASCII = re.ASCII\n",
            "    DOTALL = re.DOTALL\n",
            "    I = re.IGNORECASE\n",
            "    IGNORECASE = re.IGNORECASE\n",
            "    L = re.LOCALE\n",
            "    LOCALE = re.LOCALE\n",
            "    M = re.MULTILINE\n",
            "    MULTILINE = re.MULTILINE\n",
            "    S = re.DOTALL\n",
            "    U = re.UNICODE\n",
            "    UNICODE = re.UNICODE\n",
            "    VERBOSE = re.VERBOSE\n",
            "    X = re.VERBOSE\n",
            "    __all__ = ['match', 'fullmatch', 'search', 'sub', 'subn', 'split', 'fi...\n",
            "\n",
            "VERSION\n",
            "    2.2.1\n",
            "\n",
            "FILE\n",
            "    /usr/lib/python3.8/re.py\n",
            "\n",
            "\n"
          ]
        }
      ]
    },
    {
      "cell_type": "code",
      "source": [
        "var=r\"C:\\Users\\new\\tenthfolder\"\n",
        "print(var)"
      ],
      "metadata": {
        "colab": {
          "base_uri": "https://localhost:8080/"
        },
        "id": "CH0vQKIxClCN",
        "outputId": "4d4b473d-07b8-459c-bfcd-c8f59523707d"
      },
      "execution_count": null,
      "outputs": [
        {
          "output_type": "stream",
          "name": "stdout",
          "text": [
            "C:\\Users\\new\\tenthfolder\n"
          ]
        }
      ]
    },
    {
      "cell_type": "code",
      "source": [
        "import re\n",
        "string = \"The Euro STOXX 600 index, which tracks all stock markets across Europe including the FTSE, fell by 11.48% – the worst day since it launched in 1998. The panic selling prompted by the coronavirus has wiped £2.7tn off the value of STOXX 600 shares since its all-time peak on 19 February.\"\n",
        "s = r\"\\d{4}\"\n",
        "type(s)\n",
        "t = re.compile(s)\n",
        "type(t)\n",
        "result = re.findall(t, string)\n",
        "print(result)"
      ],
      "metadata": {
        "colab": {
          "base_uri": "https://localhost:8080/"
        },
        "id": "q8vmDfS5JjMY",
        "outputId": "1f38b0ed-2e44-429a-98d6-76c98e4125e9"
      },
      "execution_count": null,
      "outputs": [
        {
          "output_type": "stream",
          "name": "stdout",
          "text": [
            "['1998']\n"
          ]
        }
      ]
    },
    {
      "cell_type": "code",
      "source": [
        "string = \"The Euro STOXX 600 index, which tracks all stock markets across Europe including the FTSE, fell by 11.48% – the worst day since it launched in 1998. The panic selling prompted by the coronavirus has wiped £2.7tn off the value of STOXX 600 shares since its all-time peak on 19 February.\"\n",
        "import re\n",
        "result = re.search(r\"\\d{3}\", string)\n",
        "print(result)\n",
        "print (type(result))\n",
        "#<re.Match object; span=(15, 18), match='600'>"
      ],
      "metadata": {
        "colab": {
          "base_uri": "https://localhost:8080/"
        },
        "id": "8h69kBH8MYuY",
        "outputId": "ab78486e-3e29-4dd1-bd3c-e641866abc51"
      },
      "execution_count": null,
      "outputs": [
        {
          "output_type": "stream",
          "name": "stdout",
          "text": [
            "<re.Match object; span=(15, 18), match='600'>\n",
            "<class 're.Match'>\n"
          ]
        }
      ]
    },
    {
      "cell_type": "code",
      "source": [
        "string = \"The Euro STOXX 600 index, which tracks all stock markets across Europe including the FTSE, fell by 11.48% – the worst day since it launched in 1998. The panic selling prompted by the coronavirus has wiped £2.7tn off the value of STOXX 600 shares since its all-time peak on 19 February.\"\n",
        "import re\n",
        "result = re.match(r\"\\w{3}\", string)\n",
        "result\n",
        "#<re.Match object; span=(0, 3), match='The'>"
      ],
      "metadata": {
        "colab": {
          "base_uri": "https://localhost:8080/"
        },
        "id": "3W_DjvsbStcl",
        "outputId": "7fc2f9b3-6279-4de0-e715-bcb3a4b7df31"
      },
      "execution_count": null,
      "outputs": [
        {
          "output_type": "execute_result",
          "data": {
            "text/plain": [
              "<re.Match object; span=(0, 3), match='The'>"
            ]
          },
          "metadata": {},
          "execution_count": 11
        }
      ]
    },
    {
      "cell_type": "code",
      "source": [
        "string = \"The Euro STOXX 600 index, which tracks all stock markets across Europe including the FTSE, fell by 11.48% – the worst day since it launched in 1998. The panic selling prompted by the coronavirus has wiped £2.7tn off the value of STOXX 600 shares since its all-time peak on 19 February.\"\n",
        "import re\n",
        "result = re.fullmatch(r\".{285}\", string)\n",
        "result\n",
        "#<re.Match object; span=(0, 285), match='The Euro STOXX 600 index, which tracks all stock >"
      ],
      "metadata": {
        "colab": {
          "base_uri": "https://localhost:8080/"
        },
        "id": "V61rAv3hc0-d",
        "outputId": "d4a1f5d9-5059-4dbc-ff5b-bf12444e25c4"
      },
      "execution_count": null,
      "outputs": [
        {
          "output_type": "execute_result",
          "data": {
            "text/plain": [
              "<re.Match object; span=(0, 285), match='The Euro STOXX 600 index, which tracks all stock >"
            ]
          },
          "metadata": {},
          "execution_count": 12
        }
      ]
    },
    {
      "cell_type": "code",
      "source": [
        "string = \"The Euro STOXX 600 index, which tracks all stock markets across Europe including the FTSE, fell by 11.48% – the worst day since it launched in 1998. The panic selling prompted by the coronavirus has wiped £2.7tn off the value of STOXX 600 shares since its all-time peak on 19 February.\"\n",
        "import re\n",
        "result = re.fullmatch(r\"\\w{285}\", string)\n",
        "result\n",
        "type(result)"
      ],
      "metadata": {
        "colab": {
          "base_uri": "https://localhost:8080/"
        },
        "id": "Db2BjMxmhzJU",
        "outputId": "b8823557-069c-49c6-91da-20f311ee95b9"
      },
      "execution_count": null,
      "outputs": [
        {
          "output_type": "execute_result",
          "data": {
            "text/plain": [
              "NoneType"
            ]
          },
          "metadata": {},
          "execution_count": 15
        }
      ]
    },
    {
      "cell_type": "code",
      "source": [
        "string = \"The Euro STOXX 600 index, which tracks all stock markets across Europe including the FTSE, fell by 11.48% – the worst day since it launched in 1998. The panic selling prompted by the coronavirus has wiped £2.7tn off the value of STOXX 600 shares since its all-time peak on 19 February.\"\n",
        "import re\n",
        "result = re.findall(r\"\\d{3}\", string)\n",
        "result\n"
      ],
      "metadata": {
        "colab": {
          "base_uri": "https://localhost:8080/"
        },
        "id": "e-M49-PPh1dl",
        "outputId": "465dffc1-be40-41ea-a531-cc82e2ccc992"
      },
      "execution_count": null,
      "outputs": [
        {
          "output_type": "execute_result",
          "data": {
            "text/plain": [
              "['600', '199', '600']"
            ]
          },
          "metadata": {},
          "execution_count": 18
        }
      ]
    },
    {
      "cell_type": "code",
      "source": [
        "string = \"The Euro STOXX 600 index, which tracks all stock markets across Europe including the FTSE, fell by 11.48% – the worst day since it launched in 1998. The panic selling prompted by the coronavirus has wiped £2.7tn off the value of STOXX 600 shares since its all-time peak on 19 February.\"\n",
        "import re\n",
        "result = re.split(r\"\\s\", string)\n",
        "print(result)"
      ],
      "metadata": {
        "colab": {
          "base_uri": "https://localhost:8080/"
        },
        "id": "0oeddU7yk7Y5",
        "outputId": "75e7c7d9-adea-44af-8d9a-6686f2b302bb"
      },
      "execution_count": null,
      "outputs": [
        {
          "output_type": "stream",
          "name": "stdout",
          "text": [
            "['The', 'Euro', 'STOXX', '600', 'index,', 'which', 'tracks', 'all', 'stock', 'markets', 'across', 'Europe', 'including', 'the', 'FTSE,', 'fell', 'by', '11.48%', '–', 'the', 'worst', 'day', 'since', 'it', 'launched', 'in', '1998.', 'The', 'panic', 'selling', 'prompted', 'by', 'the', 'coronavirus', 'has', 'wiped', '£2.7tn', 'off', 'the', 'value', 'of', 'STOXX', '600', 'shares', 'since', 'its', 'all-time', 'peak', 'on', '19', 'February.']\n"
          ]
        }
      ]
    },
    {
      "cell_type": "code",
      "source": [
        "string = \"The Euro STOXX 600 index, which tracks all stock markets across Europe including the FTSE, fell by 11.48% – the worst day since it launched in 1998. The panic selling prompted by the coronavirus has wiped £2.7tn off the value of STOXX 600 shares since its all-time peak on 19 February.\"\n",
        "\n",
        "a=string.split(' ')\n",
        "print(a)"
      ],
      "metadata": {
        "colab": {
          "base_uri": "https://localhost:8080/"
        },
        "id": "cAePNrSJ1cFG",
        "outputId": "c4bf9400-4a37-4f1c-8c81-df85e280ccd3"
      },
      "execution_count": null,
      "outputs": [
        {
          "output_type": "stream",
          "name": "stdout",
          "text": [
            "['The', 'Euro', 'STOXX', '600', 'index,', 'which', 'tracks', 'all', 'stock', 'markets', 'across', 'Europe', 'including', 'the', 'FTSE,', 'fell', 'by', '11.48%', '–', 'the', 'worst', 'day', 'since', 'it', 'launched', 'in', '1998.', 'The', 'panic', 'selling', 'prompted', 'by', 'the', 'coronavirus', 'has', 'wiped', '£2.7tn', 'off', 'the', 'value', 'of', 'STOXX', '600', 'shares', 'since', 'its', 'all-time', 'peak', 'on', '19', 'February.']\n"
          ]
        }
      ]
    },
    {
      "cell_type": "code",
      "source": [
        "string = \"The Euro STOXX 600 index, which tracks all stock markets across Europe including the FTSE, fell by 11.48% – the worst day since it launched in 1998. The panic selling prompted by the coronavirus has wiped £2.7tn off the value of STOXX 600 shares since its all-time peak on 19 February.\"\n",
        "import re\n",
        "result = re.sub(r\"[A-Z]{2,}\", \"INDEX\", string)\n",
        "print(result)"
      ],
      "metadata": {
        "colab": {
          "base_uri": "https://localhost:8080/"
        },
        "id": "36vTVNxl11fp",
        "outputId": "7671c4ea-81d9-46f5-af24-4eeb877ed6f4"
      },
      "execution_count": null,
      "outputs": [
        {
          "output_type": "stream",
          "name": "stdout",
          "text": [
            "The Euro INDEX 600 index, which tracks all stock markets across Europe including the INDEX, fell by 11.48% – the worst day since it launched in 1998. The panic selling prompted by the coronavirus has wiped £2.7tn off the value of INDEX 600 shares since its all-time peak on 19 February.\n"
          ]
        }
      ]
    },
    {
      "cell_type": "code",
      "source": [
        "string = \"The Euro STOXX 600 index, which tracks all stock markets across Europe including the FTSE, fell by 11.48% – the worst day since it launched in 1998. The panic selling prompted by the coronavirus has wiped £2.7tn off the value of STOXX 600 shares since its all-time peak on 19 February.\"\n",
        "import re\n",
        "result = re.sub(r\"[A-Z]{2,}\", \"INDEX\", string, 2)\n",
        "result"
      ],
      "metadata": {
        "colab": {
          "base_uri": "https://localhost:8080/",
          "height": 54
        },
        "id": "CPD193OF91kj",
        "outputId": "a30320ee-ade6-4fe0-bf4e-ff38dbef4d5d"
      },
      "execution_count": null,
      "outputs": [
        {
          "output_type": "execute_result",
          "data": {
            "text/plain": [
              "'The Euro INDEX 600 index, which tracks all stock markets across Europe including the INDEX, fell by 11.48% – the worst day since it launched in 1998. The panic selling prompted by the coronavirus has wiped £2.7tn off the value of STOXX 600 shares since its all-time peak on 19 February.'"
            ],
            "application/vnd.google.colaboratory.intrinsic+json": {
              "type": "string"
            }
          },
          "metadata": {},
          "execution_count": 24
        }
      ]
    },
    {
      "cell_type": "code",
      "source": [
        "string = \"The Euro STOXX 600 index, which tracks all stock markets across Europe including the FTSE, fell by 11.48% – the worst day since it launched in 1998. The panic selling prompted by the coronavirus has wiped £2.7tn off the value of STOXX 600 shares since its all-time peak on 19 February.\"\n",
        "import re\n",
        "result = re.subn(r\"[A-Z]{2,}\", \"INDEX\", string)\n",
        "print(result)"
      ],
      "metadata": {
        "colab": {
          "base_uri": "https://localhost:8080/"
        },
        "id": "HTd8jkd_-Oyt",
        "outputId": "7f341e2a-2a6f-4f0c-8385-1ef9724e6397"
      },
      "execution_count": null,
      "outputs": [
        {
          "output_type": "stream",
          "name": "stdout",
          "text": [
            "('The Euro INDEX 600 index, which tracks all stock markets across Europe including the INDEX, fell by 11.48% – the worst day since it launched in 1998. The panic selling prompted by the coronavirus has wiped £2.7tn off the value of INDEX 600 shares since its all-time peak on 19 February.', 3)\n"
          ]
        }
      ]
    },
    {
      "cell_type": "code",
      "source": [
        "string = \"The Euro STOXX 600 index, which tracks all stock markets across Europe including the FTSE, fell by 11.48% – the worst day since it launched in 1998. The panic selling prompted by the coronavirus has wiped £2.7tn off the value of STOXX 600 shares since its all-time peak on 19 February.\"\n",
        "import re\n",
        "result = re.subn(r\"[A-Z]{2,}\", \"INDEX\", string, 2)\n",
        "print(result)"
      ],
      "metadata": {
        "colab": {
          "base_uri": "https://localhost:8080/"
        },
        "id": "4Mws3H4KJm3j",
        "outputId": "32e29614-f44c-42c8-a6f9-a2e4390d7191"
      },
      "execution_count": null,
      "outputs": [
        {
          "output_type": "stream",
          "name": "stdout",
          "text": [
            "('The Euro INDEX 600 index, which tracks all stock markets across Europe including the INDEX, fell by 11.48% – the worst day since it launched in 1998. The panic selling prompted by the coronavirus has wiped £2.7tn off the value of STOXX 600 shares since its all-time peak on 19 February.', 2)\n"
          ]
        }
      ]
    },
    {
      "cell_type": "code",
      "source": [
        "string = \"The Euro STOXX 600 index, which tracks all stock markets across Europe including the FTSE, fell by 11.48% – the worst day since it launched in 1998. The panic selling prompted by the coronavirus has wiped £2.7tn off the value of STOXX 600 shares since its all-time peak on 19 February.\"\n",
        "import re\n",
        "result = re.search(r\".+\\s(.+ex).+(\\d\\d\\s.+).\", string)\n",
        "print(result.groups())\n",
        "print(result.group(1))\n",
        "print(result.group(2))\n",
        "print(result.group(1, 2))\n",
        "result = re.findall(r\".+\\s(.+ex).+(\\d\\d\\s.+).\", string)\n",
        "print(result)"
      ],
      "metadata": {
        "colab": {
          "base_uri": "https://localhost:8080/",
          "height": 299
        },
        "id": "81WqCANCJvaB",
        "outputId": "c2209522-e7e4-434d-eb6d-3191112c2ce3"
      },
      "execution_count": null,
      "outputs": [
        {
          "output_type": "stream",
          "name": "stdout",
          "text": [
            "('index', '19 February')\n",
            "index\n",
            "19 February\n",
            "('index', '19 February')\n",
            "[('index', '19 February')]\n"
          ]
        },
        {
          "output_type": "error",
          "ename": "AttributeError",
          "evalue": "ignored",
          "traceback": [
            "\u001b[0;31m---------------------------------------------------------------------------\u001b[0m",
            "\u001b[0;31mAttributeError\u001b[0m                            Traceback (most recent call last)",
            "\u001b[0;32m<ipython-input-12-c3c08a5bd062>\u001b[0m in \u001b[0;36m<module>\u001b[0;34m\u001b[0m\n\u001b[1;32m      8\u001b[0m \u001b[0mresult\u001b[0m \u001b[0;34m=\u001b[0m \u001b[0mre\u001b[0m\u001b[0;34m.\u001b[0m\u001b[0mfindall\u001b[0m\u001b[0;34m(\u001b[0m\u001b[0;34mr\".+\\s(.+ex).+(\\d\\d\\s.+).\"\u001b[0m\u001b[0;34m,\u001b[0m \u001b[0mstring\u001b[0m\u001b[0;34m)\u001b[0m\u001b[0;34m\u001b[0m\u001b[0;34m\u001b[0m\u001b[0m\n\u001b[1;32m      9\u001b[0m \u001b[0mprint\u001b[0m\u001b[0;34m(\u001b[0m\u001b[0mresult\u001b[0m\u001b[0;34m)\u001b[0m\u001b[0;34m\u001b[0m\u001b[0;34m\u001b[0m\u001b[0m\n\u001b[0;32m---> 10\u001b[0;31m \u001b[0mprint\u001b[0m\u001b[0;34m(\u001b[0m\u001b[0mresult\u001b[0m\u001b[0;34m.\u001b[0m\u001b[0mgroup\u001b[0m\u001b[0;34m(\u001b[0m\u001b[0;34m)\u001b[0m\u001b[0;34m)\u001b[0m\u001b[0;34m\u001b[0m\u001b[0;34m\u001b[0m\u001b[0m\n\u001b[0m",
            "\u001b[0;31mAttributeError\u001b[0m: 'list' object has no attribute 'group'"
          ]
        }
      ]
    },
    {
      "cell_type": "code",
      "source": [
        "string = \"The Euro STOXX 600 index, which tracks all stock markets across Europe including the FTSE, fell by 11.48% – the worst day since it launched in 1998. The panic selling prompted by the coronavirus has wiped £2.7tn off the value of STOXX 600 shares since its all-time peak on 19 February.\"\n",
        "import re\n",
        "result = re.search(r\".+\\s(.+ex).+(\\d\\d\\s.+).\", string)\n",
        "result.groups(1)\n"
      ],
      "metadata": {
        "colab": {
          "base_uri": "https://localhost:8080/"
        },
        "id": "9lKs6nG-tMVG",
        "outputId": "279cb6e4-5209-4074-f746-68157eaa832b"
      },
      "execution_count": null,
      "outputs": [
        {
          "output_type": "execute_result",
          "data": {
            "text/plain": [
              "('index', '19 February')"
            ]
          },
          "metadata": {},
          "execution_count": 2
        }
      ]
    },
    {
      "cell_type": "code",
      "source": [
        "string = \"The Euro STOXX 600 index, which tracks all stock markets across Europe including the FTSE, fell by 11.48% – the worst day since it launched in 1998. The panic selling prompted by the coronavirus has wiped £2.7tn off the value of STOXX 600 shares since its all-time peak on 19 February.\""
      ],
      "metadata": {
        "id": "A10Gx-5Btloe"
      },
      "execution_count": null,
      "outputs": []
    },
    {
      "cell_type": "code",
      "source": [
        "import re\n",
        "result = re.search(r\"(.+)\", string)\n",
        "result.group(1)"
      ],
      "metadata": {
        "id": "XFsopWlbuX9h",
        "colab": {
          "base_uri": "https://localhost:8080/",
          "height": 54
        },
        "outputId": "96d97285-b7eb-4a07-935f-da66df859459"
      },
      "execution_count": null,
      "outputs": [
        {
          "output_type": "execute_result",
          "data": {
            "text/plain": [
              "'The Euro STOXX 600 index, which tracks all stock markets across Europe including the FTSE, fell by 11.48% – the worst day since it launched in 1998. The panic selling prompted by the coronavirus has wiped £2.7tn off the value of STOXX 600 shares since its all-time peak on 19 February.'"
            ],
            "application/vnd.google.colaboratory.intrinsic+json": {
              "type": "string"
            }
          },
          "metadata": {},
          "execution_count": 2
        }
      ]
    },
    {
      "cell_type": "code",
      "source": [
        "string = \"The Euro STOXX 600 index, which tracks all stock markets across Europe including the FTSE, fell by 11.48% – the worst day since it launched in 1998. The panic selling prompted by the coronavirus has wiped £2.7tn off the value of STOXX 600 shares since its all-time peak on 19 February.\""
      ],
      "metadata": {
        "id": "ehaUZPEp_Ahc"
      },
      "execution_count": null,
      "outputs": []
    },
    {
      "cell_type": "code",
      "source": [
        "import re\n",
        "result = re.search(r\"^\\w{3}\", string)\n",
        "result"
      ],
      "metadata": {
        "colab": {
          "base_uri": "https://localhost:8080/"
        },
        "id": "AGo1ukzs05x2",
        "outputId": "7f096a80-d993-43a4-e3ab-22ce2eea18f9"
      },
      "execution_count": null,
      "outputs": [
        {
          "output_type": "execute_result",
          "data": {
            "text/plain": [
              "<re.Match object; span=(0, 3), match='The'>"
            ]
          },
          "metadata": {},
          "execution_count": 2
        }
      ]
    },
    {
      "cell_type": "code",
      "source": [
        "string = \"The Euro STOXX 600 index, which tracks all stock markets across Europe including the FTSE, fell by 11.48% – the worst day since it launched in 1998.\\nThe panic selling prompted by the coronavirus has wiped £2.7tn off the value of STOXX 600 shares since its all-time peak on 19 February.\""
      ],
      "metadata": {
        "id": "pCLlMlEx1BTy"
      },
      "execution_count": null,
      "outputs": []
    },
    {
      "cell_type": "code",
      "source": [
        "import re\n",
        "result = re.findall(r\"^\\w{3}\", string, re.M)\n",
        "result"
      ],
      "metadata": {
        "colab": {
          "base_uri": "https://localhost:8080/"
        },
        "id": "adv6cerb1VzK",
        "outputId": "800287cb-e35a-4aad-f6d9-7846910e581a"
      },
      "execution_count": null,
      "outputs": [
        {
          "output_type": "execute_result",
          "data": {
            "text/plain": [
              "['The', 'The']"
            ]
          },
          "metadata": {},
          "execution_count": 4
        }
      ]
    },
    {
      "cell_type": "code",
      "source": [
        "string = \"The Euro STOXX 600 index, which tracks all stock markets across Europe including the FTSE, fell by 11.48% – the worst day since it launched in 1998.\\nThe panic selling prompted by the coronavirus has wiped £2.7tn off the value of STOXX 600 shares since its all-time peak on 19 February.\""
      ],
      "metadata": {
        "id": "nN2R9xQx1ZC9"
      },
      "execution_count": null,
      "outputs": []
    },
    {
      "cell_type": "code",
      "source": [
        "import re\n",
        "result = re.findall(r\"\\s(\\w{2,})\\W$\", string, re.M)\n",
        "result"
      ],
      "metadata": {
        "colab": {
          "base_uri": "https://localhost:8080/"
        },
        "id": "hGJrh7dt31xC",
        "outputId": "2747a97b-0ff6-42aa-e59d-b44f6b21cd7a"
      },
      "execution_count": null,
      "outputs": [
        {
          "output_type": "execute_result",
          "data": {
            "text/plain": [
              "['1998', 'February']"
            ]
          },
          "metadata": {},
          "execution_count": 8
        }
      ]
    },
    {
      "cell_type": "code",
      "source": [
        "string = \"The Euro STOXX 600 index, which tracks all stock markets across Europe including the FTSE, fell by 11.48% – the worst day since it launched in 1998. The panic selling prompted by the coronavirus has wiped £2.7tn off the value of STOXX 600 shares since its all-time peak on 19 February.\""
      ],
      "metadata": {
        "id": "KadoXPZb3-Kt"
      },
      "execution_count": null,
      "outputs": []
    },
    {
      "cell_type": "code",
      "source": [
        "import re\n",
        "result = re.findall(r\"\\d\\d\\d*\", string)\n",
        "result"
      ],
      "metadata": {
        "colab": {
          "base_uri": "https://localhost:8080/"
        },
        "id": "8Svtnk0764Zx",
        "outputId": "9c43b363-5e89-4ad9-df2a-309544b5cdb9"
      },
      "execution_count": null,
      "outputs": [
        {
          "output_type": "execute_result",
          "data": {
            "text/plain": [
              "['600', '11', '48', '1998', '600', '19']"
            ]
          },
          "metadata": {},
          "execution_count": 10
        }
      ]
    },
    {
      "cell_type": "code",
      "source": [
        "result = re.findall(r\"E.* \", string)\n",
        "result"
      ],
      "metadata": {
        "colab": {
          "base_uri": "https://localhost:8080/"
        },
        "id": "cAJg7QED67_n",
        "outputId": "30402a98-28ef-429b-c5f0-9cfcad983348"
      },
      "execution_count": null,
      "outputs": [
        {
          "output_type": "execute_result",
          "data": {
            "text/plain": [
              "['Euro STOXX 600 index, which tracks all stock markets across Europe including the FTSE, fell by 11.48% – the worst day since it launched in 1998. The panic selling prompted by the coronavirus has wiped £2.7tn off the value of STOXX 600 shares since its all-time peak on 19 ']"
            ]
          },
          "metadata": {},
          "execution_count": 11
        }
      ]
    },
    {
      "cell_type": "code",
      "source": [
        "\n",
        "result = re.findall(r\"E\\w*\", string)\n",
        "result"
      ],
      "metadata": {
        "colab": {
          "base_uri": "https://localhost:8080/"
        },
        "id": "P6bH8_o37ACI",
        "outputId": "b2d407ca-0c7b-4d59-f4c0-928286de7b9c"
      },
      "execution_count": null,
      "outputs": [
        {
          "output_type": "execute_result",
          "data": {
            "text/plain": [
              "['Euro', 'Europe', 'E']"
            ]
          },
          "metadata": {},
          "execution_count": 13
        }
      ]
    },
    {
      "cell_type": "code",
      "source": [
        "string = \"The Euro STOXX 600 index, which tracks all stock markets across Europe including the FTSE, fell by 11.48% – the worst day since it launched in 1998. The panic selling prompted by the coronavirus has wiped £2.7tn off the value of STOXX 600 shares since its all-time peak on 19 February.\""
      ],
      "metadata": {
        "id": "WnhUk-RZ7EmC"
      },
      "execution_count": null,
      "outputs": []
    },
    {
      "cell_type": "code",
      "source": [
        "import re\n",
        "result = re.findall(r\"\\d\\d\\d+\", string)\n",
        "result\n"
      ],
      "metadata": {
        "colab": {
          "base_uri": "https://localhost:8080/"
        },
        "id": "1IDH5Nx49iK1",
        "outputId": "ccfae803-2d46-4582-dbac-464751372616"
      },
      "execution_count": null,
      "outputs": [
        {
          "output_type": "execute_result",
          "data": {
            "text/plain": [
              "['600', '1998', '600']"
            ]
          },
          "metadata": {},
          "execution_count": 24
        }
      ]
    },
    {
      "cell_type": "code",
      "source": [
        "result = re.findall(r\"E.+ \", string)\n",
        "result"
      ],
      "metadata": {
        "colab": {
          "base_uri": "https://localhost:8080/"
        },
        "id": "nPItqPuo9nbj",
        "outputId": "c0ccb281-c294-432f-9ef8-f05976920de4"
      },
      "execution_count": null,
      "outputs": [
        {
          "output_type": "execute_result",
          "data": {
            "text/plain": [
              "['Euro STOXX 600 index, which tracks all stock markets across Europe including the FTSE, fell by 11.48% – the worst day since it launched in 1998. The panic selling prompted by the coronavirus has wiped £2.7tn off the value of STOXX 600 shares since its all-time peak on 19 ']"
            ]
          },
          "metadata": {},
          "execution_count": 25
        }
      ]
    },
    {
      "cell_type": "code",
      "source": [
        "result = re.findall(r\"E\\w+\", string)\n",
        "result"
      ],
      "metadata": {
        "colab": {
          "base_uri": "https://localhost:8080/"
        },
        "id": "f4v3cy4e92lL",
        "outputId": "765f74f0-43ca-4c64-e98d-fb7ba247101e"
      },
      "execution_count": null,
      "outputs": [
        {
          "output_type": "execute_result",
          "data": {
            "text/plain": [
              "['Euro', 'Europe']"
            ]
          },
          "metadata": {},
          "execution_count": 32
        }
      ]
    },
    {
      "cell_type": "code",
      "source": [
        "string = \"The Euro STOXX 600 index, which tracks all stock markets across Europe including the FTSE, fell by 11.48% – the worst day since it launched in 1998. The panic selling prompted by the coronavirus has wiped £2.7tn off the value of STOXX 600 shares since its all-time peak on 19 February.\""
      ],
      "metadata": {
        "id": "N-NtvM9G96af"
      },
      "execution_count": null,
      "outputs": []
    },
    {
      "cell_type": "code",
      "source": [
        "import re\n",
        "result = re.findall(r\"\\d\\d\\d?\", string)\n",
        "result"
      ],
      "metadata": {
        "colab": {
          "base_uri": "https://localhost:8080/"
        },
        "id": "addLpRvTLBx2",
        "outputId": "4bd86cc4-06d6-4afd-ba93-46698eaef891"
      },
      "execution_count": null,
      "outputs": [
        {
          "output_type": "execute_result",
          "data": {
            "text/plain": [
              "['600', '11', '48', '199', '600', '19']"
            ]
          },
          "metadata": {},
          "execution_count": 35
        }
      ]
    },
    {
      "cell_type": "code",
      "source": [
        "result = re.findall(r\"E.? \", string)\n",
        "result"
      ],
      "metadata": {
        "colab": {
          "base_uri": "https://localhost:8080/"
        },
        "id": "D_r4bS8TLEgj",
        "outputId": "6b1b049d-0143-4d16-a6bc-15d9b8da2ef6"
      },
      "execution_count": null,
      "outputs": [
        {
          "output_type": "execute_result",
          "data": {
            "text/plain": [
              "['E, ']"
            ]
          },
          "metadata": {},
          "execution_count": 36
        }
      ]
    },
    {
      "cell_type": "code",
      "source": [
        "result = re.findall(r\"E\\w?\", string)\n",
        "result"
      ],
      "metadata": {
        "colab": {
          "base_uri": "https://localhost:8080/"
        },
        "id": "0pscn6E8LKbv",
        "outputId": "5d9079e6-34bd-4cf5-a4e8-f09fef86b78d"
      },
      "execution_count": null,
      "outputs": [
        {
          "output_type": "execute_result",
          "data": {
            "text/plain": [
              "['Eu', 'Eu', 'E']"
            ]
          },
          "metadata": {},
          "execution_count": 37
        }
      ]
    },
    {
      "cell_type": "code",
      "source": [
        "string = \"The Euro STOXX 600 index, which tracks all stock markets across Europe including the FTSE, fell by 11.48% – the worst day since it launched in 1998. The panic selling prompted by the coronavirus has wiped £2.7tn off the value of STOXX 600 shares since its all-time peak on 19 February.\""
      ],
      "metadata": {
        "id": "6A6a3ei0LPMY"
      },
      "execution_count": null,
      "outputs": []
    },
    {
      "cell_type": "code",
      "source": [
        "import re\n",
        "result = re.findall(r\"\\d\\d\\d*\", string)\n",
        "result\n"
      ],
      "metadata": {
        "colab": {
          "base_uri": "https://localhost:8080/"
        },
        "id": "6tRkeMWrM_KJ",
        "outputId": "fbe0ecfb-8800-465f-f048-2b430225bd83"
      },
      "execution_count": null,
      "outputs": [
        {
          "output_type": "execute_result",
          "data": {
            "text/plain": [
              "['600', '11', '48', '1998', '600', '19']"
            ]
          },
          "metadata": {},
          "execution_count": 39
        }
      ]
    },
    {
      "cell_type": "code",
      "source": [
        "result = re.findall(r\"\\d\\d\\d*?\", string)\n",
        "result"
      ],
      "metadata": {
        "colab": {
          "base_uri": "https://localhost:8080/"
        },
        "id": "OAGyP-RvNFnh",
        "outputId": "1330883b-2094-4d0f-a015-f74d5fc67e30"
      },
      "execution_count": null,
      "outputs": [
        {
          "output_type": "execute_result",
          "data": {
            "text/plain": [
              "['60', '11', '48', '19', '98', '60', '19']"
            ]
          },
          "metadata": {},
          "execution_count": 40
        }
      ]
    },
    {
      "cell_type": "code",
      "source": [
        "result = re.findall(r\"\\d\\d\\d+\", string)\n",
        "result"
      ],
      "metadata": {
        "colab": {
          "base_uri": "https://localhost:8080/"
        },
        "id": "sqHdBSkjNKEI",
        "outputId": "f2a2f7e7-c479-495b-dee5-0bc61af2b1e4"
      },
      "execution_count": null,
      "outputs": [
        {
          "output_type": "execute_result",
          "data": {
            "text/plain": [
              "['600', '1998', '600']"
            ]
          },
          "metadata": {},
          "execution_count": 41
        }
      ]
    },
    {
      "cell_type": "code",
      "source": [
        "result = re.findall(r\"\\d\\d\\d+?\", string)\n",
        "result"
      ],
      "metadata": {
        "colab": {
          "base_uri": "https://localhost:8080/"
        },
        "id": "h_ap4f9jNPXf",
        "outputId": "4357302f-c2f5-49a0-dbba-dbf0d3d9955c"
      },
      "execution_count": null,
      "outputs": [
        {
          "output_type": "execute_result",
          "data": {
            "text/plain": [
              "['600', '199', '600']"
            ]
          },
          "metadata": {},
          "execution_count": 42
        }
      ]
    },
    {
      "cell_type": "code",
      "source": [
        "result = re.findall(r\"\\d\\d\\d?\", string)\n",
        "result\n"
      ],
      "metadata": {
        "colab": {
          "base_uri": "https://localhost:8080/"
        },
        "id": "IPCFVqrONUAh",
        "outputId": "1f7f8dac-9121-499b-e473-9dca08ea1d5c"
      },
      "execution_count": null,
      "outputs": [
        {
          "output_type": "execute_result",
          "data": {
            "text/plain": [
              "['600', '11', '48', '199', '600', '19']"
            ]
          },
          "metadata": {},
          "execution_count": 43
        }
      ]
    },
    {
      "cell_type": "code",
      "source": [
        "result = re.findall(r\"\\d\\d\\d??\", string)\n",
        "result\n"
      ],
      "metadata": {
        "colab": {
          "base_uri": "https://localhost:8080/"
        },
        "id": "ulYZS7W-NXSD",
        "outputId": "64fad825-2ac2-4cda-bafc-3fbe0ff4c766"
      },
      "execution_count": null,
      "outputs": [
        {
          "output_type": "execute_result",
          "data": {
            "text/plain": [
              "['60', '11', '48', '19', '98', '60', '19']"
            ]
          },
          "metadata": {},
          "execution_count": 44
        }
      ]
    },
    {
      "cell_type": "code",
      "source": [
        "string = \"The Euro STOXX 600 index, which tracks all stock markets across Europe including the FTSE, fell by 11.48% – the worst day since it launched in 1998. The panic selling prompted by the coronavirus has wiped £2.7tn off the value of STOXX 600 shares since its all-time peak on 19 February.\""
      ],
      "metadata": {
        "id": "-0vUE0ADNZ1q"
      },
      "execution_count": null,
      "outputs": []
    },
    {
      "cell_type": "code",
      "source": [
        "import re\n",
        "result = re.findall(r\"\\d\", string)\n",
        "result"
      ],
      "metadata": {
        "colab": {
          "base_uri": "https://localhost:8080/"
        },
        "id": "0q996tHGWZUD",
        "outputId": "6a993df5-bade-4e01-d150-d1aa94fe2a19"
      },
      "execution_count": null,
      "outputs": [
        {
          "output_type": "execute_result",
          "data": {
            "text/plain": [
              "['6',\n",
              " '0',\n",
              " '0',\n",
              " '1',\n",
              " '1',\n",
              " '4',\n",
              " '8',\n",
              " '1',\n",
              " '9',\n",
              " '9',\n",
              " '8',\n",
              " '2',\n",
              " '7',\n",
              " '6',\n",
              " '0',\n",
              " '0',\n",
              " '1',\n",
              " '9']"
            ]
          },
          "metadata": {},
          "execution_count": 47
        }
      ]
    },
    {
      "cell_type": "code",
      "source": [
        "result = re.findall(r\"\\.\", string)\n",
        "result"
      ],
      "metadata": {
        "colab": {
          "base_uri": "https://localhost:8080/"
        },
        "id": "OfWMVcL6Wdwa",
        "outputId": "603feb1d-046e-4506-ac72-f7f6e6c4e215"
      },
      "execution_count": null,
      "outputs": [
        {
          "output_type": "execute_result",
          "data": {
            "text/plain": [
              "['.', '.', '.', '.']"
            ]
          },
          "metadata": {},
          "execution_count": 48
        }
      ]
    },
    {
      "cell_type": "code",
      "source": [
        "string = \"The Euro STOXX 600 index, which tracks all stock markets across Europe including the FTSE, fell by 11.48% – the worst day since it launched in 1998. The panic selling prompted by the coronavirus has wiped £2.7tn off the value of STOXX 600 shares since its all-time peak on 19 February.\""
      ],
      "metadata": {
        "id": "Pumt47fYWpnD"
      },
      "execution_count": null,
      "outputs": []
    },
    {
      "cell_type": "code",
      "source": [
        "import re\n",
        "result = re.findall(r\"[wxkq]\", string)\n",
        "result"
      ],
      "metadata": {
        "colab": {
          "base_uri": "https://localhost:8080/"
        },
        "id": "rST0Tn59Z-Kt",
        "outputId": "84aae9f6-30d6-4b20-e21d-c137b5994c06"
      },
      "execution_count": null,
      "outputs": [
        {
          "output_type": "execute_result",
          "data": {
            "text/plain": [
              "['x', 'w', 'k', 'k', 'k', 'w', 'w', 'k']"
            ]
          },
          "metadata": {},
          "execution_count": 50
        }
      ]
    },
    {
      "cell_type": "code",
      "source": [
        "result = re.findall(r\"[a-d]\", string)\n",
        "result"
      ],
      "metadata": {
        "colab": {
          "base_uri": "https://localhost:8080/"
        },
        "id": "wBEskPm4aEMi",
        "outputId": "a8a81748-2395-4f16-e16b-262ffedd0082"
      },
      "execution_count": null,
      "outputs": [
        {
          "output_type": "execute_result",
          "data": {
            "text/plain": [
              "['d',\n",
              " 'c',\n",
              " 'a',\n",
              " 'c',\n",
              " 'a',\n",
              " 'c',\n",
              " 'a',\n",
              " 'a',\n",
              " 'c',\n",
              " 'c',\n",
              " 'd',\n",
              " 'b',\n",
              " 'd',\n",
              " 'a',\n",
              " 'c',\n",
              " 'a',\n",
              " 'c',\n",
              " 'd',\n",
              " 'a',\n",
              " 'c',\n",
              " 'd',\n",
              " 'b',\n",
              " 'c',\n",
              " 'a',\n",
              " 'a',\n",
              " 'd',\n",
              " 'a',\n",
              " 'a',\n",
              " 'c',\n",
              " 'a',\n",
              " 'a',\n",
              " 'b',\n",
              " 'a']"
            ]
          },
          "metadata": {},
          "execution_count": 51
        }
      ]
    },
    {
      "cell_type": "code",
      "source": [
        "result = re.findall(r\"[S-W]\", string)\n",
        "result"
      ],
      "metadata": {
        "colab": {
          "base_uri": "https://localhost:8080/"
        },
        "id": "0jqHVoxoaH6b",
        "outputId": "938f4a59-f617-4186-89f7-2801fbd1b068"
      },
      "execution_count": null,
      "outputs": [
        {
          "output_type": "execute_result",
          "data": {
            "text/plain": [
              "['T', 'S', 'T', 'T', 'S', 'T', 'S', 'T']"
            ]
          },
          "metadata": {},
          "execution_count": 52
        }
      ]
    },
    {
      "cell_type": "code",
      "source": [
        "result = re.findall(r\"[0-5]\", string)\n",
        "result"
      ],
      "metadata": {
        "colab": {
          "base_uri": "https://localhost:8080/"
        },
        "id": "3IqhQQjyaMEh",
        "outputId": "991c7cae-b0ef-4d1d-9e45-d15cc46ef9ff"
      },
      "execution_count": null,
      "outputs": [
        {
          "output_type": "execute_result",
          "data": {
            "text/plain": [
              "['0', '0', '1', '1', '4', '1', '2', '0', '0', '1']"
            ]
          },
          "metadata": {},
          "execution_count": 53
        }
      ]
    },
    {
      "cell_type": "code",
      "source": [
        "result = re.findall(r\"[a-f][c-w]\", string)\n",
        "result"
      ],
      "metadata": {
        "colab": {
          "base_uri": "https://localhost:8080/"
        },
        "id": "27DYJmnSaPSc",
        "outputId": "5e715527-f97b-4ca0-b029-1e456f73e1d2"
      },
      "execution_count": null,
      "outputs": [
        {
          "output_type": "execute_result",
          "data": {
            "text/plain": [
              "['de',\n",
              " 'ch',\n",
              " 'ac',\n",
              " 'al',\n",
              " 'ck',\n",
              " 'ar',\n",
              " 'et',\n",
              " 'ac',\n",
              " 'cl',\n",
              " 'di',\n",
              " 'fe',\n",
              " 'ce',\n",
              " 'au',\n",
              " 'ch',\n",
              " 'ed',\n",
              " 'an',\n",
              " 'el',\n",
              " 'ed',\n",
              " 'co',\n",
              " 'av',\n",
              " 'as',\n",
              " 'ed',\n",
              " 'ff',\n",
              " 'al',\n",
              " 'ar',\n",
              " 'es',\n",
              " 'ce',\n",
              " 'al',\n",
              " 'ak',\n",
              " 'br',\n",
              " 'ar']"
            ]
          },
          "metadata": {},
          "execution_count": 54
        }
      ]
    },
    {
      "cell_type": "code",
      "source": [
        "result = re.findall(r\"[0-5][7-9]\", string)\n",
        "result"
      ],
      "metadata": {
        "colab": {
          "base_uri": "https://localhost:8080/"
        },
        "id": "EnjftrQEaTVm",
        "outputId": "50081f4a-9e2c-4568-f680-7d34476a4183"
      },
      "execution_count": null,
      "outputs": [
        {
          "output_type": "execute_result",
          "data": {
            "text/plain": [
              "['48', '19', '19']"
            ]
          },
          "metadata": {},
          "execution_count": 55
        }
      ]
    },
    {
      "cell_type": "code",
      "source": [
        "result = re.findall(r\"[0-9][a-z]\", string)\n",
        "result"
      ],
      "metadata": {
        "colab": {
          "base_uri": "https://localhost:8080/"
        },
        "id": "bn8ZwrNAaXrN",
        "outputId": "3abd614c-c522-4f46-b02c-bcf60ea6fdac"
      },
      "execution_count": null,
      "outputs": [
        {
          "output_type": "execute_result",
          "data": {
            "text/plain": [
              "['7t']"
            ]
          },
          "metadata": {},
          "execution_count": 56
        }
      ]
    },
    {
      "cell_type": "code",
      "source": [
        "result = re.findall(r\"[^X]\", string)\n",
        "result"
      ],
      "metadata": {
        "colab": {
          "base_uri": "https://localhost:8080/"
        },
        "id": "ks0zyGLUaatm",
        "outputId": "f6bbbca7-8283-4162-d084-5f3826750ae5"
      },
      "execution_count": null,
      "outputs": [
        {
          "output_type": "execute_result",
          "data": {
            "text/plain": [
              "['T',\n",
              " 'h',\n",
              " 'e',\n",
              " ' ',\n",
              " 'E',\n",
              " 'u',\n",
              " 'r',\n",
              " 'o',\n",
              " ' ',\n",
              " 'S',\n",
              " 'T',\n",
              " 'O',\n",
              " ' ',\n",
              " '6',\n",
              " '0',\n",
              " '0',\n",
              " ' ',\n",
              " 'i',\n",
              " 'n',\n",
              " 'd',\n",
              " 'e',\n",
              " 'x',\n",
              " ',',\n",
              " ' ',\n",
              " 'w',\n",
              " 'h',\n",
              " 'i',\n",
              " 'c',\n",
              " 'h',\n",
              " ' ',\n",
              " 't',\n",
              " 'r',\n",
              " 'a',\n",
              " 'c',\n",
              " 'k',\n",
              " 's',\n",
              " ' ',\n",
              " 'a',\n",
              " 'l',\n",
              " 'l',\n",
              " ' ',\n",
              " 's',\n",
              " 't',\n",
              " 'o',\n",
              " 'c',\n",
              " 'k',\n",
              " ' ',\n",
              " 'm',\n",
              " 'a',\n",
              " 'r',\n",
              " 'k',\n",
              " 'e',\n",
              " 't',\n",
              " 's',\n",
              " ' ',\n",
              " 'a',\n",
              " 'c',\n",
              " 'r',\n",
              " 'o',\n",
              " 's',\n",
              " 's',\n",
              " ' ',\n",
              " 'E',\n",
              " 'u',\n",
              " 'r',\n",
              " 'o',\n",
              " 'p',\n",
              " 'e',\n",
              " ' ',\n",
              " 'i',\n",
              " 'n',\n",
              " 'c',\n",
              " 'l',\n",
              " 'u',\n",
              " 'd',\n",
              " 'i',\n",
              " 'n',\n",
              " 'g',\n",
              " ' ',\n",
              " 't',\n",
              " 'h',\n",
              " 'e',\n",
              " ' ',\n",
              " 'F',\n",
              " 'T',\n",
              " 'S',\n",
              " 'E',\n",
              " ',',\n",
              " ' ',\n",
              " 'f',\n",
              " 'e',\n",
              " 'l',\n",
              " 'l',\n",
              " ' ',\n",
              " 'b',\n",
              " 'y',\n",
              " ' ',\n",
              " '1',\n",
              " '1',\n",
              " '.',\n",
              " '4',\n",
              " '8',\n",
              " '%',\n",
              " ' ',\n",
              " '–',\n",
              " ' ',\n",
              " 't',\n",
              " 'h',\n",
              " 'e',\n",
              " ' ',\n",
              " 'w',\n",
              " 'o',\n",
              " 'r',\n",
              " 's',\n",
              " 't',\n",
              " ' ',\n",
              " 'd',\n",
              " 'a',\n",
              " 'y',\n",
              " ' ',\n",
              " 's',\n",
              " 'i',\n",
              " 'n',\n",
              " 'c',\n",
              " 'e',\n",
              " ' ',\n",
              " 'i',\n",
              " 't',\n",
              " ' ',\n",
              " 'l',\n",
              " 'a',\n",
              " 'u',\n",
              " 'n',\n",
              " 'c',\n",
              " 'h',\n",
              " 'e',\n",
              " 'd',\n",
              " ' ',\n",
              " 'i',\n",
              " 'n',\n",
              " ' ',\n",
              " '1',\n",
              " '9',\n",
              " '9',\n",
              " '8',\n",
              " '.',\n",
              " ' ',\n",
              " 'T',\n",
              " 'h',\n",
              " 'e',\n",
              " ' ',\n",
              " 'p',\n",
              " 'a',\n",
              " 'n',\n",
              " 'i',\n",
              " 'c',\n",
              " ' ',\n",
              " 's',\n",
              " 'e',\n",
              " 'l',\n",
              " 'l',\n",
              " 'i',\n",
              " 'n',\n",
              " 'g',\n",
              " ' ',\n",
              " 'p',\n",
              " 'r',\n",
              " 'o',\n",
              " 'm',\n",
              " 'p',\n",
              " 't',\n",
              " 'e',\n",
              " 'd',\n",
              " ' ',\n",
              " 'b',\n",
              " 'y',\n",
              " ' ',\n",
              " 't',\n",
              " 'h',\n",
              " 'e',\n",
              " ' ',\n",
              " 'c',\n",
              " 'o',\n",
              " 'r',\n",
              " 'o',\n",
              " 'n',\n",
              " 'a',\n",
              " 'v',\n",
              " 'i',\n",
              " 'r',\n",
              " 'u',\n",
              " 's',\n",
              " ' ',\n",
              " 'h',\n",
              " 'a',\n",
              " 's',\n",
              " ' ',\n",
              " 'w',\n",
              " 'i',\n",
              " 'p',\n",
              " 'e',\n",
              " 'd',\n",
              " ' ',\n",
              " '£',\n",
              " '2',\n",
              " '.',\n",
              " '7',\n",
              " 't',\n",
              " 'n',\n",
              " ' ',\n",
              " 'o',\n",
              " 'f',\n",
              " 'f',\n",
              " ' ',\n",
              " 't',\n",
              " 'h',\n",
              " 'e',\n",
              " ' ',\n",
              " 'v',\n",
              " 'a',\n",
              " 'l',\n",
              " 'u',\n",
              " 'e',\n",
              " ' ',\n",
              " 'o',\n",
              " 'f',\n",
              " ' ',\n",
              " 'S',\n",
              " 'T',\n",
              " 'O',\n",
              " ' ',\n",
              " '6',\n",
              " '0',\n",
              " '0',\n",
              " ' ',\n",
              " 's',\n",
              " 'h',\n",
              " 'a',\n",
              " 'r',\n",
              " 'e',\n",
              " 's',\n",
              " ' ',\n",
              " 's',\n",
              " 'i',\n",
              " 'n',\n",
              " 'c',\n",
              " 'e',\n",
              " ' ',\n",
              " 'i',\n",
              " 't',\n",
              " 's',\n",
              " ' ',\n",
              " 'a',\n",
              " 'l',\n",
              " 'l',\n",
              " '-',\n",
              " 't',\n",
              " 'i',\n",
              " 'm',\n",
              " 'e',\n",
              " ' ',\n",
              " 'p',\n",
              " 'e',\n",
              " 'a',\n",
              " 'k',\n",
              " ' ',\n",
              " 'o',\n",
              " 'n',\n",
              " ' ',\n",
              " '1',\n",
              " '9',\n",
              " ' ',\n",
              " 'F',\n",
              " 'e',\n",
              " 'b',\n",
              " 'r',\n",
              " 'u',\n",
              " 'a',\n",
              " 'r',\n",
              " 'y',\n",
              " '.']"
            ]
          },
          "metadata": {},
          "execution_count": 57
        }
      ]
    },
    {
      "cell_type": "code",
      "source": [
        "result = re.findall(r\"[(.+?)]\", string)\n",
        "result"
      ],
      "metadata": {
        "colab": {
          "base_uri": "https://localhost:8080/"
        },
        "id": "4Lk1ayEDad6H",
        "outputId": "52f11579-8842-446b-8f45-98cdc65339db"
      },
      "execution_count": null,
      "outputs": [
        {
          "output_type": "execute_result",
          "data": {
            "text/plain": [
              "['.', '.', '.', '.']"
            ]
          },
          "metadata": {},
          "execution_count": 58
        }
      ]
    },
    {
      "cell_type": "code",
      "source": [
        "result = re.findall(r\"[^[0-5\\]]\", string)\n",
        "result"
      ],
      "metadata": {
        "colab": {
          "base_uri": "https://localhost:8080/"
        },
        "id": "_iXr2Zv5ajbB",
        "outputId": "8e4a5c5d-71b1-465c-c992-ef0e36525874"
      },
      "execution_count": null,
      "outputs": [
        {
          "output_type": "execute_result",
          "data": {
            "text/plain": [
              "['T',\n",
              " 'h',\n",
              " 'e',\n",
              " ' ',\n",
              " 'E',\n",
              " 'u',\n",
              " 'r',\n",
              " 'o',\n",
              " ' ',\n",
              " 'S',\n",
              " 'T',\n",
              " 'O',\n",
              " 'X',\n",
              " 'X',\n",
              " ' ',\n",
              " '6',\n",
              " ' ',\n",
              " 'i',\n",
              " 'n',\n",
              " 'd',\n",
              " 'e',\n",
              " 'x',\n",
              " ',',\n",
              " ' ',\n",
              " 'w',\n",
              " 'h',\n",
              " 'i',\n",
              " 'c',\n",
              " 'h',\n",
              " ' ',\n",
              " 't',\n",
              " 'r',\n",
              " 'a',\n",
              " 'c',\n",
              " 'k',\n",
              " 's',\n",
              " ' ',\n",
              " 'a',\n",
              " 'l',\n",
              " 'l',\n",
              " ' ',\n",
              " 's',\n",
              " 't',\n",
              " 'o',\n",
              " 'c',\n",
              " 'k',\n",
              " ' ',\n",
              " 'm',\n",
              " 'a',\n",
              " 'r',\n",
              " 'k',\n",
              " 'e',\n",
              " 't',\n",
              " 's',\n",
              " ' ',\n",
              " 'a',\n",
              " 'c',\n",
              " 'r',\n",
              " 'o',\n",
              " 's',\n",
              " 's',\n",
              " ' ',\n",
              " 'E',\n",
              " 'u',\n",
              " 'r',\n",
              " 'o',\n",
              " 'p',\n",
              " 'e',\n",
              " ' ',\n",
              " 'i',\n",
              " 'n',\n",
              " 'c',\n",
              " 'l',\n",
              " 'u',\n",
              " 'd',\n",
              " 'i',\n",
              " 'n',\n",
              " 'g',\n",
              " ' ',\n",
              " 't',\n",
              " 'h',\n",
              " 'e',\n",
              " ' ',\n",
              " 'F',\n",
              " 'T',\n",
              " 'S',\n",
              " 'E',\n",
              " ',',\n",
              " ' ',\n",
              " 'f',\n",
              " 'e',\n",
              " 'l',\n",
              " 'l',\n",
              " ' ',\n",
              " 'b',\n",
              " 'y',\n",
              " ' ',\n",
              " '.',\n",
              " '8',\n",
              " '%',\n",
              " ' ',\n",
              " '–',\n",
              " ' ',\n",
              " 't',\n",
              " 'h',\n",
              " 'e',\n",
              " ' ',\n",
              " 'w',\n",
              " 'o',\n",
              " 'r',\n",
              " 's',\n",
              " 't',\n",
              " ' ',\n",
              " 'd',\n",
              " 'a',\n",
              " 'y',\n",
              " ' ',\n",
              " 's',\n",
              " 'i',\n",
              " 'n',\n",
              " 'c',\n",
              " 'e',\n",
              " ' ',\n",
              " 'i',\n",
              " 't',\n",
              " ' ',\n",
              " 'l',\n",
              " 'a',\n",
              " 'u',\n",
              " 'n',\n",
              " 'c',\n",
              " 'h',\n",
              " 'e',\n",
              " 'd',\n",
              " ' ',\n",
              " 'i',\n",
              " 'n',\n",
              " ' ',\n",
              " '9',\n",
              " '9',\n",
              " '8',\n",
              " '.',\n",
              " ' ',\n",
              " 'T',\n",
              " 'h',\n",
              " 'e',\n",
              " ' ',\n",
              " 'p',\n",
              " 'a',\n",
              " 'n',\n",
              " 'i',\n",
              " 'c',\n",
              " ' ',\n",
              " 's',\n",
              " 'e',\n",
              " 'l',\n",
              " 'l',\n",
              " 'i',\n",
              " 'n',\n",
              " 'g',\n",
              " ' ',\n",
              " 'p',\n",
              " 'r',\n",
              " 'o',\n",
              " 'm',\n",
              " 'p',\n",
              " 't',\n",
              " 'e',\n",
              " 'd',\n",
              " ' ',\n",
              " 'b',\n",
              " 'y',\n",
              " ' ',\n",
              " 't',\n",
              " 'h',\n",
              " 'e',\n",
              " ' ',\n",
              " 'c',\n",
              " 'o',\n",
              " 'r',\n",
              " 'o',\n",
              " 'n',\n",
              " 'a',\n",
              " 'v',\n",
              " 'i',\n",
              " 'r',\n",
              " 'u',\n",
              " 's',\n",
              " ' ',\n",
              " 'h',\n",
              " 'a',\n",
              " 's',\n",
              " ' ',\n",
              " 'w',\n",
              " 'i',\n",
              " 'p',\n",
              " 'e',\n",
              " 'd',\n",
              " ' ',\n",
              " '£',\n",
              " '.',\n",
              " '7',\n",
              " 't',\n",
              " 'n',\n",
              " ' ',\n",
              " 'o',\n",
              " 'f',\n",
              " 'f',\n",
              " ' ',\n",
              " 't',\n",
              " 'h',\n",
              " 'e',\n",
              " ' ',\n",
              " 'v',\n",
              " 'a',\n",
              " 'l',\n",
              " 'u',\n",
              " 'e',\n",
              " ' ',\n",
              " 'o',\n",
              " 'f',\n",
              " ' ',\n",
              " 'S',\n",
              " 'T',\n",
              " 'O',\n",
              " 'X',\n",
              " 'X',\n",
              " ' ',\n",
              " '6',\n",
              " ' ',\n",
              " 's',\n",
              " 'h',\n",
              " 'a',\n",
              " 'r',\n",
              " 'e',\n",
              " 's',\n",
              " ' ',\n",
              " 's',\n",
              " 'i',\n",
              " 'n',\n",
              " 'c',\n",
              " 'e',\n",
              " ' ',\n",
              " 'i',\n",
              " 't',\n",
              " 's',\n",
              " ' ',\n",
              " 'a',\n",
              " 'l',\n",
              " 'l',\n",
              " '-',\n",
              " 't',\n",
              " 'i',\n",
              " 'm',\n",
              " 'e',\n",
              " ' ',\n",
              " 'p',\n",
              " 'e',\n",
              " 'a',\n",
              " 'k',\n",
              " ' ',\n",
              " 'o',\n",
              " 'n',\n",
              " ' ',\n",
              " '9',\n",
              " ' ',\n",
              " 'F',\n",
              " 'e',\n",
              " 'b',\n",
              " 'r',\n",
              " 'u',\n",
              " 'a',\n",
              " 'r',\n",
              " 'y',\n",
              " '.']"
            ]
          },
          "metadata": {},
          "execution_count": 59
        }
      ]
    },
    {
      "cell_type": "code",
      "source": [
        "string = \"The Euro STOXX 600 index, which tracks all stock markets across Europe including the FTSE, fell by 11.48% – the worst day since it launched in 1998. The panic selling prompted by the coronavirus has wiped £2.7tn off the value of STOXX 600 shares since its all-time peak on 19 February.\""
      ],
      "metadata": {
        "id": "DeFZJgAYamfb"
      },
      "execution_count": null,
      "outputs": []
    },
    {
      "cell_type": "code",
      "source": [
        "import re\n",
        "result = re.findall(r\"[0-9]\", string)\n",
        "result"
      ],
      "metadata": {
        "colab": {
          "base_uri": "https://localhost:8080/"
        },
        "id": "UlVivlYxfSYf",
        "outputId": "e8816d4c-6a51-46db-a407-cb1c226ebb4d"
      },
      "execution_count": null,
      "outputs": [
        {
          "output_type": "execute_result",
          "data": {
            "text/plain": [
              "['6',\n",
              " '0',\n",
              " '0',\n",
              " '1',\n",
              " '1',\n",
              " '4',\n",
              " '8',\n",
              " '1',\n",
              " '9',\n",
              " '9',\n",
              " '8',\n",
              " '2',\n",
              " '7',\n",
              " '6',\n",
              " '0',\n",
              " '0',\n",
              " '1',\n",
              " '9']"
            ]
          },
          "metadata": {},
          "execution_count": 61
        }
      ]
    },
    {
      "cell_type": "code",
      "source": [
        "result = re.findall(r\"[a-zA-Z]\", string)\n",
        "result"
      ],
      "metadata": {
        "colab": {
          "base_uri": "https://localhost:8080/"
        },
        "id": "3LDFD4RZfXjq",
        "outputId": "e8b465f0-ca62-4476-84f9-0e58efa71017"
      },
      "execution_count": null,
      "outputs": [
        {
          "output_type": "execute_result",
          "data": {
            "text/plain": [
              "['T',\n",
              " 'h',\n",
              " 'e',\n",
              " 'E',\n",
              " 'u',\n",
              " 'r',\n",
              " 'o',\n",
              " 'S',\n",
              " 'T',\n",
              " 'O',\n",
              " 'X',\n",
              " 'X',\n",
              " 'i',\n",
              " 'n',\n",
              " 'd',\n",
              " 'e',\n",
              " 'x',\n",
              " 'w',\n",
              " 'h',\n",
              " 'i',\n",
              " 'c',\n",
              " 'h',\n",
              " 't',\n",
              " 'r',\n",
              " 'a',\n",
              " 'c',\n",
              " 'k',\n",
              " 's',\n",
              " 'a',\n",
              " 'l',\n",
              " 'l',\n",
              " 's',\n",
              " 't',\n",
              " 'o',\n",
              " 'c',\n",
              " 'k',\n",
              " 'm',\n",
              " 'a',\n",
              " 'r',\n",
              " 'k',\n",
              " 'e',\n",
              " 't',\n",
              " 's',\n",
              " 'a',\n",
              " 'c',\n",
              " 'r',\n",
              " 'o',\n",
              " 's',\n",
              " 's',\n",
              " 'E',\n",
              " 'u',\n",
              " 'r',\n",
              " 'o',\n",
              " 'p',\n",
              " 'e',\n",
              " 'i',\n",
              " 'n',\n",
              " 'c',\n",
              " 'l',\n",
              " 'u',\n",
              " 'd',\n",
              " 'i',\n",
              " 'n',\n",
              " 'g',\n",
              " 't',\n",
              " 'h',\n",
              " 'e',\n",
              " 'F',\n",
              " 'T',\n",
              " 'S',\n",
              " 'E',\n",
              " 'f',\n",
              " 'e',\n",
              " 'l',\n",
              " 'l',\n",
              " 'b',\n",
              " 'y',\n",
              " 't',\n",
              " 'h',\n",
              " 'e',\n",
              " 'w',\n",
              " 'o',\n",
              " 'r',\n",
              " 's',\n",
              " 't',\n",
              " 'd',\n",
              " 'a',\n",
              " 'y',\n",
              " 's',\n",
              " 'i',\n",
              " 'n',\n",
              " 'c',\n",
              " 'e',\n",
              " 'i',\n",
              " 't',\n",
              " 'l',\n",
              " 'a',\n",
              " 'u',\n",
              " 'n',\n",
              " 'c',\n",
              " 'h',\n",
              " 'e',\n",
              " 'd',\n",
              " 'i',\n",
              " 'n',\n",
              " 'T',\n",
              " 'h',\n",
              " 'e',\n",
              " 'p',\n",
              " 'a',\n",
              " 'n',\n",
              " 'i',\n",
              " 'c',\n",
              " 's',\n",
              " 'e',\n",
              " 'l',\n",
              " 'l',\n",
              " 'i',\n",
              " 'n',\n",
              " 'g',\n",
              " 'p',\n",
              " 'r',\n",
              " 'o',\n",
              " 'm',\n",
              " 'p',\n",
              " 't',\n",
              " 'e',\n",
              " 'd',\n",
              " 'b',\n",
              " 'y',\n",
              " 't',\n",
              " 'h',\n",
              " 'e',\n",
              " 'c',\n",
              " 'o',\n",
              " 'r',\n",
              " 'o',\n",
              " 'n',\n",
              " 'a',\n",
              " 'v',\n",
              " 'i',\n",
              " 'r',\n",
              " 'u',\n",
              " 's',\n",
              " 'h',\n",
              " 'a',\n",
              " 's',\n",
              " 'w',\n",
              " 'i',\n",
              " 'p',\n",
              " 'e',\n",
              " 'd',\n",
              " 't',\n",
              " 'n',\n",
              " 'o',\n",
              " 'f',\n",
              " 'f',\n",
              " 't',\n",
              " 'h',\n",
              " 'e',\n",
              " 'v',\n",
              " 'a',\n",
              " 'l',\n",
              " 'u',\n",
              " 'e',\n",
              " 'o',\n",
              " 'f',\n",
              " 'S',\n",
              " 'T',\n",
              " 'O',\n",
              " 'X',\n",
              " 'X',\n",
              " 's',\n",
              " 'h',\n",
              " 'a',\n",
              " 'r',\n",
              " 'e',\n",
              " 's',\n",
              " 's',\n",
              " 'i',\n",
              " 'n',\n",
              " 'c',\n",
              " 'e',\n",
              " 'i',\n",
              " 't',\n",
              " 's',\n",
              " 'a',\n",
              " 'l',\n",
              " 'l',\n",
              " 't',\n",
              " 'i',\n",
              " 'm',\n",
              " 'e',\n",
              " 'p',\n",
              " 'e',\n",
              " 'a',\n",
              " 'k',\n",
              " 'o',\n",
              " 'n',\n",
              " 'F',\n",
              " 'e',\n",
              " 'b',\n",
              " 'r',\n",
              " 'u',\n",
              " 'a',\n",
              " 'r',\n",
              " 'y']"
            ]
          },
          "metadata": {},
          "execution_count": 62
        }
      ]
    },
    {
      "cell_type": "code",
      "source": [
        "result = re.findall(r\"[^0-9]\", string)\n",
        "result"
      ],
      "metadata": {
        "colab": {
          "base_uri": "https://localhost:8080/"
        },
        "id": "a2TA2rgnfanO",
        "outputId": "6a702be7-06c2-4648-8c34-136c02ddc749"
      },
      "execution_count": null,
      "outputs": [
        {
          "output_type": "execute_result",
          "data": {
            "text/plain": [
              "['T',\n",
              " 'h',\n",
              " 'e',\n",
              " ' ',\n",
              " 'E',\n",
              " 'u',\n",
              " 'r',\n",
              " 'o',\n",
              " ' ',\n",
              " 'S',\n",
              " 'T',\n",
              " 'O',\n",
              " 'X',\n",
              " 'X',\n",
              " ' ',\n",
              " ' ',\n",
              " 'i',\n",
              " 'n',\n",
              " 'd',\n",
              " 'e',\n",
              " 'x',\n",
              " ',',\n",
              " ' ',\n",
              " 'w',\n",
              " 'h',\n",
              " 'i',\n",
              " 'c',\n",
              " 'h',\n",
              " ' ',\n",
              " 't',\n",
              " 'r',\n",
              " 'a',\n",
              " 'c',\n",
              " 'k',\n",
              " 's',\n",
              " ' ',\n",
              " 'a',\n",
              " 'l',\n",
              " 'l',\n",
              " ' ',\n",
              " 's',\n",
              " 't',\n",
              " 'o',\n",
              " 'c',\n",
              " 'k',\n",
              " ' ',\n",
              " 'm',\n",
              " 'a',\n",
              " 'r',\n",
              " 'k',\n",
              " 'e',\n",
              " 't',\n",
              " 's',\n",
              " ' ',\n",
              " 'a',\n",
              " 'c',\n",
              " 'r',\n",
              " 'o',\n",
              " 's',\n",
              " 's',\n",
              " ' ',\n",
              " 'E',\n",
              " 'u',\n",
              " 'r',\n",
              " 'o',\n",
              " 'p',\n",
              " 'e',\n",
              " ' ',\n",
              " 'i',\n",
              " 'n',\n",
              " 'c',\n",
              " 'l',\n",
              " 'u',\n",
              " 'd',\n",
              " 'i',\n",
              " 'n',\n",
              " 'g',\n",
              " ' ',\n",
              " 't',\n",
              " 'h',\n",
              " 'e',\n",
              " ' ',\n",
              " 'F',\n",
              " 'T',\n",
              " 'S',\n",
              " 'E',\n",
              " ',',\n",
              " ' ',\n",
              " 'f',\n",
              " 'e',\n",
              " 'l',\n",
              " 'l',\n",
              " ' ',\n",
              " 'b',\n",
              " 'y',\n",
              " ' ',\n",
              " '.',\n",
              " '%',\n",
              " ' ',\n",
              " '–',\n",
              " ' ',\n",
              " 't',\n",
              " 'h',\n",
              " 'e',\n",
              " ' ',\n",
              " 'w',\n",
              " 'o',\n",
              " 'r',\n",
              " 's',\n",
              " 't',\n",
              " ' ',\n",
              " 'd',\n",
              " 'a',\n",
              " 'y',\n",
              " ' ',\n",
              " 's',\n",
              " 'i',\n",
              " 'n',\n",
              " 'c',\n",
              " 'e',\n",
              " ' ',\n",
              " 'i',\n",
              " 't',\n",
              " ' ',\n",
              " 'l',\n",
              " 'a',\n",
              " 'u',\n",
              " 'n',\n",
              " 'c',\n",
              " 'h',\n",
              " 'e',\n",
              " 'd',\n",
              " ' ',\n",
              " 'i',\n",
              " 'n',\n",
              " ' ',\n",
              " '.',\n",
              " ' ',\n",
              " 'T',\n",
              " 'h',\n",
              " 'e',\n",
              " ' ',\n",
              " 'p',\n",
              " 'a',\n",
              " 'n',\n",
              " 'i',\n",
              " 'c',\n",
              " ' ',\n",
              " 's',\n",
              " 'e',\n",
              " 'l',\n",
              " 'l',\n",
              " 'i',\n",
              " 'n',\n",
              " 'g',\n",
              " ' ',\n",
              " 'p',\n",
              " 'r',\n",
              " 'o',\n",
              " 'm',\n",
              " 'p',\n",
              " 't',\n",
              " 'e',\n",
              " 'd',\n",
              " ' ',\n",
              " 'b',\n",
              " 'y',\n",
              " ' ',\n",
              " 't',\n",
              " 'h',\n",
              " 'e',\n",
              " ' ',\n",
              " 'c',\n",
              " 'o',\n",
              " 'r',\n",
              " 'o',\n",
              " 'n',\n",
              " 'a',\n",
              " 'v',\n",
              " 'i',\n",
              " 'r',\n",
              " 'u',\n",
              " 's',\n",
              " ' ',\n",
              " 'h',\n",
              " 'a',\n",
              " 's',\n",
              " ' ',\n",
              " 'w',\n",
              " 'i',\n",
              " 'p',\n",
              " 'e',\n",
              " 'd',\n",
              " ' ',\n",
              " '£',\n",
              " '.',\n",
              " 't',\n",
              " 'n',\n",
              " ' ',\n",
              " 'o',\n",
              " 'f',\n",
              " 'f',\n",
              " ' ',\n",
              " 't',\n",
              " 'h',\n",
              " 'e',\n",
              " ' ',\n",
              " 'v',\n",
              " 'a',\n",
              " 'l',\n",
              " 'u',\n",
              " 'e',\n",
              " ' ',\n",
              " 'o',\n",
              " 'f',\n",
              " ' ',\n",
              " 'S',\n",
              " 'T',\n",
              " 'O',\n",
              " 'X',\n",
              " 'X',\n",
              " ' ',\n",
              " ' ',\n",
              " 's',\n",
              " 'h',\n",
              " 'a',\n",
              " 'r',\n",
              " 'e',\n",
              " 's',\n",
              " ' ',\n",
              " 's',\n",
              " 'i',\n",
              " 'n',\n",
              " 'c',\n",
              " 'e',\n",
              " ' ',\n",
              " 'i',\n",
              " 't',\n",
              " 's',\n",
              " ' ',\n",
              " 'a',\n",
              " 'l',\n",
              " 'l',\n",
              " '-',\n",
              " 't',\n",
              " 'i',\n",
              " 'm',\n",
              " 'e',\n",
              " ' ',\n",
              " 'p',\n",
              " 'e',\n",
              " 'a',\n",
              " 'k',\n",
              " ' ',\n",
              " 'o',\n",
              " 'n',\n",
              " ' ',\n",
              " ' ',\n",
              " 'F',\n",
              " 'e',\n",
              " 'b',\n",
              " 'r',\n",
              " 'u',\n",
              " 'a',\n",
              " 'r',\n",
              " 'y',\n",
              " '.']"
            ]
          },
          "metadata": {},
          "execution_count": 63
        }
      ]
    },
    {
      "cell_type": "code",
      "source": [
        "result = re.findall(r\"[ \\n\\t\\r\\f\\v]\", string)\n",
        "result"
      ],
      "metadata": {
        "colab": {
          "base_uri": "https://localhost:8080/"
        },
        "id": "u9ax-I2AfeIW",
        "outputId": "50c50e7c-119a-4748-fe79-a722e1a2851b"
      },
      "execution_count": null,
      "outputs": [
        {
          "output_type": "execute_result",
          "data": {
            "text/plain": [
              "[' ',\n",
              " ' ',\n",
              " ' ',\n",
              " ' ',\n",
              " ' ',\n",
              " ' ',\n",
              " ' ',\n",
              " ' ',\n",
              " ' ',\n",
              " ' ',\n",
              " ' ',\n",
              " ' ',\n",
              " ' ',\n",
              " ' ',\n",
              " ' ',\n",
              " ' ',\n",
              " ' ',\n",
              " ' ',\n",
              " ' ',\n",
              " ' ',\n",
              " ' ',\n",
              " ' ',\n",
              " ' ',\n",
              " ' ',\n",
              " ' ',\n",
              " ' ',\n",
              " ' ',\n",
              " ' ',\n",
              " ' ',\n",
              " ' ',\n",
              " ' ',\n",
              " ' ',\n",
              " ' ',\n",
              " ' ',\n",
              " ' ',\n",
              " ' ',\n",
              " ' ',\n",
              " ' ',\n",
              " ' ',\n",
              " ' ',\n",
              " ' ',\n",
              " ' ',\n",
              " ' ',\n",
              " ' ',\n",
              " ' ',\n",
              " ' ',\n",
              " ' ',\n",
              " ' ',\n",
              " ' ',\n",
              " ' ']"
            ]
          },
          "metadata": {},
          "execution_count": 64
        }
      ]
    },
    {
      "cell_type": "code",
      "source": [
        "result = re.findall(r\"[^ \\n\\t\\r\\f\\v]\", string)\n",
        "result"
      ],
      "metadata": {
        "colab": {
          "base_uri": "https://localhost:8080/"
        },
        "id": "9PPKWhV8fiQ8",
        "outputId": "4c6f44bb-29f9-412b-c869-0b79432ec615"
      },
      "execution_count": null,
      "outputs": [
        {
          "output_type": "execute_result",
          "data": {
            "text/plain": [
              "['T',\n",
              " 'h',\n",
              " 'e',\n",
              " 'E',\n",
              " 'u',\n",
              " 'r',\n",
              " 'o',\n",
              " 'S',\n",
              " 'T',\n",
              " 'O',\n",
              " 'X',\n",
              " 'X',\n",
              " '6',\n",
              " '0',\n",
              " '0',\n",
              " 'i',\n",
              " 'n',\n",
              " 'd',\n",
              " 'e',\n",
              " 'x',\n",
              " ',',\n",
              " 'w',\n",
              " 'h',\n",
              " 'i',\n",
              " 'c',\n",
              " 'h',\n",
              " 't',\n",
              " 'r',\n",
              " 'a',\n",
              " 'c',\n",
              " 'k',\n",
              " 's',\n",
              " 'a',\n",
              " 'l',\n",
              " 'l',\n",
              " 's',\n",
              " 't',\n",
              " 'o',\n",
              " 'c',\n",
              " 'k',\n",
              " 'm',\n",
              " 'a',\n",
              " 'r',\n",
              " 'k',\n",
              " 'e',\n",
              " 't',\n",
              " 's',\n",
              " 'a',\n",
              " 'c',\n",
              " 'r',\n",
              " 'o',\n",
              " 's',\n",
              " 's',\n",
              " 'E',\n",
              " 'u',\n",
              " 'r',\n",
              " 'o',\n",
              " 'p',\n",
              " 'e',\n",
              " 'i',\n",
              " 'n',\n",
              " 'c',\n",
              " 'l',\n",
              " 'u',\n",
              " 'd',\n",
              " 'i',\n",
              " 'n',\n",
              " 'g',\n",
              " 't',\n",
              " 'h',\n",
              " 'e',\n",
              " 'F',\n",
              " 'T',\n",
              " 'S',\n",
              " 'E',\n",
              " ',',\n",
              " 'f',\n",
              " 'e',\n",
              " 'l',\n",
              " 'l',\n",
              " 'b',\n",
              " 'y',\n",
              " '1',\n",
              " '1',\n",
              " '.',\n",
              " '4',\n",
              " '8',\n",
              " '%',\n",
              " '–',\n",
              " 't',\n",
              " 'h',\n",
              " 'e',\n",
              " 'w',\n",
              " 'o',\n",
              " 'r',\n",
              " 's',\n",
              " 't',\n",
              " 'd',\n",
              " 'a',\n",
              " 'y',\n",
              " 's',\n",
              " 'i',\n",
              " 'n',\n",
              " 'c',\n",
              " 'e',\n",
              " 'i',\n",
              " 't',\n",
              " 'l',\n",
              " 'a',\n",
              " 'u',\n",
              " 'n',\n",
              " 'c',\n",
              " 'h',\n",
              " 'e',\n",
              " 'd',\n",
              " 'i',\n",
              " 'n',\n",
              " '1',\n",
              " '9',\n",
              " '9',\n",
              " '8',\n",
              " '.',\n",
              " 'T',\n",
              " 'h',\n",
              " 'e',\n",
              " 'p',\n",
              " 'a',\n",
              " 'n',\n",
              " 'i',\n",
              " 'c',\n",
              " 's',\n",
              " 'e',\n",
              " 'l',\n",
              " 'l',\n",
              " 'i',\n",
              " 'n',\n",
              " 'g',\n",
              " 'p',\n",
              " 'r',\n",
              " 'o',\n",
              " 'm',\n",
              " 'p',\n",
              " 't',\n",
              " 'e',\n",
              " 'd',\n",
              " 'b',\n",
              " 'y',\n",
              " 't',\n",
              " 'h',\n",
              " 'e',\n",
              " 'c',\n",
              " 'o',\n",
              " 'r',\n",
              " 'o',\n",
              " 'n',\n",
              " 'a',\n",
              " 'v',\n",
              " 'i',\n",
              " 'r',\n",
              " 'u',\n",
              " 's',\n",
              " 'h',\n",
              " 'a',\n",
              " 's',\n",
              " 'w',\n",
              " 'i',\n",
              " 'p',\n",
              " 'e',\n",
              " 'd',\n",
              " '£',\n",
              " '2',\n",
              " '.',\n",
              " '7',\n",
              " 't',\n",
              " 'n',\n",
              " 'o',\n",
              " 'f',\n",
              " 'f',\n",
              " 't',\n",
              " 'h',\n",
              " 'e',\n",
              " 'v',\n",
              " 'a',\n",
              " 'l',\n",
              " 'u',\n",
              " 'e',\n",
              " 'o',\n",
              " 'f',\n",
              " 'S',\n",
              " 'T',\n",
              " 'O',\n",
              " 'X',\n",
              " 'X',\n",
              " '6',\n",
              " '0',\n",
              " '0',\n",
              " 's',\n",
              " 'h',\n",
              " 'a',\n",
              " 'r',\n",
              " 'e',\n",
              " 's',\n",
              " 's',\n",
              " 'i',\n",
              " 'n',\n",
              " 'c',\n",
              " 'e',\n",
              " 'i',\n",
              " 't',\n",
              " 's',\n",
              " 'a',\n",
              " 'l',\n",
              " 'l',\n",
              " '-',\n",
              " 't',\n",
              " 'i',\n",
              " 'm',\n",
              " 'e',\n",
              " 'p',\n",
              " 'e',\n",
              " 'a',\n",
              " 'k',\n",
              " 'o',\n",
              " 'n',\n",
              " '1',\n",
              " '9',\n",
              " 'F',\n",
              " 'e',\n",
              " 'b',\n",
              " 'r',\n",
              " 'u',\n",
              " 'a',\n",
              " 'r',\n",
              " 'y',\n",
              " '.']"
            ]
          },
          "metadata": {},
          "execution_count": 65
        }
      ]
    },
    {
      "cell_type": "code",
      "source": [
        "result = re.findall(r\"[a-zA-Z0-9_]\", string)\n",
        "result"
      ],
      "metadata": {
        "colab": {
          "base_uri": "https://localhost:8080/"
        },
        "id": "O9j_dckgflQj",
        "outputId": "0bddb6e0-48da-4dbc-94c1-3a731a9a8691"
      },
      "execution_count": null,
      "outputs": [
        {
          "output_type": "execute_result",
          "data": {
            "text/plain": [
              "['T',\n",
              " 'h',\n",
              " 'e',\n",
              " 'E',\n",
              " 'u',\n",
              " 'r',\n",
              " 'o',\n",
              " 'S',\n",
              " 'T',\n",
              " 'O',\n",
              " 'X',\n",
              " 'X',\n",
              " '6',\n",
              " '0',\n",
              " '0',\n",
              " 'i',\n",
              " 'n',\n",
              " 'd',\n",
              " 'e',\n",
              " 'x',\n",
              " 'w',\n",
              " 'h',\n",
              " 'i',\n",
              " 'c',\n",
              " 'h',\n",
              " 't',\n",
              " 'r',\n",
              " 'a',\n",
              " 'c',\n",
              " 'k',\n",
              " 's',\n",
              " 'a',\n",
              " 'l',\n",
              " 'l',\n",
              " 's',\n",
              " 't',\n",
              " 'o',\n",
              " 'c',\n",
              " 'k',\n",
              " 'm',\n",
              " 'a',\n",
              " 'r',\n",
              " 'k',\n",
              " 'e',\n",
              " 't',\n",
              " 's',\n",
              " 'a',\n",
              " 'c',\n",
              " 'r',\n",
              " 'o',\n",
              " 's',\n",
              " 's',\n",
              " 'E',\n",
              " 'u',\n",
              " 'r',\n",
              " 'o',\n",
              " 'p',\n",
              " 'e',\n",
              " 'i',\n",
              " 'n',\n",
              " 'c',\n",
              " 'l',\n",
              " 'u',\n",
              " 'd',\n",
              " 'i',\n",
              " 'n',\n",
              " 'g',\n",
              " 't',\n",
              " 'h',\n",
              " 'e',\n",
              " 'F',\n",
              " 'T',\n",
              " 'S',\n",
              " 'E',\n",
              " 'f',\n",
              " 'e',\n",
              " 'l',\n",
              " 'l',\n",
              " 'b',\n",
              " 'y',\n",
              " '1',\n",
              " '1',\n",
              " '4',\n",
              " '8',\n",
              " 't',\n",
              " 'h',\n",
              " 'e',\n",
              " 'w',\n",
              " 'o',\n",
              " 'r',\n",
              " 's',\n",
              " 't',\n",
              " 'd',\n",
              " 'a',\n",
              " 'y',\n",
              " 's',\n",
              " 'i',\n",
              " 'n',\n",
              " 'c',\n",
              " 'e',\n",
              " 'i',\n",
              " 't',\n",
              " 'l',\n",
              " 'a',\n",
              " 'u',\n",
              " 'n',\n",
              " 'c',\n",
              " 'h',\n",
              " 'e',\n",
              " 'd',\n",
              " 'i',\n",
              " 'n',\n",
              " '1',\n",
              " '9',\n",
              " '9',\n",
              " '8',\n",
              " 'T',\n",
              " 'h',\n",
              " 'e',\n",
              " 'p',\n",
              " 'a',\n",
              " 'n',\n",
              " 'i',\n",
              " 'c',\n",
              " 's',\n",
              " 'e',\n",
              " 'l',\n",
              " 'l',\n",
              " 'i',\n",
              " 'n',\n",
              " 'g',\n",
              " 'p',\n",
              " 'r',\n",
              " 'o',\n",
              " 'm',\n",
              " 'p',\n",
              " 't',\n",
              " 'e',\n",
              " 'd',\n",
              " 'b',\n",
              " 'y',\n",
              " 't',\n",
              " 'h',\n",
              " 'e',\n",
              " 'c',\n",
              " 'o',\n",
              " 'r',\n",
              " 'o',\n",
              " 'n',\n",
              " 'a',\n",
              " 'v',\n",
              " 'i',\n",
              " 'r',\n",
              " 'u',\n",
              " 's',\n",
              " 'h',\n",
              " 'a',\n",
              " 's',\n",
              " 'w',\n",
              " 'i',\n",
              " 'p',\n",
              " 'e',\n",
              " 'd',\n",
              " '2',\n",
              " '7',\n",
              " 't',\n",
              " 'n',\n",
              " 'o',\n",
              " 'f',\n",
              " 'f',\n",
              " 't',\n",
              " 'h',\n",
              " 'e',\n",
              " 'v',\n",
              " 'a',\n",
              " 'l',\n",
              " 'u',\n",
              " 'e',\n",
              " 'o',\n",
              " 'f',\n",
              " 'S',\n",
              " 'T',\n",
              " 'O',\n",
              " 'X',\n",
              " 'X',\n",
              " '6',\n",
              " '0',\n",
              " '0',\n",
              " 's',\n",
              " 'h',\n",
              " 'a',\n",
              " 'r',\n",
              " 'e',\n",
              " 's',\n",
              " 's',\n",
              " 'i',\n",
              " 'n',\n",
              " 'c',\n",
              " 'e',\n",
              " 'i',\n",
              " 't',\n",
              " 's',\n",
              " 'a',\n",
              " 'l',\n",
              " 'l',\n",
              " 't',\n",
              " 'i',\n",
              " 'm',\n",
              " 'e',\n",
              " 'p',\n",
              " 'e',\n",
              " 'a',\n",
              " 'k',\n",
              " 'o',\n",
              " 'n',\n",
              " '1',\n",
              " '9',\n",
              " 'F',\n",
              " 'e',\n",
              " 'b',\n",
              " 'r',\n",
              " 'u',\n",
              " 'a',\n",
              " 'r',\n",
              " 'y']"
            ]
          },
          "metadata": {},
          "execution_count": 66
        }
      ]
    },
    {
      "cell_type": "code",
      "source": [
        "result = re.findall(r\"[^a-zA-Z0-9_]\", string)\n",
        "result"
      ],
      "metadata": {
        "colab": {
          "base_uri": "https://localhost:8080/"
        },
        "id": "0HYrum_Yfo5i",
        "outputId": "7bb0d7ff-cd23-4c47-e355-46bbef94ced0"
      },
      "execution_count": null,
      "outputs": [
        {
          "output_type": "execute_result",
          "data": {
            "text/plain": [
              "[' ',\n",
              " ' ',\n",
              " ' ',\n",
              " ' ',\n",
              " ',',\n",
              " ' ',\n",
              " ' ',\n",
              " ' ',\n",
              " ' ',\n",
              " ' ',\n",
              " ' ',\n",
              " ' ',\n",
              " ' ',\n",
              " ' ',\n",
              " ' ',\n",
              " ',',\n",
              " ' ',\n",
              " ' ',\n",
              " ' ',\n",
              " '.',\n",
              " '%',\n",
              " ' ',\n",
              " '–',\n",
              " ' ',\n",
              " ' ',\n",
              " ' ',\n",
              " ' ',\n",
              " ' ',\n",
              " ' ',\n",
              " ' ',\n",
              " ' ',\n",
              " '.',\n",
              " ' ',\n",
              " ' ',\n",
              " ' ',\n",
              " ' ',\n",
              " ' ',\n",
              " ' ',\n",
              " ' ',\n",
              " ' ',\n",
              " ' ',\n",
              " ' ',\n",
              " '£',\n",
              " '.',\n",
              " ' ',\n",
              " ' ',\n",
              " ' ',\n",
              " ' ',\n",
              " ' ',\n",
              " ' ',\n",
              " ' ',\n",
              " ' ',\n",
              " ' ',\n",
              " ' ',\n",
              " '-',\n",
              " ' ',\n",
              " ' ',\n",
              " ' ',\n",
              " ' ',\n",
              " '.']"
            ]
          },
          "metadata": {},
          "execution_count": 67
        }
      ]
    },
    {
      "cell_type": "code",
      "source": [
        "string = \"The Euro STOXX 600 index, which tracks all stock markets across Europe including the FTSE, fell by 11.48% – the worst day since it launched in 1998. The panic selling prompted by the coronavirus has wiped £2.7tn off the value of STOXX 600 shares since its all-time peak on 19 February.\""
      ],
      "metadata": {
        "id": "WbeOiWnPfsMl"
      },
      "execution_count": null,
      "outputs": []
    },
    {
      "cell_type": "code",
      "source": [
        "import re\n",
        "result = re.findall(r\"\\b\\w{4}\\b\", string)\n",
        "result"
      ],
      "metadata": {
        "colab": {
          "base_uri": "https://localhost:8080/"
        },
        "id": "Vk-3DmqyxJYX",
        "outputId": "88532213-25b1-4bfb-ec1e-c9a9f401488b"
      },
      "execution_count": null,
      "outputs": [
        {
          "output_type": "execute_result",
          "data": {
            "text/plain": [
              "['Euro', 'FTSE', 'fell', '1998', 'time', 'peak']"
            ]
          },
          "metadata": {},
          "execution_count": 69
        }
      ]
    },
    {
      "cell_type": "code",
      "source": [
        "result = re.findall(r\"\\b\\w{3,5}\\b\", string)\n",
        "result"
      ],
      "metadata": {
        "colab": {
          "base_uri": "https://localhost:8080/"
        },
        "id": "NN0vNGlxxN_K",
        "outputId": "9cf6f9e7-8b65-4707-d608-a280a83a6323"
      },
      "execution_count": null,
      "outputs": [
        {
          "output_type": "execute_result",
          "data": {
            "text/plain": [
              "['The',\n",
              " 'Euro',\n",
              " 'STOXX',\n",
              " '600',\n",
              " 'index',\n",
              " 'which',\n",
              " 'all',\n",
              " 'stock',\n",
              " 'the',\n",
              " 'FTSE',\n",
              " 'fell',\n",
              " 'the',\n",
              " 'worst',\n",
              " 'day',\n",
              " 'since',\n",
              " '1998',\n",
              " 'The',\n",
              " 'panic',\n",
              " 'the',\n",
              " 'has',\n",
              " 'wiped',\n",
              " '7tn',\n",
              " 'off',\n",
              " 'the',\n",
              " 'value',\n",
              " 'STOXX',\n",
              " '600',\n",
              " 'since',\n",
              " 'its',\n",
              " 'all',\n",
              " 'time',\n",
              " 'peak']"
            ]
          },
          "metadata": {},
          "execution_count": 70
        }
      ]
    },
    {
      "cell_type": "code",
      "source": [
        "result = re.findall(r\"\\b\\w{3,}\\b\", string)\n",
        "result"
      ],
      "metadata": {
        "colab": {
          "base_uri": "https://localhost:8080/"
        },
        "id": "zHOnqeijxU4q",
        "outputId": "9408d231-bb39-4d05-8224-986fec1a1bef"
      },
      "execution_count": null,
      "outputs": [
        {
          "output_type": "execute_result",
          "data": {
            "text/plain": [
              "['The',\n",
              " 'Euro',\n",
              " 'STOXX',\n",
              " '600',\n",
              " 'index',\n",
              " 'which',\n",
              " 'tracks',\n",
              " 'all',\n",
              " 'stock',\n",
              " 'markets',\n",
              " 'across',\n",
              " 'Europe',\n",
              " 'including',\n",
              " 'the',\n",
              " 'FTSE',\n",
              " 'fell',\n",
              " 'the',\n",
              " 'worst',\n",
              " 'day',\n",
              " 'since',\n",
              " 'launched',\n",
              " '1998',\n",
              " 'The',\n",
              " 'panic',\n",
              " 'selling',\n",
              " 'prompted',\n",
              " 'the',\n",
              " 'coronavirus',\n",
              " 'has',\n",
              " 'wiped',\n",
              " '7tn',\n",
              " 'off',\n",
              " 'the',\n",
              " 'value',\n",
              " 'STOXX',\n",
              " '600',\n",
              " 'shares',\n",
              " 'since',\n",
              " 'its',\n",
              " 'all',\n",
              " 'time',\n",
              " 'peak',\n",
              " 'February']"
            ]
          },
          "metadata": {},
          "execution_count": 71
        }
      ]
    },
    {
      "cell_type": "code",
      "source": [
        "number = \"12391827172820919011001911\"\n",
        "result = re.search(r\"\\d{3,6}\", number)\n",
        "result"
      ],
      "metadata": {
        "colab": {
          "base_uri": "https://localhost:8080/"
        },
        "id": "-hOwlF2LxZQt",
        "outputId": "862ed0ec-634c-456b-a18b-a0c7d6a227e7"
      },
      "execution_count": null,
      "outputs": [
        {
          "output_type": "execute_result",
          "data": {
            "text/plain": [
              "<re.Match object; span=(0, 6), match='123918'>"
            ]
          },
          "metadata": {},
          "execution_count": 72
        }
      ]
    },
    {
      "cell_type": "code",
      "source": [
        "result = re.search(r\"\\d{3,6}?\", number)\n",
        "result"
      ],
      "metadata": {
        "colab": {
          "base_uri": "https://localhost:8080/"
        },
        "id": "iSMY17w7xf6b",
        "outputId": "98d3065e-0937-4b4d-d218-0a809f39925e"
      },
      "execution_count": null,
      "outputs": [
        {
          "output_type": "execute_result",
          "data": {
            "text/plain": [
              "<re.Match object; span=(0, 3), match='123'>"
            ]
          },
          "metadata": {},
          "execution_count": 73
        }
      ]
    },
    {
      "cell_type": "code",
      "source": [
        "string = \"The Euro STOXX 600 index, which tracks all stock markets across Europe including the FTSE, fell by 11.48% – the worst day since it launched in 1998. The panic selling prompted by the coronavirus has wiped £2.7tn off the value of STOXX 600 shares since its all-time peak on 19 February.\""
      ],
      "metadata": {
        "id": "Zq0dQCCsxkC8"
      },
      "execution_count": null,
      "outputs": []
    },
    {
      "cell_type": "code",
      "source": [
        "import re\n",
        "result = re.search(r\"\\d{3}|\\d{4}|\\b[A-Z]{4}\\b\", string)\n",
        "result"
      ],
      "metadata": {
        "colab": {
          "base_uri": "https://localhost:8080/"
        },
        "id": "sbvv1Vv5y6Mr",
        "outputId": "7ffb9cb4-0e6f-4568-d636-847bbd7186e8"
      },
      "execution_count": null,
      "outputs": [
        {
          "output_type": "execute_result",
          "data": {
            "text/plain": [
              "<re.Match object; span=(15, 18), match='600'>"
            ]
          },
          "metadata": {},
          "execution_count": 75
        }
      ]
    },
    {
      "cell_type": "code",
      "source": [
        "result = re.search(r\"\\d{8}|\\d{4}|\\b[A-Z]{4}\\b\", string)\n",
        "result"
      ],
      "metadata": {
        "colab": {
          "base_uri": "https://localhost:8080/"
        },
        "id": "0Ye7bqHozACC",
        "outputId": "eb119437-d29c-40d0-94a6-603fba70e9cc"
      },
      "execution_count": null,
      "outputs": [
        {
          "output_type": "execute_result",
          "data": {
            "text/plain": [
              "<re.Match object; span=(85, 89), match='FTSE'>"
            ]
          },
          "metadata": {},
          "execution_count": 76
        }
      ]
    },
    {
      "cell_type": "code",
      "source": [
        "string = \"The Euro STOXX 600 index, which tracks all stock markets across Europe including the FTSE, fell by 11.48% – the worst day since it launched in 1998.\\nThe panic selling prompted by the coronavirus has wiped £2.7tn off the value of STOXX 600 shares since its all-time peak on 19 February.\""
      ],
      "metadata": {
        "id": "xW2exN4kzC2U"
      },
      "execution_count": null,
      "outputs": []
    },
    {
      "cell_type": "code",
      "source": [
        "import re\n",
        "result = re.findall(r\"\\A([A-Z].*?)\\s\", string, re.M)\n",
        "result"
      ],
      "metadata": {
        "colab": {
          "base_uri": "https://localhost:8080/"
        },
        "id": "26fQUHs04UTe",
        "outputId": "3eeb2565-0bc1-477b-8b90-f19fa456191e"
      },
      "execution_count": null,
      "outputs": [
        {
          "output_type": "execute_result",
          "data": {
            "text/plain": [
              "['The']"
            ]
          },
          "metadata": {},
          "execution_count": 78
        }
      ]
    },
    {
      "cell_type": "code",
      "source": [
        "result = re.findall(r\"^([A-Z].*?)\\s\", string, re.M)\n",
        "result"
      ],
      "metadata": {
        "colab": {
          "base_uri": "https://localhost:8080/"
        },
        "id": "L_a5R-md4Y6r",
        "outputId": "486c49fe-1d90-48c4-ca08-29ba0b3801ef"
      },
      "execution_count": null,
      "outputs": [
        {
          "output_type": "execute_result",
          "data": {
            "text/plain": [
              "['The', 'The']"
            ]
          },
          "metadata": {},
          "execution_count": 79
        }
      ]
    },
    {
      "cell_type": "code",
      "source": [
        "result = re.findall(r\"\\W\\Z\", string, re.M)\n",
        "result"
      ],
      "metadata": {
        "colab": {
          "base_uri": "https://localhost:8080/"
        },
        "id": "581tLcZa4erf",
        "outputId": "f9932f85-4026-4ec3-99a6-bf9d57f06f46"
      },
      "execution_count": null,
      "outputs": [
        {
          "output_type": "execute_result",
          "data": {
            "text/plain": [
              "['.']"
            ]
          },
          "metadata": {},
          "execution_count": 80
        }
      ]
    },
    {
      "cell_type": "code",
      "source": [
        "result = re.findall(r\"\\W$\", string, re.M)\n",
        "result"
      ],
      "metadata": {
        "colab": {
          "base_uri": "https://localhost:8080/"
        },
        "id": "hEGacp7B5E2v",
        "outputId": "c1380455-c4bb-4820-f992-9245125943fb"
      },
      "execution_count": null,
      "outputs": [
        {
          "output_type": "execute_result",
          "data": {
            "text/plain": [
              "['.', '.']"
            ]
          },
          "metadata": {},
          "execution_count": 81
        }
      ]
    },
    {
      "cell_type": "code",
      "source": [
        "string = \"The Euro STOXX 600 index, which tracks all stock markets across Europe including the FTSE, fell by 11.48% – the worst day since it launched in 1998. The panic selling prompted by the coronavirus has wiped £2.7tn off the value of STOXX 600 shares since its all-time peak on 19 February.\""
      ],
      "metadata": {
        "id": "2KkiH18d5IvN"
      },
      "execution_count": null,
      "outputs": []
    },
    {
      "cell_type": "code",
      "source": [
        "import re\n",
        "result = re.findall(r\"\\b\\w{10,}\\b\", string)\n",
        "result"
      ],
      "metadata": {
        "colab": {
          "base_uri": "https://localhost:8080/"
        },
        "id": "PiFD8931Fm4V",
        "outputId": "75efb071-5f77-448b-aa2f-6ed9e609792e"
      },
      "execution_count": null,
      "outputs": [
        {
          "output_type": "execute_result",
          "data": {
            "text/plain": [
              "['coronavirus']"
            ]
          },
          "metadata": {},
          "execution_count": 83
        }
      ]
    },
    {
      "cell_type": "code",
      "source": [
        "result = re.findall(r\"\\bEuro\\b\", string)\n",
        "result"
      ],
      "metadata": {
        "colab": {
          "base_uri": "https://localhost:8080/"
        },
        "id": "Y9v5iY1UFqtn",
        "outputId": "337d2f10-fd88-4658-a549-e1e9ef606ab5"
      },
      "execution_count": null,
      "outputs": [
        {
          "output_type": "execute_result",
          "data": {
            "text/plain": [
              "['Euro']"
            ]
          },
          "metadata": {},
          "execution_count": 84
        }
      ]
    },
    {
      "cell_type": "code",
      "source": [
        "result = re.findall(r\"\\Bcross\", string)\n",
        "result"
      ],
      "metadata": {
        "colab": {
          "base_uri": "https://localhost:8080/"
        },
        "id": "nJ7mfHE6Fuuf",
        "outputId": "6dd3458b-fa7d-4065-8660-7d29a83d7242"
      },
      "execution_count": null,
      "outputs": [
        {
          "output_type": "execute_result",
          "data": {
            "text/plain": [
              "['cross']"
            ]
          },
          "metadata": {},
          "execution_count": 85
        }
      ]
    },
    {
      "cell_type": "code",
      "source": [
        "result = re.findall(r\"cross\\B\", string)\n",
        "result"
      ],
      "metadata": {
        "colab": {
          "base_uri": "https://localhost:8080/"
        },
        "id": "5a3R8L04FyA8",
        "outputId": "c717bb92-c008-4030-9194-fc2dac7c5917"
      },
      "execution_count": null,
      "outputs": [
        {
          "output_type": "execute_result",
          "data": {
            "text/plain": [
              "[]"
            ]
          },
          "metadata": {},
          "execution_count": 86
        }
      ]
    },
    {
      "cell_type": "code",
      "source": [
        "result = re.findall(r\"\\Bcross\\B\", string)\n",
        "result"
      ],
      "metadata": {
        "colab": {
          "base_uri": "https://localhost:8080/"
        },
        "id": "HWCackl4F1Bz",
        "outputId": "322e55cd-26aa-4d76-889b-85eeac1f01c5"
      },
      "execution_count": null,
      "outputs": [
        {
          "output_type": "execute_result",
          "data": {
            "text/plain": [
              "[]"
            ]
          },
          "metadata": {},
          "execution_count": 87
        }
      ]
    },
    {
      "cell_type": "code",
      "source": [
        "string = \"The Euro STOXX 600 index, which tracks all stock markets across Europe including the FTSE, fell by 11.48% – the worst day since it launched in 1998. The panic selling prompted by the coronavirus has wiped £2.7tn off the value of STOXX 600 shares since its all-time peak on 19 February.\""
      ],
      "metadata": {
        "id": "uhZUg0z7F5Y1"
      },
      "execution_count": null,
      "outputs": []
    },
    {
      "cell_type": "code",
      "source": [
        "import re\n",
        "result = re.findall(r\"(\\d)[a-z]\", string)\n",
        "result"
      ],
      "metadata": {
        "colab": {
          "base_uri": "https://localhost:8080/"
        },
        "id": "rauujjrAHom7",
        "outputId": "638fe8d9-ce75-46b3-e10a-98ffa3b6ff81"
      },
      "execution_count": null,
      "outputs": [
        {
          "output_type": "execute_result",
          "data": {
            "text/plain": [
              "['7']"
            ]
          },
          "metadata": {},
          "execution_count": 91
        }
      ]
    },
    {
      "cell_type": "code",
      "source": [
        "result = re.findall(r\"\\W\\D\\W\", string)\n",
        "result"
      ],
      "metadata": {
        "colab": {
          "base_uri": "https://localhost:8080/"
        },
        "id": "ElQqqPHUHwHl",
        "outputId": "8e77d3c8-820b-4af6-ca32-39b634ec874c"
      },
      "execution_count": null,
      "outputs": [
        {
          "output_type": "execute_result",
          "data": {
            "text/plain": [
              "['% –']"
            ]
          },
          "metadata": {},
          "execution_count": 92
        }
      ]
    },
    {
      "cell_type": "code",
      "source": [
        "result = re.findall(r\"\\W(\\D)\\W\", string)\n",
        "result"
      ],
      "metadata": {
        "colab": {
          "base_uri": "https://localhost:8080/"
        },
        "id": "IdzNMa-JHzel",
        "outputId": "b553bae4-6036-43e1-9caa-47b810fa6f68"
      },
      "execution_count": null,
      "outputs": [
        {
          "output_type": "execute_result",
          "data": {
            "text/plain": [
              "[' ']"
            ]
          },
          "metadata": {},
          "execution_count": 89
        }
      ]
    },
    {
      "cell_type": "code",
      "source": [
        "string = \"The Euro STOXX 600 index, which tracks all stock markets across Europe including the FTSE, fell by 11.48% – the worst day since it launched in 1998. The panic selling prompted by the coronavirus has wiped £2.7tn off the value of STOXX 600 shares since its all-time peak on 19 February.\""
      ],
      "metadata": {
        "id": "ORHB1-QUH1jT"
      },
      "execution_count": null,
      "outputs": []
    },
    {
      "cell_type": "code",
      "source": [
        "import re\n",
        "result = re.findall(r\"\\s\", string)\n",
        "result"
      ],
      "metadata": {
        "colab": {
          "base_uri": "https://localhost:8080/"
        },
        "id": "EJwvYO8LIOBB",
        "outputId": "87dbcc9b-ee7a-4c39-c724-7f1abf29a80c"
      },
      "execution_count": null,
      "outputs": [
        {
          "output_type": "execute_result",
          "data": {
            "text/plain": [
              "[' ',\n",
              " ' ',\n",
              " ' ',\n",
              " ' ',\n",
              " ' ',\n",
              " ' ',\n",
              " ' ',\n",
              " ' ',\n",
              " ' ',\n",
              " ' ',\n",
              " ' ',\n",
              " ' ',\n",
              " ' ',\n",
              " ' ',\n",
              " ' ',\n",
              " ' ',\n",
              " ' ',\n",
              " ' ',\n",
              " ' ',\n",
              " ' ',\n",
              " ' ',\n",
              " ' ',\n",
              " ' ',\n",
              " ' ',\n",
              " ' ',\n",
              " ' ',\n",
              " ' ',\n",
              " ' ',\n",
              " ' ',\n",
              " ' ',\n",
              " ' ',\n",
              " ' ',\n",
              " ' ',\n",
              " ' ',\n",
              " ' ',\n",
              " ' ',\n",
              " ' ',\n",
              " ' ',\n",
              " ' ',\n",
              " ' ',\n",
              " ' ',\n",
              " ' ',\n",
              " ' ',\n",
              " ' ',\n",
              " ' ',\n",
              " ' ',\n",
              " ' ',\n",
              " ' ',\n",
              " ' ',\n",
              " ' ']"
            ]
          },
          "metadata": {},
          "execution_count": 94
        }
      ]
    },
    {
      "cell_type": "code",
      "source": [
        "result = re.findall(r\"\\S{8,}\", string)\n",
        "result"
      ],
      "metadata": {
        "colab": {
          "base_uri": "https://localhost:8080/"
        },
        "id": "Nlsex0dwIS_k",
        "outputId": "a7cc6e95-91df-46f8-e3a7-61a488ef8072"
      },
      "execution_count": null,
      "outputs": [
        {
          "output_type": "execute_result",
          "data": {
            "text/plain": [
              "['including', 'launched', 'prompted', 'coronavirus', 'all-time', 'February.']"
            ]
          },
          "metadata": {},
          "execution_count": 95
        }
      ]
    },
    {
      "cell_type": "code",
      "source": [
        "string = \"The Euro STOXX 600 index, which tracks all stock markets across Europe including the FTSE, fell by 11.48% – the worst day since it launched in 1998. The panic selling prompted by the coronavirus has wiped £2.7tn off the value of STOXX 600 shares since its all-time peak on 19 February.\""
      ],
      "metadata": {
        "id": "j3wKT7MdIZqD"
      },
      "execution_count": null,
      "outputs": []
    },
    {
      "cell_type": "code",
      "source": [
        "import re\n",
        "result = re.findall(r\"\\s(\\w{3,5})\\s\", string)\n",
        "result"
      ],
      "metadata": {
        "colab": {
          "base_uri": "https://localhost:8080/"
        },
        "id": "LnV3XxfpJcW2",
        "outputId": "d4c438a5-6d5b-4912-dd9c-e450f3f79ce3"
      },
      "execution_count": null,
      "outputs": [
        {
          "output_type": "execute_result",
          "data": {
            "text/plain": [
              "['Euro',\n",
              " '600',\n",
              " 'which',\n",
              " 'all',\n",
              " 'the',\n",
              " 'fell',\n",
              " 'the',\n",
              " 'day',\n",
              " 'The',\n",
              " 'the',\n",
              " 'has',\n",
              " 'off',\n",
              " 'value',\n",
              " 'STOXX',\n",
              " 'since',\n",
              " 'peak']"
            ]
          },
          "metadata": {},
          "execution_count": 97
        }
      ]
    },
    {
      "cell_type": "code",
      "source": [
        "result = re.findall(r\"\\W\", string)\n",
        "result"
      ],
      "metadata": {
        "colab": {
          "base_uri": "https://localhost:8080/"
        },
        "id": "byccks_qJhBd",
        "outputId": "706a8bb8-1ed4-484c-8a01-dfa39d2a5031"
      },
      "execution_count": null,
      "outputs": [
        {
          "output_type": "execute_result",
          "data": {
            "text/plain": [
              "[' ',\n",
              " ' ',\n",
              " ' ',\n",
              " ' ',\n",
              " ',',\n",
              " ' ',\n",
              " ' ',\n",
              " ' ',\n",
              " ' ',\n",
              " ' ',\n",
              " ' ',\n",
              " ' ',\n",
              " ' ',\n",
              " ' ',\n",
              " ' ',\n",
              " ',',\n",
              " ' ',\n",
              " ' ',\n",
              " ' ',\n",
              " '.',\n",
              " '%',\n",
              " ' ',\n",
              " '–',\n",
              " ' ',\n",
              " ' ',\n",
              " ' ',\n",
              " ' ',\n",
              " ' ',\n",
              " ' ',\n",
              " ' ',\n",
              " ' ',\n",
              " '.',\n",
              " ' ',\n",
              " ' ',\n",
              " ' ',\n",
              " ' ',\n",
              " ' ',\n",
              " ' ',\n",
              " ' ',\n",
              " ' ',\n",
              " ' ',\n",
              " ' ',\n",
              " '£',\n",
              " '.',\n",
              " ' ',\n",
              " ' ',\n",
              " ' ',\n",
              " ' ',\n",
              " ' ',\n",
              " ' ',\n",
              " ' ',\n",
              " ' ',\n",
              " ' ',\n",
              " ' ',\n",
              " '-',\n",
              " ' ',\n",
              " ' ',\n",
              " ' ',\n",
              " ' ',\n",
              " '.']"
            ]
          },
          "metadata": {},
          "execution_count": 98
        }
      ]
    },
    {
      "cell_type": "code",
      "source": [
        "string = \"The Euro STOXX 600 index, which tracks all stock markets across Europe including the FTSE, fell by 11.48% – the worst day since it launched in 1998. The panic selling prompted by the coronavirus has wiped £2.7tn off the value of STOXX 600 shares since its all-time peak on 19 February.\""
      ],
      "metadata": {
        "id": "w8hFQF8yJlwV"
      },
      "execution_count": null,
      "outputs": []
    },
    {
      "cell_type": "code",
      "source": [
        "import re\n",
        "result = re.search(r\".+(\\b.+ex\\b).+(\\b[A-Z]{4}\\b).+(\\d\\d\\s.+)\\.\", string)\n",
        "result.groups()"
      ],
      "metadata": {
        "colab": {
          "base_uri": "https://localhost:8080/"
        },
        "id": "DLc_91-YPWGJ",
        "outputId": "c3ec09d8-0f64-4f9b-e670-8371fcce4ac2"
      },
      "execution_count": null,
      "outputs": [
        {
          "output_type": "execute_result",
          "data": {
            "text/plain": [
              "('index', 'FTSE', '19 February')"
            ]
          },
          "metadata": {},
          "execution_count": 100
        }
      ]
    },
    {
      "cell_type": "code",
      "source": [
        "result.group(1)"
      ],
      "metadata": {
        "colab": {
          "base_uri": "https://localhost:8080/",
          "height": 36
        },
        "id": "woUFKO91Pc2r",
        "outputId": "a27fdc51-4e36-4bf8-d66a-66a3346415ad"
      },
      "execution_count": null,
      "outputs": [
        {
          "output_type": "execute_result",
          "data": {
            "text/plain": [
              "'index'"
            ],
            "application/vnd.google.colaboratory.intrinsic+json": {
              "type": "string"
            }
          },
          "metadata": {},
          "execution_count": 101
        }
      ]
    },
    {
      "cell_type": "code",
      "source": [
        "result.group(2)"
      ],
      "metadata": {
        "colab": {
          "base_uri": "https://localhost:8080/",
          "height": 36
        },
        "id": "j5OITGL9Plui",
        "outputId": "28980df8-a29b-4176-983a-d657079ee999"
      },
      "execution_count": null,
      "outputs": [
        {
          "output_type": "execute_result",
          "data": {
            "text/plain": [
              "'FTSE'"
            ],
            "application/vnd.google.colaboratory.intrinsic+json": {
              "type": "string"
            }
          },
          "metadata": {},
          "execution_count": 102
        }
      ]
    },
    {
      "cell_type": "code",
      "source": [
        "result.group(3)"
      ],
      "metadata": {
        "colab": {
          "base_uri": "https://localhost:8080/",
          "height": 36
        },
        "id": "AGQ3PFV-PoJc",
        "outputId": "a2bbddac-75b4-4800-d9b9-99761f20e55c"
      },
      "execution_count": null,
      "outputs": [
        {
          "output_type": "execute_result",
          "data": {
            "text/plain": [
              "'19 February'"
            ],
            "application/vnd.google.colaboratory.intrinsic+json": {
              "type": "string"
            }
          },
          "metadata": {},
          "execution_count": 103
        }
      ]
    },
    {
      "cell_type": "code",
      "source": [
        "result = re.search(r\".+(?:\\b.+ex\\b).+(\\b[A-Z]{4}\\b).+(\\d\\d\\s.+)\\.\", string)\n",
        "result.groups()"
      ],
      "metadata": {
        "colab": {
          "base_uri": "https://localhost:8080/"
        },
        "id": "rkGjoaNrPp9O",
        "outputId": "3ec86dac-35b4-4dd1-f1f9-d4047ff66ae6"
      },
      "execution_count": null,
      "outputs": [
        {
          "output_type": "execute_result",
          "data": {
            "text/plain": [
              "('FTSE', '19 February')"
            ]
          },
          "metadata": {},
          "execution_count": 104
        }
      ]
    },
    {
      "cell_type": "code",
      "source": [
        "result.group(1)"
      ],
      "metadata": {
        "colab": {
          "base_uri": "https://localhost:8080/",
          "height": 36
        },
        "id": "ExskDiSqPtQ3",
        "outputId": "5d2e735f-564d-4aa0-c23c-c58a198052e3"
      },
      "execution_count": null,
      "outputs": [
        {
          "output_type": "execute_result",
          "data": {
            "text/plain": [
              "'FTSE'"
            ],
            "application/vnd.google.colaboratory.intrinsic+json": {
              "type": "string"
            }
          },
          "metadata": {},
          "execution_count": 106
        }
      ]
    },
    {
      "cell_type": "code",
      "source": [
        "result.group(2)"
      ],
      "metadata": {
        "colab": {
          "base_uri": "https://localhost:8080/",
          "height": 36
        },
        "id": "NkjK3ugJPw-a",
        "outputId": "274fd854-5e4c-4416-d6a9-6c319eeee3ac"
      },
      "execution_count": null,
      "outputs": [
        {
          "output_type": "execute_result",
          "data": {
            "text/plain": [
              "'19 February'"
            ],
            "application/vnd.google.colaboratory.intrinsic+json": {
              "type": "string"
            }
          },
          "metadata": {},
          "execution_count": 107
        }
      ]
    },
    {
      "cell_type": "code",
      "source": [
        "string = \"The Euro STOXX 600 index, which tracks all stock markets across Europe including the FTSE, fell by 11.48% – the worst day since it launched in 1998. The panic selling prompted by the coronavirus has wiped £2.7tn off the value of STOXX 600 shares since its all-time peak on 19 February.\""
      ],
      "metadata": {
        "id": "HicNZHt1P6ve"
      },
      "execution_count": null,
      "outputs": []
    },
    {
      "cell_type": "code",
      "source": [
        "import re\n",
        "result = re.search(r\".+(?P<wordex>\\b.+ex\\b).+(?P<uppercase>\\b[A-Z]{4}\\b).+(?P<date>\\d\\d\\s.+)\\.\", string)\n",
        "print(result.groups())"
      ],
      "metadata": {
        "colab": {
          "base_uri": "https://localhost:8080/"
        },
        "id": "yR0bSEElTvsw",
        "outputId": "97a2346e-7820-4e1a-fb8f-4b0a97f8d9e2"
      },
      "execution_count": null,
      "outputs": [
        {
          "output_type": "stream",
          "name": "stdout",
          "text": [
            "('index', 'FTSE', '19 February')\n"
          ]
        }
      ]
    },
    {
      "cell_type": "code",
      "source": [
        "result.group(\"wordex\")"
      ],
      "metadata": {
        "colab": {
          "base_uri": "https://localhost:8080/",
          "height": 36
        },
        "id": "kYjVkjZDT6Cm",
        "outputId": "fe143921-4003-46a4-9602-28b32f7affbf"
      },
      "execution_count": null,
      "outputs": [
        {
          "output_type": "execute_result",
          "data": {
            "text/plain": [
              "'index'"
            ],
            "application/vnd.google.colaboratory.intrinsic+json": {
              "type": "string"
            }
          },
          "metadata": {},
          "execution_count": 111
        }
      ]
    },
    {
      "cell_type": "code",
      "source": [
        "result.group(\"uppercase\")"
      ],
      "metadata": {
        "colab": {
          "base_uri": "https://localhost:8080/",
          "height": 36
        },
        "id": "DHKnrjjpT8lL",
        "outputId": "775715d5-b351-4e5b-8536-e4370416046c"
      },
      "execution_count": null,
      "outputs": [
        {
          "output_type": "execute_result",
          "data": {
            "text/plain": [
              "'FTSE'"
            ],
            "application/vnd.google.colaboratory.intrinsic+json": {
              "type": "string"
            }
          },
          "metadata": {},
          "execution_count": 112
        }
      ]
    },
    {
      "cell_type": "code",
      "source": [
        "result.group(\"date\")"
      ],
      "metadata": {
        "colab": {
          "base_uri": "https://localhost:8080/",
          "height": 36
        },
        "id": "QrFOYIJRT_9l",
        "outputId": "56ee1836-ca98-4a5b-bc6f-501e3710af6e"
      },
      "execution_count": null,
      "outputs": [
        {
          "output_type": "execute_result",
          "data": {
            "text/plain": [
              "'19 February'"
            ],
            "application/vnd.google.colaboratory.intrinsic+json": {
              "type": "string"
            }
          },
          "metadata": {},
          "execution_count": 113
        }
      ]
    },
    {
      "cell_type": "code",
      "source": [
        "result.group(1)"
      ],
      "metadata": {
        "colab": {
          "base_uri": "https://localhost:8080/",
          "height": 36
        },
        "id": "1l52jBRVUCRX",
        "outputId": "e53f7046-ce39-40f9-e553-fc67d174ec7e"
      },
      "execution_count": null,
      "outputs": [
        {
          "output_type": "execute_result",
          "data": {
            "text/plain": [
              "'index'"
            ],
            "application/vnd.google.colaboratory.intrinsic+json": {
              "type": "string"
            }
          },
          "metadata": {},
          "execution_count": 114
        }
      ]
    },
    {
      "cell_type": "code",
      "source": [
        "result.group(2)"
      ],
      "metadata": {
        "colab": {
          "base_uri": "https://localhost:8080/",
          "height": 36
        },
        "id": "vMrZcRtyUFm9",
        "outputId": "d2336b2d-dbd9-4eca-fc6d-fc01e9defafd"
      },
      "execution_count": null,
      "outputs": [
        {
          "output_type": "execute_result",
          "data": {
            "text/plain": [
              "'FTSE'"
            ],
            "application/vnd.google.colaboratory.intrinsic+json": {
              "type": "string"
            }
          },
          "metadata": {},
          "execution_count": 115
        }
      ]
    },
    {
      "cell_type": "code",
      "source": [
        "result.group(3)"
      ],
      "metadata": {
        "colab": {
          "base_uri": "https://localhost:8080/",
          "height": 36
        },
        "id": "Sz86tgV5UG-g",
        "outputId": "ee634f5a-5216-4f09-df76-6b54c569aace"
      },
      "execution_count": null,
      "outputs": [
        {
          "output_type": "execute_result",
          "data": {
            "text/plain": [
              "'19 February'"
            ],
            "application/vnd.google.colaboratory.intrinsic+json": {
              "type": "string"
            }
          },
          "metadata": {},
          "execution_count": 116
        }
      ]
    },
    {
      "cell_type": "code",
      "source": [
        "result.groupdict()"
      ],
      "metadata": {
        "colab": {
          "base_uri": "https://localhost:8080/"
        },
        "id": "m37GCcPZUI9l",
        "outputId": "79f5d619-9819-4519-950f-365f8e740027"
      },
      "execution_count": null,
      "outputs": [
        {
          "output_type": "execute_result",
          "data": {
            "text/plain": [
              "{'wordex': 'index', 'uppercase': 'FTSE', 'date': '19 February'}"
            ]
          },
          "metadata": {},
          "execution_count": 117
        }
      ]
    },
    {
      "cell_type": "code",
      "source": [
        "string = \"The Euro STOXX 600 index, which tracks all stock markets across Europe including the FTSE, fell by 11.48% – the worst day since it launched in 1998. The panic selling prompted by the coronavirus has wiped £2.7tn off the value of STOXX 600 shares since its all-time peak on 19 February.\""
      ],
      "metadata": {
        "id": "APHCzkVTULix"
      },
      "execution_count": null,
      "outputs": []
    },
    {
      "cell_type": "code",
      "source": [
        "import re\n",
        "result = re.findall(r\"[A-Z]{5}\\s(?=[0-9]{3})\", string)\n",
        "result\n"
      ],
      "metadata": {
        "colab": {
          "base_uri": "https://localhost:8080/"
        },
        "id": "iqHePNyfWMlP",
        "outputId": "6ce2c746-a5c2-452e-f0c0-8abd4879fc48"
      },
      "execution_count": null,
      "outputs": [
        {
          "output_type": "execute_result",
          "data": {
            "text/plain": [
              "['STOXX ', 'STOXX ']"
            ]
          },
          "metadata": {},
          "execution_count": 119
        }
      ]
    },
    {
      "cell_type": "code",
      "source": [
        "result = re.findall(r\"([A-Z]{5})\\s(?=[0-9]{3})\", string)\n",
        "result"
      ],
      "metadata": {
        "colab": {
          "base_uri": "https://localhost:8080/"
        },
        "id": "TrUIdrq8WQgN",
        "outputId": "8c8f5684-c48c-49c7-f988-0bd404278360"
      },
      "execution_count": null,
      "outputs": [
        {
          "output_type": "execute_result",
          "data": {
            "text/plain": [
              "['STOXX', 'STOXX']"
            ]
          },
          "metadata": {},
          "execution_count": 120
        }
      ]
    },
    {
      "cell_type": "code",
      "source": [
        "result = re.findall(r\"Euro(?=[a-z]+)\", string)\n",
        "result"
      ],
      "metadata": {
        "colab": {
          "base_uri": "https://localhost:8080/"
        },
        "id": "mf3ihdAJWWN3",
        "outputId": "be8be71a-b650-41e9-df59-376abdf95f2a"
      },
      "execution_count": null,
      "outputs": [
        {
          "output_type": "execute_result",
          "data": {
            "text/plain": [
              "['Euro']"
            ]
          },
          "metadata": {},
          "execution_count": 121
        }
      ]
    },
    {
      "cell_type": "code",
      "source": [
        "string = \"The Euro STOXX 600 index, which tracks all stock markets across Europe including the FTSE, fell by 11.48% – the worst day since it launched in 1998. The panic selling prompted by the coronavirus has wiped £2.7tn off the value of STOXX 600 shares since its all-time peak on 19 February.\""
      ],
      "metadata": {
        "id": "lHBQjyAUWbpq"
      },
      "execution_count": null,
      "outputs": []
    },
    {
      "cell_type": "code",
      "source": [
        "import re\n",
        "result = re.findall(r\"\\d(?![5-9]|\\D)\", string)\n",
        "result"
      ],
      "metadata": {
        "colab": {
          "base_uri": "https://localhost:8080/"
        },
        "id": "1O7uIr3rXHlv",
        "outputId": "82d55950-a57f-4f6a-cb48-c69ae795ddac"
      },
      "execution_count": null,
      "outputs": [
        {
          "output_type": "execute_result",
          "data": {
            "text/plain": [
              "['6', '0', '1', '6', '0']"
            ]
          },
          "metadata": {},
          "execution_count": 123
        }
      ]
    },
    {
      "cell_type": "code",
      "source": [
        "result = re.findall(r\"\\b\\w+\\b(?!\\s)\", string)\n",
        "result\n"
      ],
      "metadata": {
        "colab": {
          "base_uri": "https://localhost:8080/"
        },
        "id": "F5EzGWbSXO_b",
        "outputId": "8984b332-6396-468e-eaf3-d3d1b253b21c"
      },
      "execution_count": null,
      "outputs": [
        {
          "output_type": "execute_result",
          "data": {
            "text/plain": [
              "['index', 'FTSE', '11', '48', '1998', '2', 'all', 'February']"
            ]
          },
          "metadata": {},
          "execution_count": 124
        }
      ]
    },
    {
      "cell_type": "code",
      "source": [
        "string = \"The Euro STOXX 600 index, which tracks all stock markets across Europe including the FTSE, fell by 11.48% – the worst day since it launched in 1998. The panic selling prompted by the coronavirus has wiped £2.7tn off the value of STOXX 600 shares since its all-time peak on 19 February.\""
      ],
      "metadata": {
        "id": "EB51fXycaSO3"
      },
      "execution_count": null,
      "outputs": []
    },
    {
      "cell_type": "code",
      "source": [
        "import re\n",
        "result = re.findall(r\"(?<=\\s)\\d{1,}\", string)\n",
        "result"
      ],
      "metadata": {
        "colab": {
          "base_uri": "https://localhost:8080/"
        },
        "id": "bKA0twyUaTbz",
        "outputId": "a8297476-3b97-4713-9964-5d935a7f68e2"
      },
      "execution_count": null,
      "outputs": [
        {
          "output_type": "execute_result",
          "data": {
            "text/plain": [
              "['600', '11', '1998', '600', '19']"
            ]
          },
          "metadata": {},
          "execution_count": 126
        }
      ]
    },
    {
      "cell_type": "code",
      "source": [
        "result = re.findall(r\"(?<=,\\s)\\b\\w+\\b\", string)\n",
        "result"
      ],
      "metadata": {
        "colab": {
          "base_uri": "https://localhost:8080/"
        },
        "id": "6OQwpVbNaY3E",
        "outputId": "0ef8e201-c4b2-4cae-8ee0-dc28704ff776"
      },
      "execution_count": null,
      "outputs": [
        {
          "output_type": "execute_result",
          "data": {
            "text/plain": [
              "['which', 'fell']"
            ]
          },
          "metadata": {},
          "execution_count": 127
        }
      ]
    },
    {
      "cell_type": "code",
      "source": [
        "string = \"The Euro STOXX 600 index, which tracks all stock markets across Europe including the FTSE, fell by 11.48% – the worst day since it launched in 1998. The panic selling prompted by the coronavirus has wiped £2.7tn off the value of STOXX 600 shares since its all-time peak on 19 February.\""
      ],
      "metadata": {
        "id": "Wab8W7XcabJ2"
      },
      "execution_count": null,
      "outputs": []
    },
    {
      "cell_type": "code",
      "source": [
        "import re\n",
        "result = re.findall(r\"(?<!\\s)\\d{1,}\", string)\n",
        "result"
      ],
      "metadata": {
        "colab": {
          "base_uri": "https://localhost:8080/"
        },
        "id": "qahZ2ipTjjsz",
        "outputId": "11eedcae-659d-469c-bf48-f9b851a5a85e"
      },
      "execution_count": null,
      "outputs": [
        {
          "output_type": "execute_result",
          "data": {
            "text/plain": [
              "['00', '1', '48', '998', '2', '7', '00', '9']"
            ]
          },
          "metadata": {},
          "execution_count": 129
        }
      ]
    },
    {
      "cell_type": "code",
      "source": [
        "result = re.findall(r\"(?<!x)x(?!x)\", string, re.I)\n",
        "result"
      ],
      "metadata": {
        "colab": {
          "base_uri": "https://localhost:8080/"
        },
        "id": "Rd57rs8FjqOo",
        "outputId": "21a7b49e-0f58-45a0-fac9-480d763c4f95"
      },
      "execution_count": null,
      "outputs": [
        {
          "output_type": "execute_result",
          "data": {
            "text/plain": [
              "['x']"
            ]
          },
          "metadata": {},
          "execution_count": 130
        }
      ]
    },
    {
      "cell_type": "code",
      "source": [
        "string = \"The Euro STOXX 600 index, which tracks all stock markets across Europe including the FTSE, fell by 11.48% – the worst day since it launched in 1998. The panic selling prompted by the coronavirus has wiped £2.7tn off the value of STOXX 600 shares since its all-time peak on 19 February.\""
      ],
      "metadata": {
        "id": "WoDnTWkwjt3Z"
      },
      "execution_count": null,
      "outputs": []
    },
    {
      "cell_type": "code",
      "source": [
        "import re\n",
        "result = re.findall(r\"(?<!\\s)\\d{1,}\", string)\n",
        "result"
      ],
      "metadata": {
        "colab": {
          "base_uri": "https://localhost:8080/"
        },
        "id": "gbYPsDIKo2jW",
        "outputId": "83885962-795f-4202-fe4e-67ff4ad5159f"
      },
      "execution_count": null,
      "outputs": [
        {
          "output_type": "execute_result",
          "data": {
            "text/plain": [
              "['00', '1', '48', '998', '2', '7', '00', '9']"
            ]
          },
          "metadata": {},
          "execution_count": 134
        }
      ]
    },
    {
      "cell_type": "code",
      "source": [
        "result = re.findall(r\"(?<!x)x(?!x)\", string, re.I)\n",
        "result"
      ],
      "metadata": {
        "colab": {
          "base_uri": "https://localhost:8080/"
        },
        "id": "tE5wkSLDo6Qo",
        "outputId": "238bcd2a-3106-4d5d-8c60-383ad9b0448b"
      },
      "execution_count": null,
      "outputs": [
        {
          "output_type": "execute_result",
          "data": {
            "text/plain": [
              "['x']"
            ]
          },
          "metadata": {},
          "execution_count": 133
        }
      ]
    },
    {
      "cell_type": "code",
      "source": [
        "f = open(r\"/content/bookshelf.txt\")\n",
        "string = f.read()\n",
        "import re\n",
        "result = re.findall(r\".+?;(.{1,25});.+?\", string)\n",
        "result"
      ],
      "metadata": {
        "id": "EBvmkQXro63Z",
        "colab": {
          "base_uri": "https://localhost:8080/"
        },
        "outputId": "e5995454-5356-4419-9d9f-acf33701d661"
      },
      "execution_count": 1,
      "outputs": [
        {
          "output_type": "execute_result",
          "data": {
            "text/plain": [
              "['Filling the Gap',\n",
              " 'Harpo Speaks',\n",
              " 'My Autobiography',\n",
              " 'Where Have I Been?',\n",
              " 'Fatherhood',\n",
              " \"That's NOT All, Folks\",\n",
              " \"It's Always Something\",\n",
              " 'Pryor Convictions',\n",
              " 'Bootleg',\n",
              " 'Moab Is My Washpot',\n",
              " 'Jen-X: My Open Book',\n",
              " 'Rock This',\n",
              " 'Random Acts of Badness',\n",
              " 'Cancer Schmancer',\n",
              " 'Hollywood Causes Cancer',\n",
              " 'Born Standing Up',\n",
              " 'Why We Suck',\n",
              " 'Ernie: The Autobiography',\n",
              " 'My Shit Life So Far',\n",
              " 'American on Purpose',\n",
              " 'Killing Willis',\n",
              " 'Dyn-o-mite!',\n",
              " 'The Filthy Truth',\n",
              " 'So, Anyway...']"
            ]
          },
          "metadata": {},
          "execution_count": 1
        }
      ]
    },
    {
      "cell_type": "code",
      "source": [
        "result = re.findall(r\"(.+?);.+?;20[0-9][0-9]\", string)\n",
        "result"
      ],
      "metadata": {
        "colab": {
          "base_uri": "https://localhost:8080/"
        },
        "id": "3bI-XxZ2AvcQ",
        "outputId": "839c2e1c-a00d-4cd1-d72b-8d1d88a8a8e9"
      },
      "execution_count": 2,
      "outputs": [
        {
          "output_type": "execute_result",
          "data": {
            "text/plain": [
              "['Danny Bonaduce',\n",
              " 'Fran Drescher',\n",
              " 'Alan Thicke',\n",
              " 'Rodney Dangerfield',\n",
              " 'Tom Green',\n",
              " 'Rik Mayall',\n",
              " 'Tommy Chong',\n",
              " 'Alan Thicke',\n",
              " 'Steve Martin',\n",
              " 'Denis Leary',\n",
              " 'Stephen Fry',\n",
              " 'Frankie Boyle',\n",
              " 'Craig Ferguson',\n",
              " 'Todd Bridges',\n",
              " 'Kevin Smith',\n",
              " 'Jimmie Walker',\n",
              " 'Andrew Dice Clay',\n",
              " 'John Cleese',\n",
              " 'Cheech Marin',\n",
              " 'Eric Idle']"
            ]
          },
          "metadata": {},
          "execution_count": 2
        }
      ]
    },
    {
      "cell_type": "code",
      "source": [
        "import re\n",
        "\n",
        "f = open(r\"/content/bookshelf.txt\")\n",
        "\n",
        "string = f.read()\n",
        "\n",
        "result = re.findall(r\"\", string)\n",
        "\n",
        "print(result)"
      ],
      "metadata": {
        "colab": {
          "base_uri": "https://localhost:8080/"
        },
        "id": "xV6IgPhUA5zX",
        "outputId": "36782022-ae1c-4305-9490-e8b170f50451"
      },
      "execution_count": 3,
      "outputs": [
        {
          "output_type": "stream",
          "name": "stdout",
          "text": [
            "['', '', '', '', '', '', '', '', '', '', '', '', '', '', '', '', '', '', '', '', '', '', '', '', '', '', '', '', '', '', '', '', '', '', '', '', '', '', '', '', '', '', '', '', '', '', '', '', '', '', '', '', '', '', '', '', '', '', '', '', '', '', '', '', '', '', '', '', '', '', '', '', '', '', '', '', '', '', '', '', '', '', '', '', '', '', '', '', '', '', '', '', '', '', '', '', '', '', '', '', '', '', '', '', '', '', '', '', '', '', '', '', '', '', '', '', '', '', '', '', '', '', '', '', '', '', '', '', '', '', '', '', '', '', '', '', '', '', '', '', '', '', '', '', '', '', '', '', '', '', '', '', '', '', '', '', '', '', '', '', '', '', '', '', '', '', '', '', '', '', '', '', '', '', '', '', '', '', '', '', '', '', '', '', '', '', '', '', '', '', '', '', '', '', '', '', '', '', '', '', '', '', '', '', '', '', '', '', '', '', '', '', '', '', '', '', '', '', '', '', '', '', '', '', '', '', '', '', '', '', '', '', '', '', '', '', '', '', '', '', '', '', '', '', '', '', '', '', '', '', '', '', '', '', '', '', '', '', '', '', '', '', '', '', '', '', '', '', '', '', '', '', '', '', '', '', '', '', '', '', '', '', '', '', '', '', '', '', '', '', '', '', '', '', '', '', '', '', '', '', '', '', '', '', '', '', '', '', '', '', '', '', '', '', '', '', '', '', '', '', '', '', '', '', '', '', '', '', '', '', '', '', '', '', '', '', '', '', '', '', '', '', '', '', '', '', '', '', '', '', '', '', '', '', '', '', '', '', '', '', '', '', '', '', '', '', '', '', '', '', '', '', '', '', '', '', '', '', '', '', '', '', '', '', '', '', '', '', '', '', '', '', '', '', '', '', '', '', '', '', '', '', '', '', '', '', '', '', '', '', '', '', '', '', '', '', '', '', '', '', '', '', '', '', '', '', '', '', '', '', '', '', '', '', '', '', '', '', '', '', '', '', '', '', '', '', '', '', '', '', '', '', '', '', '', '', '', '', '', '', '', '', '', '', '', '', '', '', '', '', '', '', '', '', '', '', '', '', '', '', '', '', '', '', '', '', '', '', '', '', '', '', '', '', '', '', '', '', '', '', '', '', '', '', '', '', '', '', '', '', '', '', '', '', '', '', '', '', '', '', '', '', '', '', '', '', '', '', '', '', '', '', '', '', '', '', '', '', '', '', '', '', '', '', '', '', '', '', '', '', '', '', '', '', '', '', '', '', '', '', '', '', '', '', '', '', '', '', '', '', '', '', '', '', '', '', '', '', '', '', '', '', '', '', '', '', '', '', '', '', '', '', '', '', '', '', '', '', '', '', '', '', '', '', '', '', '', '', '', '', '', '', '', '', '', '', '', '', '', '', '', '', '', '', '', '', '', '', '', '', '', '', '', '', '', '', '', '', '', '', '', '', '', '', '', '', '', '', '', '', '', '', '', '', '', '', '', '', '', '', '', '', '', '', '', '', '', '', '', '', '', '', '', '', '', '', '', '', '', '', '', '', '', '', '', '', '', '', '', '', '', '', '', '', '', '', '', '', '', '', '', '', '', '', '', '', '', '', '', '', '', '', '', '', '', '', '', '', '', '', '', '', '', '', '', '', '', '', '', '', '', '', '', '', '', '', '', '', '', '', '', '', '', '', '', '', '', '', '', '', '', '', '', '', '', '', '', '', '', '', '', '', '', '', '', '', '', '', '', '', '', '', '', '', '', '', '', '', '', '', '', '', '', '', '', '', '', '', '', '', '', '', '', '', '', '', '', '', '', '', '', '', '', '', '', '', '', '', '', '', '', '', '', '', '', '', '', '', '', '', '', '', '', '', '', '', '', '', '', '', '', '', '', '', '', '', '', '', '', '', '', '', '', '', '', '', '', '', '', '', '', '', '', '', '', '', '', '', '', '', '', '', '', '', '', '', '', '', '', '', '', '', '', '', '', '', '', '', '', '', '', '', '', '', '', '', '', '', '', '', '', '', '', '', '', '', '', '', '', '', '', '', '', '', '', '', '', '', '', '', '', '', '', '', '', '', '', '', '', '', '', '', '', '', '', '', '', '', '', '', '', '', '', '', '', '', '', '', '', '', '', '', '', '', '', '', '', '', '', '', '', '', '', '', '', '', '', '', '', '', '', '', '', '', '', '', '', '', '', '', '', '', '', '', '', '', '', '', '', '', '', '', '', '', '', '', '', '', '', '', '', '', '', '', '', '', '', '', '', '', '', '', '', '', '', '', '', '', '', '', '', '', '', '', '', '', '', '', '', '', '', '', '', '', '', '', '', '', '', '', '', '', '', '', '', '', '', '', '', '', '', '', '', '', '', '', '', '', '', '', '', '', '', '', '', '', '', '', '', '', '', '', '', '', '', '', '', '', '', '', '', '', '', '', '', '', '', '', '', '', '', '', '', '', '', '', '', '', '', '', '', '', '', '', '', '', '', '', '', '', '', '', '', '', '', '', '', '', '', '', '', '', '', '', '', '', '', '', '', '', '', '', '', '', '', '', '', '', '', '', '', '', '', '', '', '', '', '', '', '', '', '', '', '', '', '', '', '', '', '', '', '', '', '', '', '', '', '', '', '', '', '', '', '', '', '', '', '', '', '', '', '', '', '', '', '', '', '', '', '', '', '', '', '', '', '', '', '', '', '', '', '', '', '', '', '', '', '', '', '', '', '', '', '', '', '', '', '', '', '', '', '', '', '', '', '', '', '', '', '', '', '', '', '', '', '', '', '', '', '', '', '', '', '', '', '', '', '', '', '', '', '', '', '', '', '', '', '', '', '', '', '', '', '', '', '', '', '', '', '', '', '', '', '', '', '', '', '', '', '', '', '', '', '', '', '', '', '', '', '', '', '', '', '', '', '', '', '', '', '', '', '', '', '', '', '', '', '', '', '', '', '', '', '', '', '', '', '', '', '', '', '', '', '', '', '', '', '', '', '', '', '', '', '', '', '', '', '', '', '', '', '', '', '', '', '', '', '', '', '', '', '', '', '', '', '', '', '', '', '', '', '', '', '', '', '', '', '', '', '', '', '', '', '', '', '', '', '', '', '', '', '', '', '', '', '', '', '', '', '', '', '', '', '', '', '', '', '', '', '', '', '', '', '', '', '', '', '', '', '', '', '', '', '', '', '', '', '', '', '', '', '', '', '', '', '', '', '', '', '', '', '', '', '', '', '', '', '', '', '', '', '', '', '', '', '', '', '', '', '', '', '', '', '', '', '', '', '', '', '', '', '', '', '', '', '', '', '', '', '', '', '', '', '', '', '', '', '', '', '', '', '', '', '', '', '', '', '', '', '', '', '', '', '', '', '', '', '', '', '', '', '', '', '', '', '', '', '', '', '', '', '', '', '', '', '', '', '', '', '', '', '', '', '', '', '', '', '', '', '', '', '', '', '', '', '', '', '', '', '', '', '', '', '', '', '', '', '', '', '', '', '', '', '', '', '']\n"
          ]
        }
      ]
    },
    {
      "cell_type": "code",
      "source": [],
      "metadata": {
        "id": "tRGHkMwIBIVJ"
      },
      "execution_count": null,
      "outputs": []
    }
  ]
}